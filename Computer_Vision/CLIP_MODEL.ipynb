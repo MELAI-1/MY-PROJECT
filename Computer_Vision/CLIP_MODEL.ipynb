{
  "nbformat": 4,
  "nbformat_minor": 0,
  "metadata": {
    "colab": {
      "provenance": [],
      "mount_file_id": "https://github.com/MELAI-1/my-project/blob/main/Computer_Vision/CLIP_MODEL.ipynb",
      "authorship_tag": "ABX9TyNOjILNj0WZaAAwDr0NidgT",
      "include_colab_link": true
    },
    "kernelspec": {
      "name": "python3",
      "display_name": "Python 3"
    },
    "language_info": {
      "name": "python"
    },
    "widgets": {
      "application/vnd.jupyter.widget-state+json": {
        "556badfbe908417f8143ceb1871e0829": {
          "model_module": "@jupyter-widgets/controls",
          "model_name": "HBoxModel",
          "model_module_version": "1.5.0",
          "state": {
            "_dom_classes": [],
            "_model_module": "@jupyter-widgets/controls",
            "_model_module_version": "1.5.0",
            "_model_name": "HBoxModel",
            "_view_count": null,
            "_view_module": "@jupyter-widgets/controls",
            "_view_module_version": "1.5.0",
            "_view_name": "HBoxView",
            "box_style": "",
            "children": [
              "IPY_MODEL_8d48fedd4d364fd6b7c5cb7dfc05fbf0",
              "IPY_MODEL_036640edda1e49e3a79bf5140d5bf09f",
              "IPY_MODEL_0eb640ce33034228b453573d8cb9c6c4"
            ],
            "layout": "IPY_MODEL_dd0ba5890d3c414595f5cfd773da8ba6"
          }
        },
        "8d48fedd4d364fd6b7c5cb7dfc05fbf0": {
          "model_module": "@jupyter-widgets/controls",
          "model_name": "HTMLModel",
          "model_module_version": "1.5.0",
          "state": {
            "_dom_classes": [],
            "_model_module": "@jupyter-widgets/controls",
            "_model_module_version": "1.5.0",
            "_model_name": "HTMLModel",
            "_view_count": null,
            "_view_module": "@jupyter-widgets/controls",
            "_view_module_version": "1.5.0",
            "_view_name": "HTMLView",
            "description": "",
            "description_tooltip": null,
            "layout": "IPY_MODEL_b9cb209a65f64857a874a5035b454c90",
            "placeholder": "​",
            "style": "IPY_MODEL_5434a149d11d43d79cae6103701e6bc9",
            "value": "README.md: 100%"
          }
        },
        "036640edda1e49e3a79bf5140d5bf09f": {
          "model_module": "@jupyter-widgets/controls",
          "model_name": "FloatProgressModel",
          "model_module_version": "1.5.0",
          "state": {
            "_dom_classes": [],
            "_model_module": "@jupyter-widgets/controls",
            "_model_module_version": "1.5.0",
            "_model_name": "FloatProgressModel",
            "_view_count": null,
            "_view_module": "@jupyter-widgets/controls",
            "_view_module_version": "1.5.0",
            "_view_name": "ProgressView",
            "bar_style": "success",
            "description": "",
            "description_tooltip": null,
            "layout": "IPY_MODEL_1bc4068b5b924d3b980c2e50c6ee70eb",
            "max": 9015,
            "min": 0,
            "orientation": "horizontal",
            "style": "IPY_MODEL_c79181b78e6b4c67904843b8722accd2",
            "value": 9015
          }
        },
        "0eb640ce33034228b453573d8cb9c6c4": {
          "model_module": "@jupyter-widgets/controls",
          "model_name": "HTMLModel",
          "model_module_version": "1.5.0",
          "state": {
            "_dom_classes": [],
            "_model_module": "@jupyter-widgets/controls",
            "_model_module_version": "1.5.0",
            "_model_name": "HTMLModel",
            "_view_count": null,
            "_view_module": "@jupyter-widgets/controls",
            "_view_module_version": "1.5.0",
            "_view_name": "HTMLView",
            "description": "",
            "description_tooltip": null,
            "layout": "IPY_MODEL_991de9a82b254315a18acad952459869",
            "placeholder": "​",
            "style": "IPY_MODEL_545f3aa47e1946e6832da47b353826c9",
            "value": " 9.02k/9.02k [00:00&lt;00:00, 438kB/s]"
          }
        },
        "dd0ba5890d3c414595f5cfd773da8ba6": {
          "model_module": "@jupyter-widgets/base",
          "model_name": "LayoutModel",
          "model_module_version": "1.2.0",
          "state": {
            "_model_module": "@jupyter-widgets/base",
            "_model_module_version": "1.2.0",
            "_model_name": "LayoutModel",
            "_view_count": null,
            "_view_module": "@jupyter-widgets/base",
            "_view_module_version": "1.2.0",
            "_view_name": "LayoutView",
            "align_content": null,
            "align_items": null,
            "align_self": null,
            "border": null,
            "bottom": null,
            "display": null,
            "flex": null,
            "flex_flow": null,
            "grid_area": null,
            "grid_auto_columns": null,
            "grid_auto_flow": null,
            "grid_auto_rows": null,
            "grid_column": null,
            "grid_gap": null,
            "grid_row": null,
            "grid_template_areas": null,
            "grid_template_columns": null,
            "grid_template_rows": null,
            "height": null,
            "justify_content": null,
            "justify_items": null,
            "left": null,
            "margin": null,
            "max_height": null,
            "max_width": null,
            "min_height": null,
            "min_width": null,
            "object_fit": null,
            "object_position": null,
            "order": null,
            "overflow": null,
            "overflow_x": null,
            "overflow_y": null,
            "padding": null,
            "right": null,
            "top": null,
            "visibility": null,
            "width": null
          }
        },
        "b9cb209a65f64857a874a5035b454c90": {
          "model_module": "@jupyter-widgets/base",
          "model_name": "LayoutModel",
          "model_module_version": "1.2.0",
          "state": {
            "_model_module": "@jupyter-widgets/base",
            "_model_module_version": "1.2.0",
            "_model_name": "LayoutModel",
            "_view_count": null,
            "_view_module": "@jupyter-widgets/base",
            "_view_module_version": "1.2.0",
            "_view_name": "LayoutView",
            "align_content": null,
            "align_items": null,
            "align_self": null,
            "border": null,
            "bottom": null,
            "display": null,
            "flex": null,
            "flex_flow": null,
            "grid_area": null,
            "grid_auto_columns": null,
            "grid_auto_flow": null,
            "grid_auto_rows": null,
            "grid_column": null,
            "grid_gap": null,
            "grid_row": null,
            "grid_template_areas": null,
            "grid_template_columns": null,
            "grid_template_rows": null,
            "height": null,
            "justify_content": null,
            "justify_items": null,
            "left": null,
            "margin": null,
            "max_height": null,
            "max_width": null,
            "min_height": null,
            "min_width": null,
            "object_fit": null,
            "object_position": null,
            "order": null,
            "overflow": null,
            "overflow_x": null,
            "overflow_y": null,
            "padding": null,
            "right": null,
            "top": null,
            "visibility": null,
            "width": null
          }
        },
        "5434a149d11d43d79cae6103701e6bc9": {
          "model_module": "@jupyter-widgets/controls",
          "model_name": "DescriptionStyleModel",
          "model_module_version": "1.5.0",
          "state": {
            "_model_module": "@jupyter-widgets/controls",
            "_model_module_version": "1.5.0",
            "_model_name": "DescriptionStyleModel",
            "_view_count": null,
            "_view_module": "@jupyter-widgets/base",
            "_view_module_version": "1.2.0",
            "_view_name": "StyleView",
            "description_width": ""
          }
        },
        "1bc4068b5b924d3b980c2e50c6ee70eb": {
          "model_module": "@jupyter-widgets/base",
          "model_name": "LayoutModel",
          "model_module_version": "1.2.0",
          "state": {
            "_model_module": "@jupyter-widgets/base",
            "_model_module_version": "1.2.0",
            "_model_name": "LayoutModel",
            "_view_count": null,
            "_view_module": "@jupyter-widgets/base",
            "_view_module_version": "1.2.0",
            "_view_name": "LayoutView",
            "align_content": null,
            "align_items": null,
            "align_self": null,
            "border": null,
            "bottom": null,
            "display": null,
            "flex": null,
            "flex_flow": null,
            "grid_area": null,
            "grid_auto_columns": null,
            "grid_auto_flow": null,
            "grid_auto_rows": null,
            "grid_column": null,
            "grid_gap": null,
            "grid_row": null,
            "grid_template_areas": null,
            "grid_template_columns": null,
            "grid_template_rows": null,
            "height": null,
            "justify_content": null,
            "justify_items": null,
            "left": null,
            "margin": null,
            "max_height": null,
            "max_width": null,
            "min_height": null,
            "min_width": null,
            "object_fit": null,
            "object_position": null,
            "order": null,
            "overflow": null,
            "overflow_x": null,
            "overflow_y": null,
            "padding": null,
            "right": null,
            "top": null,
            "visibility": null,
            "width": null
          }
        },
        "c79181b78e6b4c67904843b8722accd2": {
          "model_module": "@jupyter-widgets/controls",
          "model_name": "ProgressStyleModel",
          "model_module_version": "1.5.0",
          "state": {
            "_model_module": "@jupyter-widgets/controls",
            "_model_module_version": "1.5.0",
            "_model_name": "ProgressStyleModel",
            "_view_count": null,
            "_view_module": "@jupyter-widgets/base",
            "_view_module_version": "1.2.0",
            "_view_name": "StyleView",
            "bar_color": null,
            "description_width": ""
          }
        },
        "991de9a82b254315a18acad952459869": {
          "model_module": "@jupyter-widgets/base",
          "model_name": "LayoutModel",
          "model_module_version": "1.2.0",
          "state": {
            "_model_module": "@jupyter-widgets/base",
            "_model_module_version": "1.2.0",
            "_model_name": "LayoutModel",
            "_view_count": null,
            "_view_module": "@jupyter-widgets/base",
            "_view_module_version": "1.2.0",
            "_view_name": "LayoutView",
            "align_content": null,
            "align_items": null,
            "align_self": null,
            "border": null,
            "bottom": null,
            "display": null,
            "flex": null,
            "flex_flow": null,
            "grid_area": null,
            "grid_auto_columns": null,
            "grid_auto_flow": null,
            "grid_auto_rows": null,
            "grid_column": null,
            "grid_gap": null,
            "grid_row": null,
            "grid_template_areas": null,
            "grid_template_columns": null,
            "grid_template_rows": null,
            "height": null,
            "justify_content": null,
            "justify_items": null,
            "left": null,
            "margin": null,
            "max_height": null,
            "max_width": null,
            "min_height": null,
            "min_width": null,
            "object_fit": null,
            "object_position": null,
            "order": null,
            "overflow": null,
            "overflow_x": null,
            "overflow_y": null,
            "padding": null,
            "right": null,
            "top": null,
            "visibility": null,
            "width": null
          }
        },
        "545f3aa47e1946e6832da47b353826c9": {
          "model_module": "@jupyter-widgets/controls",
          "model_name": "DescriptionStyleModel",
          "model_module_version": "1.5.0",
          "state": {
            "_model_module": "@jupyter-widgets/controls",
            "_model_module_version": "1.5.0",
            "_model_name": "DescriptionStyleModel",
            "_view_count": null,
            "_view_module": "@jupyter-widgets/base",
            "_view_module_version": "1.2.0",
            "_view_name": "StyleView",
            "description_width": ""
          }
        },
        "0c8097ec5da14c9d98f8b500153a12b7": {
          "model_module": "@jupyter-widgets/controls",
          "model_name": "HBoxModel",
          "model_module_version": "1.5.0",
          "state": {
            "_dom_classes": [],
            "_model_module": "@jupyter-widgets/controls",
            "_model_module_version": "1.5.0",
            "_model_name": "HBoxModel",
            "_view_count": null,
            "_view_module": "@jupyter-widgets/controls",
            "_view_module_version": "1.5.0",
            "_view_name": "HBoxView",
            "box_style": "",
            "children": [
              "IPY_MODEL_286c7a60366e4aeaae1038eb83afab0b",
              "IPY_MODEL_8d88c1ccab9047c385105714ed334c9c",
              "IPY_MODEL_4934e9909de9426683d74085c970d7ca"
            ],
            "layout": "IPY_MODEL_b3eefc595ade44e19eaaf6c38d211ad0"
          }
        },
        "286c7a60366e4aeaae1038eb83afab0b": {
          "model_module": "@jupyter-widgets/controls",
          "model_name": "HTMLModel",
          "model_module_version": "1.5.0",
          "state": {
            "_dom_classes": [],
            "_model_module": "@jupyter-widgets/controls",
            "_model_module_version": "1.5.0",
            "_model_name": "HTMLModel",
            "_view_count": null,
            "_view_module": "@jupyter-widgets/controls",
            "_view_module_version": "1.5.0",
            "_view_name": "HTMLView",
            "description": "",
            "description_tooltip": null,
            "layout": "IPY_MODEL_8f16a93275b847ddbdef5b554bdcfefb",
            "placeholder": "​",
            "style": "IPY_MODEL_94871692cfcf4eb8ba64b9c668fae2d8",
            "value": "train-00000-of-00001.parquet: 100%"
          }
        },
        "8d88c1ccab9047c385105714ed334c9c": {
          "model_module": "@jupyter-widgets/controls",
          "model_name": "FloatProgressModel",
          "model_module_version": "1.5.0",
          "state": {
            "_dom_classes": [],
            "_model_module": "@jupyter-widgets/controls",
            "_model_module_version": "1.5.0",
            "_model_name": "FloatProgressModel",
            "_view_count": null,
            "_view_module": "@jupyter-widgets/controls",
            "_view_module_version": "1.5.0",
            "_view_name": "ProgressView",
            "bar_style": "success",
            "description": "",
            "description_tooltip": null,
            "layout": "IPY_MODEL_554bac97ed4347cdb9a1b57f34e5fd62",
            "max": 30931277,
            "min": 0,
            "orientation": "horizontal",
            "style": "IPY_MODEL_77a001a78667432a8fa9c00812469cd5",
            "value": 30931277
          }
        },
        "4934e9909de9426683d74085c970d7ca": {
          "model_module": "@jupyter-widgets/controls",
          "model_name": "HTMLModel",
          "model_module_version": "1.5.0",
          "state": {
            "_dom_classes": [],
            "_model_module": "@jupyter-widgets/controls",
            "_model_module_version": "1.5.0",
            "_model_name": "HTMLModel",
            "_view_count": null,
            "_view_module": "@jupyter-widgets/controls",
            "_view_module_version": "1.5.0",
            "_view_name": "HTMLView",
            "description": "",
            "description_tooltip": null,
            "layout": "IPY_MODEL_1065004ac1134919a2f0b583ad0159dc",
            "placeholder": "​",
            "style": "IPY_MODEL_03e5a88435c947d88d3185d73c7a3bb3",
            "value": " 30.9M/30.9M [00:00&lt;00:00, 107MB/s]"
          }
        },
        "b3eefc595ade44e19eaaf6c38d211ad0": {
          "model_module": "@jupyter-widgets/base",
          "model_name": "LayoutModel",
          "model_module_version": "1.2.0",
          "state": {
            "_model_module": "@jupyter-widgets/base",
            "_model_module_version": "1.2.0",
            "_model_name": "LayoutModel",
            "_view_count": null,
            "_view_module": "@jupyter-widgets/base",
            "_view_module_version": "1.2.0",
            "_view_name": "LayoutView",
            "align_content": null,
            "align_items": null,
            "align_self": null,
            "border": null,
            "bottom": null,
            "display": null,
            "flex": null,
            "flex_flow": null,
            "grid_area": null,
            "grid_auto_columns": null,
            "grid_auto_flow": null,
            "grid_auto_rows": null,
            "grid_column": null,
            "grid_gap": null,
            "grid_row": null,
            "grid_template_areas": null,
            "grid_template_columns": null,
            "grid_template_rows": null,
            "height": null,
            "justify_content": null,
            "justify_items": null,
            "left": null,
            "margin": null,
            "max_height": null,
            "max_width": null,
            "min_height": null,
            "min_width": null,
            "object_fit": null,
            "object_position": null,
            "order": null,
            "overflow": null,
            "overflow_x": null,
            "overflow_y": null,
            "padding": null,
            "right": null,
            "top": null,
            "visibility": null,
            "width": null
          }
        },
        "8f16a93275b847ddbdef5b554bdcfefb": {
          "model_module": "@jupyter-widgets/base",
          "model_name": "LayoutModel",
          "model_module_version": "1.2.0",
          "state": {
            "_model_module": "@jupyter-widgets/base",
            "_model_module_version": "1.2.0",
            "_model_name": "LayoutModel",
            "_view_count": null,
            "_view_module": "@jupyter-widgets/base",
            "_view_module_version": "1.2.0",
            "_view_name": "LayoutView",
            "align_content": null,
            "align_items": null,
            "align_self": null,
            "border": null,
            "bottom": null,
            "display": null,
            "flex": null,
            "flex_flow": null,
            "grid_area": null,
            "grid_auto_columns": null,
            "grid_auto_flow": null,
            "grid_auto_rows": null,
            "grid_column": null,
            "grid_gap": null,
            "grid_row": null,
            "grid_template_areas": null,
            "grid_template_columns": null,
            "grid_template_rows": null,
            "height": null,
            "justify_content": null,
            "justify_items": null,
            "left": null,
            "margin": null,
            "max_height": null,
            "max_width": null,
            "min_height": null,
            "min_width": null,
            "object_fit": null,
            "object_position": null,
            "order": null,
            "overflow": null,
            "overflow_x": null,
            "overflow_y": null,
            "padding": null,
            "right": null,
            "top": null,
            "visibility": null,
            "width": null
          }
        },
        "94871692cfcf4eb8ba64b9c668fae2d8": {
          "model_module": "@jupyter-widgets/controls",
          "model_name": "DescriptionStyleModel",
          "model_module_version": "1.5.0",
          "state": {
            "_model_module": "@jupyter-widgets/controls",
            "_model_module_version": "1.5.0",
            "_model_name": "DescriptionStyleModel",
            "_view_count": null,
            "_view_module": "@jupyter-widgets/base",
            "_view_module_version": "1.2.0",
            "_view_name": "StyleView",
            "description_width": ""
          }
        },
        "554bac97ed4347cdb9a1b57f34e5fd62": {
          "model_module": "@jupyter-widgets/base",
          "model_name": "LayoutModel",
          "model_module_version": "1.2.0",
          "state": {
            "_model_module": "@jupyter-widgets/base",
            "_model_module_version": "1.2.0",
            "_model_name": "LayoutModel",
            "_view_count": null,
            "_view_module": "@jupyter-widgets/base",
            "_view_module_version": "1.2.0",
            "_view_name": "LayoutView",
            "align_content": null,
            "align_items": null,
            "align_self": null,
            "border": null,
            "bottom": null,
            "display": null,
            "flex": null,
            "flex_flow": null,
            "grid_area": null,
            "grid_auto_columns": null,
            "grid_auto_flow": null,
            "grid_auto_rows": null,
            "grid_column": null,
            "grid_gap": null,
            "grid_row": null,
            "grid_template_areas": null,
            "grid_template_columns": null,
            "grid_template_rows": null,
            "height": null,
            "justify_content": null,
            "justify_items": null,
            "left": null,
            "margin": null,
            "max_height": null,
            "max_width": null,
            "min_height": null,
            "min_width": null,
            "object_fit": null,
            "object_position": null,
            "order": null,
            "overflow": null,
            "overflow_x": null,
            "overflow_y": null,
            "padding": null,
            "right": null,
            "top": null,
            "visibility": null,
            "width": null
          }
        },
        "77a001a78667432a8fa9c00812469cd5": {
          "model_module": "@jupyter-widgets/controls",
          "model_name": "ProgressStyleModel",
          "model_module_version": "1.5.0",
          "state": {
            "_model_module": "@jupyter-widgets/controls",
            "_model_module_version": "1.5.0",
            "_model_name": "ProgressStyleModel",
            "_view_count": null,
            "_view_module": "@jupyter-widgets/base",
            "_view_module_version": "1.2.0",
            "_view_name": "StyleView",
            "bar_color": null,
            "description_width": ""
          }
        },
        "1065004ac1134919a2f0b583ad0159dc": {
          "model_module": "@jupyter-widgets/base",
          "model_name": "LayoutModel",
          "model_module_version": "1.2.0",
          "state": {
            "_model_module": "@jupyter-widgets/base",
            "_model_module_version": "1.2.0",
            "_model_name": "LayoutModel",
            "_view_count": null,
            "_view_module": "@jupyter-widgets/base",
            "_view_module_version": "1.2.0",
            "_view_name": "LayoutView",
            "align_content": null,
            "align_items": null,
            "align_self": null,
            "border": null,
            "bottom": null,
            "display": null,
            "flex": null,
            "flex_flow": null,
            "grid_area": null,
            "grid_auto_columns": null,
            "grid_auto_flow": null,
            "grid_auto_rows": null,
            "grid_column": null,
            "grid_gap": null,
            "grid_row": null,
            "grid_template_areas": null,
            "grid_template_columns": null,
            "grid_template_rows": null,
            "height": null,
            "justify_content": null,
            "justify_items": null,
            "left": null,
            "margin": null,
            "max_height": null,
            "max_width": null,
            "min_height": null,
            "min_width": null,
            "object_fit": null,
            "object_position": null,
            "order": null,
            "overflow": null,
            "overflow_x": null,
            "overflow_y": null,
            "padding": null,
            "right": null,
            "top": null,
            "visibility": null,
            "width": null
          }
        },
        "03e5a88435c947d88d3185d73c7a3bb3": {
          "model_module": "@jupyter-widgets/controls",
          "model_name": "DescriptionStyleModel",
          "model_module_version": "1.5.0",
          "state": {
            "_model_module": "@jupyter-widgets/controls",
            "_model_module_version": "1.5.0",
            "_model_name": "DescriptionStyleModel",
            "_view_count": null,
            "_view_module": "@jupyter-widgets/base",
            "_view_module_version": "1.2.0",
            "_view_name": "StyleView",
            "description_width": ""
          }
        },
        "920e6049fcd945dba6fba87cd864d73f": {
          "model_module": "@jupyter-widgets/controls",
          "model_name": "HBoxModel",
          "model_module_version": "1.5.0",
          "state": {
            "_dom_classes": [],
            "_model_module": "@jupyter-widgets/controls",
            "_model_module_version": "1.5.0",
            "_model_name": "HBoxModel",
            "_view_count": null,
            "_view_module": "@jupyter-widgets/controls",
            "_view_module_version": "1.5.0",
            "_view_name": "HBoxView",
            "box_style": "",
            "children": [
              "IPY_MODEL_d7da2d06e6f4491baddbc66fb8560dce",
              "IPY_MODEL_aae7e38fc243404cabcb7fb6b02292d3",
              "IPY_MODEL_953573cc6b8546989cd2973f0c63fbd0"
            ],
            "layout": "IPY_MODEL_2284ca4b626c4d86aa019c8d04ec53fe"
          }
        },
        "d7da2d06e6f4491baddbc66fb8560dce": {
          "model_module": "@jupyter-widgets/controls",
          "model_name": "HTMLModel",
          "model_module_version": "1.5.0",
          "state": {
            "_dom_classes": [],
            "_model_module": "@jupyter-widgets/controls",
            "_model_module_version": "1.5.0",
            "_model_name": "HTMLModel",
            "_view_count": null,
            "_view_module": "@jupyter-widgets/controls",
            "_view_module_version": "1.5.0",
            "_view_name": "HTMLView",
            "description": "",
            "description_tooltip": null,
            "layout": "IPY_MODEL_530174aec18544f7ab1d138396b3e330",
            "placeholder": "​",
            "style": "IPY_MODEL_6a968d07c94d4598b4ed643774e597f3",
            "value": "test-00000-of-00001.parquet: 100%"
          }
        },
        "aae7e38fc243404cabcb7fb6b02292d3": {
          "model_module": "@jupyter-widgets/controls",
          "model_name": "FloatProgressModel",
          "model_module_version": "1.5.0",
          "state": {
            "_dom_classes": [],
            "_model_module": "@jupyter-widgets/controls",
            "_model_module_version": "1.5.0",
            "_model_name": "FloatProgressModel",
            "_view_count": null,
            "_view_module": "@jupyter-widgets/controls",
            "_view_module_version": "1.5.0",
            "_view_name": "ProgressView",
            "bar_style": "success",
            "description": "",
            "description_tooltip": null,
            "layout": "IPY_MODEL_39ce7972ef254149bc41dda90847b17e",
            "max": 5175617,
            "min": 0,
            "orientation": "horizontal",
            "style": "IPY_MODEL_9f639d9e2bd741189656b5e1ae5c5b53",
            "value": 5175617
          }
        },
        "953573cc6b8546989cd2973f0c63fbd0": {
          "model_module": "@jupyter-widgets/controls",
          "model_name": "HTMLModel",
          "model_module_version": "1.5.0",
          "state": {
            "_dom_classes": [],
            "_model_module": "@jupyter-widgets/controls",
            "_model_module_version": "1.5.0",
            "_model_name": "HTMLModel",
            "_view_count": null,
            "_view_module": "@jupyter-widgets/controls",
            "_view_module_version": "1.5.0",
            "_view_name": "HTMLView",
            "description": "",
            "description_tooltip": null,
            "layout": "IPY_MODEL_7f1192850eed40078ba68e1b9c16fac7",
            "placeholder": "​",
            "style": "IPY_MODEL_b1a51f8d2a51450d9a155f367f2b2096",
            "value": " 5.18M/5.18M [00:00&lt;00:00, 147MB/s]"
          }
        },
        "2284ca4b626c4d86aa019c8d04ec53fe": {
          "model_module": "@jupyter-widgets/base",
          "model_name": "LayoutModel",
          "model_module_version": "1.2.0",
          "state": {
            "_model_module": "@jupyter-widgets/base",
            "_model_module_version": "1.2.0",
            "_model_name": "LayoutModel",
            "_view_count": null,
            "_view_module": "@jupyter-widgets/base",
            "_view_module_version": "1.2.0",
            "_view_name": "LayoutView",
            "align_content": null,
            "align_items": null,
            "align_self": null,
            "border": null,
            "bottom": null,
            "display": null,
            "flex": null,
            "flex_flow": null,
            "grid_area": null,
            "grid_auto_columns": null,
            "grid_auto_flow": null,
            "grid_auto_rows": null,
            "grid_column": null,
            "grid_gap": null,
            "grid_row": null,
            "grid_template_areas": null,
            "grid_template_columns": null,
            "grid_template_rows": null,
            "height": null,
            "justify_content": null,
            "justify_items": null,
            "left": null,
            "margin": null,
            "max_height": null,
            "max_width": null,
            "min_height": null,
            "min_width": null,
            "object_fit": null,
            "object_position": null,
            "order": null,
            "overflow": null,
            "overflow_x": null,
            "overflow_y": null,
            "padding": null,
            "right": null,
            "top": null,
            "visibility": null,
            "width": null
          }
        },
        "530174aec18544f7ab1d138396b3e330": {
          "model_module": "@jupyter-widgets/base",
          "model_name": "LayoutModel",
          "model_module_version": "1.2.0",
          "state": {
            "_model_module": "@jupyter-widgets/base",
            "_model_module_version": "1.2.0",
            "_model_name": "LayoutModel",
            "_view_count": null,
            "_view_module": "@jupyter-widgets/base",
            "_view_module_version": "1.2.0",
            "_view_name": "LayoutView",
            "align_content": null,
            "align_items": null,
            "align_self": null,
            "border": null,
            "bottom": null,
            "display": null,
            "flex": null,
            "flex_flow": null,
            "grid_area": null,
            "grid_auto_columns": null,
            "grid_auto_flow": null,
            "grid_auto_rows": null,
            "grid_column": null,
            "grid_gap": null,
            "grid_row": null,
            "grid_template_areas": null,
            "grid_template_columns": null,
            "grid_template_rows": null,
            "height": null,
            "justify_content": null,
            "justify_items": null,
            "left": null,
            "margin": null,
            "max_height": null,
            "max_width": null,
            "min_height": null,
            "min_width": null,
            "object_fit": null,
            "object_position": null,
            "order": null,
            "overflow": null,
            "overflow_x": null,
            "overflow_y": null,
            "padding": null,
            "right": null,
            "top": null,
            "visibility": null,
            "width": null
          }
        },
        "6a968d07c94d4598b4ed643774e597f3": {
          "model_module": "@jupyter-widgets/controls",
          "model_name": "DescriptionStyleModel",
          "model_module_version": "1.5.0",
          "state": {
            "_model_module": "@jupyter-widgets/controls",
            "_model_module_version": "1.5.0",
            "_model_name": "DescriptionStyleModel",
            "_view_count": null,
            "_view_module": "@jupyter-widgets/base",
            "_view_module_version": "1.2.0",
            "_view_name": "StyleView",
            "description_width": ""
          }
        },
        "39ce7972ef254149bc41dda90847b17e": {
          "model_module": "@jupyter-widgets/base",
          "model_name": "LayoutModel",
          "model_module_version": "1.2.0",
          "state": {
            "_model_module": "@jupyter-widgets/base",
            "_model_module_version": "1.2.0",
            "_model_name": "LayoutModel",
            "_view_count": null,
            "_view_module": "@jupyter-widgets/base",
            "_view_module_version": "1.2.0",
            "_view_name": "LayoutView",
            "align_content": null,
            "align_items": null,
            "align_self": null,
            "border": null,
            "bottom": null,
            "display": null,
            "flex": null,
            "flex_flow": null,
            "grid_area": null,
            "grid_auto_columns": null,
            "grid_auto_flow": null,
            "grid_auto_rows": null,
            "grid_column": null,
            "grid_gap": null,
            "grid_row": null,
            "grid_template_areas": null,
            "grid_template_columns": null,
            "grid_template_rows": null,
            "height": null,
            "justify_content": null,
            "justify_items": null,
            "left": null,
            "margin": null,
            "max_height": null,
            "max_width": null,
            "min_height": null,
            "min_width": null,
            "object_fit": null,
            "object_position": null,
            "order": null,
            "overflow": null,
            "overflow_x": null,
            "overflow_y": null,
            "padding": null,
            "right": null,
            "top": null,
            "visibility": null,
            "width": null
          }
        },
        "9f639d9e2bd741189656b5e1ae5c5b53": {
          "model_module": "@jupyter-widgets/controls",
          "model_name": "ProgressStyleModel",
          "model_module_version": "1.5.0",
          "state": {
            "_model_module": "@jupyter-widgets/controls",
            "_model_module_version": "1.5.0",
            "_model_name": "ProgressStyleModel",
            "_view_count": null,
            "_view_module": "@jupyter-widgets/base",
            "_view_module_version": "1.2.0",
            "_view_name": "StyleView",
            "bar_color": null,
            "description_width": ""
          }
        },
        "7f1192850eed40078ba68e1b9c16fac7": {
          "model_module": "@jupyter-widgets/base",
          "model_name": "LayoutModel",
          "model_module_version": "1.2.0",
          "state": {
            "_model_module": "@jupyter-widgets/base",
            "_model_module_version": "1.2.0",
            "_model_name": "LayoutModel",
            "_view_count": null,
            "_view_module": "@jupyter-widgets/base",
            "_view_module_version": "1.2.0",
            "_view_name": "LayoutView",
            "align_content": null,
            "align_items": null,
            "align_self": null,
            "border": null,
            "bottom": null,
            "display": null,
            "flex": null,
            "flex_flow": null,
            "grid_area": null,
            "grid_auto_columns": null,
            "grid_auto_flow": null,
            "grid_auto_rows": null,
            "grid_column": null,
            "grid_gap": null,
            "grid_row": null,
            "grid_template_areas": null,
            "grid_template_columns": null,
            "grid_template_rows": null,
            "height": null,
            "justify_content": null,
            "justify_items": null,
            "left": null,
            "margin": null,
            "max_height": null,
            "max_width": null,
            "min_height": null,
            "min_width": null,
            "object_fit": null,
            "object_position": null,
            "order": null,
            "overflow": null,
            "overflow_x": null,
            "overflow_y": null,
            "padding": null,
            "right": null,
            "top": null,
            "visibility": null,
            "width": null
          }
        },
        "b1a51f8d2a51450d9a155f367f2b2096": {
          "model_module": "@jupyter-widgets/controls",
          "model_name": "DescriptionStyleModel",
          "model_module_version": "1.5.0",
          "state": {
            "_model_module": "@jupyter-widgets/controls",
            "_model_module_version": "1.5.0",
            "_model_name": "DescriptionStyleModel",
            "_view_count": null,
            "_view_module": "@jupyter-widgets/base",
            "_view_module_version": "1.2.0",
            "_view_name": "StyleView",
            "description_width": ""
          }
        },
        "f4b56f01e96d4004b30ce1a150918488": {
          "model_module": "@jupyter-widgets/controls",
          "model_name": "HBoxModel",
          "model_module_version": "1.5.0",
          "state": {
            "_dom_classes": [],
            "_model_module": "@jupyter-widgets/controls",
            "_model_module_version": "1.5.0",
            "_model_name": "HBoxModel",
            "_view_count": null,
            "_view_module": "@jupyter-widgets/controls",
            "_view_module_version": "1.5.0",
            "_view_name": "HBoxView",
            "box_style": "",
            "children": [
              "IPY_MODEL_79bfcbc2a059470a8ea19e0b8090c761",
              "IPY_MODEL_92988ce7b0424eb294fd700db9dbdd69",
              "IPY_MODEL_6071440770c14a48bf02a4b4014cfc72"
            ],
            "layout": "IPY_MODEL_fe7ae2d1bc4b4e0aaa501829245a5c4c"
          }
        },
        "79bfcbc2a059470a8ea19e0b8090c761": {
          "model_module": "@jupyter-widgets/controls",
          "model_name": "HTMLModel",
          "model_module_version": "1.5.0",
          "state": {
            "_dom_classes": [],
            "_model_module": "@jupyter-widgets/controls",
            "_model_module_version": "1.5.0",
            "_model_name": "HTMLModel",
            "_view_count": null,
            "_view_module": "@jupyter-widgets/controls",
            "_view_module_version": "1.5.0",
            "_view_name": "HTMLView",
            "description": "",
            "description_tooltip": null,
            "layout": "IPY_MODEL_9dc869ecd53545fc8a58d194773e1b4d",
            "placeholder": "​",
            "style": "IPY_MODEL_81c0c97861b44a93bfa1fdd33594b426",
            "value": "Generating train split: 100%"
          }
        },
        "92988ce7b0424eb294fd700db9dbdd69": {
          "model_module": "@jupyter-widgets/controls",
          "model_name": "FloatProgressModel",
          "model_module_version": "1.5.0",
          "state": {
            "_dom_classes": [],
            "_model_module": "@jupyter-widgets/controls",
            "_model_module_version": "1.5.0",
            "_model_name": "FloatProgressModel",
            "_view_count": null,
            "_view_module": "@jupyter-widgets/controls",
            "_view_module_version": "1.5.0",
            "_view_name": "ProgressView",
            "bar_style": "success",
            "description": "",
            "description_tooltip": null,
            "layout": "IPY_MODEL_55a31d37a2c94ca69f9aee81029d574d",
            "max": 60000,
            "min": 0,
            "orientation": "horizontal",
            "style": "IPY_MODEL_7301597b1ebb4990b46c59a4bcba7dc7",
            "value": 60000
          }
        },
        "6071440770c14a48bf02a4b4014cfc72": {
          "model_module": "@jupyter-widgets/controls",
          "model_name": "HTMLModel",
          "model_module_version": "1.5.0",
          "state": {
            "_dom_classes": [],
            "_model_module": "@jupyter-widgets/controls",
            "_model_module_version": "1.5.0",
            "_model_name": "HTMLModel",
            "_view_count": null,
            "_view_module": "@jupyter-widgets/controls",
            "_view_module_version": "1.5.0",
            "_view_name": "HTMLView",
            "description": "",
            "description_tooltip": null,
            "layout": "IPY_MODEL_ccff0fcd6c064703b9debcc4b9a9b167",
            "placeholder": "​",
            "style": "IPY_MODEL_3222f26695924ca9a665f5eb784d03da",
            "value": " 60000/60000 [00:00&lt;00:00, 163003.95 examples/s]"
          }
        },
        "fe7ae2d1bc4b4e0aaa501829245a5c4c": {
          "model_module": "@jupyter-widgets/base",
          "model_name": "LayoutModel",
          "model_module_version": "1.2.0",
          "state": {
            "_model_module": "@jupyter-widgets/base",
            "_model_module_version": "1.2.0",
            "_model_name": "LayoutModel",
            "_view_count": null,
            "_view_module": "@jupyter-widgets/base",
            "_view_module_version": "1.2.0",
            "_view_name": "LayoutView",
            "align_content": null,
            "align_items": null,
            "align_self": null,
            "border": null,
            "bottom": null,
            "display": null,
            "flex": null,
            "flex_flow": null,
            "grid_area": null,
            "grid_auto_columns": null,
            "grid_auto_flow": null,
            "grid_auto_rows": null,
            "grid_column": null,
            "grid_gap": null,
            "grid_row": null,
            "grid_template_areas": null,
            "grid_template_columns": null,
            "grid_template_rows": null,
            "height": null,
            "justify_content": null,
            "justify_items": null,
            "left": null,
            "margin": null,
            "max_height": null,
            "max_width": null,
            "min_height": null,
            "min_width": null,
            "object_fit": null,
            "object_position": null,
            "order": null,
            "overflow": null,
            "overflow_x": null,
            "overflow_y": null,
            "padding": null,
            "right": null,
            "top": null,
            "visibility": null,
            "width": null
          }
        },
        "9dc869ecd53545fc8a58d194773e1b4d": {
          "model_module": "@jupyter-widgets/base",
          "model_name": "LayoutModel",
          "model_module_version": "1.2.0",
          "state": {
            "_model_module": "@jupyter-widgets/base",
            "_model_module_version": "1.2.0",
            "_model_name": "LayoutModel",
            "_view_count": null,
            "_view_module": "@jupyter-widgets/base",
            "_view_module_version": "1.2.0",
            "_view_name": "LayoutView",
            "align_content": null,
            "align_items": null,
            "align_self": null,
            "border": null,
            "bottom": null,
            "display": null,
            "flex": null,
            "flex_flow": null,
            "grid_area": null,
            "grid_auto_columns": null,
            "grid_auto_flow": null,
            "grid_auto_rows": null,
            "grid_column": null,
            "grid_gap": null,
            "grid_row": null,
            "grid_template_areas": null,
            "grid_template_columns": null,
            "grid_template_rows": null,
            "height": null,
            "justify_content": null,
            "justify_items": null,
            "left": null,
            "margin": null,
            "max_height": null,
            "max_width": null,
            "min_height": null,
            "min_width": null,
            "object_fit": null,
            "object_position": null,
            "order": null,
            "overflow": null,
            "overflow_x": null,
            "overflow_y": null,
            "padding": null,
            "right": null,
            "top": null,
            "visibility": null,
            "width": null
          }
        },
        "81c0c97861b44a93bfa1fdd33594b426": {
          "model_module": "@jupyter-widgets/controls",
          "model_name": "DescriptionStyleModel",
          "model_module_version": "1.5.0",
          "state": {
            "_model_module": "@jupyter-widgets/controls",
            "_model_module_version": "1.5.0",
            "_model_name": "DescriptionStyleModel",
            "_view_count": null,
            "_view_module": "@jupyter-widgets/base",
            "_view_module_version": "1.2.0",
            "_view_name": "StyleView",
            "description_width": ""
          }
        },
        "55a31d37a2c94ca69f9aee81029d574d": {
          "model_module": "@jupyter-widgets/base",
          "model_name": "LayoutModel",
          "model_module_version": "1.2.0",
          "state": {
            "_model_module": "@jupyter-widgets/base",
            "_model_module_version": "1.2.0",
            "_model_name": "LayoutModel",
            "_view_count": null,
            "_view_module": "@jupyter-widgets/base",
            "_view_module_version": "1.2.0",
            "_view_name": "LayoutView",
            "align_content": null,
            "align_items": null,
            "align_self": null,
            "border": null,
            "bottom": null,
            "display": null,
            "flex": null,
            "flex_flow": null,
            "grid_area": null,
            "grid_auto_columns": null,
            "grid_auto_flow": null,
            "grid_auto_rows": null,
            "grid_column": null,
            "grid_gap": null,
            "grid_row": null,
            "grid_template_areas": null,
            "grid_template_columns": null,
            "grid_template_rows": null,
            "height": null,
            "justify_content": null,
            "justify_items": null,
            "left": null,
            "margin": null,
            "max_height": null,
            "max_width": null,
            "min_height": null,
            "min_width": null,
            "object_fit": null,
            "object_position": null,
            "order": null,
            "overflow": null,
            "overflow_x": null,
            "overflow_y": null,
            "padding": null,
            "right": null,
            "top": null,
            "visibility": null,
            "width": null
          }
        },
        "7301597b1ebb4990b46c59a4bcba7dc7": {
          "model_module": "@jupyter-widgets/controls",
          "model_name": "ProgressStyleModel",
          "model_module_version": "1.5.0",
          "state": {
            "_model_module": "@jupyter-widgets/controls",
            "_model_module_version": "1.5.0",
            "_model_name": "ProgressStyleModel",
            "_view_count": null,
            "_view_module": "@jupyter-widgets/base",
            "_view_module_version": "1.2.0",
            "_view_name": "StyleView",
            "bar_color": null,
            "description_width": ""
          }
        },
        "ccff0fcd6c064703b9debcc4b9a9b167": {
          "model_module": "@jupyter-widgets/base",
          "model_name": "LayoutModel",
          "model_module_version": "1.2.0",
          "state": {
            "_model_module": "@jupyter-widgets/base",
            "_model_module_version": "1.2.0",
            "_model_name": "LayoutModel",
            "_view_count": null,
            "_view_module": "@jupyter-widgets/base",
            "_view_module_version": "1.2.0",
            "_view_name": "LayoutView",
            "align_content": null,
            "align_items": null,
            "align_self": null,
            "border": null,
            "bottom": null,
            "display": null,
            "flex": null,
            "flex_flow": null,
            "grid_area": null,
            "grid_auto_columns": null,
            "grid_auto_flow": null,
            "grid_auto_rows": null,
            "grid_column": null,
            "grid_gap": null,
            "grid_row": null,
            "grid_template_areas": null,
            "grid_template_columns": null,
            "grid_template_rows": null,
            "height": null,
            "justify_content": null,
            "justify_items": null,
            "left": null,
            "margin": null,
            "max_height": null,
            "max_width": null,
            "min_height": null,
            "min_width": null,
            "object_fit": null,
            "object_position": null,
            "order": null,
            "overflow": null,
            "overflow_x": null,
            "overflow_y": null,
            "padding": null,
            "right": null,
            "top": null,
            "visibility": null,
            "width": null
          }
        },
        "3222f26695924ca9a665f5eb784d03da": {
          "model_module": "@jupyter-widgets/controls",
          "model_name": "DescriptionStyleModel",
          "model_module_version": "1.5.0",
          "state": {
            "_model_module": "@jupyter-widgets/controls",
            "_model_module_version": "1.5.0",
            "_model_name": "DescriptionStyleModel",
            "_view_count": null,
            "_view_module": "@jupyter-widgets/base",
            "_view_module_version": "1.2.0",
            "_view_name": "StyleView",
            "description_width": ""
          }
        },
        "5e7b31bf9bbf40d38d82839610867bc8": {
          "model_module": "@jupyter-widgets/controls",
          "model_name": "HBoxModel",
          "model_module_version": "1.5.0",
          "state": {
            "_dom_classes": [],
            "_model_module": "@jupyter-widgets/controls",
            "_model_module_version": "1.5.0",
            "_model_name": "HBoxModel",
            "_view_count": null,
            "_view_module": "@jupyter-widgets/controls",
            "_view_module_version": "1.5.0",
            "_view_name": "HBoxView",
            "box_style": "",
            "children": [
              "IPY_MODEL_7ba1a136bf8242a7b58753ad0df81e3a",
              "IPY_MODEL_a71463148e9e47168bc72e3f6b50121b",
              "IPY_MODEL_c247596b60a64d53a98e4c3960ec828f"
            ],
            "layout": "IPY_MODEL_52f1f1e3902d42488d7fddd7fbc2cbfb"
          }
        },
        "7ba1a136bf8242a7b58753ad0df81e3a": {
          "model_module": "@jupyter-widgets/controls",
          "model_name": "HTMLModel",
          "model_module_version": "1.5.0",
          "state": {
            "_dom_classes": [],
            "_model_module": "@jupyter-widgets/controls",
            "_model_module_version": "1.5.0",
            "_model_name": "HTMLModel",
            "_view_count": null,
            "_view_module": "@jupyter-widgets/controls",
            "_view_module_version": "1.5.0",
            "_view_name": "HTMLView",
            "description": "",
            "description_tooltip": null,
            "layout": "IPY_MODEL_75c9a3566e2c4abaaa851422bc0674e8",
            "placeholder": "​",
            "style": "IPY_MODEL_6bebc0f5fdd84e5da77109fb8449955a",
            "value": "Generating test split: 100%"
          }
        },
        "a71463148e9e47168bc72e3f6b50121b": {
          "model_module": "@jupyter-widgets/controls",
          "model_name": "FloatProgressModel",
          "model_module_version": "1.5.0",
          "state": {
            "_dom_classes": [],
            "_model_module": "@jupyter-widgets/controls",
            "_model_module_version": "1.5.0",
            "_model_name": "FloatProgressModel",
            "_view_count": null,
            "_view_module": "@jupyter-widgets/controls",
            "_view_module_version": "1.5.0",
            "_view_name": "ProgressView",
            "bar_style": "success",
            "description": "",
            "description_tooltip": null,
            "layout": "IPY_MODEL_946c705817f5409cac878b6263c8efea",
            "max": 10000,
            "min": 0,
            "orientation": "horizontal",
            "style": "IPY_MODEL_d77f4104e2244f718fd77918901bcc40",
            "value": 10000
          }
        },
        "c247596b60a64d53a98e4c3960ec828f": {
          "model_module": "@jupyter-widgets/controls",
          "model_name": "HTMLModel",
          "model_module_version": "1.5.0",
          "state": {
            "_dom_classes": [],
            "_model_module": "@jupyter-widgets/controls",
            "_model_module_version": "1.5.0",
            "_model_name": "HTMLModel",
            "_view_count": null,
            "_view_module": "@jupyter-widgets/controls",
            "_view_module_version": "1.5.0",
            "_view_name": "HTMLView",
            "description": "",
            "description_tooltip": null,
            "layout": "IPY_MODEL_9bcc54f0d6724e95bd3754fc6fa8380f",
            "placeholder": "​",
            "style": "IPY_MODEL_45d928b5c9224a91a9a7aa299c44419e",
            "value": " 10000/10000 [00:00&lt;00:00, 88670.19 examples/s]"
          }
        },
        "52f1f1e3902d42488d7fddd7fbc2cbfb": {
          "model_module": "@jupyter-widgets/base",
          "model_name": "LayoutModel",
          "model_module_version": "1.2.0",
          "state": {
            "_model_module": "@jupyter-widgets/base",
            "_model_module_version": "1.2.0",
            "_model_name": "LayoutModel",
            "_view_count": null,
            "_view_module": "@jupyter-widgets/base",
            "_view_module_version": "1.2.0",
            "_view_name": "LayoutView",
            "align_content": null,
            "align_items": null,
            "align_self": null,
            "border": null,
            "bottom": null,
            "display": null,
            "flex": null,
            "flex_flow": null,
            "grid_area": null,
            "grid_auto_columns": null,
            "grid_auto_flow": null,
            "grid_auto_rows": null,
            "grid_column": null,
            "grid_gap": null,
            "grid_row": null,
            "grid_template_areas": null,
            "grid_template_columns": null,
            "grid_template_rows": null,
            "height": null,
            "justify_content": null,
            "justify_items": null,
            "left": null,
            "margin": null,
            "max_height": null,
            "max_width": null,
            "min_height": null,
            "min_width": null,
            "object_fit": null,
            "object_position": null,
            "order": null,
            "overflow": null,
            "overflow_x": null,
            "overflow_y": null,
            "padding": null,
            "right": null,
            "top": null,
            "visibility": null,
            "width": null
          }
        },
        "75c9a3566e2c4abaaa851422bc0674e8": {
          "model_module": "@jupyter-widgets/base",
          "model_name": "LayoutModel",
          "model_module_version": "1.2.0",
          "state": {
            "_model_module": "@jupyter-widgets/base",
            "_model_module_version": "1.2.0",
            "_model_name": "LayoutModel",
            "_view_count": null,
            "_view_module": "@jupyter-widgets/base",
            "_view_module_version": "1.2.0",
            "_view_name": "LayoutView",
            "align_content": null,
            "align_items": null,
            "align_self": null,
            "border": null,
            "bottom": null,
            "display": null,
            "flex": null,
            "flex_flow": null,
            "grid_area": null,
            "grid_auto_columns": null,
            "grid_auto_flow": null,
            "grid_auto_rows": null,
            "grid_column": null,
            "grid_gap": null,
            "grid_row": null,
            "grid_template_areas": null,
            "grid_template_columns": null,
            "grid_template_rows": null,
            "height": null,
            "justify_content": null,
            "justify_items": null,
            "left": null,
            "margin": null,
            "max_height": null,
            "max_width": null,
            "min_height": null,
            "min_width": null,
            "object_fit": null,
            "object_position": null,
            "order": null,
            "overflow": null,
            "overflow_x": null,
            "overflow_y": null,
            "padding": null,
            "right": null,
            "top": null,
            "visibility": null,
            "width": null
          }
        },
        "6bebc0f5fdd84e5da77109fb8449955a": {
          "model_module": "@jupyter-widgets/controls",
          "model_name": "DescriptionStyleModel",
          "model_module_version": "1.5.0",
          "state": {
            "_model_module": "@jupyter-widgets/controls",
            "_model_module_version": "1.5.0",
            "_model_name": "DescriptionStyleModel",
            "_view_count": null,
            "_view_module": "@jupyter-widgets/base",
            "_view_module_version": "1.2.0",
            "_view_name": "StyleView",
            "description_width": ""
          }
        },
        "946c705817f5409cac878b6263c8efea": {
          "model_module": "@jupyter-widgets/base",
          "model_name": "LayoutModel",
          "model_module_version": "1.2.0",
          "state": {
            "_model_module": "@jupyter-widgets/base",
            "_model_module_version": "1.2.0",
            "_model_name": "LayoutModel",
            "_view_count": null,
            "_view_module": "@jupyter-widgets/base",
            "_view_module_version": "1.2.0",
            "_view_name": "LayoutView",
            "align_content": null,
            "align_items": null,
            "align_self": null,
            "border": null,
            "bottom": null,
            "display": null,
            "flex": null,
            "flex_flow": null,
            "grid_area": null,
            "grid_auto_columns": null,
            "grid_auto_flow": null,
            "grid_auto_rows": null,
            "grid_column": null,
            "grid_gap": null,
            "grid_row": null,
            "grid_template_areas": null,
            "grid_template_columns": null,
            "grid_template_rows": null,
            "height": null,
            "justify_content": null,
            "justify_items": null,
            "left": null,
            "margin": null,
            "max_height": null,
            "max_width": null,
            "min_height": null,
            "min_width": null,
            "object_fit": null,
            "object_position": null,
            "order": null,
            "overflow": null,
            "overflow_x": null,
            "overflow_y": null,
            "padding": null,
            "right": null,
            "top": null,
            "visibility": null,
            "width": null
          }
        },
        "d77f4104e2244f718fd77918901bcc40": {
          "model_module": "@jupyter-widgets/controls",
          "model_name": "ProgressStyleModel",
          "model_module_version": "1.5.0",
          "state": {
            "_model_module": "@jupyter-widgets/controls",
            "_model_module_version": "1.5.0",
            "_model_name": "ProgressStyleModel",
            "_view_count": null,
            "_view_module": "@jupyter-widgets/base",
            "_view_module_version": "1.2.0",
            "_view_name": "StyleView",
            "bar_color": null,
            "description_width": ""
          }
        },
        "9bcc54f0d6724e95bd3754fc6fa8380f": {
          "model_module": "@jupyter-widgets/base",
          "model_name": "LayoutModel",
          "model_module_version": "1.2.0",
          "state": {
            "_model_module": "@jupyter-widgets/base",
            "_model_module_version": "1.2.0",
            "_model_name": "LayoutModel",
            "_view_count": null,
            "_view_module": "@jupyter-widgets/base",
            "_view_module_version": "1.2.0",
            "_view_name": "LayoutView",
            "align_content": null,
            "align_items": null,
            "align_self": null,
            "border": null,
            "bottom": null,
            "display": null,
            "flex": null,
            "flex_flow": null,
            "grid_area": null,
            "grid_auto_columns": null,
            "grid_auto_flow": null,
            "grid_auto_rows": null,
            "grid_column": null,
            "grid_gap": null,
            "grid_row": null,
            "grid_template_areas": null,
            "grid_template_columns": null,
            "grid_template_rows": null,
            "height": null,
            "justify_content": null,
            "justify_items": null,
            "left": null,
            "margin": null,
            "max_height": null,
            "max_width": null,
            "min_height": null,
            "min_width": null,
            "object_fit": null,
            "object_position": null,
            "order": null,
            "overflow": null,
            "overflow_x": null,
            "overflow_y": null,
            "padding": null,
            "right": null,
            "top": null,
            "visibility": null,
            "width": null
          }
        },
        "45d928b5c9224a91a9a7aa299c44419e": {
          "model_module": "@jupyter-widgets/controls",
          "model_name": "DescriptionStyleModel",
          "model_module_version": "1.5.0",
          "state": {
            "_model_module": "@jupyter-widgets/controls",
            "_model_module_version": "1.5.0",
            "_model_name": "DescriptionStyleModel",
            "_view_count": null,
            "_view_module": "@jupyter-widgets/base",
            "_view_module_version": "1.2.0",
            "_view_name": "StyleView",
            "description_width": ""
          }
        }
      }
    }
  },
  "cells": [
    {
      "cell_type": "markdown",
      "metadata": {
        "id": "view-in-github",
        "colab_type": "text"
      },
      "source": [
        "<a href=\"https://colab.research.google.com/github/MELAI-1/MY-PROJECT/blob/main/Computer_Vision/CLIP_MODEL.ipynb\" target=\"_parent\"><img src=\"https://colab.research.google.com/assets/colab-badge.svg\" alt=\"Open In Colab\"/></a>"
      ]
    },
    {
      "cell_type": "code",
      "source": [],
      "metadata": {
        "id": "a_XLgJV3G2RC"
      },
      "execution_count": null,
      "outputs": []
    },
    {
      "cell_type": "markdown",
      "source": [
        "![CLIP.webp](data:image/webp;base64,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)"
      ],
      "metadata": {
        "id": "5I4Lt2dD4LXX"
      }
    },
    {
      "cell_type": "markdown",
      "source": [
        "Import Libraries and Modules"
      ],
      "metadata": {
        "id": "L7wUJwgk4AGa"
      }
    },
    {
      "cell_type": "code",
      "source": [
        "!pip install datasets"
      ],
      "metadata": {
        "id": "FkTdp_sg5D3E",
        "outputId": "f437c4cd-f52c-4d57-a5f7-8e97f3cbb2f7",
        "colab": {
          "base_uri": "https://localhost:8080/"
        }
      },
      "execution_count": 2,
      "outputs": [
        {
          "output_type": "stream",
          "name": "stdout",
          "text": [
            "Collecting datasets\n",
            "  Downloading datasets-3.6.0-py3-none-any.whl.metadata (19 kB)\n",
            "Requirement already satisfied: filelock in /usr/local/lib/python3.11/dist-packages (from datasets) (3.18.0)\n",
            "Requirement already satisfied: numpy>=1.17 in /usr/local/lib/python3.11/dist-packages (from datasets) (2.0.2)\n",
            "Requirement already satisfied: pyarrow>=15.0.0 in /usr/local/lib/python3.11/dist-packages (from datasets) (18.1.0)\n",
            "Collecting dill<0.3.9,>=0.3.0 (from datasets)\n",
            "  Downloading dill-0.3.8-py3-none-any.whl.metadata (10 kB)\n",
            "Requirement already satisfied: pandas in /usr/local/lib/python3.11/dist-packages (from datasets) (2.2.2)\n",
            "Requirement already satisfied: requests>=2.32.2 in /usr/local/lib/python3.11/dist-packages (from datasets) (2.32.3)\n",
            "Requirement already satisfied: tqdm>=4.66.3 in /usr/local/lib/python3.11/dist-packages (from datasets) (4.67.1)\n",
            "Collecting xxhash (from datasets)\n",
            "  Downloading xxhash-3.5.0-cp311-cp311-manylinux_2_17_x86_64.manylinux2014_x86_64.whl.metadata (12 kB)\n",
            "Collecting multiprocess<0.70.17 (from datasets)\n",
            "  Downloading multiprocess-0.70.16-py311-none-any.whl.metadata (7.2 kB)\n",
            "Collecting fsspec<=2025.3.0,>=2023.1.0 (from fsspec[http]<=2025.3.0,>=2023.1.0->datasets)\n",
            "  Downloading fsspec-2025.3.0-py3-none-any.whl.metadata (11 kB)\n",
            "Requirement already satisfied: huggingface-hub>=0.24.0 in /usr/local/lib/python3.11/dist-packages (from datasets) (0.30.2)\n",
            "Requirement already satisfied: packaging in /usr/local/lib/python3.11/dist-packages (from datasets) (24.2)\n",
            "Requirement already satisfied: pyyaml>=5.1 in /usr/local/lib/python3.11/dist-packages (from datasets) (6.0.2)\n",
            "Requirement already satisfied: aiohttp!=4.0.0a0,!=4.0.0a1 in /usr/local/lib/python3.11/dist-packages (from fsspec[http]<=2025.3.0,>=2023.1.0->datasets) (3.11.15)\n",
            "Requirement already satisfied: typing-extensions>=3.7.4.3 in /usr/local/lib/python3.11/dist-packages (from huggingface-hub>=0.24.0->datasets) (4.13.2)\n",
            "Requirement already satisfied: charset-normalizer<4,>=2 in /usr/local/lib/python3.11/dist-packages (from requests>=2.32.2->datasets) (3.4.1)\n",
            "Requirement already satisfied: idna<4,>=2.5 in /usr/local/lib/python3.11/dist-packages (from requests>=2.32.2->datasets) (3.10)\n",
            "Requirement already satisfied: urllib3<3,>=1.21.1 in /usr/local/lib/python3.11/dist-packages (from requests>=2.32.2->datasets) (2.4.0)\n",
            "Requirement already satisfied: certifi>=2017.4.17 in /usr/local/lib/python3.11/dist-packages (from requests>=2.32.2->datasets) (2025.4.26)\n",
            "Requirement already satisfied: python-dateutil>=2.8.2 in /usr/local/lib/python3.11/dist-packages (from pandas->datasets) (2.9.0.post0)\n",
            "Requirement already satisfied: pytz>=2020.1 in /usr/local/lib/python3.11/dist-packages (from pandas->datasets) (2025.2)\n",
            "Requirement already satisfied: tzdata>=2022.7 in /usr/local/lib/python3.11/dist-packages (from pandas->datasets) (2025.2)\n",
            "Requirement already satisfied: aiohappyeyeballs>=2.3.0 in /usr/local/lib/python3.11/dist-packages (from aiohttp!=4.0.0a0,!=4.0.0a1->fsspec[http]<=2025.3.0,>=2023.1.0->datasets) (2.6.1)\n",
            "Requirement already satisfied: aiosignal>=1.1.2 in /usr/local/lib/python3.11/dist-packages (from aiohttp!=4.0.0a0,!=4.0.0a1->fsspec[http]<=2025.3.0,>=2023.1.0->datasets) (1.3.2)\n",
            "Requirement already satisfied: attrs>=17.3.0 in /usr/local/lib/python3.11/dist-packages (from aiohttp!=4.0.0a0,!=4.0.0a1->fsspec[http]<=2025.3.0,>=2023.1.0->datasets) (25.3.0)\n",
            "Requirement already satisfied: frozenlist>=1.1.1 in /usr/local/lib/python3.11/dist-packages (from aiohttp!=4.0.0a0,!=4.0.0a1->fsspec[http]<=2025.3.0,>=2023.1.0->datasets) (1.6.0)\n",
            "Requirement already satisfied: multidict<7.0,>=4.5 in /usr/local/lib/python3.11/dist-packages (from aiohttp!=4.0.0a0,!=4.0.0a1->fsspec[http]<=2025.3.0,>=2023.1.0->datasets) (6.4.3)\n",
            "Requirement already satisfied: propcache>=0.2.0 in /usr/local/lib/python3.11/dist-packages (from aiohttp!=4.0.0a0,!=4.0.0a1->fsspec[http]<=2025.3.0,>=2023.1.0->datasets) (0.3.1)\n",
            "Requirement already satisfied: yarl<2.0,>=1.17.0 in /usr/local/lib/python3.11/dist-packages (from aiohttp!=4.0.0a0,!=4.0.0a1->fsspec[http]<=2025.3.0,>=2023.1.0->datasets) (1.20.0)\n",
            "Requirement already satisfied: six>=1.5 in /usr/local/lib/python3.11/dist-packages (from python-dateutil>=2.8.2->pandas->datasets) (1.17.0)\n",
            "Downloading datasets-3.6.0-py3-none-any.whl (491 kB)\n",
            "\u001b[2K   \u001b[90m━━━━━━━━━━━━━━━━━━━━━━━━━━━━━━━━━━━━━━━━\u001b[0m \u001b[32m491.5/491.5 kB\u001b[0m \u001b[31m15.9 MB/s\u001b[0m eta \u001b[36m0:00:00\u001b[0m\n",
            "\u001b[?25hDownloading dill-0.3.8-py3-none-any.whl (116 kB)\n",
            "\u001b[2K   \u001b[90m━━━━━━━━━━━━━━━━━━━━━━━━━━━━━━━━━━━━━━━━\u001b[0m \u001b[32m116.3/116.3 kB\u001b[0m \u001b[31m8.4 MB/s\u001b[0m eta \u001b[36m0:00:00\u001b[0m\n",
            "\u001b[?25hDownloading fsspec-2025.3.0-py3-none-any.whl (193 kB)\n",
            "\u001b[2K   \u001b[90m━━━━━━━━━━━━━━━━━━━━━━━━━━━━━━━━━━━━━━━━\u001b[0m \u001b[32m193.6/193.6 kB\u001b[0m \u001b[31m13.5 MB/s\u001b[0m eta \u001b[36m0:00:00\u001b[0m\n",
            "\u001b[?25hDownloading multiprocess-0.70.16-py311-none-any.whl (143 kB)\n",
            "\u001b[2K   \u001b[90m━━━━━━━━━━━━━━━━━━━━━━━━━━━━━━━━━━━━━━━━\u001b[0m \u001b[32m143.5/143.5 kB\u001b[0m \u001b[31m10.3 MB/s\u001b[0m eta \u001b[36m0:00:00\u001b[0m\n",
            "\u001b[?25hDownloading xxhash-3.5.0-cp311-cp311-manylinux_2_17_x86_64.manylinux2014_x86_64.whl (194 kB)\n",
            "\u001b[2K   \u001b[90m━━━━━━━━━━━━━━━━━━━━━━━━━━━━━━━━━━━━━━━━\u001b[0m \u001b[32m194.8/194.8 kB\u001b[0m \u001b[31m14.2 MB/s\u001b[0m eta \u001b[36m0:00:00\u001b[0m\n",
            "\u001b[?25hInstalling collected packages: xxhash, fsspec, dill, multiprocess, datasets\n",
            "  Attempting uninstall: fsspec\n",
            "    Found existing installation: fsspec 2025.3.2\n",
            "    Uninstalling fsspec-2025.3.2:\n",
            "      Successfully uninstalled fsspec-2025.3.2\n",
            "\u001b[31mERROR: pip's dependency resolver does not currently take into account all the packages that are installed. This behaviour is the source of the following dependency conflicts.\n",
            "gcsfs 2025.3.2 requires fsspec==2025.3.2, but you have fsspec 2025.3.0 which is incompatible.\n",
            "torch 2.6.0+cu124 requires nvidia-cublas-cu12==12.4.5.8; platform_system == \"Linux\" and platform_machine == \"x86_64\", but you have nvidia-cublas-cu12 12.5.3.2 which is incompatible.\n",
            "torch 2.6.0+cu124 requires nvidia-cuda-cupti-cu12==12.4.127; platform_system == \"Linux\" and platform_machine == \"x86_64\", but you have nvidia-cuda-cupti-cu12 12.5.82 which is incompatible.\n",
            "torch 2.6.0+cu124 requires nvidia-cuda-nvrtc-cu12==12.4.127; platform_system == \"Linux\" and platform_machine == \"x86_64\", but you have nvidia-cuda-nvrtc-cu12 12.5.82 which is incompatible.\n",
            "torch 2.6.0+cu124 requires nvidia-cuda-runtime-cu12==12.4.127; platform_system == \"Linux\" and platform_machine == \"x86_64\", but you have nvidia-cuda-runtime-cu12 12.5.82 which is incompatible.\n",
            "torch 2.6.0+cu124 requires nvidia-cudnn-cu12==9.1.0.70; platform_system == \"Linux\" and platform_machine == \"x86_64\", but you have nvidia-cudnn-cu12 9.3.0.75 which is incompatible.\n",
            "torch 2.6.0+cu124 requires nvidia-cufft-cu12==11.2.1.3; platform_system == \"Linux\" and platform_machine == \"x86_64\", but you have nvidia-cufft-cu12 11.2.3.61 which is incompatible.\n",
            "torch 2.6.0+cu124 requires nvidia-curand-cu12==10.3.5.147; platform_system == \"Linux\" and platform_machine == \"x86_64\", but you have nvidia-curand-cu12 10.3.6.82 which is incompatible.\n",
            "torch 2.6.0+cu124 requires nvidia-cusolver-cu12==11.6.1.9; platform_system == \"Linux\" and platform_machine == \"x86_64\", but you have nvidia-cusolver-cu12 11.6.3.83 which is incompatible.\n",
            "torch 2.6.0+cu124 requires nvidia-cusparse-cu12==12.3.1.170; platform_system == \"Linux\" and platform_machine == \"x86_64\", but you have nvidia-cusparse-cu12 12.5.1.3 which is incompatible.\n",
            "torch 2.6.0+cu124 requires nvidia-nvjitlink-cu12==12.4.127; platform_system == \"Linux\" and platform_machine == \"x86_64\", but you have nvidia-nvjitlink-cu12 12.5.82 which is incompatible.\u001b[0m\u001b[31m\n",
            "\u001b[0mSuccessfully installed datasets-3.6.0 dill-0.3.8 fsspec-2025.3.0 multiprocess-0.70.16 xxhash-3.5.0\n"
          ]
        }
      ]
    },
    {
      "cell_type": "code",
      "execution_count": 8,
      "metadata": {
        "id": "tzEfNieeBr0-"
      },
      "outputs": [],
      "source": [
        "import torch\n",
        "import torch.nn as nn\n",
        "import torch.optim as optim\n",
        "import torchvision.transforms as T\n",
        "from torch.utils.data import Dataset, DataLoader\n",
        "from datasets import load_dataset\n",
        "import matplotlib.pyplot as plt\n",
        "import numpy as np\n",
        "from torch.optim import Adam"
      ]
    },
    {
      "cell_type": "markdown",
      "source": [
        "Image and Text Encoders"
      ],
      "metadata": {
        "id": "0WgiEAqg47Ee"
      }
    },
    {
      "cell_type": "markdown",
      "source": [
        "Positional Embedding"
      ],
      "metadata": {
        "id": "IcC9ReDq5U0o"
      }
    },
    {
      "cell_type": "code",
      "source": [
        "class PositionalEmbedding(nn.Module):\n",
        "  def __init__(self, width, max_seq_length):\n",
        "    super().__init__()\n",
        "\n",
        "    pe = torch.zeros(max_seq_length, width)\n",
        "\n",
        "    for pos in range(max_seq_length):\n",
        "      for i in range(width):\n",
        "        if i % 2 == 0:\n",
        "          pe[pos][i] = np.sin(pos/(10000 ** (i/width)))\n",
        "        else:\n",
        "          pe[pos][i] = np.cos(pos/(10000 ** ((i-1)/width)))\n",
        "\n",
        "    self.register_buffer('pe', pe.unsqueeze(0))\n",
        "\n",
        "  def forward(self, x):\n",
        "\n",
        "    x = x + self.pe\n",
        "\n",
        "    return x"
      ],
      "metadata": {
        "id": "QDoQ8CkX48pP"
      },
      "execution_count": 9,
      "outputs": []
    },
    {
      "cell_type": "markdown",
      "source": [
        "Attention Head"
      ],
      "metadata": {
        "id": "vBcPccF-5uXs"
      }
    },
    {
      "cell_type": "markdown",
      "source": [
        "![0_N99XOqa8iH4WK_u9.webp](data:image/webp;base64,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)"
      ],
      "metadata": {
        "id": "QNp11fYS6KEd"
      }
    },
    {
      "cell_type": "code",
      "source": [
        "class AttentionHead(nn.Module):\n",
        "  def __init__(self, width, head_size):\n",
        "    super().__init__()\n",
        "    self.head_size = head_size\n",
        "\n",
        "    self.query = nn.Linear(width, head_size)\n",
        "    self.key = nn.Linear(width, head_size)\n",
        "    self.value = nn.Linear(width, head_size)\n",
        "\n",
        "  def forward(self, x, mask=None):\n",
        "    # Obtaining Queries, Keys, and Values\n",
        "    Q = self.query(x)\n",
        "    K = self.key(x)\n",
        "    V = self.value(x)\n",
        "\n",
        "    # Dot Product of Queries and Keys\n",
        "    attention = Q @ K.transpose(-2,-1)\n",
        "\n",
        "    # Scaling\n",
        "    attention = attention / (self.head_size ** 0.5)\n",
        "\n",
        "    # Applying Attention Mask\n",
        "    if mask is not None:\n",
        "        attention = attention.masked_fill(mask == 0, float(\"-inf\"))\n",
        "\n",
        "    attention = torch.softmax(attention, dim=-1)\n",
        "\n",
        "    attention = attention @ V\n",
        "\n",
        "    return attention"
      ],
      "metadata": {
        "id": "QDifcSyy5qtm"
      },
      "execution_count": 10,
      "outputs": []
    },
    {
      "cell_type": "markdown",
      "source": [
        "![1_DiztJc24Nsl_Hql1vIby0A.webp](data:image/webp;base64,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)"
      ],
      "metadata": {
        "id": "WisaBQkJ6piE"
      }
    },
    {
      "cell_type": "markdown",
      "source": [
        "Multi-Head Attention"
      ],
      "metadata": {
        "id": "bgfdFz8E7Ajs"
      }
    },
    {
      "cell_type": "code",
      "source": [
        "class MultiHeadAttention(nn.Module):\n",
        "  def __init__(self, width, n_heads):\n",
        "    super().__init__()\n",
        "    self.head_size = width // n_heads\n",
        "\n",
        "    self.W_o = nn.Linear(width, width)\n",
        "\n",
        "    self.heads = nn.ModuleList([AttentionHead(width, self.head_size) for _ in range(n_heads)])\n",
        "\n",
        "  def forward(self, x, mask=None):\n",
        "    # Combine attention heads\n",
        "    out = torch.cat([head(x, mask=mask) for head in self.heads], dim=-1)\n",
        "\n",
        "    out = self.W_o(out)\n",
        "\n",
        "    return out"
      ],
      "metadata": {
        "id": "3KGIYHsm6MJT"
      },
      "execution_count": 11,
      "outputs": []
    },
    {
      "cell_type": "markdown",
      "source": [
        "Transformer Encoder"
      ],
      "metadata": {
        "id": "0a9Z5M0z7PE9"
      }
    },
    {
      "cell_type": "markdown",
      "source": [
        "![1_RgiuEOa1imuUMHERAdazTw.webp](data:image/webp;base64,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)"
      ],
      "metadata": {
        "id": "DBIXEZjt7eCZ"
      }
    },
    {
      "cell_type": "code",
      "source": [
        "class TransformerEncoder(nn.Module):\n",
        "    def __init__(self, width, n_heads, r_mlp=4):\n",
        "        super().__init__()\n",
        "        self.width = width\n",
        "        self.n_heads = n_heads\n",
        "\n",
        "        # Sub-Layer 1 Normalization\n",
        "        self.ln1 = nn.LayerNorm(width)\n",
        "\n",
        "        # Multi-Head Attention\n",
        "        self.mha = MultiHeadAttention(width, n_heads)\n",
        "\n",
        "        # Sub-Layer 2 Normalization\n",
        "        self.ln2 = nn.LayerNorm(width)\n",
        "\n",
        "        # Multilayer Perception\n",
        "        self.mlp = nn.Sequential(\n",
        "            nn.Linear(self.width, self.width*r_mlp),\n",
        "            nn.GELU(),\n",
        "            nn.Linear(self.width*r_mlp, self.width)\n",
        "        )\n",
        "\n",
        "\n",
        "    def forward(self, x, mask=None):\n",
        "        x = x + self.mha(self.ln1(x), mask=mask)\n",
        "\n",
        "        x = x + self.mlp(self.ln2(x))\n",
        "\n",
        "        return x"
      ],
      "metadata": {
        "id": "VfIf5-g37Si_"
      },
      "execution_count": 12,
      "outputs": []
    },
    {
      "cell_type": "markdown",
      "source": [
        "The MLP will consist of two linear layers with a GELU layer in between. GELU is used instead of RELU because it doesn’t have RELU’s limitation of being non-differentiable at zero."
      ],
      "metadata": {
        "id": "ADicB81A73bL"
      }
    },
    {
      "cell_type": "markdown",
      "source": [
        "Tokenization"
      ],
      "metadata": {
        "id": "oHJ4v8Vt8I0V"
      }
    },
    {
      "cell_type": "markdown",
      "source": [
        "![1_qTFmmRJD1awtQowxl94now.webp](data:image/webp;base64,UklGRn45AABXRUJQVlA4WAoAAAAIAAAAzwIAaQEAVlA4INo4AABQ+ACdASrQAmoBPm0ylUgkIqIhIpJswIANiWlu+AboAfpeMgaSn/pP/PfxQ8CP6d+PH9q/4Prf+IfJf0/+0/r//e/+//sviC/rvGN0l/xv7v6m/yP6ofWf6v/d/8p/cv2d+6P6j/fP6L/c/9h/iP1o9qfh1/If2b2Avxb+Lf07+zfs9/dP2v90/aUa7/rv+p6gvqD8t/s/+C/yX+//vv7j/UT7f/hfyi/f/5Q+sf+b9wD+J/yz+//2v9w/8D///p3/Bf5Lxi/qX+q/Z34Av5Z/Tv9b/g/9f+0/0z/u/+7/v/+1/8X+e////2+Jv5j/dP9//hv9H+0n2EfyX+if7D+6/6L/1/5n///+37pP/37av3G/7Pue/r9/9zWI9UlGlwH8X/41sqqavLtAJoKUtweY1dl0vMvLYkt0KSjS4IpATNG1nBHqko0uCKQF995Mu3QC++AWnCn5TdmlwRSAmaNrOCPVJRpcEUS/5BuFy+u9U20iFMHCJPsESZNdvtpHGyu9tGlSwFzWWDafM9AOUjuXZWqd4go/1/X2ghJ6JATNG1nBHqko0uCKQEyJUgghe38m/yqQ9yUVU8XjyzJQaUZ+XtZA/bPvZmjazgj1SUaXBFICZo2s7IQ1LzbFWVHepnjwVcLLJJq+saFTXwbxUBoIpATNG1nBHqko0uAh5IdQ7LNeShopL5Yv4ptil3lsL1sY/PWlQZVnL3ZO8DAF1BtlYVWJAd7fmRoLZ1IIihLiNZTCLZ3MVxkwJmjazgj1SR49xMQ85BkQh5BCQMxo4i3Lx+BLhY64/TCRzfzN+td7wgMnS8EFnOHW54nYqN2kZvv5GWTZYZF7QH6ZiCDM7dxjtVLh5Cr1VyJE+YY8onhDoFn3cNgv983aXeyfdYFJArS4jdY/ZM/yjC4oGlGlwRSAmZbFZmEq3vifMnVu+YJy6Wv68i7xce1SyMvw5pqnhXaXDztLxkEtvcflwC3ane7h5ulTo4Q5KfcJODH3VOnvsQKPsVj/2d2AgJVU9XUCkYoqr2z80eSIhAOZ4Bm8dEyitNWnqko0uCKQEyS2e9TnichKIzmD3a+583JAxnz25l60HyACeORh7qGKrdnjQwmINij9QLJdAjx8VeHTfwi49cwGPyz+ptCq38e+1Ji0cy05AUsQb34msk9EgJmjazgj1SUaXBFG2ewnkbXo/3z826OOedBlpZPb8I8WmvSVEBSA1LQSTkOoFgvS/pSucDsHHhJuPGII4kr2xvNOz39CG8rOUB0H/HcneI+5ceiU7GvbbsFWiCt/dPor34k0qqu/OnPvnaUw6PwF4ME9ESxnFE5hLhyCBivvAi1QS6fqi1WgeORzh6gkMygPqgzwmFkdF47QXuAf2lg/pG5IEOC6ufVxC+H9jppQY4E9E/guK/ww26eV6CI8ogkrNtaMRBzPYSHzB/DDbNY3aN0h3ZzHPhTMy75yjXQxv4vjonErMcsBmgNJSyiB9BzmmFG2vwBikFBoDu0odEQGT4fGsbmR3h2Gtw7X1GDxK4HSZxgiA+Xk2UAucbipGkvT2QTPeACWYWeUHRVPvwGGP/4ACxz4gn9pU4IqyJ4mLBRojAuIiypVU84sIlB4lFiGCSpPrn3YZYOu+P4YlXmvi0HVSZ8DYhgQjX714YOzVwnsIFH+9A0lICZo2s3sruQOUIWFchB7zCuSE95hEoQe8wijwmgFoLI4PG1nBHqkos7PLy4bhc7YHpmq8hpm5XOvA48N0g/6A6LDR/xxY9uwLdhj7JKpX79BYt+cWi5LvBwP3npmdcT88EMawQ0biSi+TQuNxft6iJ0KioH/Y5IqpCEla3vlDlOgc7rcBt6c72KV7bOO7fyTbRIEaRdXlrLjVOJgv3H6kxb15yT4LSyHetgJjjQdReI0uDBAwRAIskeFBfTtF1FVcYFCEs7FVN3BmB3kS7ks6VJ7lZT1IPbdphz/xyqVjGSiqX2+9dgTOuAj1FRhTrfJJF1smNsCTINXshsl9UbcxW+6Lv5Hbx/gT0wB3Cjc7peGHH7wa43O9CD0RYgflImp2GeUjXQL20PZFSY8Fok19YFBkOsxc3GHiSK2R4LCa1Wvmx9VFCkZgT7P/sfjq10r+WZpKaX3EfgiFmCM6bPnI7SzZKaeNjU4mCuM+9/AqLzSo/YZDV/11gcaYfqSJ/NyJuEWwtcjQU3PBLCF7r3KFtAWwjcWHelXPaawi6wjgQIJcJSVTn51vaO4p0UgJmjazeYq2uO4DHGYHoB8qniuOgnqeAambn/2Cqhe0qWTW6UAJL+Z4K/JsAaX5s5QinVonOtgdkv62fGMoVihy0IsyRfCFiSvINgJW0oNhGDUuHMAuvL3gBenGA2KPNZipUbWAJvcL4rjmoDG1i374G5TX0ID+0eY6kLkaYEzRnv6ntFPZsrsZC0MD+sLYVLoAWJKX2srOm/B1Mm6To+IVBeRSK7RpZz8cCkUWVRGNobEUc7lIhXlcP/rJsSdpJ6J6m0qiFOn8iyyPcLR7H27+bvhcmFkWzSt0gJmjcjnh8bRj6nswXzHOVZyPPgj5cxX7wPrc2C/jUbitT80WPTia/W5olcpHvXjNz6V0W07rOcuzG4fDEHDqCq9aSZBNrOCPVJRrvF/NXw7JA19lWNpr7KsbJqxnomTVjOyNWAA/v6aCtm6AKLKSxa2KfEqJO/uYYrQOQLtwJjb0/xeIH7UxKxdsTgiqmQQUpvsOpWM7v4t6+8/5rxsh3isf9PjZ61vqFbY/5R4YGWzbLRJ5Au72wfEdrxEXHFIcIm3qIuCdjsZ0gXahFxr7YAdiOviiJFNuxQt2P7iKcUXMaY7NnBRfnUz5lq3zDdShxASsX4GDZai+SdGvX0+lWvfai9EbX+0Bp1dmsUL//wfYI85Ytns+CFRQqyGE1sbGSUwvkeBzyXsOERjqbESvrROu1Ygqx4NK01ETUc5fWTfECDHEusBD6HNCpcpHSzRuP8U0oTK3fHbFVFvgev138oLhgPaMk051RWdrXDQ/siXd7FRHIFtFFioAaP3VVN1JoX8emLacdncoT+8m5jLEkbiTsbwERiNiYjiLUeiXpIP3I27THd5WmXgT5xdBFa677iLEI1p4iD5AVs+c15AFJziBoyv8vn4EtAccBmmKxR3TxtBHz4YJDDXspJBERWoA+7/xEhPzXZW2hSaf1/mNS3BYWts46xXSJWXLVLfiHIyXvzk/YCL0bczc0w0BzPemIDbfpL/0NaMpvJIKktHTtNkNQxlpaVupI1Q15R54i7O4vmrfV1zPXrTb97TafJs/gIT/Bj+SPXLvOi3Auex07GRdjJ6/OpfqaTk3fgD9lT/jU9PSyz8FPkzu7mYsi2AoZlF+bF2FTWKe+HCNRaj9cNOUWpZPqZDQI5r1wcXPhWyd+efc/fZZE93bjj1CSrSnxMDZbDnSijO3CWti1GI3gcCUm/2IUBcjg9VDylGuoDGkuVIPynRLDrhAbDbQ4JNchEPnJ8KhDCLQSdSFXVfFa7R0n+AJFL9HBoKiBL4gHiWyHdwcDCoSOv7X+ML8VnL0To8Iv18d/AtQHLlpTJuI/cFX9k+sXzqmBtEgTSC9DvvyjRrc2xeC9ufrAPimNcYBZmXSYg/YLcYOqFMrINi3TqUKB+L7hO5jZFvqOM7QmtTiH8PqJy6FUKtbcemvwAGLyxZD8/cwcAuz/TYZte5lVb+dSyhUac4U+gUZ5AZsUOvFrVIDp4+6O7P4rLhYCRWThQq6txRfIfK2+OH0MeuPHQjVw+1+OnCxHZ8Ov6Qkzon7BB3vCnadfeCM3igE2w0XCLPGMfaDlN1CFeaeuCT/0ypKxY8sZQppnQkZSwPnJtmMQBBeJjjTED2DBKUlZYGTONqWvvCePMqVNgB/AYErK3wUz4OVo67zIenC9uJcQMtzpyBIEiKaqOLYIBOdi1tz241KNWNDrkKh4q72AUyWVDSupWbCvfpGsfa5riDMdWJrki/ePESqVOZySBJWTcf7Chi50wGkCF2QDoNkAedv0nbYKCqnbqTg4IZp2Ru7SGaU928nP2wOmZ0yModwcDOVO/aHLw5R+91ytYvxCnDGuG9rxmqqVSeJjVf17xppgra5PgUhT1JuN0jItuXz6WcghflB2hglH+N7p430fu7OjBin+nO4Ns6JrxRVwARKRw+VOxNsFp238kPoQsYRx93Au97JhGBflKPCh5qak3bQ9uQORVDPaCmhLYDlDcoCKZDQ/ZSKeM8zG/lmxPChizPk5uU/YoOY6YrguAV3706Nl/lPzS7vfkA5F/1hlhjtTJCUSTJ/m0pS67Juu/OI/a+CRkD1vHY3UA3bcW99KlqoWn5bvdfWM5eZeCbe+k372Dc9KJMRL/YSiCQGe62KMoIiEg0qFZ5K6XX36Bg8JvedudTswDMC5ONZVzjItV1IVIW6fv7/tI0feISxflEQDvw9R22K4yAw9xUgOfeeuShb35HmUphLRvEPjFtTBYBKKZTmurZgMqXxmiiotrt29kpQ8MZffvlIza1cHyulJLAx+2ntDYINZHDVBG2bkZ+TMBsAQ6m/gRnRBcVxl7cMxEVzezr/WBH3B+lYaHlLFoFDa5asQTwIDfInBZcWs8P19rQyzKjJrwwQaTukxmAxweXdC5HnmSbFl51XJkQvCu8HvWR7N+ZgdqNahVS0JNGyjPMEtFf7zwQi7BqlmLMw7QvBs03cnHQQiNsiuIzz6Eqn7ATMoqkJRupAM1UzZ/Cp90nU+vbV1eNsrn8y5gSeA9bkEzCzB3kFnoxKdz00UuzVG89k4kyAPW6anG+LJ1yMyMR3wMVI0JpOMIcE4MYglYek2jGwNOV41V62ElTu2cO6c9f1mVfO/Vjz9WyChAoaFeBfO4LK4GIe9fhSUEH/KshLiLohrea6NQg26qHeegCjW/wPhylBN0maIFTUgYSVv9L3L8B0KWPkZ2HPc4dKjUjL/PS8bpfWdiwOgEGj6nRtqkmS2FWWFg6w9/Rw0X0MhLrdcPelGI9UPArJKv46QXGqv68/N5mD17mIC89xR152DtKAafWYza04nCBB5OnfYAFA6cFLFi5dyd1l4pkIciDvwJbeQ5ztI9OTxRFkalpkVJDukhVyMa61WPpIscg1IJ4myjn8vuWgMtuhwHw/ok/DMkKziR6Occ8eJHPyO/QeEvDBtOzC4Y8yGajXLRY244QmAM8wMMmSvHeeYbR6z7HUcV/HsfEjDdMyzoVeeNocqMVURrjHJpvVH1xJJq3RkKRmjtWxA4JiphJoNRKaqF1VJ37zed1z7EXrnWS853aqTPmboEUGXjKUi6FvMBDpXVFu7biSkDyq5ar+sXKbgtaUsOwqOPw3W9dKFm88XkoDfBYZD88XipDt7cvd+pZs1pUpqsTMISRDumpO77Pp0G8cTbQg3QQc6RFlDrTKZH1ESforn7eLd9AFA2E9SAcQ4yr4YxZMErP4oDaXZcoLyo+sZpg+c9Yj0RXr23FbToJtdtDcZ7ZGY4gwVDHkQA6O2tqqmJNDAEZMSHZ9d5fPMt7404yZOwKsKaCeImNLfmtfHWNuUIb59d5U9UoVKhQktk8KdH6ReLEePkiMrWIAny6jCgG8DZKsJ24s7AI+ZAbx4Vyz28VdG4i8x9Fu6TyAobAXtGRSt1qETbF31jx5hGcDv/hJ9KZJh81ugT9r+mqXBHVCKSdvPYu2p+1cxQc029ylbGkSsopSX+bQcnXyMJkpLhRNdmzeRIt+y3zMUa0MEq2sstZzINZto+GYVXWxviOZ9lfgbUmujZVJMGqpPuoUGSOJ1c2ygBHieYy+kG9/2PSO4LV0SUEnZj0JqdmJ/IDLCP0njIwh3P9wLjsnnowBjdldImfAxqg8/pq1S/toD5l3vVZTb/e4vuLKoWlrpBTBQWhYBZ6kgMwVxa7SjRrnd3LLUjGI+75gjnT+Eq0ttMaJbJGZH5EtTt7KQDMAHrY/f5FQUAC/Yg3mfJlHfIkaFyKGsRStVE5SHTm4cLXNlbNvdWA/0WdM1eJbrPM9dHJ5rMwjHUNVYhSopqfWxyK15IRhjQ9om1pIQy9xYYWh+m4ti4t/ZhUr4RLIYbbAyQ140E5Zr0h3HcB+3HPMZ30pcoyYwunnc5O8TGFsKI5ZUkLs5/Tmg+QViUbMzmcKdXRvHQnMeOAfHq8v6FD+0JXapGXPKdvDBe2gAYjVNBsB0ddQ5NCPW9iv8uBGArQjv3HY0Z+PAXcQPAGMrysfOqBxa7A8Dm2UfR9koH7MvM5jjg5u6THHm4TyE/+fBQVxKtgw4MR5jhCuTHzUH0I+SGAUM3LjEryPme5urat+M7yQMOA/NRGXuLE71ELfDm9X91E3BrJBu01XP3kbiEY/Ivj8UNE+QadI1eGqbWvAY1wAtw7mFSzgRiS6T+ujzrKhRCcFRN0l4Y28w1LuDeqfnPiunr4qyOemXbw0fi4uknbTleksnPoXl4LgLbAFUxFH6mSIOOaTpZP9ymP8G+LXJwYButU+naSWB03iDZmDXfwQTkHoGna50vWWwqir4L8Rw9FpBFZetSr4nlMQ5x3jQjb1LrsQP7zj/H9Oqy/0T/Q0otbk0UNwJqkuaatRKpy5lbWVy9JSjLSYnnvmS0mTt1gouvYdXjdUG2mhJKqEa7fz8Ry7/4YkYMO+9/UpW/jMj/Ed15ChXPx2s9uWA+7f2frV1xNVMokD5WreR/E77I6adtLqLFd2qcJXGvBcDIEDcl+I4EJGN+xC1d3Xd9lqsR3zPvGrd8s+tEURCd7Y3gysxKWoYztd4pvUXDX9zrr5UmntapqoW2Avlv0SfmgHBB9Gqq2DKCfWy9oCfQZgjzrKVOEOzdQl5NR+84LsLvE7FGm+5RIUdfCCzUZESxxyGAfbEAq82Q29FuM9E7yg0tXmO58Ugh97rEWi7T/4onSzQdZK6x58EdgGfuYbVvPBIUZaA5T0riEqMvrKmgUjybFvMbplYjhW3m3N6u90YHbAI3WKGsfOUmrvQKc2TEW5cNhf/2sd/89zYAlUmvYqPXKX/Tx2Me6H2OP43bcRDrrMwqz7iVmuzSU2yyVJ1WKMk10ttkpmvfZJNI/WioNtV/MvHaBQGpbrWJTTR19fufrggMKO7iHL3wp94NgBans0KnKUh8FSo8eGPIYdvzI8bGi06koy2HJmF9oSCaU/jH0MJc0Q00K0K6D3Y2O3WbhH1BbyrOSKmxWM6e2ojo4rw1J3ZYgzq/Utb3FZ6S1v8J/FPl+woX6JVBhEupafPGSl20spgWCr8R5gcQtCyU7ap16KMMwtBwm9pcdrhJRmVoRndt4zMp8eMuRvjvdo2b2JL5+77GuGbC4vRLp8xunTR3wFmHmXEePW/+9Bg8uxru6TQy+Q5razii+kkDZORM9IPxd/IsZmBSezIowLZLfDW5N5D/6CKYd0U+7ZdUO+BlDYaYqtYdLABU0DvKkClI/ebAYklXDrweoAwN10FvY4t7KChOG3TXsvwFxFwm3TO3QRtrxIg+WJKlVE5768LCjxts7qkoyuCDty8/eMnORnru2kHZXXVTfZJGTVeWwtsJKgJWWWKqOYgCSKjRrn0QoI2fc9sjGd+9Nl5FtaYaZ0HEYrEd19MEQ6SOVy0ZU9Rr7Az0LXgdYUpAULZVTFCI39od6CB/cTFsSQOnUYJiMBgUmV0NHCMHO3l/pdHRvXJRxIzHSb3oDWWLZEglX26O2AMNt+D5CCi+z1EtiJpm7goOi2lq2gHgIjyHg2FH5SyKtJhDJULPRW36gZXlFfJeTQ3Iwwu8tUD9jI2JTI1vSNe2hrxqfCOKFEjSYhl71pvgBM46q+jTIQT/lbspxdgYYrG7ckDCN7kT80I6C0IAkzhafchx8qGYwULBYWqs/aYZTIVLyNFwY5NPHcLL5pEqn8qCFnGEtHsNK4J1WhJZFlHFcr6xGdL5gqfZ159vjT6AXCOtWHDh3mwIzwmYR5PnuxsaWbO97gkGcqzr+Xk5tNpk9Cg3SwjZQCNV4HtA0weiWDH1iXoEayGI0NuEastQFxbaZouABbxPANQtVgpCSg3lqgD55zFv+RMOhDusDAMliAFztxnUZKUpjjp6sD5H9CEAWRTxv+RMOLmtGvcYHOQZwKcE+nrz0C+m7xFv1h5Rn9oKE+fnpJLuQWjjioIi3AjjSUhM+B2FjWAaJDHpga77jsiyXutUL4jmed5qWAT3NCBzHJCch9BkwGjcDg25QVagLVEcqoN9IAtlEYUdwQuxKRim1bfciCid3Vui2pNiUGAfQNpMZVRKEgTbOJMVqg2ilkaMAu81NduG2LIDd7ZnoUN+nohDF2pGcwXxOQmaf8I7u3HwZBaO/aDB/jOLwXegXuY9e5sGxgCiGrsb07XgePX/uuh7zrbcC/PvrK7ZNRVHF4tiKj8HWd6baQLOz2SCyO/9dmGrY449vbtSFy/Bhio1QqgTBN9wSmGDbaV41Fo/qzhQYUDkBn8qBnWWtu2PkXm/OCbDSdmT8vMTycwByrxo892DCo4722NJJqMGwri+oTD9n49AAMB4gKWC3l7uZPkv87/k8fpZDNDi3uH/M+ovrDmPPbWU9GY1JBJ7sJy5R/46g9UrRdOSj6G/ioYjCM9I/TUXIUPElJfoIgiFfxcJ6+UJS2ewMu/BTmbRHDeNRz6SUaXfFfud12vyn1MRV25nhw+a6++GOpXCGOTqDmJbqIFEU0wUcWarimeYEwzRS9NBWSVunHfYx/Si0l6JlbTD3Wq+QMGm8F0yoeCSY6toV/J02RXgnpT0fJSNTs3R/wRU3lrFVwNmwSAY6HWQkPeh8703Aawl6zf9D0P/4oExq6ZJZS0ewdKiBnJBV8qnVlXpcjjDmcGTpe/4RvSqoLVlB+EhSz6P2ZhHvGKlEV4nsW8OyyxVy36LER2klzAzLhJnynslXvbS9g0asFX8Rmi1BIeJCBNcMO6FDUdU/qKUwYFaHfexoc1iumonwARFMIpPTn+M+kBfF1XHv3+EeLSh3HyHM3OOCPEP8z3yAhYB/fZWDQnVSkKjIrLydQxCQmT3a++ebf0uAkQI9br5Kviqox99DH1sB/uiTIASP6FStg5MJH/od6oXCo0/mJFYGea+uLk2FlqKuuxE2SmplsvEvjKBzbkpWCA39IJZ3w0i/KL9LaLDcUOyYu3kLd7fjl6ZoG0ul8SpmW9Wngx7D27mCsJ4Fz+eKPhFtblrWSGy/kd3zMdzSOvpsUA8GFyesxkBSoj94vOf6hKSg3TXBc7/vLVypIL1IKnMr3BS3UHP3j4cr/UIr0DstNpBovXB5N725U1eXv1mXiKgeHrVduinyKVrWDDVpHPYBvDszezkXQIXZRKTaaSuDxY3iKsfvvza72Ky4OOv1vIltguoAglLJQDi6cMPvkjlR3g167WwoQ1rz5GD3kBq35PERu3OyAGFjaMHPtQcptLXNNV42mnd7yHdkRvkWEOmRvk/k5m08zV+l7eGmD97M0wZpWl3tZY86tSydFE8B1CYkEHIEj4HG4EA9/inWiONgqb0eSH+5I2s4t3OGzdsXWdlnW9aTqFBMcOTE1mILCVlzI089dhZ5kg+azzycxksweYitIiRX8gy66eg/45j++F1mX10WBH4Nj4wmHS6eu9x3AZRJXMCR7Pmrun2/mLeQv0Fv+owpsJ+oZfGEVh6aJMaQoKoN4QUS8mMoM4mM62Ymxce9AUr/iQ2Sp331xus+B3JOt92VRTzlovP8bilgwzzPAvNwmkVwESpDAExDVD/rYaCI1rElKFr5dZhn5l5rGQ+8pqUBCrH0lkWdpT+0GBVpiNPuBphU9m27JifFwU9j+O1Ip7PQJLODTL0zuwAFHbKLw2PNL/K7GtlEvQKWK6X4rXEA4GlXLTpvACEV80SVZDZYXeIw+gsHnEjxVQGlDKMHHJZBlpmoI6NfKTJlDikzWqRZojbc0nwgEb0WcOSnDuYzaSq9nTjWSrT9mtHtRH41eb5GcC2fKgMtDAjZj1gykYGKkJYyw/lVTyZ6guz3FEXbu2/A5CitQaFG2gJ4LOwMR75c9b1g1oOjBNUwSM5GIrc21xALemvfQvzvGhNRkN9LxEavDNhEe3TY4MKi8OsJ0ohCuQgQ/nZrC7j+xrpgnJ7DOWddkk+fcoLVMIPy3ez5dqJ3x54NO3jFj9LBoZQ1FNGSdMmIrm3smCjg1GBii4+tL1m2LXZ3FXJUhNAnCOVHJISD00O4Bpl/pIuJQalRUVWVZ3xiWC2BQaU7pbtJ6FEXopGnTxtdi9Aih9G6TdKAJma3mGwzqNsaYUU355NHruJyQSl97VQ+c+mSm9ryHyyk+litb+BgFhJqEKzdjbUYmOJLtJBgbB61jaBKBqXHp2hC4PIut8OrYozNTHkuwEBUzLv8O1jCWsvDhgZA0QYIusf0C3MMF/5UC+4aPeigdHHXUGC4CHOsADPo9VZmNqXJDi1/NnfrXQGpDR2MjCywW8NdLwvT4DpP0hwPBMEbvXiACZz0LMDGxNFWWnXrBnUYtnLAIrmWyS/rzvLLpz7r0smhm8xLrPciCTsuCr4jbpRPy2euVNTSSgp21Xwur6fXfwwSOZSL1BqsdJeTrzJFQiIShMcnDp2HUmJ5iNOuSimDgKF9jeap0muEWrXynfp8tb8fiSd7FUw9v4/CTo57V1+KyerWlWrX0tLwM8DNV9vq+VsAOL49Ucj7t08v96KZpiWGMmgd8UuXYRH0kJJjtQxaQNLToNqHQWSoyw3oPdnTR+l609mSGCjLvJyZKg86nQBr9gYZgl97+6pQJWJsMWVCQBygySBBTiOtwQSJlDNcXaeqfzh0ZRWuJjppLfulbF04G/K2dqV9FsWfKwgdW+XdGvp5B1XDPNgSftDhd6sfpmT9H7cerXnzIGTacbN+9CixePpxqO73+qPneb8jxYipycJJi4niKZOe8S7HF/ZiIzN009LJOWm3DJD/yAuoWi6uTVDVcV27JCPv4gYfr99EuPxPHTynFm4nLRXevRVJ0jFSq2606pzJeiXbottGL58ecZY5l+HZZ0QCP1hXKfgqFYJgVJNkfwerYGBcluNV9IElw+AcE/q1YLEwWcnrkaWjvCRIxbo5cQlIZCYpe8wUwAPKIPXP7FyW+ZE3nlLxurthYd9JUNRme47pObOhtH90pVhsZLWT4aBoXjrk00/d9p3wtejv0OQhgjDz4xG4gvD5yxQyT7pPe6oPPJvoZWLmnObh+KncqZKZYL1QrVDZMCuWKyqASchlpUeebiMde7IaTNswNLTCM4jFTgsJc6BboN6FKSzZK9avgCbQ27Jv2Y+IjQWHK9pCAPGdUQxSNWtBnVLbxYgu5GFwGrouTck1ARCqD7iZpmVBcvccUNxYgk81B2tRu8McoHOvl+k5Fcmf0l5ga2BfeVmjDAWhvPTJaZmUW6fYvIG4PLwquyP7wL/dehGKX/R5ucw4PP5hYBXMA9H7JbaIzRBQOz1dcCDr6PBqYePWY3o0epDGKWYe4HX+aaGsPYzeqAfr+ivRj4lsYEmTqJBF4LZnuJ9D+yghHLUqn45CK2nSEqQPhwo8mnPeL7rbYdTjySoD9T89KIJz+Ee0t5jJbcYlQXwiVqrG8agpNFV4aiPoZLskvZC4X8iqh6GrmJDkW2trgDBgpvviFrNE44aeXHARHE3et5WmrDzYphAyyzW1JnB9+Hfkh2CtQaHtpqNJpW8/gv5LL8Gh+igIfvcSl0Yw0ojHBXgwvtlmbdwMx48rp7TYhExpwVZP2YiWz7ViHkSvgVmXfDfyVV07aTyPTgvTDYUOtycHy89st1CmrWgZbAWiG+6HJzoiOT6+VR/GNlXFHPIfwjKi6LmnxJQE+3kR7ugshTMTKWdWjQn6GSurBBG0m7pP7AoVN+dQMLqqooiS3tdCTu8fUn0TaaxVZwCUua/OykNRmE3bpXnf2vZ/F32O3p0PYfHkjUE1VgQrfoYcHQa8PEDcIi7sWzGO55irboUX2tJjjXaT59zKZbm6Hlr7YjNNWvQLQjL1aT6piIYmz3Yutd4AHNxT62Jm9aNVADIxjKStsGsgwCg2G5A1RPSg3A64s/DQeNaY7VqjifvVlS3ZAV9zkINb5NHOpd+vzvcmsTl3GKrAyyqzPViu/nh0dIDCLZoV36iK6z+UJcOFkaK0eXgPyC2ExltMGI6E6J/30syx2eFH+JcMjR7w3CJ76+TNbCVviOVRBHlPFxlTrD2VWG5JXYWBFF/+WecfP5BYrOlOLLHYYdqdKSX3dqMcb7uG78Al1t/JlDgswm/OS8JxI0OXQVbQxeBTe8efs3/KZrxz1rkwcGlys9qYcmehz1uK/V0Kn0eKglQq8gFd2+yYLo7Zp8htIyTxxGrgzqzUh3+t2mDdYwrYsK0mTSvcBydospq5gf4/at++4AdCOjGrMqOvZbJNX5uR5H1HrzWAetjvnRetmhhzAgHkFn9aJMOwjW9wcZQAOpQAQZgGGFPHC35nTU7+k1wjIIKrZpYCQQsUNJnSxwc63LPnLwDFe/PjQ4MseBkC8NSz4HDEteLYj+L5d5Woo9ZLatdbT9v1vqa4YeodlBPNOTg2O3GHIFoYBjHaa0tNIszyChL0enJeHgYgGYXN/DxAq37P8i9JWYEYTcoP2W/kSogt9bsWoIHeYdVDxmS0MVSWqW6ZG4AAAA7Nkfqv1/9gs38s2x8ax6Cf61cpbsg6N1PL6RihibywXoFOZboKCRCWR7/CVCriVhdOIyNqUjN80qwHeIfLUGhc0rqtQ7TCY7zfPrswWCU76AMaYU2qkllDekE+GpfIpYDkbgz89XsBBzXZgKcZl3ih3n/qpR5NKdskei+QG+uPf5nsDoChO5B2uXhnlTBki4HLJKkYBh2Ze26VBK8289lTRFOfrSF1HjKVAx8eH01Vpp/3vTsZNoMHfaZwjON+i7hJB+68fyvuC6lYK/bsB3oUjbRZV3UPij0O207+Si4EOgOvaG0qiTctU6Bxi2rcPEK95eXn3rzWowOVK2Pprpf48mgpPtH4npNdS9Ow6dRgeFRtAYPj2KZ43ITBumLmD/ZkvpT9GajTDrDNkovNy8+WXXyFx4Pe9DcDYaNa5ZOaR5GMsDN48YrfGAR4M8t+jM8fjpVLzgXGWWREaK8/O1Q0DdL1sqwHtAJC6kw44g8csRnfyK+mbMNQh//VQJ9zDW8W6UPmzO/C9ahAgZyAyBC3ZjnxIxilTvWM+Q0fX8XD9ofhIaJrA9lFfkvyCvd8OpmZcSq9mqe7Ik5vq6vio1J+woUn7vsI6NPr1Fbr8ppyeEVpt9uNVDkoYJLpRf6FZXHKfZBcfaVpdMsYDoOvngo9qJl6k/i0jNRixcef1ubsHpf2ZrIoVwE/xeI5oDCZ32lqcyERp3qBdrZnvd2KQ2B9JTeLmTJlmwd+t+9eSYq3T+DXrkfTUeC55Er6X4ejA2tWL2IoRqIp26LvMPbzTQ6MediS78lXHlf5degprQ37oYPsERw4+A91n4hGz/k6JkOxA/SKRFhLFiPxQT8Onp335E5Nhyc808z7QyxxMYbqntRJN8jt9ICvKy62DzR+neblykFln9BatZRCJMp3W1DDO0BaZ/sISE9GJokfTFrz/C1YUfnxeqkBJzyFBRqL2QaL2dfoz5LnZoDUtr0KS+sdG89/ioyBP90sUdr28ouNNnwwdL7ADzx/xbgvFDl6eXwNc2WqJ6RQbzyj6ZS8Dkiaq0VrAnhNV8jGArbwU0w69n9Mn4mvzWcw3+bIEN4EGJfR3L1v6+nYOxmoseHnGTSYJqRTA97aWEd4eIh4sNCGyDqRL5yOGhaGZnrKh3qIN1rzGXmYGwUhj+kalZ4Gc2iB0t9v9yur8dHa2HhwjHEDSASbLnKGmmlan90x6eZx8PKfoV1/A95o5IBlI4h7lT4bJxWgMqYzEuluwEJoEIWUxbSW0C5R01lReXYkVKgxzMBwC6egE8CXZOOZ6XWkfvQkqusCieqAWT8jC5kvAiEA87/5dQyheo/XtAAGGYLs83PxMJLKdELHZ4UeUtoHpq0oYpW/G69i5avsi9uqcFVXvpk7Ai62hQq85OqOS8ufTdpvn6Pk1p2YrfpZZAhDsXAM07x17/iGc885hSiwpC0rQX7oz+3KXK/4/25KveJ4i50O+QtyYvPwQYrsdSJmvcASftivvfBUcul7LWA3drd8hRnfMeoIvoyeb3Nk2XX8Yj0WVbm2KFt05tz0pAj43CqGgxxkPgLM3eX8On7mAdh6MoAkb8oNZWcBJ8PtA7WpjTjufSByPlwirJvW4US24kLj1h119BXlL0nMMaddRa+0HfYZv7X4fniA4fr5pA6cK1Z6LbzPjQIcTm8gU4exPv2G4rEhPj+Xs8PX4Uy45coPfUhvn+BC+UxA8MR3VOi6hP1VKZW3bnUfT4q2m7zm4sfs7gZH9TecEL2vJLIXO0gAQpfFFrSt75qqcRL3t+beK7zwOXBCiS8W2lhgSzgN32R/mUvjjg9hDq4qsqj0j+YKidmnf/I6b3jSlB9naZcl/2+IDJjCkrzxTH0Kk+S7sD8WxPcdwB9yZW0r3XkdDdOdmBhGJ6aiGQiynmuB2Di5cgl1xGYxHOGkOozlh1wFaDGv9NL7niuK6HnQQQRldUyB07Z4P/DzRdMqSc+9ixTvFm0DFf87e8foyCYx5ImmXkicRvjqbeKbE2OhrRVHgDzUBrgjeCxW3Nw8kxXbI4aD283sgqrZmddWKWlrlMJZHYRrOEvqXILLpayDoqmFx/5Grcj+EzkpZA2UYFKzXN5xiJvCjOy9SAW3Sx3wzgQfQrSSuyeGvGUle6MQDoUYa82zlGCLyzBuwIOMUvpzxPOZ1TpIqinFXBJ7t0w/Pm9UqYTBjK7ZWB8O98RO+s6+OfspNi7a7wZzg89QIYe8WfXDSqRjzE/cXr9d7ZhKleZHoRagvtKI3nRJYx7sFcu4Swc+/0GaxGYNK/Cw/SupOYl/Rj6WiV0kt8Sp2XO/11YzKcZPaWa/wIqJSiQKS05CXhily/3IM12lOnBt2+pBLuORW3ShhhAjJKvQQcl3NiV2NKJVjyxqUEUo/rcRDMxH6ZG1ACutrgh1Wu1LCoDMKFHszOufGtrC5JswPRPbx0QmqftdyFPxIm6QPWNO5n9QDRipFXByUZQgftGxUzKCMVvtdFynimGNqNQ1qY1kE0cGKPz5CMyD6MiHuvCQ+8IgNduwLrFuhZEFGrIThzVoOyolsbBuLMwg7eHI2jmMK5NDfhp2YzSLohPOnyvwmwO645U+7B6seIO+M1tyKCv4/t41y+S6dOwCzZ9BRB/VZBkutrwkYQo+V6ZMlL33VjdpnHnV2KY46Yt/uFatVmRuVUITc43qubVwPFyamnibJers+UV+3b7OsKxuTsJufG2Roqd2q16xeMfDGMFDKnYyU3SIbZ/Bkiqmc6008AfLDhS8ryLwsoHtD0+9PFgMbPxZhp8Ty47I/+Ekyvd6DesO0xVuWjKtemXmnMm6zInE8ko3dnvAUXyHfBEg3yOkiS6cZTDMswAa7edqNZOYRiJWBRbNjxxf/d3rpNcdNoAhpU5oIUuZ3peQymLocKld3f10+kVGZYJv6EiPSa6NPjCAGhp3PtfU7fmZIrybNeFDsIeNDGRcmaVxjucWR10VU7xQt+zJQ44U2SX7MXNSXZ8xvV8eHRkS370xphhOtJdZghQbeG+8yedSU8qqqqDw2pQIZXi+J8/jN7IEVvqUw8l1wnxsrQShfE9pqlfRvWupRwEGEMzvp9AMZmOJk3qLQ89tFymjHrHHR31qKkkO3Di8zECklprT+7Ca6apvPN8NziCTwqWPUAABw6l2aUrjKgXRP6okbqWTkF4kb6HnHTGiD3E3wlnplfjQ5iLQj48BeDwHGolHi3lpdL3yyUJr4ewsbsFMZ5rofMItCXiQCT5m5Ccr44jkYuM6Ier9FVnVf8M/5S92ahB9KA3ZAijf5mwYBLHsDVA2LT3C49YCEawrpNNarpoGU0RVaVRU40KjlTzp2AGtOxfXLfPOXKmhm9KZa2D+mEVAMQEomCpN9/WkxpHbU51bBqVGnPB0C/BzCMhwktBW63DWR2OdJ1r+CVTMaPjnYJnxcoFTMhCm6r0fz1lMDIZKNfG4SHW9/yCxtroUY4bs6L0LxeOddmmvCrA18Tnr/tP8lYrfXym1gvaNUjuSLILdU5mBeez6K8zQ2aDG+0AN2AjHTVGZa3udV8rZmIG8rVy5V0K2f8/JAQ7G8rsoKKZ4qUiX0DjBOD37doVe/FwnmyNxTfv1iBcsftiiWw9Ed6+3Jq/vnZufK5TMaIqB3q/97vDvPSU5OH+X6DwHksCMGq3dZ+AkXVvjnoZA+QikK69u8d2a75Zey/APFvBxk7mg93RMsZAMHzy1yEAVCXWy7oYEhmu9e5PWv2aYzb2aD727CpWMc3Fs2FoFl9SX8f4g8mcEMmhtIII6QthHiB4R5FPef1rtdAnlb/zUCr5viaYA8Jv4rLlCXylyRGLsC5UVrfVINUYC6uFUAR5f7UzcW8QuN3eoKtI/qWF/WkvgX0sQoaRBMEjnLVg1yJeoI5W2mZIDdwA1pbTSTM+/uzOQOx8yPZ4coB0Qg+PpA2Xcu5XieJ02daCvSS8wgnIpVYha1YPTWgBr7EEAdsmKnCoTMTCBooczA0PV/BCOcuwqVXFXU79YrI0r2cvgAUbEZ01NhgVOFQqeZAKfHCPYturY7TWmRKiJ50vvpKdjvYnhZgwWinm2bDdrDY7OqMY7TWljhYkK539C9R2aE4yBiX1ODbUIScST/4C4nuJcC07vfkVvOtWk3CZQDzaEnEkY9exUHiAyStvR19vg8QTjiD0ekPyCMNrfshL/OidMYbAZYn3IxgvEVaeAxpi4fMVdJr2trYSnWLuEgvR5H1Hpc1vMpeNeIPR6ZZykZjbKl2Vb8E5kNwUWK+6PyrLFTaNWuyR4homFSXYwI/dCUgT2XcejCw43WVmpcMvVDHBLdsl/T49npDVNrAPUuffL6UpbbQJKQt5p+IGjNjd2Vgu6r8pYL6isQMMzN3GSNG4UOZozTiLvPAHHz5M4ftJBHrmjKV3JtiOYEfBa5muADFqW89ux9uOPVGRMR1SL/c8k3t2sXRDjxvfdojWug/bXli3vsf6RMfOPTOE7WHNL3jWzp4skKf1aekpR6avxM6iuhSTJF/KVOQdQg8qtcjAljQTZy11Q/Gq0/dPwtSM7/KKmAum+X18N2mk4wieCGZXciBRDOcU+98qvE/6hp9SKXWihujCmb3o3BheF99NESqn4lgfgF5gIXkZ0TabeLyGgL5vzOtNhDk/n0Po3GB3oW88pi7NNuSdOeEQRH9TjVH3aRi1dXtCLP6lZ1Yq0DaGeuetebVZ0mEsHn0JCuOZx7+6HU0Jf+LP/V3bBT0lWrcc1ZdrfcNB6EqY8PZhnZ5vWQr1i73bYX3UJ/Fy3lZpSJFsKkmVwaekxK9IgGinYeAIU5F0hkXvy6On9eXlPjtXlNW2CbmABsaftQiQQt6hC3mIfNA2eGo8BzqHmjittQF8aCg6lzZADbqo7P32FSQEf97Joc2D1Q1IzHlLtDTDrf5fpQ6RznxVByuK/NRPbfO6inGCkBhBksoMl4nhzobETtvcBHyomuJrXYQC/uffmO/vtV4nYgznetMe0FHNki6ypjIevVug+2uw9336YlljmLufSawd+IoMkTHT1cgywZ1uDil5WXefQIt1ZOyAY/44OWk8TVUUpI4U+k6EFAuYmH9v7o45GfqsfD8+UX5zknwp0xVDoAxm1Zo2kNVPrO0CE3X35InC7cE6rjXiaVNdgLUOm7pPEO2vlw64JPnawdMgsz7ZwPycSejsa88BMR1XAtUR22ssTK2dz3icHZX8TSQMszEjd3nLoORWLui6jKyWCCWO0orEHEeV6Wl2DSrNmjnbp/fw+UdtkxeuEjbDzvGHnVTIw/F2rYyYDBKL5O3edjNTPbBZPjcI2Ro33J8bN6+augO1VL7lR/2durDW8Vko5Msf8dHkjUNIoD4vkdX1UbgYfVKFhVd02mhOYkoh5/bGAxOVh71rZLsnnNZVROF7BUu00N+9e66kIHsFJls8eOxrh4G4pMVMP/lTBFDYflCxo5m+fUVXfU7InduvOWU18dfj8Mr/PFT98pWWg4Miu81rNP9QruHM8Av6dTSXl8gtncsvyMJZu7OUvsD2f6AqIyW4nvrIXYhubaI4j5UIpgbRsg7EB9I0vvDBeIgotUzNryzD1CS28n9MIFjeaFk/uqcvSy9ObjsQNFl1vAE8SqlBNDmzZxcXPKQUBOzp9x+b6d4YzcaTUGQ3kBq5XXj2QUAuIxIwZSPOAMqlI2+5MffAzYsZsy33ulM0ISTgp8jWEyy8TslXkGLxz5E9Vs6Q/4s6w+q6p+nNP1gcaPb13Wr36cbO3kWAii7vbUrfKUgJovRTAvS78qo+uMJylkvOYoe/CPZX/lYNLksgWQK/hz5Q0FtQl9sB6yNAtHb+G47UkFVo0i5bWqAuPgbknqoE8Sv3IXIYycWZOJ7sMGBFEzaMgT4hQxclx2b/3dsrv5GqpZAkjHw8FOnFHHnG6qfN4E+9sL1OFxyO37oPy2LV+GjxRmR+eSwhZwejQZM8Ux8RpE+FdRuO29//xWLQAfLkJz+yfha7CStOQRajJgafIssm1KEMU1oRLomWlSGxXZzqHvvreBQ/gn2WmuXIxWyL3RWg8jiWuJKng1+3aZ5EHYuB3B4Aj0JD+HUmVPr8QIX2T4PDiP7wiG95Cj6hzEd9WcpQSzAQDhzmOleBEmru9AH+SRMQTgyOf3UneAeOSJgXhIkwaD4wsvL/EYEnKBvknHa6+RFVdA4R5McX6V49qccCw8eC19WW3JGDJisrAmqseu7uo90cliYqXpe0pOoiSPG9OOtca9oopbow8QOZA0DomjciEMdTq53/6pvm7qnk5kDJZgz5i1DhYVsm2Wk8LayRBw9MI2Xto11j3RhavuFtHaz382DoyXWDJ5qL2h3g3cdzuLGTpo/qitLsuiklmMoX3u25fR6M6n7bQwsf+kxEA5YkiA6mcQxCyxvLLIWZuHSZFHleqlvjC9GlrFNjONTYsXirlehVx7ZI45CXm2o6LFb9HENcEd+J7L/JS0u8MNfe+tx4kXIGtzAaECYCCbFMWnoyB0iJCU/sxlAgAN7zaap/x/BlaQ47gOWwjXBHfq4UiArp6e7gKCFH1Fgh0yTN/5TCximxnW4sn5I9uWp8i3Bt/rsaUCDOlfqd54RRG1W2lmMIqh9QyTtqlToTm5HHvOhTJTXU3UQxaJemSzkTrco+VEjb6hB4AyerKm6iGL3h7k8ugDX6UXxwU6U7x2ZT7Qg1MCwXtCbB+Gqcxsbtx6H2jHWt9OFvUAAAAAAAARVhJRn4AAABFeGlmAABNTQAqAAAACAAFARIAAwAAAAEAAQAAARoABQAAAAEAAABKARsABQAAAAEAAABSASgAAwAAAAEAAgAAh2kABAAAAAEAAABaAAAAAAAAAEgAAAABAAAASAAAAAEAAqACAAQAAAABAAAC0KADAAQAAAABAAABagAAAAA=)"
      ],
      "metadata": {
        "id": "043-pf_W8Qxs"
      }
    },
    {
      "cell_type": "code",
      "source": [
        "def tokenizer(text, encode=True, mask=None, max_seq_length=32):\n",
        "    if encode:\n",
        "        out = chr(2) + text + chr(3) # Adding SOT and EOT tokens\n",
        "        out = out + \"\".join([chr(0) for _ in range(max_seq_length-len(out))]) # Adding Padding\n",
        "        out = torch.IntTensor(list(out.encode(\"utf-8\"))) # Encoding Text\n",
        "        mask = torch.ones(len(out.nonzero()))\n",
        "        mask = torch.cat((mask,torch.zeros(max_seq_length-len(mask)))).type(torch.IntTensor)\n",
        "    else:\n",
        "        out = [chr(x) for x in text[1:len(mask.nonzero())-1]]\n",
        "        out = \"\".join(out)\n",
        "        mask = None\n",
        "\n",
        "    return out, mask"
      ],
      "metadata": {
        "id": "dAevuek28Es7"
      },
      "execution_count": 13,
      "outputs": []
    },
    {
      "cell_type": "markdown",
      "source": [
        "Text Encoder"
      ],
      "metadata": {
        "id": "-3-Zfg_a9Yt7"
      }
    },
    {
      "cell_type": "code",
      "source": [
        "class TextEncoder(nn.Module):\n",
        "    def __init__(self, vocab_size, width, max_seq_length, n_heads, n_layers, emb_dim):\n",
        "        super().__init__()\n",
        "\n",
        "        self.max_seq_length = max_seq_length\n",
        "\n",
        "        self.encoder_embedding = nn.Embedding(vocab_size, width)\n",
        "\n",
        "        self.positional_embedding = PositionalEmbedding(width, max_seq_length)\n",
        "\n",
        "        self.encoder = nn.ModuleList([TransformerEncoder(width,n_heads) for _ in range(n_layers)])\n",
        "\n",
        "        # learned proj of image to embed\n",
        "        self.projection = nn.Parameter(torch.randn(width, emb_dim))\n",
        "\n",
        "    def forward(self, text, mask=None):\n",
        "        # Text Embedding\n",
        "        x = self.encoder_embedding(text)\n",
        "\n",
        "        # Positional Embedding\n",
        "        x = self.positional_embedding(x)\n",
        "\n",
        "        # Transformer Encoder\n",
        "        for encoder_layer in self.encoder:\n",
        "            x = encoder_layer(x, mask=mask)\n",
        "\n",
        "        # Takes features from the EOT Embedding\n",
        "        x = x[torch.arange(text.shape[0]), torch.sub(torch.sum(mask[:,0],dim=1),1)]\n",
        "\n",
        "        # joint multimodal embedding\n",
        "        if self.projection is not None:\n",
        "            x = x @ self.projection\n",
        "\n",
        "        x = x / torch.norm(x, dim=-1, keepdim=True)\n",
        "\n",
        "        return x"
      ],
      "metadata": {
        "id": "TeeGqclZ9anc"
      },
      "execution_count": 14,
      "outputs": []
    },
    {
      "cell_type": "markdown",
      "source": [
        "Image Encoder"
      ],
      "metadata": {
        "id": "rGMntuZE-HYM"
      }
    },
    {
      "cell_type": "markdown",
      "source": [
        "![1__5RE7btB01N77KHlgUXbIg.webp](data:image/webp;base64,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)"
      ],
      "metadata": {
        "id": "pNlvVZLe-bcG"
      }
    },
    {
      "cell_type": "code",
      "source": [
        "class ImageEncoder(nn.Module):\n",
        "    def __init__(self, width, img_size, patch_size, n_channels, n_layers, n_heads, emb_dim):\n",
        "        super().__init__()\n",
        "\n",
        "        assert img_size[0] % patch_size[0] == 0 and img_size[1] % patch_size[1] == 0, \"img_size dimensions must be divisible by patch_size dimensions\"\n",
        "        assert width % n_heads == 0, \"width must be divisible by n_heads\"\n",
        "\n",
        "        self.n_patches = (img_size[0] * img_size[1]) // (patch_size[0] * patch_size[1])\n",
        "\n",
        "        self.max_seq_length = self.n_patches + 1\n",
        "\n",
        "        self.linear_project = nn.Conv2d(n_channels, width, kernel_size=patch_size, stride=patch_size)\n",
        "\n",
        "        self.cls_token = nn.Parameter(torch.randn(1, 1, width))\n",
        "\n",
        "        self.positional_embedding = PositionalEmbedding(width,self.max_seq_length)\n",
        "\n",
        "        self.encoder = nn.ModuleList([TransformerEncoder(width,n_heads) for _ in range(n_layers)])\n",
        "\n",
        "\n",
        "        # learned proj of image to embed\n",
        "        self.projection = nn.Parameter(torch.randn(width, emb_dim))\n",
        "\n",
        "\n",
        "    def forward(self,x):\n",
        "        # Patch Embedding\n",
        "        x = self.linear_project(x)\n",
        "        x = x.flatten(2).transpose(1, 2)\n",
        "\n",
        "        # Positional Embedding\n",
        "        x = torch.cat((self.cls_token.expand(x.size()[0], -1, -1),x), dim=1)\n",
        "        x = self.positional_embedding(x)\n",
        "\n",
        "        # Transformer Encoder\n",
        "        for encoder_layer in self.encoder:\n",
        "            x = encoder_layer(x)\n",
        "\n",
        "        # Getting Class Tokens\n",
        "        x = x[:, 0, :]\n",
        "\n",
        "        # joint multimodal embedding\n",
        "        if self.projection is not None:\n",
        "            x = x @ self.projection\n",
        "\n",
        "        x = x / torch.norm(x, dim=-1, keepdim=True)\n",
        "\n",
        "        return x"
      ],
      "metadata": {
        "id": "Y7nsuO6E-JLt"
      },
      "execution_count": 15,
      "outputs": []
    },
    {
      "cell_type": "markdown",
      "source": [
        "CLIP Model"
      ],
      "metadata": {
        "id": "GayhbHvN_fOO"
      }
    },
    {
      "cell_type": "code",
      "source": [
        "class CLIP(nn.Module):\n",
        "    def __init__(self, emb_dim, vit_width, img_size, patch_size, n_channels, vit_layers, vit_heads, vocab_size, text_width, max_seq_length, text_heads, text_layers):\n",
        "        super().__init__()\n",
        "\n",
        "        self.image_encoder = ImageEncoder(vit_width, img_size, patch_size, n_channels, vit_layers, vit_heads, emb_dim)\n",
        "\n",
        "        self.text_encoder = TextEncoder(vocab_size, text_width, max_seq_length, text_heads, text_layers, emb_dim)\n",
        "\n",
        "        self.temperature = nn.Parameter(torch.ones([]) * np.log(1 / 0.07))\n",
        "\n",
        "        self.device = torch.device(\"cuda\" if torch.cuda.is_available() else \"cpu\")\n",
        "\n",
        "\n",
        "    def forward(self,image,text, mask=None):\n",
        "        I_e = self.image_encoder(image)\n",
        "        T_e = self.text_encoder(text, mask=mask)\n",
        "\n",
        "        # scaled pairwise cosine similarities [n, n]\n",
        "        logits = (I_e @ T_e.transpose(-2,-1)) * torch.exp(self.temperature)\n",
        "\n",
        "        # symmetric loss function\n",
        "        labels = torch.arange(logits.shape[0]).to(self.device)\n",
        "\n",
        "        loss_i = nn.functional.cross_entropy(logits.transpose(-2,-1), labels)\n",
        "        loss_t = nn.functional.cross_entropy(logits, labels)\n",
        "\n",
        "        loss = (loss_i + loss_t) / 2\n",
        "\n",
        "        return loss"
      ],
      "metadata": {
        "id": "P6qQ-ry__era"
      },
      "execution_count": 16,
      "outputs": []
    },
    {
      "cell_type": "markdown",
      "source": [
        "Dataset"
      ],
      "metadata": {
        "id": "Yt3bWmxZAlD2"
      }
    },
    {
      "cell_type": "code",
      "source": [
        "class FashionMNIST(Dataset):\n",
        "    def __init__(self, train=True):\n",
        "        self.dataset = load_dataset(\"fashion_mnist\")\n",
        "\n",
        "        self.transform = T.ToTensor()\n",
        "\n",
        "        if train:\n",
        "            self.split = \"train\"\n",
        "        else:\n",
        "            self.split = \"test\"\n",
        "\n",
        "\n",
        "        self.captions = {0: \"An image of a t-shirt/top\",\n",
        "                        1: \"An image of trousers\",\n",
        "                        2: \"An image of a pullover\",\n",
        "                        3: \"An image of a dress\",\n",
        "                        4: \"An image of a coat\",\n",
        "                        5: \"An image of a sandal\",\n",
        "                        6: \"An image of a shirt\",\n",
        "                        7: \"An image of a sneaker\",\n",
        "                        8: \"An image of a bag\",\n",
        "                        9: \"An image of an ankle boot\"}\n",
        "\n",
        "\n",
        "    def __len__(self):\n",
        "        return self.dataset.num_rows[self.split]\n",
        "\n",
        "    def __getitem__(self,i):\n",
        "        img = self.dataset[self.split][i][\"image\"]\n",
        "        img = self.transform(img)\n",
        "\n",
        "        cap, mask = tokenizer(self.captions[self.dataset[self.split][i][\"label\"]])\n",
        "\n",
        "        mask = mask.repeat(len(mask),1)\n",
        "\n",
        "        return {\"image\": img, \"caption\": cap, \"mask\": mask}"
      ],
      "metadata": {
        "id": "rJedLhO1Ajj3"
      },
      "execution_count": 17,
      "outputs": []
    },
    {
      "cell_type": "markdown",
      "source": [
        "Training Parameters"
      ],
      "metadata": {
        "id": "XiGLnzElA48F"
      }
    },
    {
      "cell_type": "code",
      "source": [
        "emb_dim = 32\n",
        "vit_width = 9\n",
        "img_size = (28,28)\n",
        "patch_size = (14,14)\n",
        "n_channels = 1\n",
        "vit_layers = 3\n",
        "vit_heads = 3\n",
        "vocab_size = 256\n",
        "text_width = 32\n",
        "max_seq_length = 32\n",
        "text_heads = 8\n",
        "text_layers = 4\n",
        "lr = 1e-3\n",
        "epochs = 10\n",
        "batch_size = 128"
      ],
      "metadata": {
        "id": "Eb6q5iKCAzfE"
      },
      "execution_count": 18,
      "outputs": []
    },
    {
      "cell_type": "markdown",
      "source": [
        "Loading Dataset"
      ],
      "metadata": {
        "id": "2kHFpenUA7De"
      }
    },
    {
      "cell_type": "code",
      "source": [
        "train_set = FashionMNIST(train = True)\n",
        "test_set = FashionMNIST(train = False)\n",
        "\n",
        "train_loader = DataLoader(train_set, shuffle=True, batch_size=batch_size)\n",
        "test_loader = DataLoader(test_set, shuffle=False, batch_size=batch_size)"
      ],
      "metadata": {
        "id": "3uPx1rlnA9Bc",
        "outputId": "031213ee-5751-40cf-d4ad-8c1898e46094",
        "colab": {
          "base_uri": "https://localhost:8080/",
          "height": 304,
          "referenced_widgets": [
            "556badfbe908417f8143ceb1871e0829",
            "8d48fedd4d364fd6b7c5cb7dfc05fbf0",
            "036640edda1e49e3a79bf5140d5bf09f",
            "0eb640ce33034228b453573d8cb9c6c4",
            "dd0ba5890d3c414595f5cfd773da8ba6",
            "b9cb209a65f64857a874a5035b454c90",
            "5434a149d11d43d79cae6103701e6bc9",
            "1bc4068b5b924d3b980c2e50c6ee70eb",
            "c79181b78e6b4c67904843b8722accd2",
            "991de9a82b254315a18acad952459869",
            "545f3aa47e1946e6832da47b353826c9",
            "0c8097ec5da14c9d98f8b500153a12b7",
            "286c7a60366e4aeaae1038eb83afab0b",
            "8d88c1ccab9047c385105714ed334c9c",
            "4934e9909de9426683d74085c970d7ca",
            "b3eefc595ade44e19eaaf6c38d211ad0",
            "8f16a93275b847ddbdef5b554bdcfefb",
            "94871692cfcf4eb8ba64b9c668fae2d8",
            "554bac97ed4347cdb9a1b57f34e5fd62",
            "77a001a78667432a8fa9c00812469cd5",
            "1065004ac1134919a2f0b583ad0159dc",
            "03e5a88435c947d88d3185d73c7a3bb3",
            "920e6049fcd945dba6fba87cd864d73f",
            "d7da2d06e6f4491baddbc66fb8560dce",
            "aae7e38fc243404cabcb7fb6b02292d3",
            "953573cc6b8546989cd2973f0c63fbd0",
            "2284ca4b626c4d86aa019c8d04ec53fe",
            "530174aec18544f7ab1d138396b3e330",
            "6a968d07c94d4598b4ed643774e597f3",
            "39ce7972ef254149bc41dda90847b17e",
            "9f639d9e2bd741189656b5e1ae5c5b53",
            "7f1192850eed40078ba68e1b9c16fac7",
            "b1a51f8d2a51450d9a155f367f2b2096",
            "f4b56f01e96d4004b30ce1a150918488",
            "79bfcbc2a059470a8ea19e0b8090c761",
            "92988ce7b0424eb294fd700db9dbdd69",
            "6071440770c14a48bf02a4b4014cfc72",
            "fe7ae2d1bc4b4e0aaa501829245a5c4c",
            "9dc869ecd53545fc8a58d194773e1b4d",
            "81c0c97861b44a93bfa1fdd33594b426",
            "55a31d37a2c94ca69f9aee81029d574d",
            "7301597b1ebb4990b46c59a4bcba7dc7",
            "ccff0fcd6c064703b9debcc4b9a9b167",
            "3222f26695924ca9a665f5eb784d03da",
            "5e7b31bf9bbf40d38d82839610867bc8",
            "7ba1a136bf8242a7b58753ad0df81e3a",
            "a71463148e9e47168bc72e3f6b50121b",
            "c247596b60a64d53a98e4c3960ec828f",
            "52f1f1e3902d42488d7fddd7fbc2cbfb",
            "75c9a3566e2c4abaaa851422bc0674e8",
            "6bebc0f5fdd84e5da77109fb8449955a",
            "946c705817f5409cac878b6263c8efea",
            "d77f4104e2244f718fd77918901bcc40",
            "9bcc54f0d6724e95bd3754fc6fa8380f",
            "45d928b5c9224a91a9a7aa299c44419e"
          ]
        }
      },
      "execution_count": 19,
      "outputs": [
        {
          "output_type": "stream",
          "name": "stderr",
          "text": [
            "/usr/local/lib/python3.11/dist-packages/huggingface_hub/utils/_auth.py:94: UserWarning: \n",
            "The secret `HF_TOKEN` does not exist in your Colab secrets.\n",
            "To authenticate with the Hugging Face Hub, create a token in your settings tab (https://huggingface.co/settings/tokens), set it as secret in your Google Colab and restart your session.\n",
            "You will be able to reuse this secret in all of your notebooks.\n",
            "Please note that authentication is recommended but still optional to access public models or datasets.\n",
            "  warnings.warn(\n"
          ]
        },
        {
          "output_type": "display_data",
          "data": {
            "text/plain": [
              "README.md:   0%|          | 0.00/9.02k [00:00<?, ?B/s]"
            ],
            "application/vnd.jupyter.widget-view+json": {
              "version_major": 2,
              "version_minor": 0,
              "model_id": "556badfbe908417f8143ceb1871e0829"
            }
          },
          "metadata": {}
        },
        {
          "output_type": "display_data",
          "data": {
            "text/plain": [
              "train-00000-of-00001.parquet:   0%|          | 0.00/30.9M [00:00<?, ?B/s]"
            ],
            "application/vnd.jupyter.widget-view+json": {
              "version_major": 2,
              "version_minor": 0,
              "model_id": "0c8097ec5da14c9d98f8b500153a12b7"
            }
          },
          "metadata": {}
        },
        {
          "output_type": "display_data",
          "data": {
            "text/plain": [
              "test-00000-of-00001.parquet:   0%|          | 0.00/5.18M [00:00<?, ?B/s]"
            ],
            "application/vnd.jupyter.widget-view+json": {
              "version_major": 2,
              "version_minor": 0,
              "model_id": "920e6049fcd945dba6fba87cd864d73f"
            }
          },
          "metadata": {}
        },
        {
          "output_type": "display_data",
          "data": {
            "text/plain": [
              "Generating train split:   0%|          | 0/60000 [00:00<?, ? examples/s]"
            ],
            "application/vnd.jupyter.widget-view+json": {
              "version_major": 2,
              "version_minor": 0,
              "model_id": "f4b56f01e96d4004b30ce1a150918488"
            }
          },
          "metadata": {}
        },
        {
          "output_type": "display_data",
          "data": {
            "text/plain": [
              "Generating test split:   0%|          | 0/10000 [00:00<?, ? examples/s]"
            ],
            "application/vnd.jupyter.widget-view+json": {
              "version_major": 2,
              "version_minor": 0,
              "model_id": "5e7b31bf9bbf40d38d82839610867bc8"
            }
          },
          "metadata": {}
        }
      ]
    },
    {
      "cell_type": "markdown",
      "source": [
        "Training"
      ],
      "metadata": {
        "id": "Lt9JCoamBBlH"
      }
    },
    {
      "cell_type": "code",
      "source": [
        "device = torch.device(\"cuda\" if torch.cuda.is_available() else \"cpu\")\n",
        "print(\"Using device: \", device, f\"({torch.cuda.get_device_name(device)})\" if torch.cuda.is_available() else \"\")\n",
        "\n",
        "model = CLIP(emb_dim, vit_width, img_size, patch_size, n_channels, vit_layers, vit_heads, vocab_size, text_width, max_seq_length, text_heads, text_layers).to(device)\n",
        "\n",
        "optimizer = optim.Adam(model.parameters(), lr=lr)\n",
        "\n",
        "best_loss = np.inf\n",
        "for epoch in range(epochs):\n",
        "    for i, data in enumerate(train_loader, 0):\n",
        "        img, cap, mask = data[\"image\"].to(device), data[\"caption\"].to(device), data[\"mask\"].to(device)\n",
        "        loss = model(img,cap,mask)\n",
        "        optimizer.zero_grad()\n",
        "        loss.backward()\n",
        "        optimizer.step()\n",
        "\n",
        "    print(f\"Epoch [{epoch+1}/{epochs}], Batch Loss: {loss.item():.3f}\")\n",
        "\n",
        "    # Saves model if it performed better than the previous best\n",
        "    if loss.item() <= best_loss:\n",
        "        best_loss = loss.item()\n",
        "        torch.save(model.state_dict(), \"/content/drive/MyDrive/clip.pt\")\n",
        "        print(\"Model Saved.\")"
      ],
      "metadata": {
        "id": "A3EUUTQ0A_tW",
        "outputId": "2039b4a1-7002-4025-afc6-d8af619381f1",
        "colab": {
          "base_uri": "https://localhost:8080/"
        }
      },
      "execution_count": 21,
      "outputs": [
        {
          "output_type": "stream",
          "name": "stdout",
          "text": [
            "Using device:  cpu \n",
            "Epoch [1/10], Batch Loss: 2.763\n",
            "Model Saved.\n",
            "Epoch [2/10], Batch Loss: 2.858\n",
            "Epoch [3/10], Batch Loss: 2.746\n",
            "Model Saved.\n",
            "Epoch [4/10], Batch Loss: 2.835\n",
            "Epoch [5/10], Batch Loss: 2.736\n",
            "Model Saved.\n",
            "Epoch [6/10], Batch Loss: 2.753\n",
            "Epoch [7/10], Batch Loss: 2.667\n",
            "Model Saved.\n",
            "Epoch [8/10], Batch Loss: 2.832\n",
            "Epoch [9/10], Batch Loss: 2.589\n",
            "Model Saved.\n",
            "Epoch [10/10], Batch Loss: 2.892\n"
          ]
        }
      ]
    },
    {
      "cell_type": "markdown",
      "source": [
        "Testing"
      ],
      "metadata": {
        "id": "ZmYzUkLZBFpI"
      }
    },
    {
      "cell_type": "code",
      "source": [
        "# Loading Best Model\n",
        "model = CLIP(emb_dim, vit_width, img_size, patch_size, n_channels, vit_layers, vit_heads, vocab_size, text_width, max_seq_length, text_heads, text_layers).to(device)\n",
        "model.load_state_dict(torch.load(\"/content/drive/MyDrive/clip.pt\", map_location=device))\n",
        "\n",
        "# Getting dataset captions to compare images to\n",
        "text = torch.stack([tokenizer(x)[0] for x in test_set.captions.values()]).to(device)\n",
        "mask = torch.stack([tokenizer(x)[1] for x in test_set.captions.values()])\n",
        "mask = mask.repeat(1,len(mask[0])).reshape(len(mask),len(mask[0]),len(mask[0])).to(device)\n",
        "\n",
        "correct, total = 0,0\n",
        "with torch.no_grad():\n",
        "    for data in test_loader:\n",
        "        images, labels = data[\"image\"].to(device), data[\"caption\"].to(device)\n",
        "        image_features = model.image_encoder(images)\n",
        "        text_features = model.text_encoder(text, mask=mask)\n",
        "\n",
        "        image_features /= image_features.norm(dim=-1, keepdim=True)\n",
        "        text_features /= text_features.norm(dim=-1, keepdim=True)\n",
        "        similarity = (100.0 * image_features @ text_features.T).softmax(dim=-1)\n",
        "        _, indices = torch.max(similarity,1)\n",
        "        pred = torch.stack([tokenizer(test_set.captions[int(i)])[0] for i in indices]).to(device)\n",
        "        correct += int(sum(torch.sum((pred==labels),dim=1)//len(pred[0])))\n",
        "        total += len(labels)\n",
        "\n",
        "print(f'\\nModel Accuracy: {100 * correct // total} %')"
      ],
      "metadata": {
        "id": "fCjTH0E8BIQQ",
        "outputId": "c04983ee-7b7e-47f6-baa1-e7352bd498b3",
        "colab": {
          "base_uri": "https://localhost:8080/"
        }
      },
      "execution_count": 22,
      "outputs": [
        {
          "output_type": "stream",
          "name": "stdout",
          "text": [
            "\n",
            "Model Accuracy: 84 %\n"
          ]
        }
      ]
    },
    {
      "cell_type": "markdown",
      "source": [
        "Zero-Shot Classification"
      ],
      "metadata": {
        "id": "l1mXWTtWBMob"
      }
    },
    {
      "cell_type": "code",
      "source": [
        "# Loading Best Model\n",
        "model = CLIP(emb_dim, vit_width, img_size, patch_size, n_channels, vit_layers, vit_heads, vocab_size, text_width, max_seq_length, text_heads, text_layers).to(device)\n",
        "model.load_state_dict(torch.load(\"/content/drive/MyDrive/clip.pt\", map_location=device))\n",
        "\n",
        "\n",
        "# Captions to compare images to\n",
        "class_names =[\"t-shirt/top\",\n",
        "                        \"trousers\",\n",
        "                        \"pullover\",\n",
        "                        \"dress\",\n",
        "                        \"coat\",\n",
        "                        \"sandal\",\n",
        "                        \"shirt\",\n",
        "                        \"sneaker\",\n",
        "                        \"bag\",\n",
        "                        \"ankle boot\"]\n",
        "\n",
        "text = torch.stack([tokenizer(x)[0] for x in class_names]).to(device)\n",
        "mask = torch.stack([tokenizer(x)[1] for x in class_names])\n",
        "mask = mask.repeat(1,len(mask[0])).reshape(len(mask),len(mask[0]),len(mask[0])).to(device)\n",
        "\n",
        "idx = 1000\n",
        "\n",
        "img = test_set[idx][\"image\"][None,:]\n",
        "plt.imshow(img[0].permute(1, 2, 0)  ,cmap=\"gray\")\n",
        "plt.title(tokenizer(test_set[idx][\"caption\"], encode=False, mask=test_set[idx][\"mask\"][0])[0])\n",
        "plt.show()\n",
        "img = img.to(device)\n",
        "with torch.no_grad():\n",
        "  image_features = model.image_encoder(img)\n",
        "  text_features = model.text_encoder(text, mask=mask)\n",
        "\n",
        "\n",
        "image_features /= image_features.norm(dim=-1, keepdim=True)\n",
        "text_features /= text_features.norm(dim=-1, keepdim=True)\n",
        "similarity = (100.0 * image_features @ text_features.T).softmax(dim=-1)\n",
        "values, indices = similarity[0].topk(5)\n",
        "\n",
        "# Print the result\n",
        "print(\"\\nTop predictions:\\n\")\n",
        "for value, index in zip(values, indices):\n",
        "    print(f\"{class_names[int(index)]:>16s}: {100 * value.item():.2f}%\")"
      ],
      "metadata": {
        "id": "csLwIY8fBOo3",
        "outputId": "8bb2231a-c366-44ec-eacc-bf40e8b7bc50",
        "colab": {
          "base_uri": "https://localhost:8080/",
          "height": 595
        }
      },
      "execution_count": 23,
      "outputs": [
        {
          "output_type": "display_data",
          "data": {
            "text/plain": [
              "<Figure size 640x480 with 1 Axes>"
            ],
            "image/png": "[encoded data removed]"
          },
          "metadata": {}
        },
        {
          "output_type": "stream",
          "name": "stdout",
          "text": [
            "\n",
            "Top predictions:\n",
            "\n",
            "           shirt: 74.61%\n",
            "     t-shirt/top: 21.82%\n",
            "          sandal: 3.57%\n",
            "           dress: 0.00%\n",
            "        pullover: 0.00%\n"
          ]
        }
      ]
    }
  ]
}