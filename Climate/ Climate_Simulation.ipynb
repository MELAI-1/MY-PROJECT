{
  "nbformat": 4,
  "nbformat_minor": 0,
  "metadata": {
    "colab": {
      "provenance": [],
      "authorship_tag": "ABX9TyPSZpAOLrQFXJRpIKcAJ/+S",
      "include_colab_link": true
    },
    "kernelspec": {
      "name": "python3",
      "display_name": "Python 3"
    },
    "language_info": {
      "name": "python"
    }
  },
  "cells": [
    {
      "cell_type": "markdown",
      "metadata": {
        "id": "view-in-github",
        "colab_type": "text"
      },
      "source": [
        "<a href=\"https://colab.research.google.com/github/MELAI-1/MY-PROJECT/blob/main/Climate/%20Climate_Simulation.ipynb\" target=\"_parent\"><img src=\"https://colab.research.google.com/assets/colab-badge.svg\" alt=\"Open In Colab\"/></a>"
      ]
    },
    {
      "cell_type": "markdown",
      "source": [
        "# climate simulation"
      ],
      "metadata": {
        "id": "E2UcCR13rbny"
      }
    },
    {
      "cell_type": "markdown",
      "source": [
        "## I-load the dataset for the data exploratory phase"
      ],
      "metadata": {
        "id": "HqGTkh1Frh8J"
      }
    },
    {
      "cell_type": "code",
      "execution_count": null,
      "metadata": {
        "id": "Uk8k4Djb-WRC"
      },
      "outputs": [],
      "source": []
    }
  ]
}