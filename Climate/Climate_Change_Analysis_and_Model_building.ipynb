{
  "metadata": {
    "kernelspec": {
      "name": "python3",
      "display_name": "Python 3",
      "language": "python"
    },
    "language_info": {
      "name": "python",
      "version": "3.10.14",
      "mimetype": "text/x-python",
      "codemirror_mode": {
        "name": "ipython",
        "version": 3
      },
      "pygments_lexer": "ipython3",
      "nbconvert_exporter": "python",
      "file_extension": ".py"
    },
    "kaggle": {
      "accelerator": "none",
      "dataSources": [
        {
          "sourceId": 7676842,
          "sourceType": "datasetVersion",
          "datasetId": 4478277
        }
      ],
      "dockerImageVersionId": 30786,
      "isInternetEnabled": true,
      "language": "python",
      "sourceType": "notebook",
      "isGpuEnabled": false
    },
    "colab": {
      "provenance": []
    }
  },
  "nbformat_minor": 0,
  "nbformat": 4,
  "cells": [
    {
      "source": [
        "\n",
        "import kagglehub\n",
        "tarunrm09_climate_change_indicators_path = kagglehub.dataset_download('tarunrm09/climate-change-indicators')\n",
        "\n",
        "print('Data source import complete.')\n"
      ],
      "metadata": {
        "id": "nHaAapgE3w_u"
      },
      "cell_type": "code",
      "outputs": [],
      "execution_count": null
    },
    {
      "cell_type": "markdown",
      "source": [
        "<div style=\"border: 2px dashed dodgerblue; border-radius: 5px; margin-bottom: 20px;\">\n",
        "<h1 style=\"text-align: center; padding: 10px 0 15px 0;\"><span style=\"color: orangered;\">Climate Change</span> <span style=\"color:dodgerblue;\">Data Analysis and Model-Building</span></h1>\n",
        "</div>\n",
        "\n",
        "![climate-change1.jpg](attachment:39d242d4-cf4c-415b-a28e-b37e84dd70c3.jpg)"
      ],
      "metadata": {
        "id": "wvL5WRbB3w_z"
      }
    },
    {
      "cell_type": "markdown",
      "source": [
        "<a id=\"content\"></a>\n",
        "\n",
        "## Table of Contents\n",
        "\n",
        "<a href=#imports>1. Importing Packages</a>\n",
        "\n",
        "<a href=#data_load>2. Loading Data</a>\n",
        "\n",
        "<a href=#data_cleaning>3. Cleaning Data</a>\n",
        "\n",
        "<a href=#eda>4. Exploratory Data Analysis (EDA)</a>\n",
        "\n",
        "<a href=#data_eng>5. Data Engineering</a>\n",
        "\n",
        "<a href=#modelling>6. Modeling</a>\n",
        "\n",
        "<a href=#performance>7. Model Performance</a>\n",
        "\n",
        "<a href=#explanation>8. Model Explanations</a>"
      ],
      "metadata": {
        "id": "PlyfHncK3w_2"
      }
    },
    {
      "cell_type": "markdown",
      "source": [
        "<a id=\"imports\"></a>\n",
        "\n",
        "## 1. Importing Packages\n",
        "\n",
        "<a href=\"#content\">\n",
        "    Back to Table of Contents\n",
        "</a>\n",
        "\n",
        "---\n",
        "\n",
        "⚡ All the packages used for the entire work.\n",
        "\n",
        "---\n",
        "\n"
      ],
      "metadata": {
        "id": "ocEpsLSc3w_4"
      }
    },
    {
      "cell_type": "code",
      "source": [
        "import pandas as pd\n",
        "import matplotlib.pyplot as plt\n",
        "from statsmodels.tsa.arima.model import ARIMA\n",
        "import numpy as np\n",
        "import seaborn as sns\n",
        "from sklearn.metrics import mean_absolute_error, mean_squared_error, r2_score\n",
        "import matplotlib.pyplot as plt\n",
        "from sklearn.preprocessing import MinMaxScaler\n",
        "from tensorflow.keras.models import Sequential\n",
        "from tensorflow.keras.layers import Dense, LSTM\n",
        "from sklearn.model_selection import train_test_split\n",
        "import geopandas as gpd\n",
        "from sklearn.cluster import KMeans\n",
        "import plotly.express as px\n",
        "import folium\n",
        "\n",
        "import os\n",
        "os.environ[\"OMP_NUM_THREADS\"] = \"1\""
      ],
      "metadata": {
        "trusted": true,
        "id": "fibfblZ_3w_6"
      },
      "execution_count": null,
      "outputs": []
    },
    {
      "cell_type": "markdown",
      "source": [
        "<a id=\"data_load\"></a>\n",
        "\n",
        "## 2. Loading the Data\n",
        "\n",
        "<a href=\"#content\">\n",
        "    Back to Table of Contents\n",
        "</a>\n",
        "\n",
        "---\n",
        "\n",
        "⚡ Loading the data from climate_change_indicators.csv.\n",
        "\n",
        "---\n",
        "\n"
      ],
      "metadata": {
        "id": "Qk53XHik3w_8"
      }
    },
    {
      "cell_type": "code",
      "source": [
        "# Load the data# Load the data\n",
        "climate_data = pd.read_csv('/kaggle/input/climate-change-indicators/climate_change_indicators.csv')"
      ],
      "metadata": {
        "trusted": true,
        "id": "99UswPE53w_-"
      },
      "execution_count": null,
      "outputs": []
    },
    {
      "cell_type": "code",
      "source": [
        "# Display the first few rows of the dataset to understand its structure\n",
        "climate_data.head(5)"
      ],
      "metadata": {
        "trusted": true,
        "id": "mW5vQeRW3xAA"
      },
      "execution_count": null,
      "outputs": []
    },
    {
      "cell_type": "code",
      "source": [
        "# Display the last few rows of the dataset to understand its structure\n",
        "climate_data.tail(5)"
      ],
      "metadata": {
        "trusted": true,
        "id": "MWWfr5em3xAD"
      },
      "execution_count": null,
      "outputs": []
    },
    {
      "cell_type": "markdown",
      "source": [
        "<div style=\"padding: 15px; border: 1px solid dodgerblue; border-radius: 5px; background-color: aliceblue\">\n",
        "\n",
        "<div style=\"padding: 15px; border-radius: 5px; background-color: white\">\n",
        "    \n",
        "From these few rows of the beginning and end of the climate data, it can be inferred that the <strong>Indicator, Unit, Source, CTS_Code, CTS_Name</strong>, and <strong>CTS_Full_Descriptor</strong> columns <strong>have the same respective values for each row</strong>. Therefore, they will be excluded from the analysis and model-building.\n",
        "\n",
        "</div>\n",
        "</div>"
      ],
      "metadata": {
        "id": "cVs3wtot3xAG"
      }
    },
    {
      "cell_type": "code",
      "source": [
        "# Generate descriptive statistics for the climate_data DataFrame\n",
        "climate_data.describe()"
      ],
      "metadata": {
        "trusted": true,
        "id": "PgzMJJoH3xAH"
      },
      "execution_count": null,
      "outputs": []
    },
    {
      "cell_type": "markdown",
      "source": [
        "<div style=\"padding: 15px; border: 1px solid dodgerblue; border-radius: 5px; background-color: aliceblue\">\n",
        "<p>The <strong>climate_data.describe()</strong> function generates <strong></strong>descriptive statistics that summarize the central tendency, dispersion, and shape of a dataset’s distribution, excluding NaN values.\n",
        "</p>\n",
        "    \n",
        "**Breakdown**:\n",
        "1. **Count**: The number of non-null entries in each column.\n",
        "2. **Mean**: The average value of each column.\n",
        "3. **Standard Deviation (std)**: A measure of the amount of variation or dispersion in each column.\n",
        "4. **Minimum (min)**: The smallest value in each column.\n",
        "5. **25th Percentile (25%)**: The value below which 25% of the data falls.\n",
        "6. **Median (50%)**: The 50th percentile or the middle value, which is the median of the data.\n",
        "7. **75th Percentile (75%)**: The value below which 75% of the data falls.\n",
        "8. **Maximum (max)**: The largest value in each column.\n",
        "\n",
        "<hr />\n",
        "\n",
        "<div style=\"padding: 15px; border-radius: 5px; background-color: white\">\n",
        "    \n",
        "The **largest value** of the ObjectId column is **225**, signifying that the total number of rows in the dataset is the same.\n",
        "\n",
        "</div>\n",
        "</div>"
      ],
      "metadata": {
        "id": "1L_vg1nX3xAJ"
      }
    },
    {
      "cell_type": "markdown",
      "source": [
        "<a id=\"data_cleaning\"></a>\n",
        "\n",
        "## 3. Cleaning the Data\n",
        "\n",
        "<a href=\"#content\">\n",
        "    Back to Table of Contents\n",
        "</a>\n",
        "\n",
        "---\n",
        "\n",
        "⚡ Cleaning climate_data - which is already clean, so our focus will be on filling up null values.\n",
        "\n",
        "---\n",
        "\n"
      ],
      "metadata": {
        "id": "34Vm-0Ia3xAL"
      }
    },
    {
      "cell_type": "code",
      "source": [
        "climate_data.info()"
      ],
      "metadata": {
        "trusted": true,
        "id": "Ylf6U0hl3xAM"
      },
      "execution_count": null,
      "outputs": []
    },
    {
      "cell_type": "markdown",
      "source": [
        "<div style=\"padding: 15px; border: 1px solid dodgerblue; border-radius: 5px; background-color: aliceblue\">\n",
        "<p>The <strong>climate_data.info()</strong> function is used to provide a concise summary of a DataFrame. It is particularly useful for getting a quick overview of the structure and contents of the dataset.\n",
        "</p>\n",
        "\n",
        "**Breakdown**:\n",
        "1. **Index Range**: The output shows the range of the index, which tells you how many rows are in the DataFrame.\n",
        "\n",
        "2. **Column Names and Types**: It lists all the columns in the DataFrame along with the data type (dtype) of each column. Common data types include:\n",
        "   - `int64`: Integer values.\n",
        "   - `float64`: Floating-point numbers.\n",
        "   - `object`: Typically used for strings or mixed types.\n",
        "   - `datetime64[ns]`: Date and time data.\n",
        "\n",
        "3. **Non-Null Count**: For each column, it displays the number of non-null entries. This is useful for quickly identifying missing data.\n",
        "\n",
        "4. **Memory Usage**: The total memory used by the DataFrame is displayed, which can help you understand the size of your dataset in memory. Knowing this can help us optimize data storage and processing in case of very large datasets.\n",
        "\n",
        "\n",
        "<hr />\n",
        "<div style=\"padding: 15px; border-radius: 5px; background-color: white\">\n",
        "It is evident that some columns are lacking some values although they have all been specified as non-null.\n",
        "</div>\n",
        "</div>"
      ],
      "metadata": {
        "id": "AViEI4n03xAN"
      }
    },
    {
      "cell_type": "code",
      "source": [
        "# Check for missing values in the dataset\n",
        "missing_values = climate_data.isnull().sum()\n",
        "\n",
        "# Check for duplicates\n",
        "duplicate_rows = climate_data.duplicated().sum()\n",
        "\n",
        "print(\"Missing Values: \", missing_values, \"\\nDuplicate Rows: \", duplicate_rows)"
      ],
      "metadata": {
        "trusted": true,
        "id": "DxWtvGHP3xAO"
      },
      "execution_count": null,
      "outputs": []
    },
    {
      "cell_type": "markdown",
      "source": [
        "<div style=\"padding: 15px; border: 1px solid dodgerblue; border-radius: 5px; background-color: aliceblue\">\n",
        "\n",
        "<div style=\"padding: 15px; border-radius: 5px; background-color: white\">\n",
        "\n",
        "Out of 72 columns (in total), there are missing values in ISO2 (2), F2018 (12), F2019 (12), F2020 (13), F2021 (12), and F2022 (12). Clearly, there are no duplicate rows.\n",
        "\n",
        "</div>\n",
        "</div>"
      ],
      "metadata": {
        "id": "4McAksmD3xAP"
      }
    },
    {
      "cell_type": "code",
      "source": [
        "# Select only the numeric year columns for filling missing values\n",
        "year_columns = [col for col in climate_data.columns if col.startswith('F') and col[1:].isdigit()]\n",
        "\n",
        "# Convert the selected year columns to numeric type (if not already)\n",
        "climate_data[year_columns] = climate_data[year_columns].apply(pd.to_numeric, errors='coerce')\n",
        "\n",
        "# Fill missing values in the year columns with the average of the surrounding values (row-wise)\n",
        "climate_data[year_columns] = climate_data[year_columns].apply(lambda row: row.fillna(row.mean()), axis=1)\n",
        "\n",
        "# Re-checking for any remaining missing values\n",
        "remaining_missing_values = climate_data.isnull().sum()\n",
        "\n",
        "remaining_missing_values[remaining_missing_values > 0]\n"
      ],
      "metadata": {
        "trusted": true,
        "id": "_JWFELTa3xAQ"
      },
      "execution_count": null,
      "outputs": []
    },
    {
      "cell_type": "code",
      "source": [
        "# Identify the rows with missing ISO2 values and display relevant columns\n",
        "iso2_missing_info = climate_data[climate_data['ISO2'].isnull()][['Country', 'ISO3']]\n",
        "\n",
        "iso2_missing_info"
      ],
      "metadata": {
        "trusted": true,
        "id": "OJ2AIzI_3xAR"
      },
      "execution_count": null,
      "outputs": []
    },
    {
      "cell_type": "code",
      "source": [
        "# Fill in the missing ISO2 values manually\n",
        "climate_data.loc[climate_data['ISO3'] == 'NAM', 'ISO2'] = 'NA'\n",
        "climate_data.loc[climate_data['ISO3'] == 'WLD', 'ISO2'] = 'WL'\n",
        "\n",
        "# Re-checking for any remaining missing values in ISO2\n",
        "remaining_missing_values = climate_data['ISO2'].isnull().sum()\n",
        "\n",
        "print(\"Missing values remaining: \", remaining_missing_values)"
      ],
      "metadata": {
        "trusted": true,
        "id": "jqHA9rbi3xAS"
      },
      "execution_count": null,
      "outputs": []
    },
    {
      "cell_type": "markdown",
      "source": [
        "<div style=\"padding: 15px; border: 1px solid dodgerblue; border-radius: 5px; background-color: aliceblue\">\n",
        "\n",
        "<div style=\"padding: 15px; border-radius: 5px; background-color: white\">\n",
        "    \n",
        "Based on the corresponding values in the ISO3 column, the two missing values are filled for Namibia and World.\n",
        "\n",
        "</div>\n",
        "</div>"
      ],
      "metadata": {
        "id": "Ks2XrwK_3xAT"
      }
    },
    {
      "cell_type": "markdown",
      "source": [
        "<a id=\"eda\"></a>\n",
        "\n",
        "## 4. Exploratory Data Analysis (EDA)\n",
        "\n",
        "<a href=\"#content\">\n",
        "    Back to Table of Contents\n",
        "</a>\n",
        "\n",
        "---\n",
        "\n",
        "⚡ Exploring the data to see possible trends in climate change over the years for countries and continents.\n",
        "\n",
        "---\n",
        "\n"
      ],
      "metadata": {
        "id": "aLk3-NAf3xAU"
      }
    },
    {
      "cell_type": "markdown",
      "source": [
        "### Visualising world temperature trends over time"
      ],
      "metadata": {
        "id": "xCmXfiVQ3xAU"
      }
    },
    {
      "cell_type": "code",
      "source": [
        "# Filter data for the \"World\"\n",
        "world_data = climate_data[climate_data['Country'] == 'World']\n",
        "\n",
        "# Extract years and corresponding temperature values\n",
        "years = [int(col[1:]) for col in year_columns]\n",
        "world_temperatures = world_data[year_columns].values.flatten()\n",
        "\n",
        "# Plotting the global temperature trend\n",
        "plt.figure(figsize=(10, 6))\n",
        "plt.plot(years, world_temperatures, marker='o', linestyle='-', color='b')\n",
        "plt.title('Global Temperature Trend (World Average)')\n",
        "plt.xlabel('Year')\n",
        "plt.ylabel('Temperature Change (°C)')\n",
        "plt.grid(True)\n",
        "plt.show()\n"
      ],
      "metadata": {
        "trusted": true,
        "id": "FN2u3awq3xAV"
      },
      "execution_count": null,
      "outputs": []
    },
    {
      "cell_type": "markdown",
      "source": [
        "<div style=\"padding: 15px; border: 1px solid dodgerblue; border-radius: 5px; background-color: aliceblue\">\n",
        "\n",
        "\n",
        "<div style=\"padding: 15px; border-radius: 5px; background-color: white\">\n",
        "\n",
        "#### Insights:\n",
        "\n",
        "1. **Overall Warming Trend:**\n",
        "The most prominent insight is the clear upward trend in global temperatures. This indicates that, on average, the world has been getting warmer over the past several decades. The temperature increase is particularly noticeable from around the 1980s onwards.\n",
        "\n",
        "2. **Fluctuations in Temperature:**\n",
        "While the overall trend is upward, there are fluctuations year by year. This variability is typical in climate data, reflecting short-term influences such as volcanic activity, ocean currents (like El Niño and La Niña), and other natural climate variability factors.\n",
        "\n",
        "3. **Significant Increase in Recent Decades:**\n",
        "The rate of temperature increase appears to have accelerated in the last few decades. The graph shows steeper increases in temperature from the 1990s to 2020s, which aligns with the period of intensified global industrial activity and greenhouse gas emissions.\n",
        "\n",
        "4. **Positive Temperature Anomalies:**\n",
        "In the later years (2000s and 2010s), the temperature change remains consistently above 0°C, indicating positive temperature anomalies. This means that, compared to a baseline (likely mid-20th century), the global average temperature is consistently higher.\n",
        "\n",
        "5. **Potential Implications:**\n",
        "This trend is consistent with concerns about global warming and climate change. The rising temperatures could lead to various environmental impacts, including melting polar ice, rising sea levels, more frequent and severe weather events, and shifts in ecosystems and biodiversity.\n",
        "  \n",
        "<hr>\n",
        "\n",
        "#### Conclusion:\n",
        "The chart provides strong visual evidence of global warming, with a clear upward trend in temperatures over the past several decades. This trend is a critical indicator of ongoing climate change and underscores the importance of global efforts to mitigate its effects through reducing greenhouse gas emissions and adopting sustainable practices.\n",
        "\n",
        "</div>\n",
        "</div>"
      ],
      "metadata": {
        "id": "d5qFTu853xAW"
      }
    },
    {
      "cell_type": "markdown",
      "source": [
        "---\n",
        "\n",
        "### Comparing Temperature Trends across continents\n",
        "\n",
        "---"
      ],
      "metadata": {
        "id": "k4P8pl1Q3xAX"
      }
    },
    {
      "cell_type": "code",
      "source": [
        "# Mapping countries to continents (simplified for illustration)\n",
        "continent_map = {\n",
        "    'Africa': ['Algeria', 'Angola', 'Benin', 'Botswana', 'Burkina Faso', 'Burundi', 'Cabo Verde', 'Cameroon',\n",
        "               'Central African Rep.', 'Chad', 'Comoros, Union of the', 'Congo, Dem. Rep. of the', 'Congo, Rep. of',\n",
        "               'Djibouti', 'Egypt, Arab Rep. of', 'Equatorial Guinea, Rep. of', 'Eritrea, The State of', 'Eswatini, Kingdom of',\n",
        "               'Ethiopia, The Federal Dem. Rep. of', 'Gabon', 'Gambia, The', 'Ghana', 'Guinea', 'Guinea-Bissau', 'Kenya',\n",
        "               'Lesotho, Kingdom of', 'Liberia', 'Libya', 'Madagascar', 'Malawi', 'Mali', 'Mauritania, Islamic Rep. of',\n",
        "               'Mauritius', 'Morocco', 'Mozambique, Rep. of', 'Namibia', 'Niger', 'Nigeria', 'Rwanda', 'São Tomé and Príncipe, Dem. Rep. of',\n",
        "               'Senegal', 'Seychelles', 'Sierra Leone', 'Somalia', 'South Africa', 'South Sudan, Rep. of', 'Sudan',\n",
        "               'Tanzania, United Rep. of', 'Togo', 'Tunisia', 'Uganda', 'Zambia', 'Zimbabwe'],\n",
        "    'Asia': ['Afghanistan, Islamic Rep. of', 'Armenia, Rep. of', 'Azerbaijan, Rep. of', 'Bahrain, Kingdom of', 'Bangladesh',\n",
        "             'Bhutan', 'Brunei Darussalam', 'Cambodia', 'China, P.R.: Mainland', 'Cyprus', 'Georgia', 'India', 'Indonesia',\n",
        "             'Iran, Islamic Rep. of', 'Iraq', 'Israel', 'Japan', 'Jordan', 'Kazakhstan, Rep. of', 'Kuwait', 'Kyrgyz Rep.',\n",
        "             \"Lao People's Dem. Rep.\", 'Lebanon', 'Malaysia', 'Maldives', 'Mongolia', 'Myanmar', 'Nepal', 'Oman', 'Pakistan',\n",
        "             'Palestine', 'Philippines', 'Qatar', 'Saudi Arabia', 'Singapore', 'South Korea', 'Sri Lanka', 'Syria', 'Tajikistan, Rep. of',\n",
        "             'Thailand', 'Turkmenistan', 'United Arab Emirates', 'Uzbekistan, Rep. of', 'Vietnam', 'Yemen, Rep. of'],\n",
        "    'Europe': ['Albania', 'Andorra, Principality of', 'Austria', 'Belarus, Rep. of', 'Belgium', 'Bosnia and Herzegovina', 'Bulgaria',\n",
        "               'Croatia, Rep. of', 'Czech Rep.', 'Denmark', 'Estonia, Rep. of', 'Finland', 'France', 'Germany', 'Greece',\n",
        "               'Hungary', 'Iceland', 'Ireland', 'Italy', 'Latvia', 'Lithuania', 'Luxembourg', 'Malta', 'Moldova, Rep. of',\n",
        "               'Monaco', 'Montenegro', 'Netherlands, The', 'North Macedonia, Republic of ', 'Norway', 'Poland, Rep. of',\n",
        "               'Portugal', 'Romania', 'Russian Federation', 'San Marino, Rep. of', 'Serbia, Rep. of', 'Slovak Rep.', 'Slovenia, Rep. of',\n",
        "               'Spain', 'Sweden', 'Switzerland', 'Ukraine', 'United Kingdom'],\n",
        "    'North America': ['Canada', 'United States', 'Mexico'],\n",
        "    'South America': ['Argentina', 'Bolivia', 'Brazil', 'Chile', 'Colombia', 'Ecuador', 'Guyana', 'Paraguay', 'Peru', 'Suriname',\n",
        "                      'Uruguay', 'Venezuela, Rep. Bolivariana de'],\n",
        "    'Oceania': ['Australia', 'Fiji, Rep. of', 'New Zealand', 'Papua New Guinea', 'Samoa', 'Solomon Islands', 'Vanuatu']\n",
        "}"
      ],
      "metadata": {
        "trusted": true,
        "id": "wvsKoi_G3xAY"
      },
      "execution_count": null,
      "outputs": []
    },
    {
      "cell_type": "code",
      "source": [
        "color_map_cont = {\n",
        "    'Africa': 'dodgerblue',\n",
        "    'Asia' : 'goldenrod',\n",
        "    'Europe': 'tomato',\n",
        "    'North America': 'brown',\n",
        "    'Oceania': 'purple',\n",
        "    'South America': 'limegreen'\n",
        "}\n",
        "\n",
        "# Add a 'Continent' column to the dataset based on the country-continent mapping\n",
        "def get_continent(country):\n",
        "    for continent, countries in continent_map.items():\n",
        "        if country in countries:\n",
        "            return continent\n",
        "    return 'Unknown'\n",
        "\n",
        "climate_data['Continent'] = climate_data['Country'].apply(get_continent)\n",
        "\n",
        "# Filter out 'Unknown' continents if any\n",
        "continent_data = climate_data[climate_data['Continent'] != 'Unknown']\n",
        "\n",
        "# Group by 'Continent' and calculate the mean temperature change per year\n",
        "continent_avg_temp = continent_data.groupby('Continent')[year_columns].mean()\n",
        "\n",
        "# Plotting the temperature trends for each continent\n",
        "plt.figure(figsize=(12, 8))\n",
        "\n",
        "for continent in continent_avg_temp.index:\n",
        "    plt.plot(years, continent_avg_temp.loc[continent], marker='o', linestyle='-', color=color_map_cont[continent], label=continent)\n",
        "\n",
        "plt.title('Temperature Trends Across Continents (1950-2022)')\n",
        "plt.xlabel('Year')\n",
        "plt.ylabel('Average Temperature Change (°C)')\n",
        "plt.legend()\n",
        "plt.grid(True)\n",
        "plt.show()\n"
      ],
      "metadata": {
        "trusted": true,
        "id": "NonHRdLW3xAZ"
      },
      "execution_count": null,
      "outputs": []
    },
    {
      "cell_type": "markdown",
      "source": [
        "<div style=\"padding: 15px; border: 1px solid dodgerblue; border-radius: 5px; background-color: aliceblue\">\n",
        "\n",
        "<p>\n",
        "This chart compares the temperature trends across six continents: Africa, Asia, Europe, North America, Oceania, and South America from 1961 to 2022. The temperature change is measured in degrees Celsius (°C), and the trends are displayed over time.\n",
        "\n",
        "</p>\n",
        "    \n",
        "<div style=\"padding: 15px; border-radius: 5px; background-color: white\">    \n",
        "\n",
        "    \n",
        "    \n",
        "#### Insights:\n",
        "\n",
        "1. **Overall Warming Trend Across All Continents:**\n",
        "All continents exhibit an overall increase in temperature over the observed period, indicating a global pattern of warming. This further confirms the widespread impact of climate change on a continental scale.\n",
        "\n",
        "2. **Continental Variability in Temperature Trends:**\n",
        "   - **Europe** (in tomato \\[red]) and **North America** (in brown) show the most significant temperature increases, particularly after the 1980s. This could be related to their industrial activities, urbanization, and other factors influencing climate sensitivity in these regions.\n",
        "   - **Asia** (in goldenrod \\[gold]) and **Africa** (in dodgerblue \\[blue]) also exhibit noticeable warming trends, though with more fluctuations compared to Europe and North America. These fluctuations might be due to diverse climates within these continents, ranging from tropical to arid regions.\n",
        "   - **Oceania** (in purple) and **South America** (in limegreen \\[green]) show more moderate temperature increases, but the overall trend remains upward, reflecting the global nature of the warming phenomenon.\n",
        "\n",
        "3. **Post-2000 Temperature Increase:**\n",
        "   - The period after 2000 shows a pronounced rise in temperatures across all continents. The steep increases in temperature are particularly noticeable in Europe and North America, where temperature anomalies exceed 2°C in some years.\n",
        "   - This recent acceleration in warming aligns with the period of intensified greenhouse gas emissions and more frequent extreme weather events.\n",
        "\n",
        "4. **Higher Variability in Certain Continents:**\n",
        "   - **Europe** exhibits some of the highest year-to-year variability in temperature change, especially in the more recent decades. This could be due to the region's diverse climate zones, from Mediterranean climates in the south to polar climates in the far north.\n",
        "   - **Asia** and **North America** also show high variability, possibly reflecting the influence of large landmasses with varied climates, including monsoons, deserts, and temperate zones.\n",
        "\n",
        "5. **Regional Implications of Warming:**\n",
        "The differences in warming rates among continents could have significant regional implications, such as shifts in agricultural zones, increased frequency of heatwaves, and changes in precipitation patterns, which could affect water resources, biodiversity, and human livelihoods.\n",
        "\n",
        "\n",
        "<hr>\n",
        "\n",
        "#### Conclusion:\n",
        "The chart clearly demonstrates that climate change is a global issue, with every continent experiencing significant warming over the past 70 years. The higher temperature anomalies and variability observed in some continents, particularly Europe and North America, highlight the need for targeted climate adaptation and mitigation strategies. The increasing temperature trends underscore the urgency for global action to address the drivers of climate change and to prepare for its widespread impacts.\n",
        "\n",
        "</div>\n",
        "\n",
        "</div>"
      ],
      "metadata": {
        "id": "MZuIfCFW3xAa"
      }
    },
    {
      "cell_type": "markdown",
      "source": [
        "---\n",
        "\n",
        "### Comparing the temperature trends of United States (USA), China (CHN), Brazil (BRA), Germany (DEU) and India (IND) over time\n",
        "\n",
        "---"
      ],
      "metadata": {
        "id": "ujQOdFf13xAa"
      }
    },
    {
      "cell_type": "code",
      "source": [
        "# Select the countries to compare\n",
        "countries_to_compare = ['United States', 'China, P.R.: Mainland', 'Brazil', 'Germany', 'India']\n",
        "\n",
        "# Filter the data for the selected countries\n",
        "comparison_data = climate_data[climate_data['Country'].isin(countries_to_compare)]\n"
      ],
      "metadata": {
        "trusted": true,
        "id": "h9h9Bypy3xAb"
      },
      "execution_count": null,
      "outputs": []
    },
    {
      "cell_type": "code",
      "source": [
        "# Define colors for the countries\n",
        "color_map = {\n",
        "    'United States': 'dodgerblue',\n",
        "    'China, P.R.: Mainland': 'goldenrod',\n",
        "    'Brazil': 'green',\n",
        "    'Germany': 'tomato',\n",
        "    'India': 'purple'\n",
        "}\n",
        "\n",
        "# Plotting the temperature trends with specific colors\n",
        "plt.figure(figsize=(12, 8))\n",
        "\n",
        "for country in countries_to_compare:\n",
        "    country_data = comparison_data[comparison_data['Country'] == country]\n",
        "    country_temperatures = country_data[year_columns].values.flatten()\n",
        "    plt.plot(years, country_temperatures, marker='o', linestyle='-', color=color_map[country], label=country)\n",
        "\n",
        "plt.title('Temperature Trends Comparison (1961-2022)')\n",
        "plt.xlabel('Year')\n",
        "plt.ylabel('Temperature Change (°C)')\n",
        "plt.legend()\n",
        "plt.grid(True)\n",
        "plt.show()\n"
      ],
      "metadata": {
        "trusted": true,
        "id": "39VEYlL83xAc"
      },
      "execution_count": null,
      "outputs": []
    },
    {
      "cell_type": "markdown",
      "source": [
        "<div style=\"padding: 15px; border: 1px solid dodgerblue; border-radius: 5px; background-color: aliceblue\">\n",
        "\n",
        "<p>\n",
        "This chart compares the temperature trends of five countries: the United States, China, Brazil, Germany, and India over the period from 1961 to 2022. The temperature change is measured in degrees Celsius (°C), and the trends are shown over time.\n",
        "</p>\n",
        "\n",
        "<div style=\"padding: 15px; border-radius: 5px; background-color: white\">\n",
        "\n",
        "\n",
        "#### Insights:\n",
        "\n",
        "1. **Overall Warming Trend Across All Countries:**\n",
        "   Similar to the global trend, all five countries exhibit an overall increase in temperature over the observed period, reflecting the broader pattern of global warming. This reinforces the idea that climate change is a global phenomenon affecting multiple regions.\n",
        "\n",
        "2. **Temperature Variability:**\n",
        "   There is significant year-to-year variability in the temperature changes for all countries, which is expected due to natural climate variability. However, despite these fluctuations, the long-term trend for all countries is upward.\n",
        "\n",
        "3. **Country-Specific Differences:**\n",
        "   - **China** (in goldenrod \\[gold]) shows the most significant fluctuations, with periods of both sharp increases and decreases, particularly from the 1980s onward. This might reflect China's rapid industrialization and its associated environmental impacts.\n",
        "   - **Germany** (in tomato \\[red]) shows relatively stable temperature changes until the 1990s, after which there is a noticeable upward trend, possibly due to changes in regional climate patterns in Europe.\n",
        "   - **India** (in purple) and **Brazil** (in green) show more consistent temperature increases, though India's trend seems to have fewer fluctuations compared to Brazil.\n",
        "   - **The United States** (in dodgerblue \\[blue]) exhibits a steady increase in temperature, with noticeable spikes in recent decades.\n",
        "     \n",
        "4. **Recent Decades (Post-2000):**\n",
        "   The temperature increase becomes more pronounced in all countries after the year 2000. This is consistent with the global acceleration in warming due to increasing greenhouse gas emissions and other human activities.\n",
        "\n",
        "5. **Inter-Country Comparison:**\n",
        "   - **China** appears to have experienced the most significant warming, particularly after the 1990s, with some of the highest temperature anomalies.\n",
        "   - **Germany** and **India** show relatively smoother trends, with fewer extreme changes, though they still reflect a clear warming trend.\n",
        "\n",
        "6. **Climate Sensitivity:**\n",
        "The differences in the temperature trends among these countries could be attributed to various factors such as geographical location, industrialization, urbanization, and local climate policies. For instance, regions that are closer to the poles might experience more rapid warming than those closer to the equator.\n",
        "\n",
        "<hr />\n",
        "\n",
        "#### Conclusion:\n",
        "This chart highlights the ongoing and accelerating impact of climate change across different countries, with each country exhibiting unique patterns of temperature change. The data underscores the importance of both global and regional strategies in combating climate change, as the effects are widespread but vary in intensity and pattern across different regions. The substantial increase in temperature anomalies in recent decades also suggests an urgent need for climate action to mitigate these trends.\n",
        "</div>\n",
        "</div>"
      ],
      "metadata": {
        "id": "R3uMm-GL3xAd"
      }
    },
    {
      "cell_type": "markdown",
      "source": [
        "---\n",
        "\n",
        "### Visualising temperature trends across continents using a heatmap\n",
        "\n",
        "---"
      ],
      "metadata": {
        "id": "iLoA0qZA3xAe"
      }
    },
    {
      "cell_type": "code",
      "source": [
        "# Let's first check the available year columns to understand the range we can work with\n",
        "available_year_columns = [col for col in climate_data.columns if col.startswith('F')]\n",
        "\n",
        "# Display available year columns\n",
        "available_year_columns[:10], available_year_columns[-10:]  # Show the first and last few to get an idea of the range\n"
      ],
      "metadata": {
        "trusted": true,
        "id": "ZtRP3uo33xAf"
      },
      "execution_count": null,
      "outputs": []
    },
    {
      "cell_type": "code",
      "source": [
        "# Calculate the average temperature data per continent using the provided continent map\n",
        "continent_data = pd.DataFrame(index=continent_map.keys(), columns=available_year_columns)\n",
        "\n",
        "for continent, countries in continent_map.items():\n",
        "    continent_data.loc[continent] = climate_data[climate_data['Country'].isin(countries)][available_year_columns].mean()\n",
        "\n",
        "# Ensure all data in the DataFrame is numeric\n",
        "continent_data = continent_data.apply(pd.to_numeric, errors='coerce')\n",
        "\n",
        "# Plotting the corrected heatmap again\n",
        "plt.figure(figsize=(15, 8))\n",
        "sns.heatmap(continent_data, cmap='coolwarm', annot=False, cbar_kws={'label': 'Temperature Change (°C)'}, xticklabels=5)\n",
        "plt.title('Temperature Changes Over Time by Continent')\n",
        "plt.xlabel('Year')\n",
        "plt.ylabel('Continent')\n",
        "plt.show()\n"
      ],
      "metadata": {
        "trusted": true,
        "id": "lJQ9whGr3xAg"
      },
      "execution_count": null,
      "outputs": []
    },
    {
      "cell_type": "markdown",
      "source": [
        "<div style=\"padding: 15px; border: 1px solid dodgerblue; border-radius: 5px; background-color: aliceblue\">\n",
        "\n",
        "<p>\n",
        "This heatmap visualizes temperature changes over time by continent, from 1961 to 2021. The temperature change is represented in degrees Celsius (°C), with the color scale ranging from blue (indicating cooler temperatures) to red (indicating warmer temperatures).\n",
        "</p>\n",
        "\n",
        "\n",
        "\n",
        "<div style=\"padding: 15px; border-radius: 5px; background-color: white\">\n",
        "    \n",
        "#### Insights:\n",
        "\n",
        "1. **Gradual Shift from Cool to Warm:**\n",
        "   - The heatmap shows a clear progression from cooler temperatures (blue) in the early years (1960s-1970s) to warmer temperatures (red) in more recent years (2000s-2020s). This progression is consistent across all continents, indicating a global warming trend.\n",
        "\n",
        "2. **Continental Differences in Warming Patterns:**\n",
        "   - **Europe** and **North America** show the most pronounced warming trends, particularly noticeable from the 1990s onwards. The deep red colors in these regions after 2000 highlight significant temperature increases, which aligns with their more rapid warming rates observed in previous charts.\n",
        "   - **Asia** and **Africa** also exhibit warming, but with slightly less intensity compared to Europe and North America. However, the trend is still clear, with temperatures shifting from blue to red over time.\n",
        "   - **Oceania** and **South America** display a similar pattern of warming, though with more variability and slightly less intense changes in temperature. The less consistent patterns may reflect the influence of oceanic and other regional climatic factors.\n",
        "\n",
        "3. **Acceleration of Warming After 2000:**\n",
        "   - The transition to warmer temperatures becomes particularly pronounced after 2000 across most continents. This aligns with the period of accelerated global industrial activity and greenhouse gas emissions, which have driven significant climate changes in recent decades.\n",
        "   - The deepening red colors in Europe and North America, in particular, highlight a marked increase in temperature anomalies, pointing to a period of rapid warming.\n",
        "\n",
        "4. **Regional Climate Sensitivity:**\n",
        "   - The heatmap suggests that some continents, like Europe and North America, may be more sensitive to global warming, showing more intense and consistent temperature increases over time.\n",
        "   - Africa and Asia also show clear warming trends, but with some regions experiencing more moderate changes, possibly due to regional climate variability and different levels of industrialization.\n",
        "\n",
        "5. **Temporal Patterns:**\n",
        "   - The shift from blue to red over the decades indicates a clear temporal pattern of increasing temperatures, with the most intense warming occurring in the last two decades. This trend is consistent with the broader understanding of climate change, where the last few decades have seen the most significant increases in global temperatures.\n",
        "\n",
        "<hr />\n",
        "\n",
        "#### Conclusion:\n",
        "This heatmap effectively illustrates the global nature of climate change, with all continents experiencing a shift from cooler to warmer temperatures over the past 60 years. The increasing intensity of red in recent years underscores the urgency of addressing climate change, as the impacts are becoming more pronounced and widespread. The differences in warming patterns among continents also suggest that regional strategies may be needed to address the specific climate challenges faced by different parts of the world.\n",
        "\n",
        "</div>\n",
        "</div>"
      ],
      "metadata": {
        "id": "prgblhKx3xAg"
      }
    },
    {
      "cell_type": "markdown",
      "source": [
        "---\n",
        "\n",
        "### Visualising temperature changes across the six continents per decade\n",
        "\n",
        "---"
      ],
      "metadata": {
        "id": "71O0F1Pr3xAh"
      }
    },
    {
      "cell_type": "code",
      "source": [
        "# Update the list of decades based on available data\n",
        "decades = ['1960s', '1970s', '1980s', '1990s', '2000s', '2010s', '2020s']\n",
        "\n",
        "# Ensure the data is correctly grouped by continent and decade\n",
        "decade_data = {}\n",
        "\n",
        "# Aggregate temperature data by continent and decade\n",
        "for continent in continent_data.index:\n",
        "    decade_data[continent] = []\n",
        "    for decade in decades:\n",
        "        start_year = int(decade[:4])\n",
        "        end_year = start_year + 10\n",
        "        decade_years = [f\"F{year}\" for year in range(start_year, min(end_year, 2023)) if f\"F{year}\" in available_year_columns]\n",
        "\n",
        "        # Calculate the average for the decade\n",
        "        if len(decade_years) > 0:\n",
        "            avg_temp = continent_data.loc[continent, decade_years].mean()\n",
        "            decade_data[continent].append(avg_temp)\n",
        "        else:\n",
        "            decade_data[continent].append(None)\n",
        "\n",
        "# Convert the dictionary to a DataFrame\n",
        "decade_df = pd.DataFrame(decade_data, index=decades)\n",
        "\n"
      ],
      "metadata": {
        "trusted": true,
        "id": "_T51-vry3xAh"
      },
      "execution_count": null,
      "outputs": []
    },
    {
      "cell_type": "code",
      "source": [
        "color_map_cont = {\n",
        "    'Africa': 'goldenrod',\n",
        "    'Asia' : 'green',\n",
        "    'Europe': 'red',\n",
        "    'North America': 'dodgerblue',\n",
        "    'Oceania': 'purple',\n",
        "    'South America': 'brown'\n",
        "}\n",
        "# Plotting the temperature trends per decade for each continent\n",
        "plt.figure(figsize=(12, 8))\n",
        "\n",
        "for continent in decade_df.columns:\n",
        "    plt.plot(decade_df.index, decade_df[continent], marker='o', linestyle='-', color=color_map_cont[continent], label=continent)\n",
        "\n",
        "plt.title('Temperature Trends Across Continents Per Decade (1960-2020)')\n",
        "plt.xlabel('Decade')\n",
        "plt.ylabel('Average Temperature Change (°C)')\n",
        "plt.legend()\n",
        "plt.grid(True)\n",
        "plt.show()"
      ],
      "metadata": {
        "trusted": true,
        "id": "Po0dbL7R3xAj"
      },
      "execution_count": null,
      "outputs": []
    },
    {
      "cell_type": "markdown",
      "source": [
        "<div style=\"padding: 15px; border: 1px solid dodgerblue; border-radius: 5px; background-color: aliceblue\">\n",
        "\n",
        "<p>\n",
        "This chart illustrates the average temperature change across different continents (Africa, Asia, Europe, North America, South America, and Oceania) per decade from the 1960s to the 2020s. The temperature change is measured in degrees Celsius (°C), and the trends are displayed for each decade.\n",
        "</p>\n",
        "\n",
        "\n",
        "\n",
        "<div style=\"padding: 15px; border-radius: 5px; background-color: white\">\n",
        "\n",
        "#### Insights:\n",
        "\n",
        "1. **Overall Increase in Temperature Across All Continents:**\n",
        "The chart clearly shows that every continent has experienced a steady increase in average temperature change over the decades. This consistent upward trend across all regions highlights the global impact of climate change.\n",
        "\n",
        "3. **Europe and North America Lead in Temperature Increase:**\n",
        "   - **Europe** (red) shows the most significant increase, particularly after the 1980s. By the 2020s, Europe's average temperature change has reached nearly 2°C, indicating a more rapid rate of warming compared to other continents.\n",
        "   - **North America** (dodgerblue \\[blue]) follows closely behind Europe, also showing a significant increase in temperature, especially after the 1990s.\n",
        "\n",
        "4. **Other Continents Exhibit Similar Warming Patterns:**\n",
        "   - **Asia** (green), **Africa** (goldenrod \\[gold/yellow]), **South America** (brown), and **Oceania** (purple) all show similar trends, with a steady rise in temperature over the decades. While the increase is less pronounced than in Europe and North America, the upward trend is still significant.\n",
        "\n",
        "5. **Acceleration of Warming in Recent Decades:**\n",
        "   - The most substantial increases in temperature occur from the 1990s onwards, reflecting the accelerating impact of global warming. This period coincides with significant industrial activity, increased greenhouse gas emissions, and other factors that have contributed to the rapid rise in global temperatures.\n",
        "   - The 2000s and 2010s show the most pronounced differences between the continents, with Europe and North America experiencing the highest temperature changes, indicating that these regions may be more sensitive to climate change or have higher levels of emissions and industrial activity.\n",
        "\n",
        "6. **Regional Differences in Climate Sensitivity:**\n",
        "   - The differences in the rate of temperature increase among the continents suggest that some regions may be more vulnerable or responsive to global warming. For instance, Europe and North America have seen faster and more intense warming, possibly due to their geographic location, climate systems, or levels of industrialization.\n",
        "   - Other continents, like Oceania and South America, exhibit a more gradual increase, which could be due to different regional climate patterns or slower rates of industrial growth.\n",
        "\n",
        "<hr />\n",
        "\n",
        "#### Conclusion:\n",
        "The chart provides a clear visual representation of how global warming has affected different continents over time, with Europe and North America showing the most significant increases in temperature. The accelerating trend across all continents, especially in recent decades, underscores the urgency of global climate action to mitigate the impact of rising temperatures. This data is a stark reminder that while the effects of climate change may vary by region, they are universally felt and require coordinated efforts to address.\n",
        "\n",
        "</div>\n",
        "</div>"
      ],
      "metadata": {
        "id": "8fxru0e13xAj"
      }
    },
    {
      "cell_type": "markdown",
      "source": [
        "---\n",
        "\n",
        "### Zooming into temperature changes for a particular country eg. (Ghana) over the years\n",
        "\n",
        "---"
      ],
      "metadata": {
        "id": "THHGSzCM3xAk"
      }
    },
    {
      "cell_type": "code",
      "source": [
        "# Specify a country\n",
        "country_study = 'Ghana'\n",
        "\n",
        "# Filter the data for the selected country\n",
        "country_specific = climate_data[climate_data['Country'] == country_study]"
      ],
      "metadata": {
        "trusted": true,
        "id": "D3W_Lkz53xAl"
      },
      "execution_count": null,
      "outputs": []
    },
    {
      "cell_type": "code",
      "source": [
        "# Plotting the temperature trends with specific colors\n",
        "plt.figure(figsize=(12, 8))\n",
        "\n",
        "country_specific = country_specific[country_specific['Country'] == country_study]\n",
        "country_temperatures = country_specific[year_columns].values.flatten()\n",
        "plt.plot(years, country_temperatures, marker='o', linestyle='-', label=country_study)\n",
        "\n",
        "plt.title(f'Temperature Trends in {country_study} (1961-2022)')\n",
        "plt.xlabel('Year')\n",
        "plt.ylabel('Temperature Change (°C)')\n",
        "plt.legend()\n",
        "plt.grid(True)\n",
        "plt.show()"
      ],
      "metadata": {
        "trusted": true,
        "id": "z93E2lTD3xAn"
      },
      "execution_count": null,
      "outputs": []
    },
    {
      "cell_type": "markdown",
      "source": [
        "<div style=\"padding: 15px; border: 1px solid dodgerblue; border-radius: 5px; background-color: aliceblue\">\n",
        "\n",
        "<p>\n",
        "This chart displays the temperature trends in Ghana from 1961 to 2022, with the temperature change measured in degrees Celsius (°C). The trend over time is visualized, highlighting how the average temperature in Ghana has varied and generally increased over the past six decades.\n",
        "</p>\n",
        "\n",
        "\n",
        "<div style=\"padding: 15px; border-radius: 5px; background-color: white\">\n",
        "    \n",
        "#### Summary of Analysis:\n",
        "\n",
        "1. **Long-Term Warming Trend:**\n",
        "   - The chart shows a clear long-term increase in average temperature in Ghana from 1961 to 2022. This is consistent with global warming patterns observed in other parts of the world.\n",
        "\n",
        "2. **Early Years (1960s to 1970s):**\n",
        "   - In the early decades, particularly in the 1960s and 1970s, temperature fluctuations are evident, with several years experiencing slight cooling (negative temperature change). However, overall, the temperatures start to trend upwards.\n",
        "\n",
        "3. **Increasing Temperature Variability (1980s to 1990s):**\n",
        "   - The 1980s and 1990s show more pronounced variability in temperature, with some years experiencing sharp increases followed by decreases. This indicates more significant fluctuations in temperature, which might be related to both natural variability and the initial impacts of climate change.\n",
        "\n",
        "4. **Significant Warming in Recent Decades (2000s to 2020s):**\n",
        "   - The most noticeable trend is the sharp increase in temperatures from the 2000s onwards. The temperature change remains consistently positive and climbs steadily, indicating a strong warming trend. By 2022, the temperature change reaches around 1.5°C, a substantial increase compared to earlier decades.\n",
        "\n",
        "5. **Implications for Ghana:**\n",
        "   - The increasing temperatures could have significant implications for Ghana, including potential impacts on agriculture, water resources, and human health. The trend suggests that Ghana is experiencing the effects of global climate change, which may exacerbate issues related to droughts, heatwaves, and other climate-related challenges.\n",
        "\n",
        "\n",
        "<hr />    \n",
        "    \n",
        "#### Conclusion:\n",
        "   - The chart provides strong evidence that Ghana is warming, with the most significant increases in temperature occurring in the last two decades. This trend aligns with global patterns of climate change and highlights the importance of climate adaptation and mitigation strategies in Ghana to address the potential impacts of rising temperatures.\n",
        "  \n",
        "</div>\n",
        "</div>"
      ],
      "metadata": {
        "id": "8i0_q8Qe3xAn"
      }
    },
    {
      "cell_type": "markdown",
      "source": [
        "<a id=\"data_eng\"></a>\n",
        "\n",
        "## 5. Data Engineering\n",
        "\n",
        "<a href=\"#content\">\n",
        "    Back to Table of Contents\n",
        "</a>\n",
        "\n",
        "---\n",
        "\n",
        "⚡ Preparing and restructuring the climate data for modelling\n",
        "\n",
        "---\n",
        "\n"
      ],
      "metadata": {
        "id": "a4PD8IGz3xAn"
      }
    },
    {
      "cell_type": "markdown",
      "source": [
        "---\n",
        "\n",
        "### Continent data\n",
        "\n",
        "---"
      ],
      "metadata": {
        "id": "c9Tc-Arb3xAo"
      }
    },
    {
      "cell_type": "code",
      "source": [
        "continent_data"
      ],
      "metadata": {
        "trusted": true,
        "id": "ygFdcWM53xAp"
      },
      "execution_count": null,
      "outputs": []
    },
    {
      "cell_type": "markdown",
      "source": [
        "---\n",
        "\n",
        "### Country data\n",
        "\n",
        "---"
      ],
      "metadata": {
        "id": "y4mW5hZc3xAq"
      }
    },
    {
      "cell_type": "code",
      "source": [
        "available_countries = [col for col in climate_data['Country']]"
      ],
      "metadata": {
        "trusted": true,
        "id": "2xC6v3qN3xAs"
      },
      "execution_count": null,
      "outputs": []
    },
    {
      "cell_type": "code",
      "source": [
        "country_data = pd.DataFrame(index=available_countries, columns=available_year_columns)\n",
        "for country in available_countries:\n",
        "    # Filter the climate_data for the current country and select the desired columns\n",
        "    country_row = climate_data[climate_data['Country'] == country][available_year_columns]\n",
        "\n",
        "    # Assign the selected row to the country_data DataFrame\n",
        "    country_data.loc[country] = country_row.values.flatten()\n",
        "\n"
      ],
      "metadata": {
        "trusted": true,
        "id": "cWc2awVn3xAs"
      },
      "execution_count": null,
      "outputs": []
    },
    {
      "cell_type": "code",
      "source": [
        "country_data = country_data.apply(pd.to_numeric, errors='coerce')\n",
        "country_data"
      ],
      "metadata": {
        "trusted": true,
        "id": "jxOulG823xAt"
      },
      "execution_count": null,
      "outputs": []
    },
    {
      "cell_type": "code",
      "source": [
        "# Select the temperature data for a specific continent (e.g., Asia)\n",
        "continent = 'Africa'\n",
        "continent_series = continent_data.loc[continent].dropna()"
      ],
      "metadata": {
        "trusted": true,
        "id": "52s4tgyi3xAu"
      },
      "execution_count": null,
      "outputs": []
    },
    {
      "cell_type": "code",
      "source": [
        "country = 'Ghana'\n",
        "country_series = country_data.loc[country].dropna()"
      ],
      "metadata": {
        "trusted": true,
        "id": "Az0f37g03xAv"
      },
      "execution_count": null,
      "outputs": []
    },
    {
      "cell_type": "code",
      "source": [
        "country_series"
      ],
      "metadata": {
        "trusted": true,
        "id": "K-OYzrjQ3xAw"
      },
      "execution_count": null,
      "outputs": []
    },
    {
      "cell_type": "code",
      "source": [
        "continent_series"
      ],
      "metadata": {
        "trusted": true,
        "id": "tWbhthIA3xAw"
      },
      "execution_count": null,
      "outputs": []
    },
    {
      "cell_type": "markdown",
      "source": [
        "<a id=\"modelling\"></a>\n",
        "\n",
        "## 6. Model-building\n",
        "\n",
        "<a href=\"#content\">\n",
        "    Back to Table of Contents\n",
        "</a>\n",
        "\n",
        "---\n",
        "\n",
        "⚡ Building a climate change model based on ARIMA and data specific to Africa (for continent) and Ghana (for country) that predicts temperatures for subsequent years\n",
        "\n",
        "---\n",
        "\n"
      ],
      "metadata": {
        "id": "ZXklPc4n3xAx"
      }
    },
    {
      "cell_type": "code",
      "source": [
        "# help(ARIMA)"
      ],
      "metadata": {
        "trusted": true,
        "id": "gCBJblPQ3xAy"
      },
      "execution_count": null,
      "outputs": []
    },
    {
      "cell_type": "markdown",
      "source": [
        "---\n",
        "\n",
        "### Continent model - Africa\n",
        "\n",
        "---"
      ],
      "metadata": {
        "id": "92KH5PHs3xAz"
      }
    },
    {
      "cell_type": "code",
      "source": [
        "\n",
        "# Fit the ARIMA model\n",
        "continent_model = ARIMA(continent_series, order=(7, 1, 1))  # ARIMA parameters (p, d, q)\n",
        "continent_model_fit = continent_model.fit()\n"
      ],
      "metadata": {
        "trusted": true,
        "id": "CpGcFcdJ3xA0"
      },
      "execution_count": null,
      "outputs": []
    },
    {
      "cell_type": "markdown",
      "source": [
        "---\n",
        "\n",
        "### Country model - Ghana\n",
        "\n",
        "---"
      ],
      "metadata": {
        "id": "3fosSPud3xA0"
      }
    },
    {
      "cell_type": "code",
      "source": [
        "# Fit the ARIMA model\n",
        "country_model = ARIMA(country_series, order=(7, 1, 1))  # ARIMA parameters (p, d, q)\n",
        "country_model_fit = country_model.fit()"
      ],
      "metadata": {
        "trusted": true,
        "id": "KsWMvXMV3xA1"
      },
      "execution_count": null,
      "outputs": []
    },
    {
      "cell_type": "markdown",
      "source": [
        "---\n",
        "\n",
        "### Continent model prediction for the next 10 years\n",
        "\n",
        "---"
      ],
      "metadata": {
        "id": "6Xo4DltA3xA2"
      }
    },
    {
      "cell_type": "code",
      "source": [
        "# Generate predictions for the next 10 years (2023-2032)\n",
        "forecast_years_continent = [f'F{year}' for year in range(2023, 2033)]\n",
        "forecast_continent = continent_model_fit.forecast(steps=10)\n",
        "forecast_continent.index = forecast_years_continent"
      ],
      "metadata": {
        "trusted": true,
        "id": "BzsDOcYl3xA2"
      },
      "execution_count": null,
      "outputs": []
    },
    {
      "cell_type": "markdown",
      "source": [
        "---\n",
        "\n",
        "### Country model prediction for the next 10 years\n",
        "\n",
        "---"
      ],
      "metadata": {
        "id": "oGrvxQhh3xA3"
      }
    },
    {
      "cell_type": "code",
      "source": [
        "# Generate predictions for the next 10 years (2023-2032)\n",
        "forecast_years_country = [f'F{year}' for year in range(2023, 2033)]\n",
        "forecast_country = country_model_fit.forecast(steps=10)\n",
        "forecast_country.index = forecast_years_country"
      ],
      "metadata": {
        "trusted": true,
        "id": "ESAlwxAz3xA4"
      },
      "execution_count": null,
      "outputs": []
    },
    {
      "cell_type": "markdown",
      "source": [
        "---\n",
        "\n",
        "### Visualising continent historical with predicted data\n",
        "\n",
        "---"
      ],
      "metadata": {
        "id": "zmiHwhVM3xA4"
      }
    },
    {
      "cell_type": "code",
      "source": [
        "\n",
        "# Combine historical data with predictions for visualization\n",
        "combined_continent_series = pd.concat([continent_series, forecast_continent])\n",
        "\n",
        "# Plot the results\n",
        "plt.figure(figsize=(10, 6))\n",
        "plt.plot(combined_continent_series.index, combined_continent_series, marker='o', linestyle='-', color='blue', label='Observed & Forecasted')\n",
        "plt.axvline(x='F2022', color='red', linestyle='--', label='Forecast Start')\n",
        "plt.title(f'ARIMA Forecast for {continent} Temperature Trends (1961-2032)')\n",
        "plt.xlabel('Year')\n",
        "plt.ylabel('Temperature Change (°C)')\n",
        "plt.legend()\n",
        "plt.grid(True)\n",
        "\n",
        "# Rotate the x-axis labels vertically\n",
        "plt.xticks(rotation=90)\n",
        "\n",
        "plt.show()\n"
      ],
      "metadata": {
        "trusted": true,
        "id": "qqWz523Y3xA5"
      },
      "execution_count": null,
      "outputs": []
    },
    {
      "cell_type": "markdown",
      "source": [
        "<div style=\"padding: 15px; border: 1px solid dodgerblue; border-radius: 5px; background-color: aliceblue\">\n",
        "\n",
        "<p>\n",
        "This chart presents the ARIMA forecast for Africa's temperature trends from 1961 to 2032, focusing on temperature changes (in °C) over time. The chart contains both observed and forecasted data, with the vertical red dashed line indicating the start of the forecast period.\n",
        "</p>\n",
        "\n",
        "\n",
        "\n",
        "<div style=\"padding: 15px; border-radius: 5px; background-color: white\">\n",
        "    \n",
        "#### Summary of Analysis:\n",
        "\n",
        "1. **Observed Data (1961–2022):**\n",
        "   - The data up to the red dashed line reflects the historical observations from 1961 to approximately 2022. The chart shows an overall upward trend in temperature changes, with noticeable year-to-year variability.\n",
        "   - Similar to the previous graph for Ghana, the temperature trend exhibits a gradual increase over time, with certain periods of sharp rises and occasional minor decreases.\n",
        "   - The temperature increase is particularly evident from the 1990s onwards, indicating that warming has accelerated in recent decades.\n",
        "\n",
        "2. **Forecasted Data (2023–2032):**\n",
        "   - Starting from the red dashed line (around 2022), the ARIMA model projects future temperature changes for Africa until 2032.\n",
        "   - The forecasted trend suggests a continued increase in temperatures, maintaining the upward trajectory that was observed in the historical data.\n",
        "   - The projected temperature rise stabilizes around 1.2–1.4°C by 2032, which indicates persistent warming. Although there is still some variation, the forecast suggests less extreme fluctuations compared to the historical period.\n",
        "\n",
        "3. **Implications for Africa:**\n",
        "   - The chart clearly points to a future where temperatures in Africa are expected to continue rising. This may have significant consequences for the region, such as increased frequency and intensity of heatwaves, droughts, and other climate-related events.\n",
        "   - The forecast underscores the importance of climate mitigation and adaptation strategies to address the anticipated challenges that could arise from these warming trends.\n",
        "\n",
        "4. **Model Performance:**\n",
        "   - ARIMA (Auto-Regressive Integrated Moving Average) models are commonly used for time-series forecasting, and the results here appear to capture both historical trends and provide reasonable future projections. However, real-world events and unforeseen climate factors could cause deviations from this forecast.\n",
        "\n",
        "<hr />\n",
        "    \n",
        "#### Conclusion:\n",
        "   - The ARIMA forecast in this chart highlights a concerning trend of continued warming in Africa, with temperature increases projected to persist through 2032. This forecast emphasizes the need for ongoing efforts to mitigate the impacts of climate change on the continent.\n",
        "  \n",
        "</div>\n",
        "</div>"
      ],
      "metadata": {
        "id": "tyrRxkL53xA6"
      }
    },
    {
      "cell_type": "markdown",
      "source": [
        "---\n",
        "\n",
        "### Visualising country historical data with predicted data\n",
        "\n",
        "---"
      ],
      "metadata": {
        "id": "vZtbn0F-3xA7"
      }
    },
    {
      "cell_type": "code",
      "source": [
        "\n",
        "# Combine historical data with predictions for visualization\n",
        "combined_country_series = pd.concat([continent_series, forecast_country])\n",
        "\n",
        "# Plot the results\n",
        "plt.figure(figsize=(10, 6))\n",
        "plt.plot(combined_country_series.index, combined_country_series, marker='o', linestyle='-', color='blue', label='Observed & Forecasted')\n",
        "plt.axvline(x='F2022', color='red', linestyle='--', label='Forecast Start')\n",
        "plt.title(f'ARIMA Forecast for {country} Temperature Trends (1961-2032)')\n",
        "plt.xlabel('Year')\n",
        "plt.ylabel('Temperature Change (°C)')\n",
        "plt.legend()\n",
        "plt.grid(True)\n",
        "\n",
        "# Rotate the x-axis labels vertically\n",
        "plt.xticks(rotation=90)\n",
        "\n",
        "plt.show()\n"
      ],
      "metadata": {
        "trusted": true,
        "id": "xoqqdWzY3xA7"
      },
      "execution_count": null,
      "outputs": []
    },
    {
      "cell_type": "markdown",
      "source": [
        "<div style=\"padding: 15px; border: 1px solid dodgerblue; border-radius: 5px; background-color: aliceblue\">\n",
        "\n",
        "<p>\n",
        "This chart presents an ARIMA forecast for Ghana's temperature trends from 1961 to 2032, showing the observed and forecasted temperature changes in °C.\n",
        "</p>\n",
        "\n",
        "\n",
        "\n",
        "<div style=\"padding: 15px; border-radius: 5px; background-color: white\">\n",
        "    \n",
        "#### Key Observations:\n",
        "\n",
        "1. **Observed Data (1961–2022):**\n",
        "   - Similar to the previous chart for Africa, this shows historical temperature changes for Ghana until around 2022, before the forecast period starts (marked by the red dashed line).\n",
        "   - The historical data indicates a clear upward trend in temperatures over time, with fluctuations. The trendline shows gradual warming, punctuated by periods of sharp increases and occasional dips.\n",
        "   - From approximately the 1990s onward, there is a more noticeable and consistent rise in temperatures, reflecting a warming trend.\n",
        "     \n",
        "2. **Forecasted Data (2023–2032):**\n",
        "   - The forecasted period shows a continued rise in temperature through 2032. The forecast suggests that Ghana will experience a temperature change exceeding 1.2°C by the end of the period.\n",
        "   - While the observed data had notable year-to-year variability, the forecast suggests a slightly smoother increase in temperature, with fewer extreme fluctuations.\n",
        "   - The projected stabilization around 1.2°C suggests persistent warming, but at a less volatile rate than in the historical data.\n",
        "\n",
        "3. **Implications for Africa:**\n",
        "   - This temperature increase, as forecasted, could have significant environmental, agricultural, and socio-economic impacts on Ghana. Warming temperatures may lead to more frequent heatwaves, shifts in rainfall patterns, and potential threats to agriculture and water resources.\n",
        "   - As in other regions, the forecasted trends for Ghana highlight the importance of preparing for climate adaptation and addressing the challenges posed by rising temperatures.\n",
        "\n",
        "4. **Model Insights:**\n",
        "   - The ARIMA model effectively captures both historical variability and future projections, though actual future temperatures could be influenced by unforeseen events or shifts in global climate patterns.\n",
        "   - Ghana’s temperature changes seem to follow a trajectory similar to the African continent overall, with local variations in the degree and timing of temperature increases.\n",
        "\n",
        "\n",
        "<hr />\n",
        "    \n",
        "#### Conclusion:\n",
        "   - The ARIMA model projects that Ghana's temperatures will continue to rise, reaching about 1.2°C above the baseline by 2032. This reflects broader regional trends of increasing temperatures, and the forecast underscores the need for climate action and resilience planning in the country.\n",
        "  \n",
        "</div>\n",
        "</div>"
      ],
      "metadata": {
        "id": "ofDlWJo-3xA8"
      }
    },
    {
      "cell_type": "code",
      "source": [
        "\n",
        "combined_continent_series.tail(10)  # Show the predicted values for the next 10 years in Africa\n"
      ],
      "metadata": {
        "trusted": true,
        "id": "g-Vyxq_W3xA9"
      },
      "execution_count": null,
      "outputs": []
    },
    {
      "cell_type": "code",
      "source": [
        "\n",
        "combined_country_series.tail(10)  # Show the predicted values for the next 10 years in Ghana\n"
      ],
      "metadata": {
        "trusted": true,
        "id": "ZQJ7TTi53xA9"
      },
      "execution_count": null,
      "outputs": []
    },
    {
      "cell_type": "markdown",
      "source": [
        "<a id=\"performance\"></a>\n",
        "\n",
        "## 7. Model performance\n",
        "\n",
        "<a href=\"#content\">\n",
        "    Back to Table of Contents\n",
        "</a>\n",
        "\n",
        "---\n",
        "\n",
        "⚡ Using performance metrics to measure the model accuracy\n",
        "\n",
        "---\n",
        "\n"
      ],
      "metadata": {
        "id": "QUkR_ho63xA-"
      }
    },
    {
      "cell_type": "code",
      "source": [
        "\n",
        "residuals = continent_model_fit.resid\n",
        "plt.figure(figsize=(10, 6))\n",
        "plt.plot(residuals)\n",
        "plt.title('Residuals from ARIMA Model')\n",
        "# Rotate the x-axis labels vertically\n",
        "plt.xticks(rotation=90)\n",
        "plt.show()\n"
      ],
      "metadata": {
        "trusted": true,
        "id": "0z2vSOGp3xA_"
      },
      "execution_count": null,
      "outputs": []
    },
    {
      "cell_type": "markdown",
      "source": [
        "<div style=\"padding: 15px; border: 1px solid dodgerblue; border-radius: 5px; background-color: aliceblue\">\n",
        "\n",
        "<p>\n",
        "The residuals from the Continent (Africa) ARIMA model, as shown in the plot, provide insights into the model's performance and whether it captures the underlying data effectively.\n",
        "</p>\n",
        "\n",
        "\n",
        "\n",
        "<div style=\"padding: 15px; border-radius: 5px; background-color: white\">\n",
        "    \n",
        "#### Analysis:\n",
        "\n",
        "1. **Mean-Centered Residuals:**\n",
        "   - The residuals fluctuate around zero, which is ideal in time series models. This suggests that, on average, the ARIMA model has not systematically under- or overestimated the temperature trends.\n",
        "     \n",
        "2. **No Apparent Trend:**\n",
        "   - The residuals do not display any obvious upward or downward trends, which indicates that the model has successfully captured the main trend in the data. If a trend were present, it would suggest that the ARIMA model had missed an important aspect of the data.\n",
        "\n",
        "3. **Heteroscedasticity:**\n",
        "   - While the residuals vary over time, there doesn't appear to be a clear pattern of increasing or decreasing variance (heteroscedasticity). If there were increasing variance, it could mean that the model becomes less reliable over time.\n",
        "\n",
        "4. **High Variability:**\n",
        "   - The residuals show substantial fluctuations, with some large spikes both positively and negatively. This could indicate that while the ARIMA model has captured the general trend, it may not fully account for all the variability in the data, possibly due to external factors or noise not captured in the model.\n",
        "\n",
        "5. **Autocorrelation and Patterns:**\n",
        "   - A further step would be to check for autocorrelation within the residuals (e.g., using an autocorrelation plot). If residuals are correlated, it suggests that the ARIMA model has not fully captured all patterns in the data, and additional lags or differencing terms may be necessary.\n",
        "\n",
        "<hr />\n",
        "\n",
        "#### Conclusion:\n",
        "   - The ARIMA model appears to perform reasonably well, as the residuals are mean-centered, and there is no obvious trend or systematic error. However, the high variability in the residuals might indicate the need for potential refinement, such as exploring more complex models or incorporating external regressors to reduce noise.\n",
        "  \n",
        "</div>\n",
        "</div>"
      ],
      "metadata": {
        "id": "cvBUFHJi3xBA"
      }
    },
    {
      "cell_type": "code",
      "source": [
        "\n",
        "residuals_country = country_model_fit.resid\n",
        "plt.figure(figsize=(10, 6))\n",
        "plt.plot(residuals_country)\n",
        "plt.title('Residuals from ARIMA Country Model')\n",
        "# Rotate the x-axis labels vertically\n",
        "plt.xticks(rotation=90)\n",
        "plt.show()\n"
      ],
      "metadata": {
        "trusted": true,
        "id": "2Jri3Hgl3xBA"
      },
      "execution_count": null,
      "outputs": []
    },
    {
      "cell_type": "code",
      "source": [
        "# model = ARIMA(continent_series, order=(7, 2, 1))  # ARIMA parameters (p, d, q)\n",
        "residuals.plot(kind='kde')\n",
        "plt.title('Residual Density Plot')\n",
        "plt.show()"
      ],
      "metadata": {
        "trusted": true,
        "id": "wlVUw6Vn3xBB"
      },
      "execution_count": null,
      "outputs": []
    },
    {
      "cell_type": "code",
      "source": [
        "# model = ARIMA(country_series, order=(7, 2, 1))  # ARIMA parameters (p, d, q)\n",
        "residuals_country.plot(kind='kde')\n",
        "plt.title('Country Residual Density Plot')\n",
        "plt.show()"
      ],
      "metadata": {
        "trusted": true,
        "id": "DjMoWouO3xBB"
      },
      "execution_count": null,
      "outputs": []
    },
    {
      "cell_type": "markdown",
      "source": [
        "### Continent Accuracy"
      ],
      "metadata": {
        "id": "w0CkNUvW3xBB"
      }
    },
    {
      "cell_type": "code",
      "source": [
        "\n",
        "mae = mean_absolute_error(continent_series[-len(residuals):], continent_model_fit.fittedvalues)\n",
        "print(f'Continent Mean Absolute Error: {mae}')\n"
      ],
      "metadata": {
        "trusted": true,
        "id": "Bf2uHy7S3xBB"
      },
      "execution_count": null,
      "outputs": []
    },
    {
      "cell_type": "code",
      "source": [
        "\n",
        "mse = mean_squared_error(continent_series[-len(residuals):], continent_model_fit.fittedvalues)\n",
        "print(f'Continent Mean Squared Error: {mse}')\n"
      ],
      "metadata": {
        "trusted": true,
        "id": "sPgbA_wh3xBB"
      },
      "execution_count": null,
      "outputs": []
    },
    {
      "cell_type": "code",
      "source": [
        "rmse = np.sqrt(mse)\n",
        "print(f'Continent Root Mean Squared Error: {rmse}')\n"
      ],
      "metadata": {
        "trusted": true,
        "id": "iFAZuftv3xBC"
      },
      "execution_count": null,
      "outputs": []
    },
    {
      "cell_type": "code",
      "source": [
        "# Predict in-sample (on the training data)\n",
        "continent_predictions = continent_model_fit.predict(start=1, end=len(continent_series), typ='levels')\n"
      ],
      "metadata": {
        "trusted": true,
        "id": "ZZZV0wW83xBC"
      },
      "execution_count": null,
      "outputs": []
    },
    {
      "cell_type": "code",
      "source": [
        "# Calculate R² score\n",
        "r2 = r2_score(continent_series[1:], continent_predictions[1:])  # Exclude the first point because ARIMA predict starts from index 1\n",
        "print(f'Continent R² Score: {r2}')"
      ],
      "metadata": {
        "trusted": true,
        "id": "YHGphdf53xBC"
      },
      "execution_count": null,
      "outputs": []
    },
    {
      "cell_type": "code",
      "source": [
        "# First\n",
        "# model = ARIMA(continent_series, order=(5, 1, 0))  # ARIMA parameters (p, d, q)\n",
        "# Mean Absolute Error: 0.1524796445780324\n",
        "# Mean Squared Error: 0.03677240295916035\n",
        "# Root Mean Squared Error: 0.1917613176820611\n",
        "# R² Score: 0.8738133431312158\n",
        "\n",
        "# Second\n",
        "# model = ARIMA(continent_series, order=(7, 2, 1))  # ARIMA parameters (p, d, q)\n",
        "# Mean Absolute Error: 0.1498938714110211\n",
        "# Mean Squared Error: 0.03505845305749636\n",
        "# Root Mean Squared Error: 0.18723902653425742\n",
        "# R² Score: 0.840192078246505\n",
        "\n",
        "# Third\n",
        "# model = ARIMA(continent_series, order=(6, 2, 1))  # ARIMA parameters (p, d, q)\n",
        "# Mean Absolute Error: 0.1494478653452113\n",
        "# Mean Squared Error: 0.03539841699741596\n",
        "# Root Mean Squared Error: 0.1881446703933331\n",
        "# R² Score: 0.8579029759435071\n",
        "\n",
        "# Fourth\n",
        "# model = ARIMA(continent_series, order=(5, 1, 1))  # ARIMA parameters (p, d, q)\n",
        "# Mean Absolute Error: 0.15195174989957566\n",
        "# Mean Squared Error: 0.03669754729360665\n",
        "# Root Mean Squared Error: 0.1915660389881428\n",
        "# R² Score: 0.8734101135217522\n",
        "\n",
        "# Fifth\n",
        "# model = ARIMA(continent_series, order=(6, 1, 1))  # ARIMA parameters (p, d, q)\n",
        "# Mean Absolute Error: 0.15044112373100743\n",
        "# Mean Squared Error: 0.03599876729929944\n",
        "# Root Mean Squared Error: 0.18973341113072162\n",
        "# R² Score: 0.869595063951439\n",
        "\n",
        "# Sixth\n",
        "# model = ARIMA(continent_series, order=(7, 1, 1))  # ARIMA parameters (p, d, q)\n",
        "# Mean Absolute Error: 0.1474285315925977\n",
        "# Mean Squared Error: 0.03347342476465636\n",
        "# Root Mean Squared Error: 0.1829574397630672\n",
        "# R² Score: 0.8500830587858229\n",
        "\n",
        "# Seventh\n",
        "# model = ARIMA(continent_series, order=(8, 1, 1))  # ARIMA parameters (p, d, q)\n",
        "# Mean Absolute Error: 0.1470587129681906\n",
        "# Mean Squared Error: 0.03310567903216963\n",
        "# Root Mean Squared Error: 0.18194966070913576\n",
        "# R² Score: 0.848389726541708\n",
        "\n",
        "# Eighth\n",
        "# model = ARIMA(continent_series, order=(9, 1, 1))  # ARIMA parameters (p, d, q\n",
        "# Mean Absolute Error: 0.15029703391322832\n",
        "# Mean Squared Error: 0.03480204363570089\n",
        "# Root Mean Squared Error: 0.18655305849999054\n",
        "# R² Score: 0.8619523243130178\n",
        "\n",
        "# Ninth\n",
        "# model = ARIMA(continent_series, order=(10, 1, 1))  # ARIMA parameters (p, d, q)\n",
        "# Mean Absolute Error: 0.14606950730161192\n",
        "# Mean Squared Error: 0.031605384138834285\n",
        "# Root Mean Squared Error: 0.17777903177493765\n",
        "# R² Score: 0.8420115310227937\n",
        "\n",
        "# Tenth\n",
        "# model = ARIMA(continent_series, order=(11, 1, 1))  # ARIMA parameters (p, d, q)\n",
        "# Mean Absolute Error: 0.14595712859178278\n",
        "# Mean Squared Error: 0.031601680368444435\n",
        "# Root Mean Squared Error: 0.17776861468899519\n",
        "# R² Score: 0.843083058024414\n",
        "\n",
        "# Eleventh\n",
        "# model = ARIMA(continent_series, order=(20, 1, 1))  # ARIMA parameters (p, d, q)\n",
        "# Mean Absolute Error: 0.13347787814426726\n",
        "# Mean Squared Error: 0.028349725761645166\n",
        "# Root Mean Squared Error: 0.16837376803304357\n",
        "# R² Score: 0.8111046030163367\n",
        "\n",
        "# Twelfth\n",
        "# model = ARIMA(continent_series, order=(25, 1, 1))  # ARIMA parameters (p, d, q)\n",
        "# Mean Absolute Error: 0.12933442988896562\n",
        "# Mean Squared Error: 0.02791222325729164\n",
        "# Root Mean Squared Error: 0.16706951624186753\n",
        "# R² Score: 0.805278969606791\n",
        "\n",
        "# Thirteenth\n",
        "# model = ARIMA(continent_series, order=(30, 1, 1))  # ARIMA parameters (p, d, q)\n",
        "# Mean Absolute Error: 0.12544034794498096\n",
        "# Mean Squared Error: 0.027084857214794478\n",
        "# Root Mean Squared Error: 0.16457477697021033\n",
        "# R² Score: 0.7922307119660194"
      ],
      "metadata": {
        "trusted": true,
        "id": "9ZKZsEC83xBC"
      },
      "execution_count": null,
      "outputs": []
    },
    {
      "cell_type": "markdown",
      "source": [
        "### Country Accuracy"
      ],
      "metadata": {
        "id": "HgeAZ7un3xBD"
      }
    },
    {
      "cell_type": "code",
      "source": [
        "\n",
        "mae_country = mean_absolute_error(country_series[-len(residuals_country):], country_model_fit.fittedvalues)\n",
        "print(f'Country Mean Absolute Error: {mae_country}')\n"
      ],
      "metadata": {
        "trusted": true,
        "id": "gDv58Yji3xBD"
      },
      "execution_count": null,
      "outputs": []
    },
    {
      "cell_type": "code",
      "source": [
        "\n",
        "mse_country = mean_squared_error(country_series[-len(residuals_country):], country_model_fit.fittedvalues)\n",
        "print(f'Country Mean Squared Error: {mse_country}')\n"
      ],
      "metadata": {
        "trusted": true,
        "id": "0_SQ5sQa3xBD"
      },
      "execution_count": null,
      "outputs": []
    },
    {
      "cell_type": "markdown",
      "source": [
        "## Visualising the data with a map"
      ],
      "metadata": {
        "id": "hs0hYAIM3xBE"
      }
    },
    {
      "cell_type": "code",
      "source": [
        "climate_subset = climate_data[[\n",
        "    'Country', 'ISO3', 'F1962', 'F1967', 'F1972', 'F1977', 'F1982', 'F1987',\n",
        "    'F1992', 'F1997', 'F2002', 'F2007', 'F2012', 'F2017', 'F2022'\n",
        "]]\n",
        "climate_subset.head()"
      ],
      "metadata": {
        "trusted": true,
        "id": "KGiz7xbt3xBE"
      },
      "execution_count": null,
      "outputs": []
    },
    {
      "cell_type": "code",
      "source": [
        "climate_subset = climate_subset.dropna().reset_index(drop = True).copy()"
      ],
      "metadata": {
        "trusted": true,
        "id": "jpJO5zj_3xBE"
      },
      "execution_count": null,
      "outputs": []
    },
    {
      "cell_type": "code",
      "source": [
        "# choosing columns for grouping\n",
        "I = climate_subset.iloc[:, 2:]\n",
        "list_inertia = []\n",
        "X_range = range(1, 11)\n",
        "\n",
        "#calculating inertia\n",
        "for X in X_range:\n",
        "    Xmeans = KMeans(n_clusters = X, n_init = 10, random_state = 42)\n",
        "    Xmeans.fit(I)\n",
        "    list_inertia.append(Xmeans.inertia_)\n"
      ],
      "metadata": {
        "trusted": true,
        "id": "DqhqwaID3xBF"
      },
      "execution_count": null,
      "outputs": []
    },
    {
      "cell_type": "code",
      "source": [
        "#plot\n",
        "plt.figure(figsize = (5, 3), facecolor = \"orange\")\n",
        "plt.plot(X_range, list_inertia, marker = \"o\", linestyle = '-')\n",
        "plt.xlabel('Number of Groupings (X)')\n",
        "plt.ylabel('Inertia')\n",
        "plt.title('Elbow Method for Optimal X')\n",
        "plt.grid(True)\n",
        "plt.show()"
      ],
      "metadata": {
        "trusted": true,
        "id": "sOST1Y853xBF"
      },
      "execution_count": null,
      "outputs": []
    },
    {
      "cell_type": "code",
      "source": [
        "n_clusters = 4\n",
        "kmeans = KMeans(n_clusters = n_clusters, n_init = 10, random_state = 42)\n",
        "climate_subset['Cluster'] = kmeans.fit_predict(I)\n",
        "\n",
        "#showings the clustered area\n",
        "display(climate_subset)"
      ],
      "metadata": {
        "trusted": true,
        "id": "fX2CYRyp3xBF"
      },
      "execution_count": null,
      "outputs": []
    },
    {
      "cell_type": "code",
      "source": [
        "# Load the world shapefile (geopandas comes with a basic one)\n",
        "df_subset = gpd.read_file(gpd.datasets.get_path('naturalearth_lowres'))\n"
      ],
      "metadata": {
        "trusted": true,
        "id": "okFGhM1_3xBF"
      },
      "execution_count": null,
      "outputs": []
    },
    {
      "cell_type": "code",
      "source": [
        "# Merge world GeoDataFrame with climate data on the country name\n",
        "df_subset['ISO3'] = df_subset['iso_a3']\n",
        "\n",
        "df_subset = pd.merge(df_subset, climate_subset, on = ['ISO3'], how = 'left')\n",
        "df_subset.head()\n",
        "# world_climate = world.merge(climate_data, how='left', left_on='name', right_on='country')\n"
      ],
      "metadata": {
        "trusted": true,
        "id": "PoSsSSQb3xBG"
      },
      "execution_count": null,
      "outputs": []
    },
    {
      "cell_type": "code",
      "source": [
        "# Plotting the map\n",
        "fig, ax = plt.subplots(1, 1, figsize=(15, 10))\n",
        "df_subset.boundary.plot(ax=ax)  # Plot country boundaries\n",
        "df_subset.plot(\n",
        "    column = df_subset['Cluster'], ax = ax,\n",
        "    legend = True,\n",
        "    legend_kwds = {\n",
        "        'label': \"Temperature Change (°C) Cluster\"\n",
        "    },\n",
        "    cmap='coolwarm'\n",
        ")\n",
        "ax.set_axis_off()\n",
        "# ax.set_title(\"Map of temperature clusters based on the Climate Change Indicator\")\n",
        "plt.title('Map of temperature clusters based on the Climate Change Indicator')\n",
        "plt.show()"
      ],
      "metadata": {
        "trusted": true,
        "id": "_6tk8UpT3xBI"
      },
      "execution_count": null,
      "outputs": []
    },
    {
      "cell_type": "code",
      "source": [
        "\n",
        "# Plotting the map\n",
        "fig, ax = plt.subplots(1, 1, figsize=(20, 15))\n",
        "df_subset.boundary.plot(ax=ax)  # Plot country boundaries\n",
        "df_subset.plot(\n",
        "    column=df_subset['Cluster'], ax=ax,\n",
        "    legend=True,\n",
        "    legend_kwds={'label': \"Temperature Change (°C) Cluster\"},\n",
        "    cmap='coolwarm'\n",
        ")\n",
        "\n",
        "# Annotate country/continent names\n",
        "for idx, row in df_subset.iterrows():\n",
        "    # Get the centroid of the geometry to place the text\n",
        "    centroid = row['geometry'].centroid\n",
        "    # Annotate the name (e.g., country name)\n",
        "    ax.annotate(text=row['name'], xy=(centroid.x, centroid.y),\n",
        "                horizontalalignment='center', fontsize=8, color='black', weight='bold')\n",
        "\n",
        "ax.set_axis_off()\n",
        "plt.title('Map of temperature clusters based on the Climate Change Indicator')\n",
        "plt.show()\n"
      ],
      "metadata": {
        "trusted": true,
        "id": "4jWpQSC53xBI"
      },
      "execution_count": null,
      "outputs": []
    },
    {
      "cell_type": "code",
      "source": [
        "# pip install folium\n"
      ],
      "metadata": {
        "trusted": true,
        "id": "4t1ikjm23xBI"
      },
      "execution_count": null,
      "outputs": []
    },
    {
      "cell_type": "code",
      "source": [
        "# pip install plotly\n"
      ],
      "metadata": {
        "trusted": true,
        "id": "wDcnLYOm3xBI"
      },
      "execution_count": null,
      "outputs": []
    },
    {
      "cell_type": "code",
      "source": [
        "\n",
        "# Assuming df_subset is a GeoDataFrame with geometry and 'Cluster' columns\n",
        "df_subset['country_name'] = df_subset['name']  # Ensure the country names are in a separate column\n",
        "\n",
        "# Plotly expects the GeoDataFrame to be converted to a GeoJSON format\n",
        "geojson = gpd.GeoSeries(df_subset['geometry']).__geo_interface__\n",
        "\n",
        "# Get the coolwarm colormap from Matplotlib\n",
        "cmap = plt.get_cmap('coolwarm')\n",
        "\n",
        "# Convert the colormap to a Plotly colorscale\n",
        "coolwarm_colorscale = [[i / 255, f'rgba({r*255:.0f},{g*255:.0f},{b*255:.0f},{a})']\n",
        "                       for i, (r, g, b, a) in enumerate(cmap(range(256)))]\n",
        "\n",
        "# Create the choropleth map\n",
        "fig = px.choropleth(df_subset,\n",
        "                    geojson=geojson,\n",
        "                    locations=df_subset.index,\n",
        "                    color=\"Cluster\",\n",
        "                    hover_name=\"country_name\",  # Column to display on hover\n",
        "                    projection=\"natural earth\",\n",
        "                    color_continuous_scale=coolwarm_colorscale)\n",
        "\n",
        "# Update layout to increase the figure size\n",
        "fig.update_geos(fitbounds=\"locations\", visible=False)\n",
        "fig.update_layout(\n",
        "    title=\"Temperature Clusters Based on the Climate Change Indicator\",\n",
        "    width=1000,  # Adjust the width\n",
        "    height=800   # Adjust the height\n",
        ")\n",
        "\n",
        "fig.show()\n"
      ],
      "metadata": {
        "trusted": true,
        "id": "BkWnccQ53xBI"
      },
      "execution_count": null,
      "outputs": []
    },
    {
      "cell_type": "code",
      "source": [
        "\n",
        "\n",
        "# Assuming df_subset is a GeoDataFrame with 'geometry', 'Cluster', and 'name' columns\n",
        "temperature_column = 'Cluster'  # Use the 'Cluster' column for coloring\n",
        "\n",
        "# Initialize a Folium map\n",
        "m = folium.Map(location=[0, 0], zoom_start=2)\n",
        "\n",
        "# Manually create a colormap for the clusters (you can customize these colors)\n",
        "cluster_colors = {\n",
        "    0: '#2b83ba',  # Blue\n",
        "    1: '#abdda4',  # Light Green\n",
        "    2: '#fdae61',  # Orange\n",
        "    3: '#d7191c',  # Red\n",
        "    4: '#a7191c',  # Red\n",
        "    # Add more colors if you have more clusters\n",
        "}\n",
        "\n",
        "# Add GeoJSON layer to the map with a custom color scale for discrete categories\n",
        "geojson_layer = folium.GeoJson(\n",
        "    df_subset.to_json(),\n",
        "    name=\"Temperature Clusters\",\n",
        "    style_function=lambda feature: {\n",
        "        'fillColor': cluster_colors.get(feature['properties'][temperature_column], '#gray'),\n",
        "        'color': 'black',\n",
        "        'weight': 0.5,\n",
        "        'fillOpacity': 0.7\n",
        "    },\n",
        "    tooltip=folium.GeoJsonTooltip(\n",
        "        fields=['name'],  # Column that contains the country names\n",
        "        aliases=['Country:'],  # Label for the tooltip\n",
        "    )\n",
        ").add_to(m)\n",
        "\n",
        "# Add a legend manually (optional)\n",
        "legend_html = '''\n",
        " <div style=\"position: fixed;\n",
        "     bottom: 50px; left: 50px; width: 150px; height: 120px;\n",
        "     border:2px solid grey; z-index:9999; font-size:14px;\">\n",
        "     &nbsp; <b>Cluster Colors</b> <br>\n",
        "     &nbsp; Cluster 0: <i style=\"background:#2b83ba;color:white\">Blue</i>\n",
        "     &nbsp; Cluster 1: <i style=\"background:#abdda4;color:black\">Light Green</i><br>\n",
        "     &nbsp; Cluster 2: <i style=\"background:#fdae61;color:black\">Orange</i><br>\n",
        "     &nbsp; Cluster 3: <i style=\"background:#d7191c;color:white\">Red</i><br>\n",
        "     &nbsp; Cluster 3: <i style=\"background:#a7191c;color:white\">Red</i><br>\n",
        " </div>\n",
        "'''\n",
        "m.get_root().html.add_child(folium.Element(legend_html))\n",
        "\n",
        "# Add layer control to the map\n",
        "folium.LayerControl().add_to(m)\n",
        "\n",
        "# Save the map as an HTML file or display in a Jupyter notebook\n",
        "m.save(\"temperature_clusters_map.html\")\n",
        "\n",
        "# If running in a Jupyter notebook, display the map\n",
        "m\n"
      ],
      "metadata": {
        "trusted": true,
        "id": "TQhQO1CL3xBI"
      },
      "execution_count": null,
      "outputs": []
    },
    {
      "cell_type": "markdown",
      "source": [
        "### Footnote to Fellow Kagglers 🌍\n",
        "\n",
        "Thank you for exploring my analysis on climate data and ARIMA modeling! This notebook delves into historical and forecasted temperature trends for Africa and Ghana, highlighting both the challenges and potential insights derived from time series modeling in climate studies. By experimenting with model selection, residual analysis, and visualizations, I've aimed to capture temperature dynamics and support meaningful discussions on climate change impacts.\n",
        "\n",
        "Feel free to:\n",
        "- **Share your thoughts:** Climate modeling is complex, and every insight helps!\n",
        "- **Fork and experiment:** Try tweaking the model parameters, exploring different data preprocessing techniques, or comparing ARIMA with other models like SARIMA, Prophet, or LSTM for more robust results.\n",
        "- **Contribute ideas:** This work is part of a larger quest to understand climate shifts. I'm open to suggestions for improvement and eager to learn from your approaches too!\n",
        "\n",
        "Together, let’s push the boundaries of climate data analysis and work towards actionable insights for our planet. 🌱\n",
        "\n",
        "Happy Kaggle-ing! ✌️"
      ],
      "metadata": {
        "id": "coE9mTyo3xBJ"
      }
    },
    {
      "cell_type": "code",
      "source": [],
      "metadata": {
        "id": "O6qFj6MR3xBJ"
      },
      "execution_count": null,
      "outputs": []
    }
  ]
}