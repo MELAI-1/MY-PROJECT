{
  "nbformat": 4,
  "nbformat_minor": 0,
  "metadata": {
    "colab": {
      "provenance": [],
      "authorship_tag": "ABX9TyN/DG/W7Sx7k0QfaYDBPDwi",
      "include_colab_link": true
    },
    "kernelspec": {
      "name": "python3",
      "display_name": "Python 3"
    },
    "language_info": {
      "name": "python"
    }
  },
  "cells": [
    {
      "cell_type": "markdown",
      "metadata": {
        "id": "view-in-github",
        "colab_type": "text"
      },
      "source": [
        "<a href=\"https://colab.research.google.com/github/MELAI-1/MY-PROJECT/blob/main/machine-learning/Q_Learning.ipynb\" target=\"_parent\"><img src=\"https://colab.research.google.com/assets/colab-badge.svg\" alt=\"Open In Colab\"/></a>"
      ]
    },
    {
      "cell_type": "markdown",
      "source": [
        "# Implementation of Q-Learning"
      ],
      "metadata": {
        "id": "VMEs-d3Gx-hw"
      }
    },
    {
      "cell_type": "markdown",
      "source": [
        "Here ,we implement basic Q-learning alorithm where agent learns the optimal action-selection strategy to reach a goal state in a grid -like environment"
      ],
      "metadata": {
        "id": "HYNnYOSLyEXd"
      }
    },
    {
      "cell_type": "markdown",
      "source": [
        "# **Step 1: Define the Environment**"
      ],
      "metadata": {
        "id": "VnpWj747yDBe"
      }
    },
    {
      "cell_type": "markdown",
      "source": [
        "Set up the environment parameters including the number of states and actions and initialize the Q-table. In this each state represents a position and actions move the agent within this environment."
      ],
      "metadata": {
        "id": "TKL1W9B5yZEh"
      }
    },
    {
      "cell_type": "code",
      "execution_count": 1,
      "metadata": {
        "id": "JGvnhchQwMA_"
      },
      "outputs": [],
      "source": [
        "import numpy as np\n",
        "\n",
        "n_states = 16\n",
        "n_actions = 4\n",
        "goal_state = 15\n",
        "\n",
        "Q_table = np.zeros((n_states, n_actions))"
      ]
    },
    {
      "cell_type": "markdown",
      "source": [
        "# **Step 2: Set Hyperparameters**"
      ],
      "metadata": {
        "id": "xmgL1QJjyiCH"
      }
    },
    {
      "cell_type": "markdown",
      "source": [
        "Define the parameters for the Q-learning algorithm which include the learning rate, discount factor, exploration probability and the number of training epochs."
      ],
      "metadata": {
        "id": "okC9s7HHylJT"
      }
    },
    {
      "cell_type": "code",
      "source": [
        "learning_rate = 0.8\n",
        "discount_factor = 0.95\n",
        "exploration_prob = 0.2\n",
        "epochs = 1000"
      ],
      "metadata": {
        "id": "TymqvSLEyqzp"
      },
      "execution_count": 3,
      "outputs": []
    },
    {
      "cell_type": "markdown",
      "source": [
        "# **Step 3: Implement the Q-Learning Algorithm**"
      ],
      "metadata": {
        "id": "JoW2Bc9QywGI"
      }
    },
    {
      "cell_type": "markdown",
      "source": [
        "Perform the Q-learning algorithm over multiple epochs. Each epoch involves selecting actions based on an epsilon-greedy strategy updating Q-values based on rewards received and transitioning to the next state."
      ],
      "metadata": {
        "id": "YW3ZY4TGyz1e"
      }
    },
    {
      "cell_type": "code",
      "source": [
        "for epoch in range(epochs):\n",
        "    current_state = np.random.randint(0, n_states)\n",
        "    while current_state != goal_state:\n",
        "        if np.random.rand() < exploration_prob:\n",
        "            action = np.random.randint(0, n_actions)\n",
        "        else:\n",
        "            action = np.argmax(Q_table[current_state])\n",
        "\n",
        "        next_state = (current_state + 1) % n_states\n",
        "\n",
        "        reward = 1 if next_state == goal_state else 0\n",
        "\n",
        "        Q_table[current_state, action] += learning_rate * \\\n",
        "            (reward + discount_factor *\n",
        "             np.max(Q_table[next_state]) - Q_table[current_state, action])\n",
        "\n",
        "        current_state = next_state"
      ],
      "metadata": {
        "id": "R-FEqq5kyt8W"
      },
      "execution_count": 4,
      "outputs": []
    },
    {
      "cell_type": "markdown",
      "source": [
        "# **Step 4: Output the Learned Q-Table**"
      ],
      "metadata": {
        "id": "Lksw_kcszE6h"
      }
    },
    {
      "cell_type": "markdown",
      "source": [
        "After training, print the Q-table to examine the learned Q-values which represent the expected rewards for taking specific actions in each state."
      ],
      "metadata": {
        "id": "3Efdax9JzHIT"
      }
    },
    {
      "cell_type": "code",
      "source": [
        "import matplotlib.pyplot as plt\n",
        "\n",
        "# Extract Q-values for each state\n",
        "q_values_grid = np.max(Q_table, axis=1).reshape((4, 4))\n",
        "\n",
        "# Plot the grid of Q-values\n",
        "plt.figure(figsize=(6, 6))\n",
        "plt.imshow(q_values_grid, cmap='coolwarm', interpolation='nearest')\n",
        "plt.colorbar(label='Q-value')\n",
        "plt.title('Learned Q-values for each state')\n",
        "plt.xticks(np.arange(4), ['0', '1', '2', '3'])\n",
        "plt.yticks(np.arange(4), ['0', '1', '2', '3'])\n",
        "plt.gca().invert_yaxis()  # To match grid layout\n",
        "plt.grid(True)\n",
        "\n",
        "# Annotating the Q-values on the grid\n",
        "for i in range(4):\n",
        "    for j in range(4):\n",
        "        plt.text(j, i, f'{q_values_grid[i, j]:.2f}', ha='center', va='center', color='black')\n",
        "\n",
        "plt.show()\n",
        "\n",
        "# Print learned Q-table\n",
        "print(\"Learned Q-table:\")\n",
        "print(Q_table)"
      ],
      "metadata": {
        "colab": {
          "base_uri": "https://localhost:8080/",
          "height": 827
        },
        "id": "iht_iSOXzI5o",
        "outputId": "b0423d88-984b-491f-ea91-48cf95946259"
      },
      "execution_count": 6,
      "outputs": [
        {
          "output_type": "display_data",
          "data": {
            "text/plain": [
              "<Figure size 600x600 with 2 Axes>"
            ],
            "image/png": "[encoded data removed]"
          },
          "metadata": {}
        },
        {
          "output_type": "stream",
          "name": "stdout",
          "text": [
            "Learned Q-table:\n",
            "[[0.48767498 0.46816569 0.48377358 0.4868947 ]\n",
            " [0.51334208 0.51333551 0.51317781 0.51333527]\n",
            " [0.54036009 0.5403587  0.54036003 0.5403255 ]\n",
            " [0.56880009 0.56880003 0.56880009 0.56880009]\n",
            " [0.59873694 0.59873694 0.59873694 0.59873694]\n",
            " [0.63024941 0.63024941 0.63024941 0.63024941]\n",
            " [0.66342043 0.66342043 0.66342043 0.66342043]\n",
            " [0.6983373  0.6983373  0.6983373  0.6983373 ]\n",
            " [0.73509189 0.73509189 0.73509189 0.73509189]\n",
            " [0.77378094 0.77378094 0.77378094 0.77378094]\n",
            " [0.81450625 0.81450625 0.81450625 0.81450625]\n",
            " [0.857375   0.857375   0.857375   0.857375  ]\n",
            " [0.9025     0.9025     0.9025     0.9025    ]\n",
            " [0.95       0.95       0.95       0.95      ]\n",
            " [1.         1.         1.         1.        ]\n",
            " [0.         0.         0.         0.        ]]\n"
          ]
        }
      ]
    }
  ]
}