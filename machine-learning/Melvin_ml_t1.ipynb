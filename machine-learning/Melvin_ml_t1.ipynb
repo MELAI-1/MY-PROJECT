{
  "nbformat": 4,
  "nbformat_minor": 0,
  "metadata": {
    "colab": {
      "provenance": [],
      "mount_file_id": "1QiY34YKJCWcVg-CuUnvqRuYnY0WzoOHo",
      "authorship_tag": "ABX9TyPFKvE8HraqYJAx9T6kNCug",
      "include_colab_link": true
    },
    "kernelspec": {
      "name": "python3",
      "display_name": "Python 3"
    },
    "language_info": {
      "name": "python"
    }
  },
  "cells": [
    {
      "cell_type": "markdown",
      "metadata": {
        "id": "view-in-github",
        "colab_type": "text"
      },
      "source": [
        "<a href=\"https://colab.research.google.com/github/MELAI-1/MY-PROJECT/blob/main/machine-learning/Melvin_ml_t1.ipynb\" target=\"_parent\"><img src=\"https://colab.research.google.com/assets/colab-badge.svg\" alt=\"Open In Colab\"/></a>"
      ]
    },
    {
      "cell_type": "markdown",
      "source": [
        "# Intro to ML"
      ],
      "metadata": {
        "id": "m-nlDQS_FtPn"
      }
    },
    {
      "cell_type": "markdown",
      "source": [
        "![machiene learning.jpeg](data:image/jpeg;base64,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)"
      ],
      "metadata": {
        "id": "fVmTwJDv84cV"
      }
    },
    {
      "cell_type": "markdown",
      "source": [
        "<a id=\"contents\"></a>\n",
        "# <p style=\"background-color: #265576; font-family:Avantgarde; color:#ffffff; font-size:150%; text-align:center; border-radius:200px 30px; overflow:hidden; padding:17px\">Table Of Contents</p>"
      ],
      "metadata": {
        "id": "uWGpUsXEGK0b"
      }
    },
    {
      "cell_type": "markdown",
      "source": [
        "- <a href=\"#setup\">A. setup</a>\n",
        "  - <a href=\"#mount\">a.1. Mount the google drive in colab </a>\n",
        "  - <a href=\"#libraries\">a.2. Installing Required Libraries</a>\n",
        "  \n",
        "- <a href=\"#tutorial1\">I. Tutorial 1:Linear Regressor</a>  \n",
        "  - <a href=\"#intro1\">Introduction</a>\n",
        "\n",
        "  - <a href=\"#part1\">Part I: Linear Regressor By Hand </a>\n",
        "    - <a href=\"#data1\">1.1. Get the data </a>\n",
        "    - <a href=\"#plot1\">1.2 Plot the data</a>\n",
        "    - <a href=\"#functions1\">1.3 Functions</a>\n",
        "    - <a href=\"#linearloop1\">1.4 Linear Regressor Loop</a>\n",
        "    - <a href=\"#gradient1\">1.5 Visualize the gradient descent</a>\n",
        "    - <a href=\"#tutorial1\">1.6  Let’s check with NumPy</a>\n",
        "  - <a href=\"#part2\">Part II: Generalizing to n features with vectorized gradient descent </a>\n",
        "    - <a href=\"#part1\">Part II: Generalizing to n features with vectorized gradient descent</a>\n",
        "    - <a href=\"#part1\">Part III: Let’s get classy with OOP</a>\n",
        "  - <a href=\"#part3\">Part III: Let’s get classy with OOP</a>\n",
        "\n"
      ],
      "metadata": {
        "id": "9kyJdtVLGP96"
      }
    },
    {
      "cell_type": "markdown",
      "source": [
        "<a id=\"setup\"></a>\n",
        "# <p style=\"background-color:#FFA500; font-family:Avantgarde; color:#ffffff; font-size:150%; text-align:center; border-radius:200px 30px; overflow:hidden; padding:17px\"> **A-Setup**</p>"
      ],
      "metadata": {
        "id": "pI-R7HtjOT2j"
      }
    },
    {
      "cell_type": "markdown",
      "source": [
        "<a id=\"mount\"></a>\n",
        "# <p style=\"background-color: #1b907d; font-family:Avantgarde; color:#ffffff; font-size:150%; text-align:center; border-radius:200px 30px; overflow:hidden; padding:17px\">a.1. Mount the Google Drive in colab</p>"
      ],
      "metadata": {
        "id": "85aoF-4pHmKH"
      }
    },
    {
      "cell_type": "markdown",
      "source": [
        "Mounting  Google Drive to Colab  allows us to access and save files directly from our Drive, making it easier to work with our data and projects."
      ],
      "metadata": {
        "id": "wxMOyFh5IBNI"
      }
    },
    {
      "cell_type": "code",
      "source": [
        "from google.colab import drive\n",
        "drive.mount('/content/gdrive')"
      ],
      "metadata": {
        "id": "EsRgbenaHyW5"
      },
      "execution_count": null,
      "outputs": []
    },
    {
      "cell_type": "markdown",
      "source": [
        "<a id=\"libraries\"></a>\n",
        "# <p style=\"background-color: #1b907d; font-family:Avantgarde; color:#ffffff; font-size:150%; text-align:center; border-radius:200px 30px; overflow:hidden; padding:17px\">a.2. Installing Required Libraries</p>"
      ],
      "metadata": {
        "id": "RLlgERquG_Ds"
      }
    },
    {
      "cell_type": "code",
      "source": [
        "import pandas as pd\n",
        "import matplotlib.pyplot as plt\n",
        "import seaborn as sns\n",
        "import numpy as np\n",
        "import sys, os\n",
        "\n"
      ],
      "metadata": {
        "id": "nVFzos6RJHkB"
      },
      "execution_count": null,
      "outputs": []
    },
    {
      "cell_type": "markdown",
      "source": [
        "For this turorial, we will be using the following libraries:\n",
        " - [`pandas`] for managing the data.\n",
        " - [`numpy`] for mathematical operations.\n",
        " - [`seaborn`] for visualizing the data.\n",
        " - [`matplotlib`] for visualizing the data.\n",
        " - ['os'] for management system"
      ],
      "metadata": {
        "id": "mmS9vuQcIZdl"
      }
    },
    {
      "cell_type": "markdown",
      "source": [
        "\n",
        "\n",
        "<a id=\"tutorial1\"></a>\n",
        "# <p style=\"background-color: #1b907d; font-family:Avantgarde; color:#ffffff; font-size:150%; text-align:center; border-radius:200px 30px; overflow:hidden; padding:17px\"> **I-Tutorial 1: Linear Regressor**</p>"
      ],
      "metadata": {
        "id": "5uatTetoUrOR"
      }
    },
    {
      "cell_type": "markdown",
      "source": [
        "<a id=\"intro1\"></a>\n",
        "# <p style=\"background-color: #1b907d; font-family:Avantgarde; color:#ffffff; font-size:150%; text-align:center; border-radius:200px 30px; overflow:hidden; padding:17px\"> Introduction</p>"
      ],
      "metadata": {
        "id": "wYdC-ccwGd7E"
      }
    },
    {
      "cell_type": "markdown",
      "source": [
        "**A learning regressor** is a type of machine learning algorithm used for regression tasks, which aim to predict a continuous numerical output based on input features.\n",
        " Common Types:\n",
        "- Linear Regression\n",
        "- Decision Tree Regressor\n",
        "- Random Forest Regressor\n",
        "- Support Vector Regression (SVR)\n",
        "- Gradient Boosting Regressor\n",
        "- Neural Network Regressor\n",
        "\n"
      ],
      "metadata": {
        "id": "Ki_EVglVLMMd"
      }
    },
    {
      "cell_type": "markdown",
      "source": [
        "<a id=\"part1\"></a>\n",
        "# <p style=\"background-color: #1b907d; font-family:Avantgarde; color:#ffffff; font-size:150%; text-align:center; border-radius:200px 30px; overflow:hidden; padding:17px\">Part I: Linear Regressor By Hand</p>"
      ],
      "metadata": {
        "id": "PkDj-AoOiS4I"
      }
    },
    {
      "cell_type": "markdown",
      "source": [
        "<a id=\"data1\"></a>\n",
        "# <p style=\"background-color: #1b907d; font-family:Avantgarde; color:#ffffff; font-size:150%; text-align:center; border-radius:200px 30px; overflow:hidden; padding:17px\">1.1. Get the data</p>"
      ],
      "metadata": {
        "id": "FM1aCzHpKnNj"
      }
    },
    {
      "cell_type": "code",
      "source": [
        "df = pd.read_csv('/content/drive/MyDrive/intro_ML_data/ml_tutorial_1.csv')\n",
        "df.head()"
      ],
      "metadata": {
        "colab": {
          "base_uri": "https://localhost:8080/",
          "height": 206
        },
        "id": "LyBDiogcLVII",
        "outputId": "bc18b1bd-721c-4b0f-d74f-be732b56c30e"
      },
      "execution_count": null,
      "outputs": [
        {
          "output_type": "execute_result",
          "data": {
            "text/plain": [
              "          x          y\n",
              "0  5.488135  29.654508\n",
              "1  7.151894  34.993590\n",
              "2  6.027634  35.994273\n",
              "3  5.448832  24.815775\n",
              "4  4.236548  21.034960"
            ],
            "text/html": [
              "\n",
              "  <div id=\"df-0794f4b7-642d-4f18-9160-d9249159151d\" class=\"colab-df-container\">\n",
              "    <div>\n",
              "<style scoped>\n",
              "    .dataframe tbody tr th:only-of-type {\n",
              "        vertical-align: middle;\n",
              "    }\n",
              "\n",
              "    .dataframe tbody tr th {\n",
              "        vertical-align: top;\n",
              "    }\n",
              "\n",
              "    .dataframe thead th {\n",
              "        text-align: right;\n",
              "    }\n",
              "</style>\n",
              "<table border=\"1\" class=\"dataframe\">\n",
              "  <thead>\n",
              "    <tr style=\"text-align: right;\">\n",
              "      <th></th>\n",
              "      <th>x</th>\n",
              "      <th>y</th>\n",
              "    </tr>\n",
              "  </thead>\n",
              "  <tbody>\n",
              "    <tr>\n",
              "      <th>0</th>\n",
              "      <td>5.488135</td>\n",
              "      <td>29.654508</td>\n",
              "    </tr>\n",
              "    <tr>\n",
              "      <th>1</th>\n",
              "      <td>7.151894</td>\n",
              "      <td>34.993590</td>\n",
              "    </tr>\n",
              "    <tr>\n",
              "      <th>2</th>\n",
              "      <td>6.027634</td>\n",
              "      <td>35.994273</td>\n",
              "    </tr>\n",
              "    <tr>\n",
              "      <th>3</th>\n",
              "      <td>5.448832</td>\n",
              "      <td>24.815775</td>\n",
              "    </tr>\n",
              "    <tr>\n",
              "      <th>4</th>\n",
              "      <td>4.236548</td>\n",
              "      <td>21.034960</td>\n",
              "    </tr>\n",
              "  </tbody>\n",
              "</table>\n",
              "</div>\n",
              "    <div class=\"colab-df-buttons\">\n",
              "\n",
              "  <div class=\"colab-df-container\">\n",
              "    <button class=\"colab-df-convert\" onclick=\"convertToInteractive('df-0794f4b7-642d-4f18-9160-d9249159151d')\"\n",
              "            title=\"Convert this dataframe to an interactive table.\"\n",
              "            style=\"display:none;\">\n",
              "\n",
              "  <svg xmlns=\"http://www.w3.org/2000/svg\" height=\"24px\" viewBox=\"0 -960 960 960\">\n",
              "    <path d=\"M120-120v-720h720v720H120Zm60-500h600v-160H180v160Zm220 220h160v-160H400v160Zm0 220h160v-160H400v160ZM180-400h160v-160H180v160Zm440 0h160v-160H620v160ZM180-180h160v-160H180v160Zm440 0h160v-160H620v160Z\"/>\n",
              "  </svg>\n",
              "    </button>\n",
              "\n",
              "  <style>\n",
              "    .colab-df-container {\n",
              "      display:flex;\n",
              "      gap: 12px;\n",
              "    }\n",
              "\n",
              "    .colab-df-convert {\n",
              "      background-color: #E8F0FE;\n",
              "      border: none;\n",
              "      border-radius: 50%;\n",
              "      cursor: pointer;\n",
              "      display: none;\n",
              "      fill: #1967D2;\n",
              "      height: 32px;\n",
              "      padding: 0 0 0 0;\n",
              "      width: 32px;\n",
              "    }\n",
              "\n",
              "    .colab-df-convert:hover {\n",
              "      background-color: #E2EBFA;\n",
              "      box-shadow: 0px 1px 2px rgba(60, 64, 67, 0.3), 0px 1px 3px 1px rgba(60, 64, 67, 0.15);\n",
              "      fill: #174EA6;\n",
              "    }\n",
              "\n",
              "    .colab-df-buttons div {\n",
              "      margin-bottom: 4px;\n",
              "    }\n",
              "\n",
              "    [theme=dark] .colab-df-convert {\n",
              "      background-color: #3B4455;\n",
              "      fill: #D2E3FC;\n",
              "    }\n",
              "\n",
              "    [theme=dark] .colab-df-convert:hover {\n",
              "      background-color: #434B5C;\n",
              "      box-shadow: 0px 1px 3px 1px rgba(0, 0, 0, 0.15);\n",
              "      filter: drop-shadow(0px 1px 2px rgba(0, 0, 0, 0.3));\n",
              "      fill: #FFFFFF;\n",
              "    }\n",
              "  </style>\n",
              "\n",
              "    <script>\n",
              "      const buttonEl =\n",
              "        document.querySelector('#df-0794f4b7-642d-4f18-9160-d9249159151d button.colab-df-convert');\n",
              "      buttonEl.style.display =\n",
              "        google.colab.kernel.accessAllowed ? 'block' : 'none';\n",
              "\n",
              "      async function convertToInteractive(key) {\n",
              "        const element = document.querySelector('#df-0794f4b7-642d-4f18-9160-d9249159151d');\n",
              "        const dataTable =\n",
              "          await google.colab.kernel.invokeFunction('convertToInteractive',\n",
              "                                                    [key], {});\n",
              "        if (!dataTable) return;\n",
              "\n",
              "        const docLinkHtml = 'Like what you see? Visit the ' +\n",
              "          '<a target=\"_blank\" href=https://colab.research.google.com/notebooks/data_table.ipynb>data table notebook</a>'\n",
              "          + ' to learn more about interactive tables.';\n",
              "        element.innerHTML = '';\n",
              "        dataTable['output_type'] = 'display_data';\n",
              "        await google.colab.output.renderOutput(dataTable, element);\n",
              "        const docLink = document.createElement('div');\n",
              "        docLink.innerHTML = docLinkHtml;\n",
              "        element.appendChild(docLink);\n",
              "      }\n",
              "    </script>\n",
              "  </div>\n",
              "\n",
              "\n",
              "    <div id=\"df-b2149d19-f778-413b-856c-960d9e7db53e\">\n",
              "      <button class=\"colab-df-quickchart\" onclick=\"quickchart('df-b2149d19-f778-413b-856c-960d9e7db53e')\"\n",
              "                title=\"Suggest charts\"\n",
              "                style=\"display:none;\">\n",
              "\n",
              "<svg xmlns=\"http://www.w3.org/2000/svg\" height=\"24px\"viewBox=\"0 0 24 24\"\n",
              "     width=\"24px\">\n",
              "    <g>\n",
              "        <path d=\"M19 3H5c-1.1 0-2 .9-2 2v14c0 1.1.9 2 2 2h14c1.1 0 2-.9 2-2V5c0-1.1-.9-2-2-2zM9 17H7v-7h2v7zm4 0h-2V7h2v10zm4 0h-2v-4h2v4z\"/>\n",
              "    </g>\n",
              "</svg>\n",
              "      </button>\n",
              "\n",
              "<style>\n",
              "  .colab-df-quickchart {\n",
              "      --bg-color: #E8F0FE;\n",
              "      --fill-color: #1967D2;\n",
              "      --hover-bg-color: #E2EBFA;\n",
              "      --hover-fill-color: #174EA6;\n",
              "      --disabled-fill-color: #AAA;\n",
              "      --disabled-bg-color: #DDD;\n",
              "  }\n",
              "\n",
              "  [theme=dark] .colab-df-quickchart {\n",
              "      --bg-color: #3B4455;\n",
              "      --fill-color: #D2E3FC;\n",
              "      --hover-bg-color: #434B5C;\n",
              "      --hover-fill-color: #FFFFFF;\n",
              "      --disabled-bg-color: #3B4455;\n",
              "      --disabled-fill-color: #666;\n",
              "  }\n",
              "\n",
              "  .colab-df-quickchart {\n",
              "    background-color: var(--bg-color);\n",
              "    border: none;\n",
              "    border-radius: 50%;\n",
              "    cursor: pointer;\n",
              "    display: none;\n",
              "    fill: var(--fill-color);\n",
              "    height: 32px;\n",
              "    padding: 0;\n",
              "    width: 32px;\n",
              "  }\n",
              "\n",
              "  .colab-df-quickchart:hover {\n",
              "    background-color: var(--hover-bg-color);\n",
              "    box-shadow: 0 1px 2px rgba(60, 64, 67, 0.3), 0 1px 3px 1px rgba(60, 64, 67, 0.15);\n",
              "    fill: var(--button-hover-fill-color);\n",
              "  }\n",
              "\n",
              "  .colab-df-quickchart-complete:disabled,\n",
              "  .colab-df-quickchart-complete:disabled:hover {\n",
              "    background-color: var(--disabled-bg-color);\n",
              "    fill: var(--disabled-fill-color);\n",
              "    box-shadow: none;\n",
              "  }\n",
              "\n",
              "  .colab-df-spinner {\n",
              "    border: 2px solid var(--fill-color);\n",
              "    border-color: transparent;\n",
              "    border-bottom-color: var(--fill-color);\n",
              "    animation:\n",
              "      spin 1s steps(1) infinite;\n",
              "  }\n",
              "\n",
              "  @keyframes spin {\n",
              "    0% {\n",
              "      border-color: transparent;\n",
              "      border-bottom-color: var(--fill-color);\n",
              "      border-left-color: var(--fill-color);\n",
              "    }\n",
              "    20% {\n",
              "      border-color: transparent;\n",
              "      border-left-color: var(--fill-color);\n",
              "      border-top-color: var(--fill-color);\n",
              "    }\n",
              "    30% {\n",
              "      border-color: transparent;\n",
              "      border-left-color: var(--fill-color);\n",
              "      border-top-color: var(--fill-color);\n",
              "      border-right-color: var(--fill-color);\n",
              "    }\n",
              "    40% {\n",
              "      border-color: transparent;\n",
              "      border-right-color: var(--fill-color);\n",
              "      border-top-color: var(--fill-color);\n",
              "    }\n",
              "    60% {\n",
              "      border-color: transparent;\n",
              "      border-right-color: var(--fill-color);\n",
              "    }\n",
              "    80% {\n",
              "      border-color: transparent;\n",
              "      border-right-color: var(--fill-color);\n",
              "      border-bottom-color: var(--fill-color);\n",
              "    }\n",
              "    90% {\n",
              "      border-color: transparent;\n",
              "      border-bottom-color: var(--fill-color);\n",
              "    }\n",
              "  }\n",
              "</style>\n",
              "\n",
              "      <script>\n",
              "        async function quickchart(key) {\n",
              "          const quickchartButtonEl =\n",
              "            document.querySelector('#' + key + ' button');\n",
              "          quickchartButtonEl.disabled = true;  // To prevent multiple clicks.\n",
              "          quickchartButtonEl.classList.add('colab-df-spinner');\n",
              "          try {\n",
              "            const charts = await google.colab.kernel.invokeFunction(\n",
              "                'suggestCharts', [key], {});\n",
              "          } catch (error) {\n",
              "            console.error('Error during call to suggestCharts:', error);\n",
              "          }\n",
              "          quickchartButtonEl.classList.remove('colab-df-spinner');\n",
              "          quickchartButtonEl.classList.add('colab-df-quickchart-complete');\n",
              "        }\n",
              "        (() => {\n",
              "          let quickchartButtonEl =\n",
              "            document.querySelector('#df-b2149d19-f778-413b-856c-960d9e7db53e button');\n",
              "          quickchartButtonEl.style.display =\n",
              "            google.colab.kernel.accessAllowed ? 'block' : 'none';\n",
              "        })();\n",
              "      </script>\n",
              "    </div>\n",
              "\n",
              "    </div>\n",
              "  </div>\n"
            ],
            "application/vnd.google.colaboratory.intrinsic+json": {
              "type": "dataframe",
              "variable_name": "df",
              "summary": "{\n  \"name\": \"df\",\n  \"rows\": 50,\n  \"fields\": [\n    {\n      \"column\": \"x\",\n      \"properties\": {\n        \"dtype\": \"number\",\n        \"std\": 2.7503001381903354,\n        \"min\": 0.1878980043635514,\n        \"max\": 9.78618342232764,\n        \"num_unique_values\": 50,\n        \"samples\": [\n          9.25596638292661,\n          6.818202991034834,\n          2.64555612104627\n        ],\n        \"semantic_type\": \"\",\n        \"description\": \"\"\n      }\n    },\n    {\n      \"column\": \"y\",\n      \"properties\": {\n        \"dtype\": \"number\",\n        \"std\": 11.130395444032485,\n        \"min\": 6.807265944716013,\n        \"max\": 50.90932833944452,\n        \"num_unique_values\": 50,\n        \"samples\": [\n          40.40569504519258,\n          38.56577393990148,\n          15.76205627812484\n        ],\n        \"semantic_type\": \"\",\n        \"description\": \"\"\n      }\n    }\n  ]\n}"
            }
          },
          "metadata": {},
          "execution_count": 12
        }
      ]
    },
    {
      "cell_type": "markdown",
      "source": [
        "<a id=\"plot1\"></a>\n",
        "# <p style=\"background-color: #1b907d; font-family:Avantgarde; color:#ffffff; font-size:150%; text-align:center; border-radius:200px 30px; overflow:hidden; padding:17px\">1.2 Plot the data</p>"
      ],
      "metadata": {
        "id": "8ZUPHY-dLkAn"
      }
    },
    {
      "cell_type": "code",
      "source": [
        "import matplotlib.pyplot as plt\n",
        "\n",
        "fig, ax = plt.subplots(figsize=(6,4), dpi=120)\n",
        "ax.scatter(df['x'], df['y'], s=10)\n",
        "ax.set_xlabel('$x$')\n",
        "ax.set_ylabel('$y$')\n",
        "plt.tight_layout()"
      ],
      "metadata": {
        "colab": {
          "base_uri": "https://localhost:8080/",
          "height": 408
        },
        "id": "hrzj-ZAhLxat",
        "outputId": "663df91d-4af0-4303-923f-fbdf9d394073"
      },
      "execution_count": null,
      "outputs": [
        {
          "output_type": "display_data",
          "data": {
            "text/plain": [
              "<Figure size 720x480 with 1 Axes>"
            ],
            "image/png": "[encoded data removed]"
          },
          "metadata": {}
        }
      ]
    },
    {
      "cell_type": "markdown",
      "source": [
        "<a id=\"function1\"></a>\n",
        "# <p style=\"background-color: #1b907d; font-family:Avantgarde; color:#ffffff; font-size:150%; text-align:center; border-radius:200px 30px; overflow:hidden; padding:17px\">1.3 Functions</p>"
      ],
      "metadata": {
        "id": "8b3L03nzjJ1i"
      }
    },
    {
      "cell_type": "code",
      "source": [],
      "metadata": {
        "id": "hANHFR_-judk"
      },
      "execution_count": null,
      "outputs": []
    },
    {
      "cell_type": "markdown",
      "source": [
        "<a id=\"linearloop1\"></a>\n",
        "# <p style=\"background-color: #1b907d; font-family:Avantgarde; color:#ffffff; font-size:150%; text-align:center; border-radius:200px 30px; overflow:hidden; padding:17px\">1.4 Linear Regressor Loop</p>"
      ],
      "metadata": {
        "id": "MRKzpXtujSgQ"
      }
    },
    {
      "cell_type": "code",
      "source": [],
      "metadata": {
        "id": "bg063v9LjRwC"
      },
      "execution_count": null,
      "outputs": []
    },
    {
      "cell_type": "markdown",
      "source": [
        "<a id=\"gradient1\"></a>\n",
        "# <p style=\"background-color: #1b907d; font-family:Avantgarde; color:#ffffff; font-size:150%; text-align:center; border-radius:200px 30px; overflow:hidden; padding:17px\">1.5 Visualize the gradient descent</p>"
      ],
      "metadata": {
        "id": "VPcoZLfxjvgg"
      }
    },
    {
      "cell_type": "code",
      "source": [],
      "metadata": {
        "id": "BChT7GB5kS8k"
      },
      "execution_count": null,
      "outputs": []
    },
    {
      "cell_type": "markdown",
      "source": [
        "<a id=\"check1\"></a>\n",
        "# <p style=\"background-color: #1b907d; font-family:Avantgarde; color:#ffffff; font-size:150%; text-align:center; border-radius:200px 30px; overflow:hidden; padding:17px\">1.6  Let’s check with NumPy</p>"
      ],
      "metadata": {
        "id": "wd-uSLlLkWh6"
      }
    },
    {
      "cell_type": "code",
      "source": [],
      "metadata": {
        "id": "hyeqOcPckl16"
      },
      "execution_count": null,
      "outputs": []
    },
    {
      "cell_type": "markdown",
      "source": [
        "<a id=\"part2\"></a>\n",
        "# <p style=\"background-color: #1b907d; font-family:Avantgarde; color:#ffffff; font-size:150%; text-align:center; border-radius:200px 30px; overflow:hidden; padding:17px\">Part II: Generalizing to n features with vectorized gradient descent</p>"
      ],
      "metadata": {
        "id": "4QyVq4nSkqQq"
      }
    },
    {
      "cell_type": "code",
      "source": [],
      "metadata": {
        "id": "En08qYtwlVV7"
      },
      "execution_count": null,
      "outputs": []
    },
    {
      "cell_type": "markdown",
      "source": [
        "<a id=\"part3\"></a>\n",
        "# <p style=\"background-color: #1b907d; font-family:Avantgarde; color:#ffffff; font-size:150%; text-align:center; border-radius:200px 30px; overflow:hidden; padding:17px\">Part III: Let’s get classy with OOP</p>"
      ],
      "metadata": {
        "id": "xACkQ-iOk4QD"
      }
    },
    {
      "cell_type": "code",
      "source": [],
      "metadata": {
        "id": "z9AhgjeSlV7q"
      },
      "execution_count": null,
      "outputs": []
    }
  ]
}
