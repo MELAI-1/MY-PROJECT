{
  "nbformat": 4,
  "nbformat_minor": 0,
  "metadata": {
    "colab": {
      "provenance": [],
      "authorship_tag": "ABX9TyO+BXH0Uo+/tgFmJZj/jTa3",
      "include_colab_link": true
    },
    "kernelspec": {
      "name": "python3",
      "display_name": "Python 3"
    },
    "language_info": {
      "name": "python"
    }
  },
  "cells": [
    {
      "cell_type": "markdown",
      "metadata": {
        "id": "view-in-github",
        "colab_type": "text"
      },
      "source": [
        "<a href=\"https://colab.research.google.com/github/MELAI-1/MY-PROJECT/blob/main/machine-learning/Model_Free_Reinforcement_Learning.ipynb\" target=\"_parent\"><img src=\"https://colab.research.google.com/assets/colab-badge.svg\" alt=\"Open In Colab\"/></a>"
      ]
    },
    {
      "cell_type": "markdown",
      "source": [
        "# Implementation of Model Free RL"
      ],
      "metadata": {
        "id": "8n2DpXJy1ILf"
      }
    },
    {
      "cell_type": "markdown",
      "source": [
        "We will use OpenAI Gymnasium (formerly OpenAI Gym) to implement Model-Free Reinforcement Learning using the Q-Learning algorithm."
      ],
      "metadata": {
        "id": "0YR4zyv41Mvv"
      }
    },
    {
      "cell_type": "markdown",
      "source": [
        "# **Install the requirements libraries**"
      ],
      "metadata": {
        "id": "Jdx3ZV3B1YFx"
      }
    },
    {
      "cell_type": "code",
      "execution_count": 1,
      "metadata": {
        "colab": {
          "base_uri": "https://localhost:8080/"
        },
        "id": "oByhDVqY08v_",
        "outputId": "859d143f-84c3-4b92-ef99-ea2c6789ba64"
      },
      "outputs": [
        {
          "output_type": "stream",
          "name": "stdout",
          "text": [
            "Requirement already satisfied: gymnasium in /usr/local/lib/python3.11/dist-packages (1.1.1)\n",
            "Requirement already satisfied: numpy>=1.21.0 in /usr/local/lib/python3.11/dist-packages (from gymnasium) (2.0.2)\n",
            "Requirement already satisfied: cloudpickle>=1.2.0 in /usr/local/lib/python3.11/dist-packages (from gymnasium) (3.1.1)\n",
            "Requirement already satisfied: typing-extensions>=4.3.0 in /usr/local/lib/python3.11/dist-packages (from gymnasium) (4.14.0)\n",
            "Requirement already satisfied: farama-notifications>=0.0.1 in /usr/local/lib/python3.11/dist-packages (from gymnasium) (0.0.4)\n"
          ]
        }
      ],
      "source": [
        "!pip install gymnasium"
      ]
    },
    {
      "cell_type": "code",
      "source": [
        "import numpy as np\n",
        "from collections import defaultdict\n",
        "import matplotlib.pyplot as plt\n",
        "import gymnasium as gym\n"
      ],
      "metadata": {
        "id": "uFvehPZ92RAr"
      },
      "execution_count": 3,
      "outputs": []
    },
    {
      "cell_type": "markdown",
      "source": [
        "# **Step 1:  Understand the Environment**"
      ],
      "metadata": {
        "id": "LZFhPldI1jNJ"
      }
    },
    {
      "cell_type": "markdown",
      "source": [
        "We will use the Taxi-v3 environment from OpenAI Gymnasium a classic RL problem designed to train an agent to navigate a grid world and transport passengers efficiently."
      ],
      "metadata": {
        "id": "FZvr4y1Z1u9P"
      }
    },
    {
      "cell_type": "code",
      "source": [
        "env = gym.make('Taxi-v3', render_mode='ansi')\n",
        "env.reset()\n",
        "\n",
        "print(env.render())"
      ],
      "metadata": {
        "colab": {
          "base_uri": "https://localhost:8080/"
        },
        "id": "-lV29Q7-1hCH",
        "outputId": "104746be-4dce-4518-e56b-7603cfa7643a"
      },
      "execution_count": 4,
      "outputs": [
        {
          "output_type": "stream",
          "name": "stdout",
          "text": [
            "+---------+\n",
            "|R: | :\u001b[43m \u001b[0m:G|\n",
            "| : | : : |\n",
            "| : : : : |\n",
            "| | : | : |\n",
            "|\u001b[35mY\u001b[0m| : |\u001b[34;1mB\u001b[0m: |\n",
            "+---------+\n",
            "\n",
            "\n"
          ]
        }
      ]
    },
    {
      "cell_type": "markdown",
      "source": [
        "# **Step 2:  Create the Q-Learning Agent**"
      ],
      "metadata": {
        "id": "qmorRDQ41tiS"
      }
    },
    {
      "cell_type": "markdown",
      "source": [
        "The Q-Learning Agent follows a table-based approach where Q-values for each state-action pair are updated based on interactions with the environment."
      ],
      "metadata": {
        "id": "xQx2HGrA2JBt"
      }
    },
    {
      "cell_type": "code",
      "source": [
        "class QLearningAgent:\n",
        "    def __init__(self, env, learning_rate, initial_epsilon, epsilon_decay, final_epsilon, discount_factor=0.95\n",
        "                 ):\n",
        "        self.env = env\n",
        "        self.learning_rate = learning_rate\n",
        "        self.discount_factor = discount_factor\n",
        "\n",
        "        self.epsilon = initial_epsilon\n",
        "        self.epsilon_decay = epsilon_decay\n",
        "        self.final_epsilon = final_epsilon\n",
        "\n",
        "        # Initialize an empty dictionary of state-action values\n",
        "        self.q_values = defaultdict(lambda: np.zeros(env.action_space.n))\n",
        "\n",
        "    def get_action(self, obs) -> int:\n",
        "        x = np.random.rand()\n",
        "        if x < self.final_epsilon:\n",
        "            return self.env.action_space.sample()\n",
        "        else:\n",
        "            return np.argmax(self.q_values[obs])\n",
        "\n",
        "    def update(self, obs, action, reward, terminated, next_obs):\n",
        "        if not terminated:\n",
        "            future_q_value = np.max(self.q_values[next_obs])\n",
        "            self.q_values[obs][action] += self.learning_rate * \\\n",
        "                (reward + self.discount_factor *\n",
        "                 future_q_value - self.q_values[obs][action])\n",
        "\n",
        "    def decay_epsilon(self):\n",
        "        \"\"\"Decrease the exploration rate epsilon until it reaches its final value\"\"\"\n",
        "        self.epsilon = max(self.final_epsilon,\n",
        "                           self.epsilon - self.epsilon_decay)"
      ],
      "metadata": {
        "id": "sRDs874r2EFm"
      },
      "execution_count": 5,
      "outputs": []
    },
    {
      "cell_type": "markdown",
      "source": [
        "# **Step 3: Define our training method**"
      ],
      "metadata": {
        "id": "P4WHILgZ2C-5"
      }
    },
    {
      "cell_type": "markdown",
      "source": [
        "The train_agent function is responsible for training the provided Q-learning agent in a given environment over a specified number of episodes. The training steps are:\n",
        "\n",
        "  *  Reset the environment at the start of each episode.\n",
        "\n",
        "  * Select an action using the agent's get_action method.\n",
        "\n",
        "  * Execute the action, observe the next state, reward and termination condition.\n",
        "  * Update the Q-values based on received rewards.\n",
        "  * Decay the exploration rate gradually.\n",
        "  * Track performance, calculating the best average reward"
      ],
      "metadata": {
        "id": "G_06GYYa2b6h"
      }
    },
    {
      "cell_type": "code",
      "source": [
        "def train_agent(agent, env, episodes, eval_interval=100):\n",
        "    rewards = []\n",
        "    best_reward = -np.inf\n",
        "    for i in range(episodes):\n",
        "        obs, _ = env.reset()\n",
        "        terminated = False\n",
        "        truncated = False\n",
        "        length = 0\n",
        "        total_reward = 0\n",
        "\n",
        "        while (terminated == False) and (truncated == False):\n",
        "\n",
        "            action = agent.get_action(obs)\n",
        "            next_obs, reward, terminated, truncated, _ = env.step(action)\n",
        "\n",
        "            agent.update(obs, action, reward, terminated, next_obs)\n",
        "            obs = next_obs\n",
        "            length = length + 1\n",
        "            total_reward += reward\n",
        "\n",
        "        agent.decay_epsilon()\n",
        "        rewards.append(total_reward)\n",
        "\n",
        "        if i >= eval_interval:\n",
        "            avg_return = np.mean(rewards[i - eval_interval: i])\n",
        "            best_reward = max(avg_return, best_reward)\n",
        "        if i % eval_interval == 0 and i > 0:\n",
        "\n",
        "            print(f\"Episode{i} -> best_reward={best_reward} \")\n",
        "    return rewards"
      ],
      "metadata": {
        "id": "QGJi-COD2sQh"
      },
      "execution_count": 6,
      "outputs": []
    },
    {
      "cell_type": "markdown",
      "source": [
        "# **Step 4:  Running our training method**"
      ],
      "metadata": {
        "id": "jg7X6mPm2DEp"
      }
    },
    {
      "cell_type": "markdown",
      "source": [
        "Sets up parameters for training such as the number of episodes, learning rate, discount factor and exploration rates.\n",
        "\n",
        "  * Creates the Taxi-v3 environment from OpenAI Gym.\n",
        "  * Initializes a Q-learning agent (QLearningAgent) with the specified parameters.\n",
        "  * Calls the train_agent function to train the agent using the specified environment and parameters."
      ],
      "metadata": {
        "id": "dGOwSHGV22u3"
      }
    },
    {
      "cell_type": "code",
      "source": [
        "episodes = 20000\n",
        "learning_rate = 0.5\n",
        "discount_factor = 0.95\n",
        "initial_epsilon = 1\n",
        "final_epsilon = 0\n",
        "epsilon_decay = ((final_epsilon - initial_epsilon) / (episodes / 2))\n",
        "env = gym.make('Taxi-v3', render_mode='ansi')\n",
        "agent = QLearningAgent(env, learning_rate, initial_epsilon,\n",
        "                       epsilon_decay, final_epsilon)\n",
        "\n",
        "returns = train_agent(agent, env, episodes)"
      ],
      "metadata": {
        "colab": {
          "base_uri": "https://localhost:8080/"
        },
        "id": "W4dSSRzK21ML",
        "outputId": "9fb44b35-bc11-48dd-bfdf-30dddd932736"
      },
      "execution_count": 7,
      "outputs": [
        {
          "output_type": "stream",
          "name": "stdout",
          "text": [
            "Episode100 -> best_reward=-227.4 \n",
            "Episode200 -> best_reward=-109.55 \n",
            "Episode300 -> best_reward=-46.84 \n",
            "Episode400 -> best_reward=-14.1 \n",
            "Episode500 -> best_reward=-2.38 \n",
            "Episode600 -> best_reward=-0.34 \n",
            "Episode700 -> best_reward=-0.33 \n",
            "Episode800 -> best_reward=1.95 \n",
            "Episode900 -> best_reward=3.82 \n",
            "Episode1000 -> best_reward=4.52 \n",
            "Episode1100 -> best_reward=6.2 \n",
            "Episode1200 -> best_reward=6.37 \n",
            "Episode1300 -> best_reward=6.94 \n",
            "Episode1400 -> best_reward=6.94 \n",
            "Episode1500 -> best_reward=7.32 \n",
            "Episode1600 -> best_reward=7.54 \n",
            "Episode1700 -> best_reward=7.62 \n",
            "Episode1800 -> best_reward=7.62 \n",
            "Episode1900 -> best_reward=7.62 \n",
            "Episode2000 -> best_reward=7.62 \n",
            "Episode2100 -> best_reward=7.79 \n",
            "Episode2200 -> best_reward=7.83 \n",
            "Episode2300 -> best_reward=8.11 \n",
            "Episode2400 -> best_reward=8.6 \n",
            "Episode2500 -> best_reward=8.67 \n",
            "Episode2600 -> best_reward=8.67 \n",
            "Episode2700 -> best_reward=8.67 \n",
            "Episode2800 -> best_reward=8.67 \n",
            "Episode2900 -> best_reward=8.67 \n",
            "Episode3000 -> best_reward=8.67 \n",
            "Episode3100 -> best_reward=8.67 \n",
            "Episode3200 -> best_reward=8.67 \n",
            "Episode3300 -> best_reward=8.67 \n",
            "Episode3400 -> best_reward=8.67 \n",
            "Episode3500 -> best_reward=8.67 \n",
            "Episode3600 -> best_reward=8.67 \n",
            "Episode3700 -> best_reward=8.75 \n",
            "Episode3800 -> best_reward=8.75 \n",
            "Episode3900 -> best_reward=8.75 \n",
            "Episode4000 -> best_reward=8.75 \n",
            "Episode4100 -> best_reward=8.75 \n",
            "Episode4200 -> best_reward=8.75 \n",
            "Episode4300 -> best_reward=8.75 \n",
            "Episode4400 -> best_reward=8.75 \n",
            "Episode4500 -> best_reward=8.75 \n",
            "Episode4600 -> best_reward=8.75 \n",
            "Episode4700 -> best_reward=8.75 \n",
            "Episode4800 -> best_reward=8.75 \n",
            "Episode4900 -> best_reward=8.75 \n",
            "Episode5000 -> best_reward=8.75 \n",
            "Episode5100 -> best_reward=8.75 \n",
            "Episode5200 -> best_reward=8.75 \n",
            "Episode5300 -> best_reward=8.75 \n",
            "Episode5400 -> best_reward=8.75 \n",
            "Episode5500 -> best_reward=8.75 \n",
            "Episode5600 -> best_reward=8.75 \n",
            "Episode5700 -> best_reward=8.75 \n",
            "Episode5800 -> best_reward=8.75 \n",
            "Episode5900 -> best_reward=8.75 \n",
            "Episode6000 -> best_reward=8.75 \n",
            "Episode6100 -> best_reward=8.75 \n",
            "Episode6200 -> best_reward=8.75 \n",
            "Episode6300 -> best_reward=8.75 \n",
            "Episode6400 -> best_reward=8.75 \n",
            "Episode6500 -> best_reward=8.75 \n",
            "Episode6600 -> best_reward=8.75 \n",
            "Episode6700 -> best_reward=8.75 \n",
            "Episode6800 -> best_reward=8.75 \n",
            "Episode6900 -> best_reward=8.75 \n",
            "Episode7000 -> best_reward=8.75 \n",
            "Episode7100 -> best_reward=8.75 \n",
            "Episode7200 -> best_reward=8.75 \n",
            "Episode7300 -> best_reward=8.75 \n",
            "Episode7400 -> best_reward=8.75 \n",
            "Episode7500 -> best_reward=8.75 \n",
            "Episode7600 -> best_reward=8.75 \n",
            "Episode7700 -> best_reward=8.75 \n",
            "Episode7800 -> best_reward=8.75 \n",
            "Episode7900 -> best_reward=8.75 \n",
            "Episode8000 -> best_reward=8.75 \n",
            "Episode8100 -> best_reward=8.75 \n",
            "Episode8200 -> best_reward=8.75 \n",
            "Episode8300 -> best_reward=8.75 \n",
            "Episode8400 -> best_reward=8.75 \n",
            "Episode8500 -> best_reward=8.75 \n",
            "Episode8600 -> best_reward=8.75 \n",
            "Episode8700 -> best_reward=8.75 \n",
            "Episode8800 -> best_reward=8.75 \n",
            "Episode8900 -> best_reward=8.75 \n",
            "Episode9000 -> best_reward=8.75 \n",
            "Episode9100 -> best_reward=8.75 \n",
            "Episode9200 -> best_reward=8.75 \n",
            "Episode9300 -> best_reward=8.75 \n",
            "Episode9400 -> best_reward=8.75 \n",
            "Episode9500 -> best_reward=8.75 \n",
            "Episode9600 -> best_reward=8.75 \n",
            "Episode9700 -> best_reward=8.75 \n",
            "Episode9800 -> best_reward=8.75 \n",
            "Episode9900 -> best_reward=8.75 \n",
            "Episode10000 -> best_reward=8.75 \n",
            "Episode10100 -> best_reward=8.75 \n",
            "Episode10200 -> best_reward=8.75 \n",
            "Episode10300 -> best_reward=8.75 \n",
            "Episode10400 -> best_reward=8.75 \n",
            "Episode10500 -> best_reward=8.75 \n",
            "Episode10600 -> best_reward=8.75 \n",
            "Episode10700 -> best_reward=8.75 \n",
            "Episode10800 -> best_reward=8.75 \n",
            "Episode10900 -> best_reward=8.75 \n",
            "Episode11000 -> best_reward=8.75 \n",
            "Episode11100 -> best_reward=8.75 \n",
            "Episode11200 -> best_reward=8.75 \n",
            "Episode11300 -> best_reward=8.75 \n",
            "Episode11400 -> best_reward=8.75 \n",
            "Episode11500 -> best_reward=8.75 \n",
            "Episode11600 -> best_reward=8.75 \n",
            "Episode11700 -> best_reward=8.75 \n",
            "Episode11800 -> best_reward=8.75 \n",
            "Episode11900 -> best_reward=8.75 \n",
            "Episode12000 -> best_reward=8.75 \n",
            "Episode12100 -> best_reward=8.75 \n",
            "Episode12200 -> best_reward=8.75 \n",
            "Episode12300 -> best_reward=8.75 \n",
            "Episode12400 -> best_reward=8.75 \n",
            "Episode12500 -> best_reward=8.75 \n",
            "Episode12600 -> best_reward=8.75 \n",
            "Episode12700 -> best_reward=8.75 \n",
            "Episode12800 -> best_reward=8.75 \n",
            "Episode12900 -> best_reward=8.75 \n",
            "Episode13000 -> best_reward=8.75 \n",
            "Episode13100 -> best_reward=8.75 \n",
            "Episode13200 -> best_reward=8.75 \n",
            "Episode13300 -> best_reward=8.75 \n",
            "Episode13400 -> best_reward=8.75 \n",
            "Episode13500 -> best_reward=8.75 \n",
            "Episode13600 -> best_reward=8.75 \n",
            "Episode13700 -> best_reward=8.75 \n",
            "Episode13800 -> best_reward=8.75 \n",
            "Episode13900 -> best_reward=8.75 \n",
            "Episode14000 -> best_reward=8.75 \n",
            "Episode14100 -> best_reward=8.75 \n",
            "Episode14200 -> best_reward=8.75 \n",
            "Episode14300 -> best_reward=8.75 \n",
            "Episode14400 -> best_reward=8.75 \n",
            "Episode14500 -> best_reward=8.75 \n",
            "Episode14600 -> best_reward=8.75 \n",
            "Episode14700 -> best_reward=8.75 \n",
            "Episode14800 -> best_reward=8.75 \n",
            "Episode14900 -> best_reward=8.75 \n",
            "Episode15000 -> best_reward=8.75 \n",
            "Episode15100 -> best_reward=8.75 \n",
            "Episode15200 -> best_reward=8.75 \n",
            "Episode15300 -> best_reward=8.75 \n",
            "Episode15400 -> best_reward=8.75 \n",
            "Episode15500 -> best_reward=8.75 \n",
            "Episode15600 -> best_reward=8.75 \n",
            "Episode15700 -> best_reward=8.75 \n",
            "Episode15800 -> best_reward=8.75 \n",
            "Episode15900 -> best_reward=8.75 \n",
            "Episode16000 -> best_reward=8.75 \n",
            "Episode16100 -> best_reward=8.75 \n",
            "Episode16200 -> best_reward=8.75 \n",
            "Episode16300 -> best_reward=8.75 \n",
            "Episode16400 -> best_reward=8.75 \n",
            "Episode16500 -> best_reward=8.75 \n",
            "Episode16600 -> best_reward=8.75 \n",
            "Episode16700 -> best_reward=8.75 \n",
            "Episode16800 -> best_reward=8.75 \n",
            "Episode16900 -> best_reward=8.75 \n",
            "Episode17000 -> best_reward=8.75 \n",
            "Episode17100 -> best_reward=8.75 \n",
            "Episode17200 -> best_reward=8.75 \n",
            "Episode17300 -> best_reward=8.75 \n",
            "Episode17400 -> best_reward=8.75 \n",
            "Episode17500 -> best_reward=8.75 \n",
            "Episode17600 -> best_reward=8.75 \n",
            "Episode17700 -> best_reward=8.75 \n",
            "Episode17800 -> best_reward=8.75 \n",
            "Episode17900 -> best_reward=8.75 \n",
            "Episode18000 -> best_reward=8.75 \n",
            "Episode18100 -> best_reward=8.75 \n",
            "Episode18200 -> best_reward=8.75 \n",
            "Episode18300 -> best_reward=8.75 \n",
            "Episode18400 -> best_reward=8.75 \n",
            "Episode18500 -> best_reward=8.75 \n",
            "Episode18600 -> best_reward=8.75 \n",
            "Episode18700 -> best_reward=8.75 \n",
            "Episode18800 -> best_reward=8.75 \n",
            "Episode18900 -> best_reward=8.75 \n",
            "Episode19000 -> best_reward=8.75 \n",
            "Episode19100 -> best_reward=8.75 \n",
            "Episode19200 -> best_reward=8.75 \n",
            "Episode19300 -> best_reward=8.75 \n",
            "Episode19400 -> best_reward=8.75 \n",
            "Episode19500 -> best_reward=8.75 \n",
            "Episode19600 -> best_reward=8.75 \n",
            "Episode19700 -> best_reward=8.75 \n",
            "Episode19800 -> best_reward=8.75 \n",
            "Episode19900 -> best_reward=8.75 \n"
          ]
        }
      ]
    },
    {
      "cell_type": "markdown",
      "source": [
        "# **Step 5:  Plotting our returns**"
      ],
      "metadata": {
        "id": "Ua2o8xfa2DK4"
      }
    },
    {
      "cell_type": "markdown",
      "source": [
        "We plot episode returns over time to observe improvements in agent performance."
      ],
      "metadata": {
        "id": "ldfm0Mq13MuV"
      }
    },
    {
      "cell_type": "code",
      "source": [
        "def plot_returns(returns):\n",
        "    plt.plot(np.arange(len(returns)), returns)\n",
        "    plt.title('Episode returns')\n",
        "    plt.xlabel('Episode')\n",
        "    plt.ylabel('Return')\n",
        "    plt.show()\n",
        "\n",
        "\n",
        "plot_returns(returns)"
      ],
      "metadata": {
        "colab": {
          "base_uri": "https://localhost:8080/",
          "height": 472
        },
        "id": "TZBW0MxI3MMO",
        "outputId": "231fbc49-8d54-4770-a5a0-aa9e5371e649"
      },
      "execution_count": 8,
      "outputs": [
        {
          "output_type": "display_data",
          "data": {
            "text/plain": [
              "<Figure size 640x480 with 1 Axes>"
            ],
            "image/png": "[encoded data removed]"
          },
          "metadata": {}
        }
      ]
    },
    {
      "cell_type": "markdown",
      "source": [
        "# **Step 6:  Running our Agent**"
      ],
      "metadata": {
        "id": "a_oRMmMA2DQH"
      }
    },
    {
      "cell_type": "markdown",
      "source": [
        "The run_agent function allows the trained agent to navigate the Taxi-v3 environment using its learned Q-values. The execution steps are:\n",
        "\n",
        "  1.  Set epsilon =0 (agent fully exploits learned policy).\n",
        "\n",
        "  2.  Reset environment and render the initial state.\n",
        "  3. Loop until termination, selecting optimal actions.\n",
        "  4.   Render updated states after each action."
      ],
      "metadata": {
        "id": "7Tjt5Eqf3xUX"
      }
    },
    {
      "cell_type": "code",
      "source": [
        "def run_agent(agent, env):\n",
        "    agent.epsilon = 0\n",
        "    obs, _ = env.reset()\n",
        "    env.render()\n",
        "    terminated = truncated = False\n",
        "\n",
        "    while terminated == False and truncated == False:\n",
        "        action = agent.get_action(obs)\n",
        "        next_obs, _, terminated, truncated, _ = env.step(action)\n",
        "        print(env.render())\n",
        "\n",
        "        obs = next_obs\n",
        "\n",
        "\n",
        "env = gym.make('Taxi-v3', render_mode='ansi')\n",
        "run_agent(agent, env)"
      ],
      "metadata": {
        "colab": {
          "base_uri": "https://localhost:8080/"
        },
        "id": "BaJhHhxy3tSv",
        "outputId": "58525e7a-9462-4537-8184-1da92cb88972"
      },
      "execution_count": 9,
      "outputs": [
        {
          "output_type": "stream",
          "name": "stdout",
          "text": [
            "+---------+\n",
            "|\u001b[35mR\u001b[0m: | : :G|\n",
            "| : | : : |\n",
            "| : : : : |\n",
            "| | :\u001b[43m \u001b[0m| : |\n",
            "|Y| : |\u001b[34;1mB\u001b[0m: |\n",
            "+---------+\n",
            "  (North)\n",
            "\n",
            "+---------+\n",
            "|\u001b[35mR\u001b[0m: | : :G|\n",
            "| : | : : |\n",
            "| : :\u001b[43m \u001b[0m: : |\n",
            "| | : | : |\n",
            "|Y| : |\u001b[34;1mB\u001b[0m: |\n",
            "+---------+\n",
            "  (North)\n",
            "\n",
            "+---------+\n",
            "|\u001b[35mR\u001b[0m: | : :G|\n",
            "| : | : : |\n",
            "| : : :\u001b[43m \u001b[0m: |\n",
            "| | : | : |\n",
            "|Y| : |\u001b[34;1mB\u001b[0m: |\n",
            "+---------+\n",
            "  (East)\n",
            "\n",
            "+---------+\n",
            "|\u001b[35mR\u001b[0m: | : :G|\n",
            "| : | : : |\n",
            "| : : : : |\n",
            "| | : |\u001b[43m \u001b[0m: |\n",
            "|Y| : |\u001b[34;1mB\u001b[0m: |\n",
            "+---------+\n",
            "  (South)\n",
            "\n",
            "+---------+\n",
            "|\u001b[35mR\u001b[0m: | : :G|\n",
            "| : | : : |\n",
            "| : : : : |\n",
            "| | : | : |\n",
            "|Y| : |\u001b[34;1m\u001b[43mB\u001b[0m\u001b[0m: |\n",
            "+---------+\n",
            "  (South)\n",
            "\n",
            "+---------+\n",
            "|\u001b[35mR\u001b[0m: | : :G|\n",
            "| : | : : |\n",
            "| : : : : |\n",
            "| | : | : |\n",
            "|Y| : |\u001b[42mB\u001b[0m: |\n",
            "+---------+\n",
            "  (Pickup)\n",
            "\n",
            "+---------+\n",
            "|\u001b[35mR\u001b[0m: | : :G|\n",
            "| : | : : |\n",
            "| : : : : |\n",
            "| | : |\u001b[42m_\u001b[0m: |\n",
            "|Y| : |B: |\n",
            "+---------+\n",
            "  (North)\n",
            "\n",
            "+---------+\n",
            "|\u001b[35mR\u001b[0m: | : :G|\n",
            "| : | : : |\n",
            "| : : :\u001b[42m_\u001b[0m: |\n",
            "| | : | : |\n",
            "|Y| : |B: |\n",
            "+---------+\n",
            "  (North)\n",
            "\n",
            "+---------+\n",
            "|\u001b[35mR\u001b[0m: | : :G|\n",
            "| : | : : |\n",
            "| : :\u001b[42m_\u001b[0m: : |\n",
            "| | : | : |\n",
            "|Y| : |B: |\n",
            "+---------+\n",
            "  (West)\n",
            "\n",
            "+---------+\n",
            "|\u001b[35mR\u001b[0m: | : :G|\n",
            "| : | : : |\n",
            "| :\u001b[42m_\u001b[0m: : : |\n",
            "| | : | : |\n",
            "|Y| : |B: |\n",
            "+---------+\n",
            "  (West)\n",
            "\n",
            "+---------+\n",
            "|\u001b[35mR\u001b[0m: | : :G|\n",
            "| :\u001b[42m_\u001b[0m| : : |\n",
            "| : : : : |\n",
            "| | : | : |\n",
            "|Y| : |B: |\n",
            "+---------+\n",
            "  (North)\n",
            "\n",
            "+---------+\n",
            "|\u001b[35mR\u001b[0m:\u001b[42m_\u001b[0m| : :G|\n",
            "| : | : : |\n",
            "| : : : : |\n",
            "| | : | : |\n",
            "|Y| : |B: |\n",
            "+---------+\n",
            "  (North)\n",
            "\n",
            "+---------+\n",
            "|\u001b[35m\u001b[42mR\u001b[0m\u001b[0m: | : :G|\n",
            "| : | : : |\n",
            "| : : : : |\n",
            "| | : | : |\n",
            "|Y| : |B: |\n",
            "+---------+\n",
            "  (West)\n",
            "\n",
            "+---------+\n",
            "|\u001b[35m\u001b[34;1m\u001b[43mR\u001b[0m\u001b[0m\u001b[0m: | : :G|\n",
            "| : | : : |\n",
            "| : : : : |\n",
            "| | : | : |\n",
            "|Y| : |B: |\n",
            "+---------+\n",
            "  (Dropoff)\n",
            "\n"
          ]
        }
      ]
    }
  ]
}