{
  "nbformat": 4,
  "nbformat_minor": 0,
  "metadata": {
    "colab": {
      "provenance": [],
      "include_colab_link": true
    },
    "kernelspec": {
      "name": "python3",
      "display_name": "Python 3"
    },
    "language_info": {
      "name": "python"
    }
  },
  "cells": [
    {
      "cell_type": "markdown",
      "metadata": {
        "id": "view-in-github",
        "colab_type": "text"
      },
      "source": [
        "<a href=\"https://colab.research.google.com/github/MELAI-1/MY-PROJECT/blob/main/machine-learning/QUASI_NEWTON_algorithms.ipynb\" target=\"_parent\"><img src=\"https://colab.research.google.com/assets/colab-badge.svg\" alt=\"Open In Colab\"/></a>"
      ]
    },
    {
      "cell_type": "code",
      "source": [
        "#IMPORTATION OF LIBRAIRIES\n",
        "import numpy as np\n",
        "from scipy.optimize import line_search"
      ],
      "metadata": {
        "id": "DlTfbVJ4nGz5"
      },
      "execution_count": null,
      "outputs": []
    },
    {
      "cell_type": "code",
      "execution_count": null,
      "metadata": {
        "id": "8Bwzqmubm_i6"
      },
      "outputs": [],
      "source": [
        "\n",
        "#DEFINITION OF THE FUNCTION\n",
        "def quasi_newton(f, grad_f, x0, max_iter=1000, tol=1e-6):\n",
        "    n = len(x0)\n",
        "    H_inv = np.eye(n)  # Initial guess for the inverse Hessian\n",
        "    x = x0.copy()\n",
        "\n",
        "    for k in range(max_iter):\n",
        "        # Step 1: Compute the gradient of the objective function\n",
        "        gradient = grad_f(x)\n",
        "\n",
        "        # Step 2: Compute the search direction using the inverse Hessian approximation\n",
        "        p = -np.dot(H_inv, gradient)\n",
        "\n",
        "        # Step 3: Perform a line search to determine the step size\n",
        "        alpha = line_search(f, grad_f, x, p)[0]\n",
        "        if alpha is None:\n",
        "            raise ValueError(\"Line search failed to find a suitable step size.\")\n",
        "\n",
        "        # Step 4: Update the variables\n",
        "        x_new = x + alpha * p\n",
        "\n",
        "        # Step 5: Compute the difference in gradients and differences in variables\n",
        "        y = grad_f(x_new) - gradient\n",
        "        s = x_new - x\n",
        "\n",
        "        # Step 6: Update the inverse Hessian approximation using the BFGS formula\n",
        "        rho = 1.0 / np.dot(y, s)\n",
        "        A1 = np.eye(n) - rho * np.outer(s, y)\n",
        "        A2 = np.eye(n) - rho * np.outer(y, s)\n",
        "        H_inv = np.dot(A1, np.dot(H_inv, A2)) + rho * np.outer(s, s)\n",
        "\n",
        "        # Step 7: Update the variables for the next iteration\n",
        "        x = x_new\n",
        "\n",
        "        # Step 8: Check for convergence\n",
        "        if np.linalg.norm(gradient) < tol:\n",
        "            break\n",
        "\n",
        "    return x, f(x), k + 1  # Return the optimized variables, the function value, and the number of iterations\n",
        "\n",
        "\n"
      ]
    },
    {
      "cell_type": "code",
      "source": [
        "\n",
        "# Example usage:\n",
        "def objective_function(x):\n",
        "    return x[0]**2 + x[1]**2\n",
        "\n",
        "def gradient(x):\n",
        "    return np.array([2*x[0], 2*x[1]])\n",
        "\n",
        "initial_guess = np.array([1.0, 1.0])\n",
        "\n",
        "result = quasi_newton(objective_function, gradient, initial_guess)\n",
        "print(\"Optimal variables:\", result[0])\n",
        "print(\"Optimal value:\", result[1])\n",
        "print(\"Number of iterations:\", result[2])"
      ],
      "metadata": {
        "colab": {
          "base_uri": "https://localhost:8080/"
        },
        "id": "ijWmDBHsncZ7",
        "outputId": "781f6cb4-eeff-4bcb-ea30-eef8f079cb7e"
      },
      "execution_count": null,
      "outputs": [
        {
          "output_type": "stream",
          "name": "stdout",
          "text": [
            "Optimal variables: [0. 0.]\n",
            "Optimal value: 0.0\n",
            "Number of iterations: 2\n"
          ]
        },
        {
          "output_type": "stream",
          "name": "stderr",
          "text": [
            "<ipython-input-2-0e1d867e4abd>:27: RuntimeWarning: divide by zero encountered in scalar divide\n",
            "  rho = 1.0 / np.dot(y, s)\n",
            "<ipython-input-2-0e1d867e4abd>:28: RuntimeWarning: invalid value encountered in multiply\n",
            "  A1 = np.eye(n) - rho * np.outer(s, y)\n",
            "<ipython-input-2-0e1d867e4abd>:29: RuntimeWarning: invalid value encountered in multiply\n",
            "  A2 = np.eye(n) - rho * np.outer(y, s)\n",
            "<ipython-input-2-0e1d867e4abd>:30: RuntimeWarning: invalid value encountered in multiply\n",
            "  H_inv = np.dot(A1, np.dot(H_inv, A2)) + rho * np.outer(s, s)\n"
          ]
        }
      ]
    }
  ]
}