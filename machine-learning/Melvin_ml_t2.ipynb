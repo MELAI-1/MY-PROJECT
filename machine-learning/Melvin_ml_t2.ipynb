{
  "nbformat": 4,
  "nbformat_minor": 0,
  "metadata": {
    "colab": {
      "provenance": [],
      "mount_file_id": "135OfoP1sFyoNNaYQL2JXXmhKeMF0lEY6",
      "authorship_tag": "ABX9TyN6kU1RLaTSFu53yevbQ61x",
      "include_colab_link": true
    },
    "kernelspec": {
      "name": "python3",
      "display_name": "Python 3"
    },
    "language_info": {
      "name": "python"
    }
  },
  "cells": [
    {
      "cell_type": "markdown",
      "metadata": {
        "id": "view-in-github",
        "colab_type": "text"
      },
      "source": [
        "<a href=\"https://colab.research.google.com/github/MELAI-1/MY-PROJECT/blob/main/machine-learning/Melvin_ml_t2.ipynb\" target=\"_parent\"><img src=\"https://colab.research.google.com/assets/colab-badge.svg\" alt=\"Open In Colab\"/></a>"
      ]
    },
    {
      "cell_type": "markdown",
      "source": [
        "# Intro to ML"
      ],
      "metadata": {
        "id": "m-nlDQS_FtPn"
      }
    },
    {
      "cell_type": "markdown",
      "source": [
        "![machiene learning.jpeg](data:image/jpeg;base64,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)"
      ],
      "metadata": {
        "id": "fVmTwJDv84cV"
      }
    },
    {
      "cell_type": "markdown",
      "source": [
        "<a id=\"contents\"></a>\n",
        "# <p style=\"background-color: #265576; font-family:Avantgarde; color:#ffffff; font-size:150%; text-align:center; border-radius:200px 30px; overflow:hidden; padding:17px\">Table Of Contents</p>"
      ],
      "metadata": {
        "id": "uWGpUsXEGK0b"
      }
    },
    {
      "cell_type": "markdown",
      "source": [
        "- <a href=\"#setup\">A. setup</a>\n",
        "  - <a href=\"#mount\">a.1. Mount the google drive in colab </a>\n",
        "  - <a href=\"#libraries\">a.2. Installing Required Libraries</a>\n",
        "  \n",
        "- <a href=\"#tutorial2\">I. Tutorial 2: Classifier</a>  \n",
        "  - <a href=\"#intro1\">Introduction</a>\n",
        "\n",
        "  - <a href=\"#part1\">Part I:  Linear Classifier By Hand  </a>\n",
        "    - <a href=\"#data1\">1.1. Get the data </a>\n",
        "    - <a href=\"#process\">1.2  Data pre-processing</a>\n",
        "    - <a href=\"#functions1\">1.3 Functions</a>\n",
        "    - <a href=\"#linearloop1\">1.4 Linear Regressor Loop</a>\n",
        "    - <a href=\"#gradient1\">1.5 Visualize the gradient descent</a>\n",
        "    - <a href=\"#tutorial1\">1.6  Let’s check with NumPy</a>\n",
        "  - <a href=\"#part2\">Part II: Draw Decision Boundaries </a>\n",
        "    - <a href=\"#general  \"> Linear regressor for a  a parameter vector</a>\n",
        "  - <a href=\"#part3\">Part III: OOP</a>\n",
        "    - <a href=\"#class\">class LinearRegressor </a>\n",
        "\n"
      ],
      "metadata": {
        "id": "9kyJdtVLGP96"
      }
    },
    {
      "cell_type": "markdown",
      "source": [
        "<a id=\"setup\"></a>\n",
        "# <p style=\"background-color: #FFA500; font-family:Avantgarde; color:#ffffff; font-size:150%; text-align:center; border-radius:200px 30px; overflow:hidden; padding:17px\"> **A-Setup**</p>"
      ],
      "metadata": {
        "id": "pI-R7HtjOT2j"
      }
    },
    {
      "cell_type": "markdown",
      "source": [
        "<a id=\"mount\"></a>\n",
        "# <p style=\"background-color: #1b907d; font-family:Avantgarde; color:#ffffff; font-size:150%; text-align:center; border-radius:200px 30px; overflow:hidden; padding:17px\">a.1. Mount the Google Drive in colab</p>"
      ],
      "metadata": {
        "id": "85aoF-4pHmKH"
      }
    },
    {
      "cell_type": "markdown",
      "source": [
        "Mounting  Google Drive to Colab  allows us to access and save files directly from our Drive, making it easier to work with our data and projects."
      ],
      "metadata": {
        "id": "wxMOyFh5IBNI"
      }
    },
    {
      "cell_type": "code",
      "source": [
        "from google.colab import drive\n",
        "drive.mount('/content/gdrive')"
      ],
      "metadata": {
        "id": "EsRgbenaHyW5",
        "colab": {
          "base_uri": "https://localhost:8080/"
        },
        "outputId": "7bb301d0-9c7b-4a85-abef-c0830c76f6c8"
      },
      "execution_count": null,
      "outputs": [
        {
          "output_type": "stream",
          "name": "stdout",
          "text": [
            "Mounted at /content/gdrive\n"
          ]
        }
      ]
    },
    {
      "cell_type": "markdown",
      "source": [
        "<a id=\"libraries\"></a>\n",
        "# <p style=\"background-color: #1b907d; font-family:Avantgarde; color:#ffffff; font-size:150%; text-align:center; border-radius:200px 30px; overflow:hidden; padding:17px\">a.2. Installing Required Libraries</p>"
      ],
      "metadata": {
        "id": "RLlgERquG_Ds"
      }
    },
    {
      "cell_type": "code",
      "source": [
        "import pandas as pd\n",
        "import matplotlib.pyplot as plt\n",
        "import seaborn as sns\n",
        "import numpy as np\n",
        "import sys, os\n"
      ],
      "metadata": {
        "id": "nVFzos6RJHkB"
      },
      "execution_count": null,
      "outputs": []
    },
    {
      "cell_type": "markdown",
      "source": [
        "For this turorial, we will be using the following libraries:\n",
        " - [`pandas`] for managing the data.\n",
        " - [`numpy`] for mathematical operations.\n",
        " - [`seaborn`] for visualizing the data.\n",
        " - [`matplotlib`] for visualizing the data.\n",
        " - ['os'] for management system"
      ],
      "metadata": {
        "id": "mmS9vuQcIZdl"
      }
    },
    {
      "cell_type": "markdown",
      "source": [
        "# **Tutorial 2:Classifier**"
      ],
      "metadata": {
        "id": "95LcASF6Uivq"
      }
    },
    {
      "cell_type": "markdown",
      "source": [
        "<a id=\"intro1\"></a>\n",
        "# <p style=\"background-color: #1b907d; font-family:Avantgarde; color:#ffffff; font-size:150%; text-align:center; border-radius:200px 30px; overflow:hidden; padding:17px\"> Introduction: calorimeter showers</p>"
      ],
      "metadata": {
        "id": "gHowLwuFVAtC"
      }
    },
    {
      "cell_type": "markdown",
      "source": [
        "\n",
        "\n",
        "**A calorimeter** in the context of experimental particle physics is a sub-detector aiming at measuring the energy of incoming particles. At CERN Large Hadron Collider, the giant multipurpose detectors ATLAS and CMS are both equipped with electromagnetic and hadronic calorimeters. The electronic calorimeter, as its name indicates, is measuring the energy of incoming electrons. It is a destructive method: the energetic electron entering the calorimeter will interact with its dense material via the electromagnetic force. It eventually results in the generation of a shower of particles (electromagnetic shower), with a characteristic average depth and width. The depth is along the direction of the incoming particle and the width is the dimension perpendicular to it.\n",
        "\n",
        "**Problem?** There can be noisy signals in electromagnetic calorimeters that are generated by hadrons, not electrons.\n",
        "\n",
        "**our mission** is to help physicists by coding a classifier to select electron-showers (signal) from hadron-showers (background).\n",
        "\n"
      ],
      "metadata": {
        "id": "RC5tSjg3hhWh"
      }
    },
    {
      "cell_type": "markdown",
      "source": [
        "<a id=\"part31\"></a>\n",
        "# <p style=\"background-color: #FFA500; font-family:Avantgarde; color:#ffffff; font-size:150%; text-align:center; border-radius:200px 30px; overflow:hidden; padding:17px\">Part I: Linear Classifier By Hand </p>"
      ],
      "metadata": {
        "id": "qDFnRcxbmFrA"
      }
    },
    {
      "cell_type": "markdown",
      "source": [
        "##  Get the data"
      ],
      "metadata": {
        "id": "6_MazcTWVQ65"
      }
    },
    {
      "cell_type": "code",
      "source": [
        "df=pd.read_csv('/content/gdrive/MyDrive/intro_ML_data/ml_tutorial_2_calo_shower_data.csv')"
      ],
      "metadata": {
        "id": "jjtqptboV6_J"
      },
      "execution_count": null,
      "outputs": []
    },
    {
      "cell_type": "markdown",
      "source": [
        "<a id=\"data2\"></a>\n",
        "# <p style=\"background-color: #1b907d; font-family:Avantgarde; color:#ffffff; font-size:150%; text-align:center; border-radius:200px 30px; overflow:hidden; padding:17px\">Part I: Linear Classifier By Hand </p>"
      ],
      "metadata": {
        "id": "9mznrtLmV7gu"
      }
    },
    {
      "cell_type": "markdown",
      "source": [
        "<a id=\"process\"></a>\n",
        "# <p style=\"background-color: #1b907d; font-family:Avantgarde; color:#ffffff; font-size:150%; text-align:center; border-radius:200px 30px; overflow:hidden; padding:17px\">1.2. Data pre-processing </p>"
      ],
      "metadata": {
        "id": "T55rCs5QbSl5"
      }
    },
    {
      "cell_type": "markdown",
      "source": [
        "1.2.1 Explore the Data"
      ],
      "metadata": {
        "id": "YflrXt2VaUL3"
      }
    },
    {
      "cell_type": "code",
      "source": [
        "df"
      ],
      "metadata": {
        "colab": {
          "base_uri": "https://localhost:8080/",
          "height": 424
        },
        "id": "0vOIPxD7WeEo",
        "outputId": "9d649d29-3e9d-4259-a9ba-d3aa660d19c1"
      },
      "execution_count": null,
      "outputs": [
        {
          "output_type": "execute_result",
          "data": {
            "text/plain": [
              "       shower_depth  shower_width      type\n",
              "0        102.726547     41.060509    hadron\n",
              "1         55.953644     19.107106  electron\n",
              "2         76.237938     21.859595  electron\n",
              "3        145.829765     18.478401    hadron\n",
              "4        151.974596     33.539821    hadron\n",
              "...             ...           ...       ...\n",
              "99995     94.844879     22.915035  electron\n",
              "99996     91.389386     21.634711  electron\n",
              "99997     66.610819     23.150888  electron\n",
              "99998     94.607568     25.352104  electron\n",
              "99999    148.815716     26.133606    hadron\n",
              "\n",
              "[100000 rows x 3 columns]"
            ],
            "text/html": [
              "\n",
              "  <div id=\"df-7b2396b0-852f-4f84-8ec4-da6f908c8c56\" class=\"colab-df-container\">\n",
              "    <div>\n",
              "<style scoped>\n",
              "    .dataframe tbody tr th:only-of-type {\n",
              "        vertical-align: middle;\n",
              "    }\n",
              "\n",
              "    .dataframe tbody tr th {\n",
              "        vertical-align: top;\n",
              "    }\n",
              "\n",
              "    .dataframe thead th {\n",
              "        text-align: right;\n",
              "    }\n",
              "</style>\n",
              "<table border=\"1\" class=\"dataframe\">\n",
              "  <thead>\n",
              "    <tr style=\"text-align: right;\">\n",
              "      <th></th>\n",
              "      <th>shower_depth</th>\n",
              "      <th>shower_width</th>\n",
              "      <th>type</th>\n",
              "    </tr>\n",
              "  </thead>\n",
              "  <tbody>\n",
              "    <tr>\n",
              "      <th>0</th>\n",
              "      <td>102.726547</td>\n",
              "      <td>41.060509</td>\n",
              "      <td>hadron</td>\n",
              "    </tr>\n",
              "    <tr>\n",
              "      <th>1</th>\n",
              "      <td>55.953644</td>\n",
              "      <td>19.107106</td>\n",
              "      <td>electron</td>\n",
              "    </tr>\n",
              "    <tr>\n",
              "      <th>2</th>\n",
              "      <td>76.237938</td>\n",
              "      <td>21.859595</td>\n",
              "      <td>electron</td>\n",
              "    </tr>\n",
              "    <tr>\n",
              "      <th>3</th>\n",
              "      <td>145.829765</td>\n",
              "      <td>18.478401</td>\n",
              "      <td>hadron</td>\n",
              "    </tr>\n",
              "    <tr>\n",
              "      <th>4</th>\n",
              "      <td>151.974596</td>\n",
              "      <td>33.539821</td>\n",
              "      <td>hadron</td>\n",
              "    </tr>\n",
              "    <tr>\n",
              "      <th>...</th>\n",
              "      <td>...</td>\n",
              "      <td>...</td>\n",
              "      <td>...</td>\n",
              "    </tr>\n",
              "    <tr>\n",
              "      <th>99995</th>\n",
              "      <td>94.844879</td>\n",
              "      <td>22.915035</td>\n",
              "      <td>electron</td>\n",
              "    </tr>\n",
              "    <tr>\n",
              "      <th>99996</th>\n",
              "      <td>91.389386</td>\n",
              "      <td>21.634711</td>\n",
              "      <td>electron</td>\n",
              "    </tr>\n",
              "    <tr>\n",
              "      <th>99997</th>\n",
              "      <td>66.610819</td>\n",
              "      <td>23.150888</td>\n",
              "      <td>electron</td>\n",
              "    </tr>\n",
              "    <tr>\n",
              "      <th>99998</th>\n",
              "      <td>94.607568</td>\n",
              "      <td>25.352104</td>\n",
              "      <td>electron</td>\n",
              "    </tr>\n",
              "    <tr>\n",
              "      <th>99999</th>\n",
              "      <td>148.815716</td>\n",
              "      <td>26.133606</td>\n",
              "      <td>hadron</td>\n",
              "    </tr>\n",
              "  </tbody>\n",
              "</table>\n",
              "<p>100000 rows × 3 columns</p>\n",
              "</div>\n",
              "    <div class=\"colab-df-buttons\">\n",
              "\n",
              "  <div class=\"colab-df-container\">\n",
              "    <button class=\"colab-df-convert\" onclick=\"convertToInteractive('df-7b2396b0-852f-4f84-8ec4-da6f908c8c56')\"\n",
              "            title=\"Convert this dataframe to an interactive table.\"\n",
              "            style=\"display:none;\">\n",
              "\n",
              "  <svg xmlns=\"http://www.w3.org/2000/svg\" height=\"24px\" viewBox=\"0 -960 960 960\">\n",
              "    <path d=\"M120-120v-720h720v720H120Zm60-500h600v-160H180v160Zm220 220h160v-160H400v160Zm0 220h160v-160H400v160ZM180-400h160v-160H180v160Zm440 0h160v-160H620v160ZM180-180h160v-160H180v160Zm440 0h160v-160H620v160Z\"/>\n",
              "  </svg>\n",
              "    </button>\n",
              "\n",
              "  <style>\n",
              "    .colab-df-container {\n",
              "      display:flex;\n",
              "      gap: 12px;\n",
              "    }\n",
              "\n",
              "    .colab-df-convert {\n",
              "      background-color: #E8F0FE;\n",
              "      border: none;\n",
              "      border-radius: 50%;\n",
              "      cursor: pointer;\n",
              "      display: none;\n",
              "      fill: #1967D2;\n",
              "      height: 32px;\n",
              "      padding: 0 0 0 0;\n",
              "      width: 32px;\n",
              "    }\n",
              "\n",
              "    .colab-df-convert:hover {\n",
              "      background-color: #E2EBFA;\n",
              "      box-shadow: 0px 1px 2px rgba(60, 64, 67, 0.3), 0px 1px 3px 1px rgba(60, 64, 67, 0.15);\n",
              "      fill: #174EA6;\n",
              "    }\n",
              "\n",
              "    .colab-df-buttons div {\n",
              "      margin-bottom: 4px;\n",
              "    }\n",
              "\n",
              "    [theme=dark] .colab-df-convert {\n",
              "      background-color: #3B4455;\n",
              "      fill: #D2E3FC;\n",
              "    }\n",
              "\n",
              "    [theme=dark] .colab-df-convert:hover {\n",
              "      background-color: #434B5C;\n",
              "      box-shadow: 0px 1px 3px 1px rgba(0, 0, 0, 0.15);\n",
              "      filter: drop-shadow(0px 1px 2px rgba(0, 0, 0, 0.3));\n",
              "      fill: #FFFFFF;\n",
              "    }\n",
              "  </style>\n",
              "\n",
              "    <script>\n",
              "      const buttonEl =\n",
              "        document.querySelector('#df-7b2396b0-852f-4f84-8ec4-da6f908c8c56 button.colab-df-convert');\n",
              "      buttonEl.style.display =\n",
              "        google.colab.kernel.accessAllowed ? 'block' : 'none';\n",
              "\n",
              "      async function convertToInteractive(key) {\n",
              "        const element = document.querySelector('#df-7b2396b0-852f-4f84-8ec4-da6f908c8c56');\n",
              "        const dataTable =\n",
              "          await google.colab.kernel.invokeFunction('convertToInteractive',\n",
              "                                                    [key], {});\n",
              "        if (!dataTable) return;\n",
              "\n",
              "        const docLinkHtml = 'Like what you see? Visit the ' +\n",
              "          '<a target=\"_blank\" href=https://colab.research.google.com/notebooks/data_table.ipynb>data table notebook</a>'\n",
              "          + ' to learn more about interactive tables.';\n",
              "        element.innerHTML = '';\n",
              "        dataTable['output_type'] = 'display_data';\n",
              "        await google.colab.output.renderOutput(dataTable, element);\n",
              "        const docLink = document.createElement('div');\n",
              "        docLink.innerHTML = docLinkHtml;\n",
              "        element.appendChild(docLink);\n",
              "      }\n",
              "    </script>\n",
              "  </div>\n",
              "\n",
              "\n",
              "    <div id=\"df-ca443f56-707a-4340-81fe-084a3cb0f3db\">\n",
              "      <button class=\"colab-df-quickchart\" onclick=\"quickchart('df-ca443f56-707a-4340-81fe-084a3cb0f3db')\"\n",
              "                title=\"Suggest charts\"\n",
              "                style=\"display:none;\">\n",
              "\n",
              "<svg xmlns=\"http://www.w3.org/2000/svg\" height=\"24px\"viewBox=\"0 0 24 24\"\n",
              "     width=\"24px\">\n",
              "    <g>\n",
              "        <path d=\"M19 3H5c-1.1 0-2 .9-2 2v14c0 1.1.9 2 2 2h14c1.1 0 2-.9 2-2V5c0-1.1-.9-2-2-2zM9 17H7v-7h2v7zm4 0h-2V7h2v10zm4 0h-2v-4h2v4z\"/>\n",
              "    </g>\n",
              "</svg>\n",
              "      </button>\n",
              "\n",
              "<style>\n",
              "  .colab-df-quickchart {\n",
              "      --bg-color: #E8F0FE;\n",
              "      --fill-color: #1967D2;\n",
              "      --hover-bg-color: #E2EBFA;\n",
              "      --hover-fill-color: #174EA6;\n",
              "      --disabled-fill-color: #AAA;\n",
              "      --disabled-bg-color: #DDD;\n",
              "  }\n",
              "\n",
              "  [theme=dark] .colab-df-quickchart {\n",
              "      --bg-color: #3B4455;\n",
              "      --fill-color: #D2E3FC;\n",
              "      --hover-bg-color: #434B5C;\n",
              "      --hover-fill-color: #FFFFFF;\n",
              "      --disabled-bg-color: #3B4455;\n",
              "      --disabled-fill-color: #666;\n",
              "  }\n",
              "\n",
              "  .colab-df-quickchart {\n",
              "    background-color: var(--bg-color);\n",
              "    border: none;\n",
              "    border-radius: 50%;\n",
              "    cursor: pointer;\n",
              "    display: none;\n",
              "    fill: var(--fill-color);\n",
              "    height: 32px;\n",
              "    padding: 0;\n",
              "    width: 32px;\n",
              "  }\n",
              "\n",
              "  .colab-df-quickchart:hover {\n",
              "    background-color: var(--hover-bg-color);\n",
              "    box-shadow: 0 1px 2px rgba(60, 64, 67, 0.3), 0 1px 3px 1px rgba(60, 64, 67, 0.15);\n",
              "    fill: var(--button-hover-fill-color);\n",
              "  }\n",
              "\n",
              "  .colab-df-quickchart-complete:disabled,\n",
              "  .colab-df-quickchart-complete:disabled:hover {\n",
              "    background-color: var(--disabled-bg-color);\n",
              "    fill: var(--disabled-fill-color);\n",
              "    box-shadow: none;\n",
              "  }\n",
              "\n",
              "  .colab-df-spinner {\n",
              "    border: 2px solid var(--fill-color);\n",
              "    border-color: transparent;\n",
              "    border-bottom-color: var(--fill-color);\n",
              "    animation:\n",
              "      spin 1s steps(1) infinite;\n",
              "  }\n",
              "\n",
              "  @keyframes spin {\n",
              "    0% {\n",
              "      border-color: transparent;\n",
              "      border-bottom-color: var(--fill-color);\n",
              "      border-left-color: var(--fill-color);\n",
              "    }\n",
              "    20% {\n",
              "      border-color: transparent;\n",
              "      border-left-color: var(--fill-color);\n",
              "      border-top-color: var(--fill-color);\n",
              "    }\n",
              "    30% {\n",
              "      border-color: transparent;\n",
              "      border-left-color: var(--fill-color);\n",
              "      border-top-color: var(--fill-color);\n",
              "      border-right-color: var(--fill-color);\n",
              "    }\n",
              "    40% {\n",
              "      border-color: transparent;\n",
              "      border-right-color: var(--fill-color);\n",
              "      border-top-color: var(--fill-color);\n",
              "    }\n",
              "    60% {\n",
              "      border-color: transparent;\n",
              "      border-right-color: var(--fill-color);\n",
              "    }\n",
              "    80% {\n",
              "      border-color: transparent;\n",
              "      border-right-color: var(--fill-color);\n",
              "      border-bottom-color: var(--fill-color);\n",
              "    }\n",
              "    90% {\n",
              "      border-color: transparent;\n",
              "      border-bottom-color: var(--fill-color);\n",
              "    }\n",
              "  }\n",
              "</style>\n",
              "\n",
              "      <script>\n",
              "        async function quickchart(key) {\n",
              "          const quickchartButtonEl =\n",
              "            document.querySelector('#' + key + ' button');\n",
              "          quickchartButtonEl.disabled = true;  // To prevent multiple clicks.\n",
              "          quickchartButtonEl.classList.add('colab-df-spinner');\n",
              "          try {\n",
              "            const charts = await google.colab.kernel.invokeFunction(\n",
              "                'suggestCharts', [key], {});\n",
              "          } catch (error) {\n",
              "            console.error('Error during call to suggestCharts:', error);\n",
              "          }\n",
              "          quickchartButtonEl.classList.remove('colab-df-spinner');\n",
              "          quickchartButtonEl.classList.add('colab-df-quickchart-complete');\n",
              "        }\n",
              "        (() => {\n",
              "          let quickchartButtonEl =\n",
              "            document.querySelector('#df-ca443f56-707a-4340-81fe-084a3cb0f3db button');\n",
              "          quickchartButtonEl.style.display =\n",
              "            google.colab.kernel.accessAllowed ? 'block' : 'none';\n",
              "        })();\n",
              "      </script>\n",
              "    </div>\n",
              "\n",
              "  <div id=\"id_b611aac0-e9cc-4e1a-9ca7-722163cfe531\">\n",
              "    <style>\n",
              "      .colab-df-generate {\n",
              "        background-color: #E8F0FE;\n",
              "        border: none;\n",
              "        border-radius: 50%;\n",
              "        cursor: pointer;\n",
              "        display: none;\n",
              "        fill: #1967D2;\n",
              "        height: 32px;\n",
              "        padding: 0 0 0 0;\n",
              "        width: 32px;\n",
              "      }\n",
              "\n",
              "      .colab-df-generate:hover {\n",
              "        background-color: #E2EBFA;\n",
              "        box-shadow: 0px 1px 2px rgba(60, 64, 67, 0.3), 0px 1px 3px 1px rgba(60, 64, 67, 0.15);\n",
              "        fill: #174EA6;\n",
              "      }\n",
              "\n",
              "      [theme=dark] .colab-df-generate {\n",
              "        background-color: #3B4455;\n",
              "        fill: #D2E3FC;\n",
              "      }\n",
              "\n",
              "      [theme=dark] .colab-df-generate:hover {\n",
              "        background-color: #434B5C;\n",
              "        box-shadow: 0px 1px 3px 1px rgba(0, 0, 0, 0.15);\n",
              "        filter: drop-shadow(0px 1px 2px rgba(0, 0, 0, 0.3));\n",
              "        fill: #FFFFFF;\n",
              "      }\n",
              "    </style>\n",
              "    <button class=\"colab-df-generate\" onclick=\"generateWithVariable('df')\"\n",
              "            title=\"Generate code using this dataframe.\"\n",
              "            style=\"display:none;\">\n",
              "\n",
              "  <svg xmlns=\"http://www.w3.org/2000/svg\" height=\"24px\"viewBox=\"0 0 24 24\"\n",
              "       width=\"24px\">\n",
              "    <path d=\"M7,19H8.4L18.45,9,17,7.55,7,17.6ZM5,21V16.75L18.45,3.32a2,2,0,0,1,2.83,0l1.4,1.43a1.91,1.91,0,0,1,.58,1.4,1.91,1.91,0,0,1-.58,1.4L9.25,21ZM18.45,9,17,7.55Zm-12,3A5.31,5.31,0,0,0,4.9,8.1,5.31,5.31,0,0,0,1,6.5,5.31,5.31,0,0,0,4.9,4.9,5.31,5.31,0,0,0,6.5,1,5.31,5.31,0,0,0,8.1,4.9,5.31,5.31,0,0,0,12,6.5,5.46,5.46,0,0,0,6.5,12Z\"/>\n",
              "  </svg>\n",
              "    </button>\n",
              "    <script>\n",
              "      (() => {\n",
              "      const buttonEl =\n",
              "        document.querySelector('#id_b611aac0-e9cc-4e1a-9ca7-722163cfe531 button.colab-df-generate');\n",
              "      buttonEl.style.display =\n",
              "        google.colab.kernel.accessAllowed ? 'block' : 'none';\n",
              "\n",
              "      buttonEl.onclick = () => {\n",
              "        google.colab.notebook.generateWithVariable('df');\n",
              "      }\n",
              "      })();\n",
              "    </script>\n",
              "  </div>\n",
              "\n",
              "    </div>\n",
              "  </div>\n"
            ],
            "application/vnd.google.colaboratory.intrinsic+json": {
              "type": "dataframe",
              "variable_name": "df",
              "summary": "{\n  \"name\": \"df\",\n  \"rows\": 100000,\n  \"fields\": [\n    {\n      \"column\": \"shower_depth\",\n      \"properties\": {\n        \"dtype\": \"number\",\n        \"std\": 31.36051181734425,\n        \"min\": 0.013478941028076,\n        \"max\": 222.6517677353552,\n        \"num_unique_values\": 100000,\n        \"samples\": [\n          78.65268492585486,\n          95.56047934215567,\n          99.11392333690245\n        ],\n        \"semantic_type\": \"\",\n        \"description\": \"\"\n      }\n    },\n    {\n      \"column\": \"shower_width\",\n      \"properties\": {\n        \"dtype\": \"number\",\n        \"std\": 9.073636171776222,\n        \"min\": 0.1398285762169457,\n        \"max\": 73.08269344595345,\n        \"num_unique_values\": 100000,\n        \"samples\": [\n          16.199465967417456,\n          55.55442362381882,\n          16.85311853567994\n        ],\n        \"semantic_type\": \"\",\n        \"description\": \"\"\n      }\n    },\n    {\n      \"column\": \"type\",\n      \"properties\": {\n        \"dtype\": \"category\",\n        \"num_unique_values\": 2,\n        \"samples\": [\n          \"electron\",\n          \"hadron\"\n        ],\n        \"semantic_type\": \"\",\n        \"description\": \"\"\n      }\n    }\n  ]\n}"
            }
          },
          "metadata": {},
          "execution_count": 90
        }
      ]
    },
    {
      "cell_type": "code",
      "source": [
        "df.columns"
      ],
      "metadata": {
        "colab": {
          "base_uri": "https://localhost:8080/"
        },
        "id": "Eh4gX1uXWQTL",
        "outputId": "55b8a0ad-b1de-43c2-922e-db5dd4d05c85"
      },
      "execution_count": null,
      "outputs": [
        {
          "output_type": "execute_result",
          "data": {
            "text/plain": [
              "Index(['shower_depth', 'shower_width', 'type'], dtype='object')"
            ]
          },
          "metadata": {},
          "execution_count": 91
        }
      ]
    },
    {
      "cell_type": "code",
      "source": [
        "df.describe()"
      ],
      "metadata": {
        "colab": {
          "base_uri": "https://localhost:8080/",
          "height": 300
        },
        "id": "35hopYHyWY9A",
        "outputId": "ecaaf22f-990c-478b-e74c-7538cf87af6c"
      },
      "execution_count": null,
      "outputs": [
        {
          "output_type": "execute_result",
          "data": {
            "text/plain": [
              "        shower_depth   shower_width\n",
              "count  100000.000000  100000.000000\n",
              "mean       99.847703      25.060322\n",
              "std        31.360512       9.073636\n",
              "min         0.013479       0.139829\n",
              "25%        80.005289      18.726105\n",
              "50%        97.648121      22.890813\n",
              "75%       121.048161      30.209608\n",
              "max       222.651768      73.082693"
            ],
            "text/html": [
              "\n",
              "  <div id=\"df-9ff88122-6b96-4019-a6b0-fe11dabbb2ce\" class=\"colab-df-container\">\n",
              "    <div>\n",
              "<style scoped>\n",
              "    .dataframe tbody tr th:only-of-type {\n",
              "        vertical-align: middle;\n",
              "    }\n",
              "\n",
              "    .dataframe tbody tr th {\n",
              "        vertical-align: top;\n",
              "    }\n",
              "\n",
              "    .dataframe thead th {\n",
              "        text-align: right;\n",
              "    }\n",
              "</style>\n",
              "<table border=\"1\" class=\"dataframe\">\n",
              "  <thead>\n",
              "    <tr style=\"text-align: right;\">\n",
              "      <th></th>\n",
              "      <th>shower_depth</th>\n",
              "      <th>shower_width</th>\n",
              "    </tr>\n",
              "  </thead>\n",
              "  <tbody>\n",
              "    <tr>\n",
              "      <th>count</th>\n",
              "      <td>100000.000000</td>\n",
              "      <td>100000.000000</td>\n",
              "    </tr>\n",
              "    <tr>\n",
              "      <th>mean</th>\n",
              "      <td>99.847703</td>\n",
              "      <td>25.060322</td>\n",
              "    </tr>\n",
              "    <tr>\n",
              "      <th>std</th>\n",
              "      <td>31.360512</td>\n",
              "      <td>9.073636</td>\n",
              "    </tr>\n",
              "    <tr>\n",
              "      <th>min</th>\n",
              "      <td>0.013479</td>\n",
              "      <td>0.139829</td>\n",
              "    </tr>\n",
              "    <tr>\n",
              "      <th>25%</th>\n",
              "      <td>80.005289</td>\n",
              "      <td>18.726105</td>\n",
              "    </tr>\n",
              "    <tr>\n",
              "      <th>50%</th>\n",
              "      <td>97.648121</td>\n",
              "      <td>22.890813</td>\n",
              "    </tr>\n",
              "    <tr>\n",
              "      <th>75%</th>\n",
              "      <td>121.048161</td>\n",
              "      <td>30.209608</td>\n",
              "    </tr>\n",
              "    <tr>\n",
              "      <th>max</th>\n",
              "      <td>222.651768</td>\n",
              "      <td>73.082693</td>\n",
              "    </tr>\n",
              "  </tbody>\n",
              "</table>\n",
              "</div>\n",
              "    <div class=\"colab-df-buttons\">\n",
              "\n",
              "  <div class=\"colab-df-container\">\n",
              "    <button class=\"colab-df-convert\" onclick=\"convertToInteractive('df-9ff88122-6b96-4019-a6b0-fe11dabbb2ce')\"\n",
              "            title=\"Convert this dataframe to an interactive table.\"\n",
              "            style=\"display:none;\">\n",
              "\n",
              "  <svg xmlns=\"http://www.w3.org/2000/svg\" height=\"24px\" viewBox=\"0 -960 960 960\">\n",
              "    <path d=\"M120-120v-720h720v720H120Zm60-500h600v-160H180v160Zm220 220h160v-160H400v160Zm0 220h160v-160H400v160ZM180-400h160v-160H180v160Zm440 0h160v-160H620v160ZM180-180h160v-160H180v160Zm440 0h160v-160H620v160Z\"/>\n",
              "  </svg>\n",
              "    </button>\n",
              "\n",
              "  <style>\n",
              "    .colab-df-container {\n",
              "      display:flex;\n",
              "      gap: 12px;\n",
              "    }\n",
              "\n",
              "    .colab-df-convert {\n",
              "      background-color: #E8F0FE;\n",
              "      border: none;\n",
              "      border-radius: 50%;\n",
              "      cursor: pointer;\n",
              "      display: none;\n",
              "      fill: #1967D2;\n",
              "      height: 32px;\n",
              "      padding: 0 0 0 0;\n",
              "      width: 32px;\n",
              "    }\n",
              "\n",
              "    .colab-df-convert:hover {\n",
              "      background-color: #E2EBFA;\n",
              "      box-shadow: 0px 1px 2px rgba(60, 64, 67, 0.3), 0px 1px 3px 1px rgba(60, 64, 67, 0.15);\n",
              "      fill: #174EA6;\n",
              "    }\n",
              "\n",
              "    .colab-df-buttons div {\n",
              "      margin-bottom: 4px;\n",
              "    }\n",
              "\n",
              "    [theme=dark] .colab-df-convert {\n",
              "      background-color: #3B4455;\n",
              "      fill: #D2E3FC;\n",
              "    }\n",
              "\n",
              "    [theme=dark] .colab-df-convert:hover {\n",
              "      background-color: #434B5C;\n",
              "      box-shadow: 0px 1px 3px 1px rgba(0, 0, 0, 0.15);\n",
              "      filter: drop-shadow(0px 1px 2px rgba(0, 0, 0, 0.3));\n",
              "      fill: #FFFFFF;\n",
              "    }\n",
              "  </style>\n",
              "\n",
              "    <script>\n",
              "      const buttonEl =\n",
              "        document.querySelector('#df-9ff88122-6b96-4019-a6b0-fe11dabbb2ce button.colab-df-convert');\n",
              "      buttonEl.style.display =\n",
              "        google.colab.kernel.accessAllowed ? 'block' : 'none';\n",
              "\n",
              "      async function convertToInteractive(key) {\n",
              "        const element = document.querySelector('#df-9ff88122-6b96-4019-a6b0-fe11dabbb2ce');\n",
              "        const dataTable =\n",
              "          await google.colab.kernel.invokeFunction('convertToInteractive',\n",
              "                                                    [key], {});\n",
              "        if (!dataTable) return;\n",
              "\n",
              "        const docLinkHtml = 'Like what you see? Visit the ' +\n",
              "          '<a target=\"_blank\" href=https://colab.research.google.com/notebooks/data_table.ipynb>data table notebook</a>'\n",
              "          + ' to learn more about interactive tables.';\n",
              "        element.innerHTML = '';\n",
              "        dataTable['output_type'] = 'display_data';\n",
              "        await google.colab.output.renderOutput(dataTable, element);\n",
              "        const docLink = document.createElement('div');\n",
              "        docLink.innerHTML = docLinkHtml;\n",
              "        element.appendChild(docLink);\n",
              "      }\n",
              "    </script>\n",
              "  </div>\n",
              "\n",
              "\n",
              "    <div id=\"df-163e18cc-3240-4384-a3ff-4bcabaa359b8\">\n",
              "      <button class=\"colab-df-quickchart\" onclick=\"quickchart('df-163e18cc-3240-4384-a3ff-4bcabaa359b8')\"\n",
              "                title=\"Suggest charts\"\n",
              "                style=\"display:none;\">\n",
              "\n",
              "<svg xmlns=\"http://www.w3.org/2000/svg\" height=\"24px\"viewBox=\"0 0 24 24\"\n",
              "     width=\"24px\">\n",
              "    <g>\n",
              "        <path d=\"M19 3H5c-1.1 0-2 .9-2 2v14c0 1.1.9 2 2 2h14c1.1 0 2-.9 2-2V5c0-1.1-.9-2-2-2zM9 17H7v-7h2v7zm4 0h-2V7h2v10zm4 0h-2v-4h2v4z\"/>\n",
              "    </g>\n",
              "</svg>\n",
              "      </button>\n",
              "\n",
              "<style>\n",
              "  .colab-df-quickchart {\n",
              "      --bg-color: #E8F0FE;\n",
              "      --fill-color: #1967D2;\n",
              "      --hover-bg-color: #E2EBFA;\n",
              "      --hover-fill-color: #174EA6;\n",
              "      --disabled-fill-color: #AAA;\n",
              "      --disabled-bg-color: #DDD;\n",
              "  }\n",
              "\n",
              "  [theme=dark] .colab-df-quickchart {\n",
              "      --bg-color: #3B4455;\n",
              "      --fill-color: #D2E3FC;\n",
              "      --hover-bg-color: #434B5C;\n",
              "      --hover-fill-color: #FFFFFF;\n",
              "      --disabled-bg-color: #3B4455;\n",
              "      --disabled-fill-color: #666;\n",
              "  }\n",
              "\n",
              "  .colab-df-quickchart {\n",
              "    background-color: var(--bg-color);\n",
              "    border: none;\n",
              "    border-radius: 50%;\n",
              "    cursor: pointer;\n",
              "    display: none;\n",
              "    fill: var(--fill-color);\n",
              "    height: 32px;\n",
              "    padding: 0;\n",
              "    width: 32px;\n",
              "  }\n",
              "\n",
              "  .colab-df-quickchart:hover {\n",
              "    background-color: var(--hover-bg-color);\n",
              "    box-shadow: 0 1px 2px rgba(60, 64, 67, 0.3), 0 1px 3px 1px rgba(60, 64, 67, 0.15);\n",
              "    fill: var(--button-hover-fill-color);\n",
              "  }\n",
              "\n",
              "  .colab-df-quickchart-complete:disabled,\n",
              "  .colab-df-quickchart-complete:disabled:hover {\n",
              "    background-color: var(--disabled-bg-color);\n",
              "    fill: var(--disabled-fill-color);\n",
              "    box-shadow: none;\n",
              "  }\n",
              "\n",
              "  .colab-df-spinner {\n",
              "    border: 2px solid var(--fill-color);\n",
              "    border-color: transparent;\n",
              "    border-bottom-color: var(--fill-color);\n",
              "    animation:\n",
              "      spin 1s steps(1) infinite;\n",
              "  }\n",
              "\n",
              "  @keyframes spin {\n",
              "    0% {\n",
              "      border-color: transparent;\n",
              "      border-bottom-color: var(--fill-color);\n",
              "      border-left-color: var(--fill-color);\n",
              "    }\n",
              "    20% {\n",
              "      border-color: transparent;\n",
              "      border-left-color: var(--fill-color);\n",
              "      border-top-color: var(--fill-color);\n",
              "    }\n",
              "    30% {\n",
              "      border-color: transparent;\n",
              "      border-left-color: var(--fill-color);\n",
              "      border-top-color: var(--fill-color);\n",
              "      border-right-color: var(--fill-color);\n",
              "    }\n",
              "    40% {\n",
              "      border-color: transparent;\n",
              "      border-right-color: var(--fill-color);\n",
              "      border-top-color: var(--fill-color);\n",
              "    }\n",
              "    60% {\n",
              "      border-color: transparent;\n",
              "      border-right-color: var(--fill-color);\n",
              "    }\n",
              "    80% {\n",
              "      border-color: transparent;\n",
              "      border-right-color: var(--fill-color);\n",
              "      border-bottom-color: var(--fill-color);\n",
              "    }\n",
              "    90% {\n",
              "      border-color: transparent;\n",
              "      border-bottom-color: var(--fill-color);\n",
              "    }\n",
              "  }\n",
              "</style>\n",
              "\n",
              "      <script>\n",
              "        async function quickchart(key) {\n",
              "          const quickchartButtonEl =\n",
              "            document.querySelector('#' + key + ' button');\n",
              "          quickchartButtonEl.disabled = true;  // To prevent multiple clicks.\n",
              "          quickchartButtonEl.classList.add('colab-df-spinner');\n",
              "          try {\n",
              "            const charts = await google.colab.kernel.invokeFunction(\n",
              "                'suggestCharts', [key], {});\n",
              "          } catch (error) {\n",
              "            console.error('Error during call to suggestCharts:', error);\n",
              "          }\n",
              "          quickchartButtonEl.classList.remove('colab-df-spinner');\n",
              "          quickchartButtonEl.classList.add('colab-df-quickchart-complete');\n",
              "        }\n",
              "        (() => {\n",
              "          let quickchartButtonEl =\n",
              "            document.querySelector('#df-163e18cc-3240-4384-a3ff-4bcabaa359b8 button');\n",
              "          quickchartButtonEl.style.display =\n",
              "            google.colab.kernel.accessAllowed ? 'block' : 'none';\n",
              "        })();\n",
              "      </script>\n",
              "    </div>\n",
              "\n",
              "    </div>\n",
              "  </div>\n"
            ],
            "application/vnd.google.colaboratory.intrinsic+json": {
              "type": "dataframe",
              "summary": "{\n  \"name\": \"df\",\n  \"rows\": 8,\n  \"fields\": [\n    {\n      \"column\": \"shower_depth\",\n      \"properties\": {\n        \"dtype\": \"number\",\n        \"std\": 35322.44027308946,\n        \"min\": 0.013478941028076,\n        \"max\": 100000.0,\n        \"num_unique_values\": 8,\n        \"samples\": [\n          99.84770284001912,\n          97.64812135337243,\n          100000.0\n        ],\n        \"semantic_type\": \"\",\n        \"description\": \"\"\n      }\n    },\n    {\n      \"column\": \"shower_width\",\n      \"properties\": {\n        \"dtype\": \"number\",\n        \"std\": 35346.295522748595,\n        \"min\": 0.1398285762169457,\n        \"max\": 100000.0,\n        \"num_unique_values\": 8,\n        \"samples\": [\n          25.0603216349967,\n          22.890812633667633,\n          100000.0\n        ],\n        \"semantic_type\": \"\",\n        \"description\": \"\"\n      }\n    }\n  ]\n}"
            }
          },
          "metadata": {},
          "execution_count": 92
        }
      ]
    },
    {
      "cell_type": "markdown",
      "source": [
        "**interpretation**:\n",
        "\n",
        "This dataset consists of:\n",
        "\n",
        "\n",
        "*   **Features** are \"shower_depth\" and \"shower_width.\"\n",
        "*   **Labels (targets)** are stored in the \"type\" column\n",
        "\n",
        "* **Number of samples** is equal to 100000\n",
        "\n"
      ],
      "metadata": {
        "id": "cClPekTGZWIB"
      }
    },
    {
      "cell_type": "markdown",
      "source": [
        "1.2.2 Labels to Binary"
      ],
      "metadata": {
        "id": "8LINERKrZXlr"
      }
    },
    {
      "cell_type": "code",
      "source": [
        "df.loc[df['type']=='hadron',['type']]=1"
      ],
      "metadata": {
        "id": "d3zhyRuGWysL"
      },
      "execution_count": null,
      "outputs": []
    },
    {
      "cell_type": "code",
      "source": [
        "df.loc[df['type']=='electron',['type']]=0"
      ],
      "metadata": {
        "id": "1IkGH2wIXlEP"
      },
      "execution_count": null,
      "outputs": []
    },
    {
      "cell_type": "code",
      "source": [
        "df"
      ],
      "metadata": {
        "colab": {
          "base_uri": "https://localhost:8080/",
          "height": 424
        },
        "id": "3zEH8yZgZUI2",
        "outputId": "5dc01977-4758-483a-980c-e3d6bde95277"
      },
      "execution_count": null,
      "outputs": [
        {
          "output_type": "execute_result",
          "data": {
            "text/plain": [
              "       shower_depth  shower_width type\n",
              "0        102.726547     41.060509    1\n",
              "1         55.953644     19.107106    0\n",
              "2         76.237938     21.859595    0\n",
              "3        145.829765     18.478401    1\n",
              "4        151.974596     33.539821    1\n",
              "...             ...           ...  ...\n",
              "99995     94.844879     22.915035    0\n",
              "99996     91.389386     21.634711    0\n",
              "99997     66.610819     23.150888    0\n",
              "99998     94.607568     25.352104    0\n",
              "99999    148.815716     26.133606    1\n",
              "\n",
              "[100000 rows x 3 columns]"
            ],
            "text/html": [
              "\n",
              "  <div id=\"df-7dbdb535-2183-41a0-b34d-d78ee7ae302a\" class=\"colab-df-container\">\n",
              "    <div>\n",
              "<style scoped>\n",
              "    .dataframe tbody tr th:only-of-type {\n",
              "        vertical-align: middle;\n",
              "    }\n",
              "\n",
              "    .dataframe tbody tr th {\n",
              "        vertical-align: top;\n",
              "    }\n",
              "\n",
              "    .dataframe thead th {\n",
              "        text-align: right;\n",
              "    }\n",
              "</style>\n",
              "<table border=\"1\" class=\"dataframe\">\n",
              "  <thead>\n",
              "    <tr style=\"text-align: right;\">\n",
              "      <th></th>\n",
              "      <th>shower_depth</th>\n",
              "      <th>shower_width</th>\n",
              "      <th>type</th>\n",
              "    </tr>\n",
              "  </thead>\n",
              "  <tbody>\n",
              "    <tr>\n",
              "      <th>0</th>\n",
              "      <td>102.726547</td>\n",
              "      <td>41.060509</td>\n",
              "      <td>1</td>\n",
              "    </tr>\n",
              "    <tr>\n",
              "      <th>1</th>\n",
              "      <td>55.953644</td>\n",
              "      <td>19.107106</td>\n",
              "      <td>0</td>\n",
              "    </tr>\n",
              "    <tr>\n",
              "      <th>2</th>\n",
              "      <td>76.237938</td>\n",
              "      <td>21.859595</td>\n",
              "      <td>0</td>\n",
              "    </tr>\n",
              "    <tr>\n",
              "      <th>3</th>\n",
              "      <td>145.829765</td>\n",
              "      <td>18.478401</td>\n",
              "      <td>1</td>\n",
              "    </tr>\n",
              "    <tr>\n",
              "      <th>4</th>\n",
              "      <td>151.974596</td>\n",
              "      <td>33.539821</td>\n",
              "      <td>1</td>\n",
              "    </tr>\n",
              "    <tr>\n",
              "      <th>...</th>\n",
              "      <td>...</td>\n",
              "      <td>...</td>\n",
              "      <td>...</td>\n",
              "    </tr>\n",
              "    <tr>\n",
              "      <th>99995</th>\n",
              "      <td>94.844879</td>\n",
              "      <td>22.915035</td>\n",
              "      <td>0</td>\n",
              "    </tr>\n",
              "    <tr>\n",
              "      <th>99996</th>\n",
              "      <td>91.389386</td>\n",
              "      <td>21.634711</td>\n",
              "      <td>0</td>\n",
              "    </tr>\n",
              "    <tr>\n",
              "      <th>99997</th>\n",
              "      <td>66.610819</td>\n",
              "      <td>23.150888</td>\n",
              "      <td>0</td>\n",
              "    </tr>\n",
              "    <tr>\n",
              "      <th>99998</th>\n",
              "      <td>94.607568</td>\n",
              "      <td>25.352104</td>\n",
              "      <td>0</td>\n",
              "    </tr>\n",
              "    <tr>\n",
              "      <th>99999</th>\n",
              "      <td>148.815716</td>\n",
              "      <td>26.133606</td>\n",
              "      <td>1</td>\n",
              "    </tr>\n",
              "  </tbody>\n",
              "</table>\n",
              "<p>100000 rows × 3 columns</p>\n",
              "</div>\n",
              "    <div class=\"colab-df-buttons\">\n",
              "\n",
              "  <div class=\"colab-df-container\">\n",
              "    <button class=\"colab-df-convert\" onclick=\"convertToInteractive('df-7dbdb535-2183-41a0-b34d-d78ee7ae302a')\"\n",
              "            title=\"Convert this dataframe to an interactive table.\"\n",
              "            style=\"display:none;\">\n",
              "\n",
              "  <svg xmlns=\"http://www.w3.org/2000/svg\" height=\"24px\" viewBox=\"0 -960 960 960\">\n",
              "    <path d=\"M120-120v-720h720v720H120Zm60-500h600v-160H180v160Zm220 220h160v-160H400v160Zm0 220h160v-160H400v160ZM180-400h160v-160H180v160Zm440 0h160v-160H620v160ZM180-180h160v-160H180v160Zm440 0h160v-160H620v160Z\"/>\n",
              "  </svg>\n",
              "    </button>\n",
              "\n",
              "  <style>\n",
              "    .colab-df-container {\n",
              "      display:flex;\n",
              "      gap: 12px;\n",
              "    }\n",
              "\n",
              "    .colab-df-convert {\n",
              "      background-color: #E8F0FE;\n",
              "      border: none;\n",
              "      border-radius: 50%;\n",
              "      cursor: pointer;\n",
              "      display: none;\n",
              "      fill: #1967D2;\n",
              "      height: 32px;\n",
              "      padding: 0 0 0 0;\n",
              "      width: 32px;\n",
              "    }\n",
              "\n",
              "    .colab-df-convert:hover {\n",
              "      background-color: #E2EBFA;\n",
              "      box-shadow: 0px 1px 2px rgba(60, 64, 67, 0.3), 0px 1px 3px 1px rgba(60, 64, 67, 0.15);\n",
              "      fill: #174EA6;\n",
              "    }\n",
              "\n",
              "    .colab-df-buttons div {\n",
              "      margin-bottom: 4px;\n",
              "    }\n",
              "\n",
              "    [theme=dark] .colab-df-convert {\n",
              "      background-color: #3B4455;\n",
              "      fill: #D2E3FC;\n",
              "    }\n",
              "\n",
              "    [theme=dark] .colab-df-convert:hover {\n",
              "      background-color: #434B5C;\n",
              "      box-shadow: 0px 1px 3px 1px rgba(0, 0, 0, 0.15);\n",
              "      filter: drop-shadow(0px 1px 2px rgba(0, 0, 0, 0.3));\n",
              "      fill: #FFFFFF;\n",
              "    }\n",
              "  </style>\n",
              "\n",
              "    <script>\n",
              "      const buttonEl =\n",
              "        document.querySelector('#df-7dbdb535-2183-41a0-b34d-d78ee7ae302a button.colab-df-convert');\n",
              "      buttonEl.style.display =\n",
              "        google.colab.kernel.accessAllowed ? 'block' : 'none';\n",
              "\n",
              "      async function convertToInteractive(key) {\n",
              "        const element = document.querySelector('#df-7dbdb535-2183-41a0-b34d-d78ee7ae302a');\n",
              "        const dataTable =\n",
              "          await google.colab.kernel.invokeFunction('convertToInteractive',\n",
              "                                                    [key], {});\n",
              "        if (!dataTable) return;\n",
              "\n",
              "        const docLinkHtml = 'Like what you see? Visit the ' +\n",
              "          '<a target=\"_blank\" href=https://colab.research.google.com/notebooks/data_table.ipynb>data table notebook</a>'\n",
              "          + ' to learn more about interactive tables.';\n",
              "        element.innerHTML = '';\n",
              "        dataTable['output_type'] = 'display_data';\n",
              "        await google.colab.output.renderOutput(dataTable, element);\n",
              "        const docLink = document.createElement('div');\n",
              "        docLink.innerHTML = docLinkHtml;\n",
              "        element.appendChild(docLink);\n",
              "      }\n",
              "    </script>\n",
              "  </div>\n",
              "\n",
              "\n",
              "    <div id=\"df-f32dc928-eaf1-48d1-aaa4-804a08c82fba\">\n",
              "      <button class=\"colab-df-quickchart\" onclick=\"quickchart('df-f32dc928-eaf1-48d1-aaa4-804a08c82fba')\"\n",
              "                title=\"Suggest charts\"\n",
              "                style=\"display:none;\">\n",
              "\n",
              "<svg xmlns=\"http://www.w3.org/2000/svg\" height=\"24px\"viewBox=\"0 0 24 24\"\n",
              "     width=\"24px\">\n",
              "    <g>\n",
              "        <path d=\"M19 3H5c-1.1 0-2 .9-2 2v14c0 1.1.9 2 2 2h14c1.1 0 2-.9 2-2V5c0-1.1-.9-2-2-2zM9 17H7v-7h2v7zm4 0h-2V7h2v10zm4 0h-2v-4h2v4z\"/>\n",
              "    </g>\n",
              "</svg>\n",
              "      </button>\n",
              "\n",
              "<style>\n",
              "  .colab-df-quickchart {\n",
              "      --bg-color: #E8F0FE;\n",
              "      --fill-color: #1967D2;\n",
              "      --hover-bg-color: #E2EBFA;\n",
              "      --hover-fill-color: #174EA6;\n",
              "      --disabled-fill-color: #AAA;\n",
              "      --disabled-bg-color: #DDD;\n",
              "  }\n",
              "\n",
              "  [theme=dark] .colab-df-quickchart {\n",
              "      --bg-color: #3B4455;\n",
              "      --fill-color: #D2E3FC;\n",
              "      --hover-bg-color: #434B5C;\n",
              "      --hover-fill-color: #FFFFFF;\n",
              "      --disabled-bg-color: #3B4455;\n",
              "      --disabled-fill-color: #666;\n",
              "  }\n",
              "\n",
              "  .colab-df-quickchart {\n",
              "    background-color: var(--bg-color);\n",
              "    border: none;\n",
              "    border-radius: 50%;\n",
              "    cursor: pointer;\n",
              "    display: none;\n",
              "    fill: var(--fill-color);\n",
              "    height: 32px;\n",
              "    padding: 0;\n",
              "    width: 32px;\n",
              "  }\n",
              "\n",
              "  .colab-df-quickchart:hover {\n",
              "    background-color: var(--hover-bg-color);\n",
              "    box-shadow: 0 1px 2px rgba(60, 64, 67, 0.3), 0 1px 3px 1px rgba(60, 64, 67, 0.15);\n",
              "    fill: var(--button-hover-fill-color);\n",
              "  }\n",
              "\n",
              "  .colab-df-quickchart-complete:disabled,\n",
              "  .colab-df-quickchart-complete:disabled:hover {\n",
              "    background-color: var(--disabled-bg-color);\n",
              "    fill: var(--disabled-fill-color);\n",
              "    box-shadow: none;\n",
              "  }\n",
              "\n",
              "  .colab-df-spinner {\n",
              "    border: 2px solid var(--fill-color);\n",
              "    border-color: transparent;\n",
              "    border-bottom-color: var(--fill-color);\n",
              "    animation:\n",
              "      spin 1s steps(1) infinite;\n",
              "  }\n",
              "\n",
              "  @keyframes spin {\n",
              "    0% {\n",
              "      border-color: transparent;\n",
              "      border-bottom-color: var(--fill-color);\n",
              "      border-left-color: var(--fill-color);\n",
              "    }\n",
              "    20% {\n",
              "      border-color: transparent;\n",
              "      border-left-color: var(--fill-color);\n",
              "      border-top-color: var(--fill-color);\n",
              "    }\n",
              "    30% {\n",
              "      border-color: transparent;\n",
              "      border-left-color: var(--fill-color);\n",
              "      border-top-color: var(--fill-color);\n",
              "      border-right-color: var(--fill-color);\n",
              "    }\n",
              "    40% {\n",
              "      border-color: transparent;\n",
              "      border-right-color: var(--fill-color);\n",
              "      border-top-color: var(--fill-color);\n",
              "    }\n",
              "    60% {\n",
              "      border-color: transparent;\n",
              "      border-right-color: var(--fill-color);\n",
              "    }\n",
              "    80% {\n",
              "      border-color: transparent;\n",
              "      border-right-color: var(--fill-color);\n",
              "      border-bottom-color: var(--fill-color);\n",
              "    }\n",
              "    90% {\n",
              "      border-color: transparent;\n",
              "      border-bottom-color: var(--fill-color);\n",
              "    }\n",
              "  }\n",
              "</style>\n",
              "\n",
              "      <script>\n",
              "        async function quickchart(key) {\n",
              "          const quickchartButtonEl =\n",
              "            document.querySelector('#' + key + ' button');\n",
              "          quickchartButtonEl.disabled = true;  // To prevent multiple clicks.\n",
              "          quickchartButtonEl.classList.add('colab-df-spinner');\n",
              "          try {\n",
              "            const charts = await google.colab.kernel.invokeFunction(\n",
              "                'suggestCharts', [key], {});\n",
              "          } catch (error) {\n",
              "            console.error('Error during call to suggestCharts:', error);\n",
              "          }\n",
              "          quickchartButtonEl.classList.remove('colab-df-spinner');\n",
              "          quickchartButtonEl.classList.add('colab-df-quickchart-complete');\n",
              "        }\n",
              "        (() => {\n",
              "          let quickchartButtonEl =\n",
              "            document.querySelector('#df-f32dc928-eaf1-48d1-aaa4-804a08c82fba button');\n",
              "          quickchartButtonEl.style.display =\n",
              "            google.colab.kernel.accessAllowed ? 'block' : 'none';\n",
              "        })();\n",
              "      </script>\n",
              "    </div>\n",
              "\n",
              "  <div id=\"id_cd3019e5-3eff-4bbd-b955-7a8d138e7d18\">\n",
              "    <style>\n",
              "      .colab-df-generate {\n",
              "        background-color: #E8F0FE;\n",
              "        border: none;\n",
              "        border-radius: 50%;\n",
              "        cursor: pointer;\n",
              "        display: none;\n",
              "        fill: #1967D2;\n",
              "        height: 32px;\n",
              "        padding: 0 0 0 0;\n",
              "        width: 32px;\n",
              "      }\n",
              "\n",
              "      .colab-df-generate:hover {\n",
              "        background-color: #E2EBFA;\n",
              "        box-shadow: 0px 1px 2px rgba(60, 64, 67, 0.3), 0px 1px 3px 1px rgba(60, 64, 67, 0.15);\n",
              "        fill: #174EA6;\n",
              "      }\n",
              "\n",
              "      [theme=dark] .colab-df-generate {\n",
              "        background-color: #3B4455;\n",
              "        fill: #D2E3FC;\n",
              "      }\n",
              "\n",
              "      [theme=dark] .colab-df-generate:hover {\n",
              "        background-color: #434B5C;\n",
              "        box-shadow: 0px 1px 3px 1px rgba(0, 0, 0, 0.15);\n",
              "        filter: drop-shadow(0px 1px 2px rgba(0, 0, 0, 0.3));\n",
              "        fill: #FFFFFF;\n",
              "      }\n",
              "    </style>\n",
              "    <button class=\"colab-df-generate\" onclick=\"generateWithVariable('df')\"\n",
              "            title=\"Generate code using this dataframe.\"\n",
              "            style=\"display:none;\">\n",
              "\n",
              "  <svg xmlns=\"http://www.w3.org/2000/svg\" height=\"24px\"viewBox=\"0 0 24 24\"\n",
              "       width=\"24px\">\n",
              "    <path d=\"M7,19H8.4L18.45,9,17,7.55,7,17.6ZM5,21V16.75L18.45,3.32a2,2,0,0,1,2.83,0l1.4,1.43a1.91,1.91,0,0,1,.58,1.4,1.91,1.91,0,0,1-.58,1.4L9.25,21ZM18.45,9,17,7.55Zm-12,3A5.31,5.31,0,0,0,4.9,8.1,5.31,5.31,0,0,0,1,6.5,5.31,5.31,0,0,0,4.9,4.9,5.31,5.31,0,0,0,6.5,1,5.31,5.31,0,0,0,8.1,4.9,5.31,5.31,0,0,0,12,6.5,5.46,5.46,0,0,0,6.5,12Z\"/>\n",
              "  </svg>\n",
              "    </button>\n",
              "    <script>\n",
              "      (() => {\n",
              "      const buttonEl =\n",
              "        document.querySelector('#id_cd3019e5-3eff-4bbd-b955-7a8d138e7d18 button.colab-df-generate');\n",
              "      buttonEl.style.display =\n",
              "        google.colab.kernel.accessAllowed ? 'block' : 'none';\n",
              "\n",
              "      buttonEl.onclick = () => {\n",
              "        google.colab.notebook.generateWithVariable('df');\n",
              "      }\n",
              "      })();\n",
              "    </script>\n",
              "  </div>\n",
              "\n",
              "    </div>\n",
              "  </div>\n"
            ],
            "application/vnd.google.colaboratory.intrinsic+json": {
              "type": "dataframe",
              "variable_name": "df",
              "summary": "{\n  \"name\": \"df\",\n  \"rows\": 100000,\n  \"fields\": [\n    {\n      \"column\": \"shower_depth\",\n      \"properties\": {\n        \"dtype\": \"number\",\n        \"std\": 31.36051181734425,\n        \"min\": 0.013478941028076,\n        \"max\": 222.6517677353552,\n        \"num_unique_values\": 100000,\n        \"samples\": [\n          78.65268492585486,\n          95.56047934215567,\n          99.11392333690245\n        ],\n        \"semantic_type\": \"\",\n        \"description\": \"\"\n      }\n    },\n    {\n      \"column\": \"shower_width\",\n      \"properties\": {\n        \"dtype\": \"number\",\n        \"std\": 9.073636171776222,\n        \"min\": 0.1398285762169457,\n        \"max\": 73.08269344595345,\n        \"num_unique_values\": 100000,\n        \"samples\": [\n          16.199465967417456,\n          55.55442362381882,\n          16.85311853567994\n        ],\n        \"semantic_type\": \"\",\n        \"description\": \"\"\n      }\n    },\n    {\n      \"column\": \"type\",\n      \"properties\": {\n        \"dtype\": \"date\",\n        \"min\": 0,\n        \"max\": 1,\n        \"num_unique_values\": 2,\n        \"samples\": [\n          0,\n          1\n        ],\n        \"semantic_type\": \"\",\n        \"description\": \"\"\n      }\n    }\n  ]\n}"
            }
          },
          "metadata": {},
          "execution_count": 95
        }
      ]
    },
    {
      "cell_type": "markdown",
      "source": [
        "1.2.3 Create Feature Matrix **X**"
      ],
      "metadata": {
        "id": "Ck4u1QDnYLav"
      }
    },
    {
      "cell_type": "code",
      "source": [
        "X=df.drop('type',axis=1)\n",
        "y=df['type']\n",
        "\n",
        "#check shapes\n",
        "\n",
        "print(\"X shape:\",X.shape)\n",
        "print(\"Y shape:\",y.shape)"
      ],
      "metadata": {
        "colab": {
          "base_uri": "https://localhost:8080/"
        },
        "id": "0tGV2CxLX-UQ",
        "outputId": "e33d5a0e-6c34-4752-bce3-14acb4bc271b"
      },
      "execution_count": null,
      "outputs": [
        {
          "output_type": "stream",
          "name": "stdout",
          "text": [
            "X shape: (100000, 2)\n",
            "Y shape: (100000,)\n"
          ]
        }
      ]
    },
    {
      "cell_type": "markdown",
      "source": [
        "1.2.4 Train/Test Split"
      ],
      "metadata": {
        "id": "Os5LvsQPYroi"
      }
    },
    {
      "cell_type": "code",
      "source": [
        "from sklearn.model_selection import train_test_split\n",
        "\n",
        "X_train, X_test, y_train, y_test = train_test_split(\n",
        "    X, y, test_size=0.2, random_state=42\n",
        ")\n",
        "\n",
        "# Check shapes\n",
        "print(f\"X_train: {X_train.shape}, y_train: {y_train.shape}\")\n",
        "print(f\"X_test:  {X_test.shape},  y_test: {y_test.shape}\")"
      ],
      "metadata": {
        "colab": {
          "base_uri": "https://localhost:8080/"
        },
        "id": "21SH6bJqYSfi",
        "outputId": "6919ad5b-c237-4b0a-afd9-6ecf1d47b6d3"
      },
      "execution_count": null,
      "outputs": [
        {
          "output_type": "stream",
          "name": "stdout",
          "text": [
            "X_train: (80000, 2), y_train: (80000,)\n",
            "X_test:  (20000, 2),  y_test: (20000,)\n"
          ]
        }
      ]
    },
    {
      "cell_type": "markdown",
      "source": [
        "1.2.5 Feature Scaling"
      ],
      "metadata": {
        "id": "dh_JfFM1Zuns"
      }
    },
    {
      "cell_type": "code",
      "source": [
        "# Get mean and std from training data\n",
        "mean_train = X_train.mean(axis=0)\n",
        "std_train = X_train.std(axis=0)\n",
        "\n",
        "# Standardize training\n",
        "X_train_scaled = (X_train - mean_train) / std_train\n",
        "\n",
        "# Standardize test data\n",
        "X_test_scaled  = (X_test-X_test.mean(axis=0))/X_test.std(axis=0)\n",
        "\n",
        "# Check\n",
        "print(\"X_train_scaled mean:\", X_train_scaled.mean(axis=0))\n",
        "print(\"X_train_scaled std:\", X_train_scaled.std(axis=0))"
      ],
      "metadata": {
        "colab": {
          "base_uri": "https://localhost:8080/"
        },
        "id": "Wx6YD8v_YJZ1",
        "outputId": "21f31a05-7dc0-4e9e-8c2c-1e10764dd1b2"
      },
      "execution_count": null,
      "outputs": [
        {
          "output_type": "stream",
          "name": "stdout",
          "text": [
            "X_train_scaled mean: shower_depth   -2.447820e-16\n",
            "shower_width    1.936229e-16\n",
            "dtype: float64\n",
            "X_train_scaled std: shower_depth    1.0\n",
            "shower_width    1.0\n",
            "dtype: float64\n"
          ]
        }
      ]
    },
    {
      "cell_type": "markdown",
      "source": [
        "1.2.6 Feature Matrix Augmentation"
      ],
      "metadata": {
        "id": "BY5d3SJka3vB"
      }
    },
    {
      "cell_type": "code",
      "source": [
        "\n",
        "X_train_aug = np.hstack((X_train_scaled, np.ones((X_train_scaled.shape[0], 1))))\n",
        "X_test_aug  = np.hstack((X_test_scaled, np.ones((X_test_scaled.shape[0], 1))))\n"
      ],
      "metadata": {
        "id": "MoDr4xi3bA62"
      },
      "execution_count": null,
      "outputs": []
    },
    {
      "cell_type": "code",
      "source": [
        "X_test_aug"
      ],
      "metadata": {
        "colab": {
          "base_uri": "https://localhost:8080/"
        },
        "id": "jLStJyyNbF50",
        "outputId": "bc412e43-1d1b-49eb-be12-8e7642905866"
      },
      "execution_count": null,
      "outputs": [
        {
          "output_type": "execute_result",
          "data": {
            "text/plain": [
              "array([[-0.66874444, -0.98719701,  1.        ],\n",
              "       [-0.13268463,  3.35657838,  1.        ],\n",
              "       [-0.02002307, -0.91505057,  1.        ],\n",
              "       ...,\n",
              "       [ 0.74017997,  0.69951343,  1.        ],\n",
              "       [-2.62084878, -0.80855937,  1.        ],\n",
              "       [-0.35814353, -1.15931637,  1.        ]])"
            ]
          },
          "metadata": {},
          "execution_count": 100
        }
      ]
    },
    {
      "cell_type": "markdown",
      "source": [
        "<a id=\"function\"></a>\n",
        "# <p style=\"background-color: #1b907d; font-family:Avantgarde; color:#ffffff; font-size:150%; text-align:center; border-radius:200px 30px; overflow:hidden; padding:17px\">1.3 Functions</p>"
      ],
      "metadata": {
        "id": "9PNN8gv3bumV"
      }
    },
    {
      "cell_type": "markdown",
      "source": [
        "1.3.1 Hypothesis Function"
      ],
      "metadata": {
        "id": "s7AyuQGbcp-1"
      }
    },
    {
      "cell_type": "code",
      "source": [
        "def lin_sum(X, thetas):\n",
        "    \"\"\"\n",
        "    Compute the linear combination of input features and parameters.\n",
        "\n",
        "    Parameters\n",
        "    ----------\n",
        "    X : array-like, shape (m_samples, n_features+1)\n",
        "        Input features (already augmented with a column of ones for bias).\n",
        "    thetas : array-like, shape (n_features+1,)\n",
        "        Parameter vector including bias term.\n",
        "\n",
        "    Returns\n",
        "    -------\n",
        "    ndarray, shape (m_samples, 1)\n",
        "        Linear sum for each sample.\n",
        "    \"\"\"\n",
        "\n",
        "    return np.dot(X, thetas)"
      ],
      "metadata": {
        "id": "ETuL8XO2c81y"
      },
      "execution_count": null,
      "outputs": []
    },
    {
      "cell_type": "code",
      "source": [
        "n_param = X_train_aug.shape[1]"
      ],
      "metadata": {
        "id": "545FrO4LWwOk"
      },
      "execution_count": null,
      "outputs": []
    },
    {
      "cell_type": "code",
      "source": [
        "thetas = np.random.rand(n_param, 1)"
      ],
      "metadata": {
        "id": "VH8vV1FmW_XU"
      },
      "execution_count": null,
      "outputs": []
    },
    {
      "cell_type": "code",
      "source": [
        "lin_sum(X_train_aug,thetas).shape"
      ],
      "metadata": {
        "colab": {
          "base_uri": "https://localhost:8080/"
        },
        "id": "vm0dciirV2j_",
        "outputId": "19145134-49a1-4b6f-f1d5-4dec0abf6a1e"
      },
      "execution_count": null,
      "outputs": [
        {
          "output_type": "execute_result",
          "data": {
            "text/plain": [
              "(80000, 1)"
            ]
          },
          "metadata": {},
          "execution_count": 104
        }
      ]
    },
    {
      "cell_type": "markdown",
      "source": [
        "1.3.2 Logistic Function"
      ],
      "metadata": {
        "id": "67W090j3dAj7"
      }
    },
    {
      "cell_type": "markdown",
      "source": [
        "The sigmoid function, often denoted as sigma(z), is defined as:\n",
        "\n",
        "$$ \\sigma(z) = \\frac{1}{1 + e^{-z}} $$\n",
        "\n",
        "where \\( z \\) is the input"
      ],
      "metadata": {
        "id": "lxc7Ug3gfniT"
      }
    },
    {
      "cell_type": "code",
      "source": [
        "def sigmoid(z):\n",
        "    \"\"\"\n",
        "    Compute the sigmoid function.\n",
        "\n",
        "    Parameters\n",
        "    ----------\n",
        "    z : array-like\n",
        "        Input value(s).\n",
        "\n",
        "    Returns\n",
        "    -------\n",
        "    ndarray\n",
        "        Sigmoid of the input value(s).\n",
        "    \"\"\"\n",
        "    return 1 / (1 + np.exp(-z))"
      ],
      "metadata": {
        "id": "NFiKP7lwdUur"
      },
      "execution_count": null,
      "outputs": []
    },
    {
      "cell_type": "markdown",
      "source": [
        "1.3.3 Partial Derivatives of Cross-Entropy Cost Function"
      ],
      "metadata": {
        "id": "K5OSyyQkdYGK"
      }
    },
    {
      "cell_type": "markdown",
      "source": [
        "In the linear assumption, the partial derivatives of the cross-entropy cost function are\n",
        "(amazingly) the same as with the Mean Square Error:\n",
        "\n",
        "$$ \\frac{\\partial  Cost (\\theta)}{\\partial \\theta_j} = \\frac{1}{m} \\sum_{i=1}^m (h_{\\theta}(x^{(i)}) - y^{(i)}) x_j^{(i)} $$"
      ],
      "metadata": {
        "id": "6-XP03Ige4Zo"
      }
    },
    {
      "cell_type": "code",
      "source": [
        "def gradient_cross_entropy(y_true, y_pred, X):\n",
        "    \"\"\"\n",
        "    Compute the gradient vector of the cross-entropy cost function.\n",
        "\n",
        "    Parameters\n",
        "    ----------\n",
        "    y_true : array-like, shape (m,) or (m,1)\n",
        "        Binary target (0 or 1) for each sample.\n",
        "    y_pred : array-like, shape (m,) or (m,1)\n",
        "        Predicted score for each sample.\n",
        "    X : array-like, shape (m, n_features+1)\n",
        "        Input features, already augmented with a column of ones for bias.\n",
        "\n",
        "    Returns\n",
        "    -------\n",
        "    ndarray, shape (n_features+1, 1)\n",
        "        Column vector of partial derivatives with respect to each model parameter.\n",
        "    \"\"\"\n",
        "\n",
        "    m = len(y_true)\n",
        "    y_true = np.asarray(y_true, dtype=np.float64).reshape(-1, 1)\n",
        "    y_pred = np.asarray(y_pred, dtype=np.float64).reshape(-1, 1)\n",
        "    X = np.asarray(X, dtype=np.float64)\n",
        "    gradient=(1/m) * np.dot(X.T, (y_pred - y_true))\n",
        "\n",
        "    return gradient.reshape(-1, 1)"
      ],
      "metadata": {
        "id": "yMeR7NT7dp9Q"
      },
      "execution_count": null,
      "outputs": []
    },
    {
      "cell_type": "code",
      "source": [
        "y_pred_train = sigmoid(lin_sum(X_train_aug, thetas))\n",
        "y_pred_train.shape"
      ],
      "metadata": {
        "colab": {
          "base_uri": "https://localhost:8080/"
        },
        "id": "Cu5ysBWuiBtA",
        "outputId": "26730555-c9fa-4c5e-fd40-73252002a3bc"
      },
      "execution_count": null,
      "outputs": [
        {
          "output_type": "execute_result",
          "data": {
            "text/plain": [
              "(80000, 1)"
            ]
          },
          "metadata": {},
          "execution_count": 107
        }
      ]
    },
    {
      "cell_type": "code",
      "source": [
        "gradient_cross_entropy(y_train,y_pred_train,X_train_aug)"
      ],
      "metadata": {
        "colab": {
          "base_uri": "https://localhost:8080/"
        },
        "id": "zFr4MDbyhxwI",
        "outputId": "61cf95fe-c357-4d80-e8fc-4d0baa2e05c3"
      },
      "execution_count": null,
      "outputs": [
        {
          "output_type": "execute_result",
          "data": {
            "text/plain": [
              "array([[-0.18097631],\n",
              "       [-0.10514023],\n",
              "       [ 0.16004296]])"
            ]
          },
          "metadata": {},
          "execution_count": 108
        }
      ]
    },
    {
      "cell_type": "markdown",
      "source": [
        "1.3.4 Cross-Entropy Cost Function"
      ],
      "metadata": {
        "id": "h5zJyo58deyB"
      }
    },
    {
      "cell_type": "markdown",
      "source": [
        " the cross-entropy cost is :\n",
        "\n",
        "$$C(\\theta) = -\\frac{1}{m} \\sum_{i=1}^m \\left[ y^{(i)} \\log(h_{\\theta}(x^{(i)})) + (1 - y^{(i)}) \\log(1 - h_{\\theta}(x^{(i)})) \\right] $$"
      ],
      "metadata": {
        "id": "MgoD3IucgqZf"
      }
    },
    {
      "cell_type": "code",
      "source": [
        "def cross_entropy_cost(y_true, y_pred):\n",
        "    \"\"\"\n",
        "    Compute the cross-entropy cost function.\n",
        "\n",
        "    Parameters\n",
        "    ----------\n",
        "    y_true : array-like, shape (m,) or (m,1)\n",
        "        Binary target (0 or 1) for each sample.\n",
        "    y_pred : array-like, shape (m,) or (m,1)\n",
        "        Predicted score for each sample.\n",
        "\n",
        "    Returns\n",
        "    -------\n",
        "    float\n",
        "        Cross-entropy cost.\n",
        "    \"\"\"\n",
        "    # Clip predictions to avoid log(0) issues\n",
        "    y_true = np.asarray(y_true, dtype=np.float64).reshape(-1, 1)\n",
        "    y_pred = np.asarray(y_pred, dtype=np.float64).reshape(-1, 1)\n",
        "    y_pred = np.clip(y_pred, 1e-15, 1 - 1e-15)\n",
        "    # Compute cross-entropy cost\n",
        "    cost = -np.mean(y_true * np.log(y_pred) + (1 - y_true) * np.log(1 - y_pred))\n",
        "    return cost"
      ],
      "metadata": {
        "id": "dEENJB3mg2KU"
      },
      "execution_count": null,
      "outputs": []
    },
    {
      "cell_type": "code",
      "source": [
        "cross_entropy_cost(y_train,y_pred_train)"
      ],
      "metadata": {
        "colab": {
          "base_uri": "https://localhost:8080/"
        },
        "id": "w2kbDGSrinRZ",
        "outputId": "a84ff5f9-fdc5-485e-b30d-c44a52963c53"
      },
      "execution_count": null,
      "outputs": [
        {
          "output_type": "execute_result",
          "data": {
            "text/plain": [
              "np.float64(0.5038537188857324)"
            ]
          },
          "metadata": {},
          "execution_count": 110
        }
      ]
    },
    {
      "cell_type": "markdown",
      "source": [
        "<a id=\"classifier loop\"></a>\n",
        "# <p style=\"background-color: #1b907d; font-family:Avantgarde; color:#ffffff; font-size:150%; text-align:center; border-radius:200px 30px; overflow:hidden; padding:17px\">1.4 Classifier Loop </p>"
      ],
      "metadata": {
        "id": "4Y1ycZzNhTGO"
      }
    },
    {
      "cell_type": "code",
      "source": [
        "def should_print_iteration(iter_index, first_step, second_step, index_changing_step):\n",
        "    \"\"\"\n",
        "    Trigger a print if iter_index matches step rules:\n",
        "    print every `first_step` iterations before `index_changing_step`,\n",
        "    then every `second_step` iterations afterwards.\n",
        "    \"\"\"\n",
        "    if first_step <= 0 or second_step <= 0:\n",
        "        raise ValueError(\"Steps must be positive integers.\")\n",
        "\n",
        "    if iter_index == 0:\n",
        "        return True  # Always print at the first iteration\n",
        "\n",
        "    if iter_index <= index_changing_step:\n",
        "        return iter_index % first_step == 0\n",
        "    else:\n",
        "        return iter_index % second_step == 0"
      ],
      "metadata": {
        "id": "hByY3OOtmVRz"
      },
      "execution_count": null,
      "outputs": []
    },
    {
      "cell_type": "markdown",
      "source": [
        "stopping criterion: gradient norm"
      ],
      "metadata": {
        "id": "K3uVWGzrnGC9"
      }
    },
    {
      "cell_type": "markdown",
      "source": [
        "stopping criterion:cost change"
      ],
      "metadata": {
        "id": "pcPCIKgqnN1I"
      }
    },
    {
      "cell_type": "code",
      "source": [
        "# Hyperparameters\n",
        "alpha       = 0.1    # learning rate\n",
        "N           = 10000  # maximum number of iterations\n",
        "epsilon     = 1e-6   # tolerance threshold for gradient norm (stopping criterion)\n",
        "cost_tol    = 1e-8   # tolerance threshold for cost drop (stop. criterion)\n",
        "cost_change = np.inf # initialize cost change for first iteration\n",
        "\n",
        "# Number of features + 1 (number of columns in X)\n",
        "n_param = X_train_aug.shape[1]\n",
        "\n",
        "# Initialization of theta vector\n",
        "thetas = np.random.rand(n_param, 1)\n",
        "\n",
        "# Storing cost values for train and test datasets\n",
        "costs_train = []\n",
        "costs_test  = []\n",
        "\n",
        "print(\"Starting gradient descent\\n\")\n",
        "\n",
        "\n",
        "# -------------------\n",
        "#   Start iterations\n",
        "# -------------------\n",
        "for iter_idx in range(N):\n",
        "    # Get predictions (hypothesis function)\n",
        "    y_pred_train = sigmoid(lin_sum(X_train_aug, thetas))\n",
        "    y_pred_test = sigmoid(lin_sum(X_test_aug, thetas))\n",
        "\n",
        "    # Calculate and store costs with train and test datasets\n",
        "    cost_train = cross_entropy_cost(y_train, y_pred_train)\n",
        "    cost_test  = cross_entropy_cost(y_test, y_pred_test)\n",
        "    costs_train.append(cost_train)\n",
        "    costs_test.append(cost_test)\n",
        "\n",
        "    # Compute gradient\n",
        "    grad_cost = gradient_cross_entropy(y_train.values.reshape(-1, 1), y_pred_train, X_train_aug)\n",
        "\n",
        "    # Update parameters\n",
        "    thetas = thetas - alpha * grad_cost\n",
        "\n",
        "    # Gradient norm (for early stopping & printing)\n",
        "    grad_cost_norm = np.linalg.norm(grad_cost)\n",
        "\n",
        "    # Cost change (for early stopping & printing)\n",
        "    if iter_idx > 0:\n",
        "        cost_change = costs_train[-1] - costs_train[-2]\n",
        "\n",
        "    # Print selected iterations\n",
        "    if should_print_iteration(iter_idx, 10, 100, 100):\n",
        "        print(\n",
        "            f\"Iter {iter_idx:>4}\\t\"\n",
        "            f\"‖grad‖ = {grad_cost_norm.item():.4e}\\t\"\n",
        "            f\"Train cost = {cost_train:.5e}\\t\"\n",
        "            f\"Cost change = {cost_change:>+10.2e}\\t\"\n",
        "            f\"Test cost = {cost_test:.5e}\"\n",
        "        )\n",
        "\n",
        "    # Exit conditions\n",
        "    if grad_cost_norm < epsilon:\n",
        "        print(f\"\\nStopping early due to small gradient norm at iteration {iter_idx+1}\")\n",
        "        break\n",
        "    if abs(cost_change) < cost_tol and iter_idx > 0:\n",
        "        print(f\"\\nStopping early due to small cost change at iteration {iter_idx+1}\")\n",
        "        break\n",
        "\n",
        "\n",
        "print(f'\\nEnd of gradient descent after {iter_idx+1} iterations')\n",
        "\n",
        "print('Optimized parameters:')\n",
        "for j in range(len(thetas)):\n",
        "    print(f'\\tParameter {j} = {thetas[j,0]:.4f}')"
      ],
      "metadata": {
        "id": "StACYd0Klqcp",
        "colab": {
          "base_uri": "https://localhost:8080/"
        },
        "outputId": "de9a6cba-9473-4988-dfcc-0577d9da0fa8"
      },
      "execution_count": null,
      "outputs": [
        {
          "output_type": "stream",
          "name": "stdout",
          "text": [
            "Starting gradient descent\n",
            "\n",
            "Iter    0\t‖grad‖ = 3.2622e-01\tTrain cost = 5.75116e-01\tCost change =       +inf\tTest cost = 5.71900e-01\n",
            "Iter   10\t‖grad‖ = 2.4989e-01\tTrain cost = 4.91856e-01\tCost change =  -6.49e-03\tTest cost = 4.88467e-01\n",
            "Iter   20\t‖grad‖ = 1.9700e-01\tTrain cost = 4.41823e-01\tCost change =  -4.01e-03\tTest cost = 4.38290e-01\n",
            "Iter   30\t‖grad‖ = 1.5999e-01\tTrain cost = 4.09894e-01\tCost change =  -2.64e-03\tTest cost = 4.06229e-01\n",
            "Iter   40\t‖grad‖ = 1.3335e-01\tTrain cost = 3.88331e-01\tCost change =  -1.82e-03\tTest cost = 3.84539e-01\n",
            "Iter   50\t‖grad‖ = 1.1361e-01\tTrain cost = 3.73044e-01\tCost change =  -1.32e-03\tTest cost = 3.69130e-01\n",
            "Iter   60\t‖grad‖ = 9.8560e-02\tTrain cost = 3.61760e-01\tCost change =  -9.91e-04\tTest cost = 3.57727e-01\n",
            "Iter   70\t‖grad‖ = 8.6810e-02\tTrain cost = 3.53146e-01\tCost change =  -7.67e-04\tTest cost = 3.48998e-01\n",
            "Iter   80\t‖grad‖ = 7.7433e-02\tTrain cost = 3.46384e-01\tCost change =  -6.09e-04\tTest cost = 3.42124e-01\n",
            "Iter   90\t‖grad‖ = 6.9803e-02\tTrain cost = 3.40950e-01\tCost change =  -4.95e-04\tTest cost = 3.36582e-01\n",
            "Iter  100\t‖grad‖ = 6.3487e-02\tTrain cost = 3.36496e-01\tCost change =  -4.09e-04\tTest cost = 3.32025e-01\n",
            "Iter  200\t‖grad‖ = 3.2463e-02\tTrain cost = 3.15557e-01\tCost change =  -1.06e-04\tTest cost = 3.10249e-01\n",
            "Iter  300\t‖grad‖ = 2.0625e-02\tTrain cost = 3.08746e-01\tCost change =  -4.28e-05\tTest cost = 3.02877e-01\n",
            "Iter  400\t‖grad‖ = 1.4213e-02\tTrain cost = 3.05769e-01\tCost change =  -2.03e-05\tTest cost = 2.99510e-01\n",
            "Iter  500\t‖grad‖ = 1.0223e-02\tTrain cost = 3.04295e-01\tCost change =  -1.05e-05\tTest cost = 2.97757e-01\n",
            "Iter  600\t‖grad‖ = 7.5509e-03\tTrain cost = 3.03513e-01\tCost change =  -5.73e-06\tTest cost = 2.96770e-01\n",
            "Iter  700\t‖grad‖ = 5.6774e-03\tTrain cost = 3.03078e-01\tCost change =  -3.24e-06\tTest cost = 2.96183e-01\n",
            "Iter  800\t‖grad‖ = 4.3226e-03\tTrain cost = 3.02830e-01\tCost change =  -1.88e-06\tTest cost = 2.95819e-01\n",
            "Iter  900\t‖grad‖ = 3.3210e-03\tTrain cost = 3.02685e-01\tCost change =  -1.11e-06\tTest cost = 2.95585e-01\n",
            "Iter 1000\t‖grad‖ = 2.5687e-03\tTrain cost = 3.02599e-01\tCost change =  -6.62e-07\tTest cost = 2.95430e-01\n",
            "Iter 1100\t‖grad‖ = 1.9968e-03\tTrain cost = 3.02547e-01\tCost change =  -4.00e-07\tTest cost = 2.95325e-01\n",
            "Iter 1200\t‖grad‖ = 1.5582e-03\tTrain cost = 3.02515e-01\tCost change =  -2.44e-07\tTest cost = 2.95252e-01\n",
            "Iter 1300\t‖grad‖ = 1.2195e-03\tTrain cost = 3.02496e-01\tCost change =  -1.49e-07\tTest cost = 2.95200e-01\n",
            "Iter 1400\t‖grad‖ = 9.5656e-04\tTrain cost = 3.02484e-01\tCost change =  -9.18e-08\tTest cost = 2.95163e-01\n",
            "Iter 1500\t‖grad‖ = 7.5165e-04\tTrain cost = 3.02477e-01\tCost change =  -5.67e-08\tTest cost = 2.95136e-01\n",
            "Iter 1600\t‖grad‖ = 5.9144e-04\tTrain cost = 3.02473e-01\tCost change =  -3.51e-08\tTest cost = 2.95116e-01\n",
            "Iter 1700\t‖grad‖ = 4.6588e-04\tTrain cost = 3.02470e-01\tCost change =  -2.18e-08\tTest cost = 2.95101e-01\n",
            "Iter 1800\t‖grad‖ = 3.6728e-04\tTrain cost = 3.02468e-01\tCost change =  -1.35e-08\tTest cost = 2.95089e-01\n",
            "\n",
            "Stopping early due to small cost change at iteration 1865\n",
            "\n",
            "End of gradient descent after 1865 iterations\n",
            "Optimized parameters:\n",
            "\tParameter 0 = 2.5775\n",
            "\tParameter 1 = 1.7746\n",
            "\tParameter 2 = 0.3218\n"
          ]
        }
      ]
    },
    {
      "cell_type": "markdown",
      "source": [
        "<a id=\"classifier loop\"></a>\n",
        "# <p style=\"background-color: #1b907d; font-family:Avantgarde; color:#ffffff; font-size:150%; text-align:center; border-radius:200px 30px; overflow:hidden; padding:17px\">1.5 Plot cost versus epochs</p>"
      ],
      "metadata": {
        "id": "Ji9NkXkSrMMH"
      }
    },
    {
      "cell_type": "code",
      "source": [
        "def plot_cost_vs_iter(train_costs, test_costs, title=\"Gradient Descent: Cost evolution\"):\n",
        "\n",
        "  fig, ax = plt.subplots(figsize=(8, 6))\n",
        "\n",
        "  iters = np.arange(1,len(train_costs)+1)\n",
        "\n",
        "  ax.plot(iters, train_costs, color='red', lw=1, label='Training set')\n",
        "  ax.plot(iters, test_costs, color='blue', lw=1, label='Testing set')\n",
        "\n",
        "  ax.set_xlabel(\"Number of iterations\")\n",
        "  ax.set_ylabel(r\"Cost $J(\\theta)$\", rotation=\"horizontal\")\n",
        "  ax.yaxis.set_label_coords(-0.2, 0.5)\n",
        "\n",
        "  ax.legend(loc=\"upper right\", frameon=False)\n",
        "  ax.set_title(title, fontsize=18, pad=20)\n",
        "  plt.show()"
      ],
      "metadata": {
        "id": "TUr6W92irWDq"
      },
      "execution_count": null,
      "outputs": []
    },
    {
      "cell_type": "code",
      "source": [
        "plot_cost_vs_iter(costs_train, costs_test)"
      ],
      "metadata": {
        "id": "pdPlSYRorNcg",
        "colab": {
          "base_uri": "https://localhost:8080/",
          "height": 589
        },
        "outputId": "7611c2a5-41b1-42b8-a864-c48d86860b21"
      },
      "execution_count": null,
      "outputs": [
        {
          "output_type": "display_data",
          "data": {
            "text/plain": [
              "<Figure size 800x600 with 1 Axes>"
            ],
            "image/png": "[encoded data removed]"
          },
          "metadata": {}
        }
      ]
    },
    {
      "cell_type": "markdown",
      "source": [
        "1.5.1 Plot Interpretation"
      ],
      "metadata": {
        "id": "ZKQSHrp0rOjF"
      }
    },
    {
      "cell_type": "markdown",
      "source": [],
      "metadata": {
        "id": "S6qnIWuSrf0A"
      }
    },
    {
      "cell_type": "markdown",
      "source": [
        "1.5.2 Cost gap?"
      ],
      "metadata": {
        "id": "LULU4kTbrf-r"
      }
    },
    {
      "cell_type": "markdown",
      "source": [
        "A larger gap between the training and test cost values would suggest that the model is **overfitting** ,meaning it performs well on the training data but generalizes poorly to unseen test data."
      ],
      "metadata": {
        "id": "_r2OU3rwr1h7"
      }
    },
    {
      "cell_type": "markdown",
      "source": [
        "<a id=\"classifier loop\"></a>\n",
        "# <p style=\"background-color: #1b907d; font-family:Avantgarde; color:#ffffff; font-size:150%; text-align:center; border-radius:200px 30px; overflow:hidden; padding:17px\">1.6 Performance Measures</p>"
      ],
      "metadata": {
        "id": "ghWwyxWVr_98"
      }
    },
    {
      "cell_type": "markdown",
      "source": [
        "1.6.1 Binary Predictions"
      ],
      "metadata": {
        "id": "lqOkiX-HsqPY"
      }
    },
    {
      "cell_type": "code",
      "source": [
        "def make_predictions(thetas, X, boundary=0.5):\n",
        "    \"\"\"\n",
        "    Make binary predictions based on logistic regression scores.\n",
        "\n",
        "    Parameters\n",
        "    ----------\n",
        "    thetas : array-like, shape (n_features+1, 1)\n",
        "        Optimized parameter vector.\n",
        "    X : array-like, shape (m_samples, n_features+1)\n",
        "        Input features, already augmented with a column of ones for bias.\n",
        "    boundary : float, default=0.5\n",
        "        The decision boundary for classification. Scores above or equal to this\n",
        "        value are classified as 1, otherwise as 0.\n",
        "\n",
        "    Returns\n",
        "    -------\n",
        "    ndarray, shape (m_samples,)\n",
        "        Binary predictions (0 or 1) for each sample.\n",
        "    \"\"\"\n",
        "    scores = sigmoid(lin_sum(X, thetas)).flatten() # shape (m,)\n",
        "    return (scores >= boundary).astype(int)"
      ],
      "metadata": {
        "id": "rWJzER45tEU0"
      },
      "execution_count": null,
      "outputs": []
    },
    {
      "cell_type": "code",
      "source": [
        "y_pred_train=make_predictions(thetas,X_train_aug)"
      ],
      "metadata": {
        "id": "CM-72h_qvm5y"
      },
      "execution_count": null,
      "outputs": []
    },
    {
      "cell_type": "code",
      "source": [
        "y_pred_train.shape"
      ],
      "metadata": {
        "colab": {
          "base_uri": "https://localhost:8080/"
        },
        "id": "BF5oyZHbwl62",
        "outputId": "b5e532f8-5bf4-4fac-8594-50c739197c52"
      },
      "execution_count": null,
      "outputs": [
        {
          "output_type": "execute_result",
          "data": {
            "text/plain": [
              "(80000,)"
            ]
          },
          "metadata": {},
          "execution_count": 131
        }
      ]
    },
    {
      "cell_type": "code",
      "source": [
        "y_train.shape"
      ],
      "metadata": {
        "colab": {
          "base_uri": "https://localhost:8080/"
        },
        "id": "RuoUt2ngwT3-",
        "outputId": "c548340c-3553-4c5b-f495-948d565cc188"
      },
      "execution_count": null,
      "outputs": [
        {
          "output_type": "execute_result",
          "data": {
            "text/plain": [
              "(80000,)"
            ]
          },
          "metadata": {},
          "execution_count": 128
        }
      ]
    },
    {
      "cell_type": "markdown",
      "source": [
        "1.6.2 Accuracy"
      ],
      "metadata": {
        "id": "tDXNhNBVtC7c"
      }
    },
    {
      "cell_type": "code",
      "source": [
        "def manual_accuracy(y_true, y_pred):\n",
        "    \"\"\"\n",
        "    Compute the accuracy of the classifier manually.\n",
        "\n",
        "    Parameters\n",
        "    ----------\n",
        "    y_true : array-like, shape (m,) or (m,1)\n",
        "        True binary labels (0 or 1).\n",
        "    y_pred : array-like, shape (m,) or (m,1)\n",
        "        Predicted binary labels (0 or 1).\n",
        "\n",
        "    Returns\n",
        "    -------\n",
        "    float\n",
        "        The accuracy of the classifier.\n",
        "    \"\"\"\n",
        "    y_true = np.asarray(y_true, dtype=np.float64).reshape(-1, 1)\n",
        "    y_pred = np.asarray(y_pred, dtype=np.float64).reshape(-1, 1)\n",
        "    correct_predictions = np.sum(y_true == y_pred)\n",
        "    total_samples = len(y_true)\n",
        "    accuracy = correct_predictions / total_samples\n",
        "    return accuracy"
      ],
      "metadata": {
        "id": "mOrddwwetkuF"
      },
      "execution_count": null,
      "outputs": []
    },
    {
      "cell_type": "code",
      "source": [
        "print(f'the value of accuracy is ',manual_accuracy(y_train,y_pred_train))"
      ],
      "metadata": {
        "colab": {
          "base_uri": "https://localhost:8080/"
        },
        "id": "skJtfiPBvzU4",
        "outputId": "42b3bb10-4407-423d-e5c3-bdaaf2836b1c"
      },
      "execution_count": null,
      "outputs": [
        {
          "output_type": "stream",
          "name": "stdout",
          "text": [
            "the value of accuracy is  1.0\n"
          ]
        }
      ]
    },
    {
      "cell_type": "markdown",
      "source": [
        "1.6.3 Recall"
      ],
      "metadata": {
        "id": "PNLeswHdtQG6"
      }
    },
    {
      "cell_type": "code",
      "source": [
        "def manual_recall(y_true, y_pred):\n",
        "    \"\"\"\n",
        "    Compute the recall of the classifier manually.\n",
        "\n",
        "    Parameters\n",
        "    ----------\n",
        "    y_true : array-like, shape (m,) or (m,1)\n",
        "        True binary labels (0 or 1).\n",
        "    y_pred : array-like, shape (m,) or (m,1)\n",
        "        Predicted binary labels (0 or 1).\n",
        "\n",
        "    Returns\n",
        "    -------\n",
        "    float\n",
        "        The recall of the classifier.\n",
        "    \"\"\"\n",
        "    # Convert to numpy arrays for easier indexing\n",
        "    y_true = np.array(y_true).flatten()\n",
        "    y_pred = np.array(y_pred).flatten()\n",
        "\n",
        "    # True Positives: instances where y_true is 1 and y_pred is 1\n",
        "    true_positives = np.sum((y_true == 1) & (y_pred == 1))\n",
        "\n",
        "    # Actual Positives: instances where y_true is 1\n",
        "    actual_positives = np.sum(y_true == 1)\n",
        "\n",
        "    # Avoid division by zero\n",
        "    if actual_positives == 0:\n",
        "        return 0.0\n",
        "\n",
        "    # Recall = True Positives / Actual Positives\n",
        "    recall = true_positives / actual_positives\n",
        "    return recall"
      ],
      "metadata": {
        "id": "N4T7uW6OuIRB"
      },
      "execution_count": null,
      "outputs": []
    },
    {
      "cell_type": "code",
      "source": [
        "print(f'the value of recall is ',manual_recall(y_train,y_pred_train))"
      ],
      "metadata": {
        "colab": {
          "base_uri": "https://localhost:8080/"
        },
        "id": "shnsxJD-w67A",
        "outputId": "a33cb30a-f8b2-4f28-8d79-8baa2177517f"
      },
      "execution_count": null,
      "outputs": [
        {
          "output_type": "stream",
          "name": "stdout",
          "text": [
            "the value of recall is  1.0\n"
          ]
        }
      ]
    },
    {
      "cell_type": "markdown",
      "source": [
        "Part II: Draw Decision Boundaries"
      ],
      "metadata": {
        "id": "Y8eUccepuQkv"
      }
    },
    {
      "cell_type": "code",
      "source": [
        "all_sig = df[df['type'] == 'electron'][['shower_depth', 'shower_width']]\n",
        "all_bkg = df[df['type'] ==  'hadron' ][['shower_depth', 'shower_width']]"
      ],
      "metadata": {
        "id": "C5XqH0LXugVM"
      },
      "execution_count": null,
      "outputs": []
    },
    {
      "cell_type": "code",
      "source": [
        "X1NAME = 'shower_depth'; X1LABEL = 'Shower depth [mm]'\n",
        "X2NAME = 'shower_width'; X2LABEL = 'Shower width [mm]'\n",
        "X1MIN  = 0 ; X1MAX = 200\n",
        "X2MIN  = 0 ; X2MAX =  60\n",
        "\n",
        "# Raw scatter plot\n",
        "def plot_scatter(sig, bkg, boundaries=False,\n",
        "                 x1name=X1NAME, x1label=X1LABEL, x1min=X1MIN, x1max=X1MAX,\n",
        "                 x2name=X2NAME, x2label=X2LABEL, x2min=X2MIN, x2max=X2MAX,\n",
        "                 figsize=(6, 6), fontsize=20, alpha=0.2, title=\"Scatter plot\"):\n",
        "\n",
        "  fig, ax = plt.subplots(figsize=figsize)\n",
        "\n",
        "  # ------------------\n",
        "  #      A X E S\n",
        "  # ------------------\n",
        "  ax.set(xlim=(x1min, x1max), ylim=(x2min, x2max))\n",
        "  ax.set_xlabel(x1label); ax.set_ylabel(x2label)\n",
        "\n",
        "  # ------------------\n",
        "  #   S C A T T E R\n",
        "  # ------------------\n",
        "  scat_el = ax.scatter(sig[x1name], sig[x2name], marker='.', s=1, c='dodgerblue', alpha=alpha)\n",
        "  scat_had= ax.scatter(bkg[x1name], bkg[x2name], marker='.', s=1, c='darkorange', alpha=alpha)\n",
        "\n",
        "  # ----------------------\n",
        "  #  B O U N D A R I E S\n",
        "  # ----------------------\n",
        "  # if boundaries:\n",
        "    # ... your code here ...\n",
        "\n",
        "  # ------------------\n",
        "  #   L E G E N D S\n",
        "  # ------------------\n",
        "  # Legend scatter\n",
        "  h = [scat_el, scat_had]\n",
        "  legScatter = ax.legend(handles=h, labels=['electron', 'hadron'],\n",
        "                         title=\"Shower type\\n\", title_fontsize=fontsize, markerscale=20,\n",
        "                         bbox_to_anchor=(1.06, 0.8), loc=\"center left\" , frameon=False)\n",
        "\n",
        "  # Legend boundary\n",
        "  if boundaries:\n",
        "    ax.add_artist(legScatter)\n",
        "    legLines = ax.legend(title=\"Decision boundaries\",\n",
        "                       bbox_to_anchor=(1.06, 0.3), loc=\"center left\",\n",
        "                       title_fontsize=fontsize, frameon=False)\n",
        "\n",
        "  ax.set_title(title, fontsize=fontsize, pad=20)\n",
        "  print('\\n\\n') ; plt.show()"
      ],
      "metadata": {
        "id": "GfmkIByCvBNP"
      },
      "execution_count": null,
      "outputs": []
    }
  ]
}