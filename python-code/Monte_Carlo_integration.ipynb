{
  "nbformat": 4,
  "nbformat_minor": 0,
  "metadata": {
    "colab": {
      "provenance": [],
      "authorship_tag": "ABX9TyN696f17VUkm5ZwLSnODc8q",
      "include_colab_link": true
    },
    "kernelspec": {
      "name": "python3",
      "display_name": "Python 3"
    },
    "language_info": {
      "name": "python"
    }
  },
  "cells": [
    {
      "cell_type": "markdown",
      "metadata": {
        "id": "view-in-github",
        "colab_type": "text"
      },
      "source": [
        "<a href=\"https://colab.research.google.com/github/MELAI-1/MY-PROJECT/blob/main/python-code/Monte_Carlo_integration.ipynb\" target=\"_parent\"><img src=\"https://colab.research.google.com/assets/colab-badge.svg\" alt=\"Open In Colab\"/></a>"
      ]
    },
    {
      "cell_type": "markdown",
      "source": [
        "# Monte Carlo integration"
      ],
      "metadata": {
        "id": "M6KhEsQN49Fv"
      }
    },
    {
      "cell_type": "markdown",
      "source": [
        "Monte Carlo Integration is a process of solving integrals having numerous values to integrate upon.Now we would first compute the integral using the Monte Carlo method numerically and then finally we would visualize the result using a histogram by using the python library matplotlib"
      ],
      "metadata": {
        "id": "kUmeX2Zx5Bxu"
      }
    },
    {
      "cell_type": "markdown",
      "source": [
        "# **Import requirement librairies**"
      ],
      "metadata": {
        "id": "7GiAYba25Ql6"
      }
    },
    {
      "cell_type": "code",
      "source": [
        "!pip install scipy"
      ],
      "metadata": {
        "colab": {
          "base_uri": "https://localhost:8080/"
        },
        "id": "zyBWFffv5XGm",
        "outputId": "09596bf6-9567-4e88-d50c-fe26f7830872"
      },
      "execution_count": 4,
      "outputs": [
        {
          "output_type": "stream",
          "name": "stdout",
          "text": [
            "Requirement already satisfied: scipy in /usr/local/lib/python3.11/dist-packages (1.15.3)\n",
            "Requirement already satisfied: numpy<2.5,>=1.23.5 in /usr/local/lib/python3.11/dist-packages (from scipy) (2.0.2)\n"
          ]
        }
      ]
    },
    {
      "cell_type": "code",
      "source": [
        "import numpy as np"
      ],
      "metadata": {
        "id": "VzJ8JYql8DB5"
      },
      "execution_count": 16,
      "outputs": []
    },
    {
      "cell_type": "markdown",
      "source": [
        "# **TASK 1:EVALUATE THIS INTEGRAL**\n",
        "\n",
        "![Capture1-300x201.PNG](data:image/png;base64,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)"
      ],
      "metadata": {
        "id": "A9YlGiUn5sET"
      }
    },
    {
      "cell_type": "markdown",
      "source": [
        "# **Steps :**\n",
        "\n",
        "\n",
        "\n",
        "1.   define the limits of integration which are 0 and pi\n",
        "2.   create a static numpy array of zeros of size N\n",
        "3.    iterate over each index of array N and fill it with random values between a and b\n",
        "4. create a variable to store sum of the functions of different values of the integral variable\n",
        "5. create a function to calculate the sin of a particular value of x\n",
        "6. iterate and add up all the values returned by the function of x for different values of x to the variable integral\n",
        "7. use the formula derived above to get the results.\n",
        "8. print the results\n",
        "\n"
      ],
      "metadata": {
        "id": "9X4n_jvP6Fv7"
      }
    },
    {
      "cell_type": "code",
      "source": [
        "# limits of integration\n",
        "a = 0\n",
        "b = np.pi # gets the value of pi\n",
        "N = 1000\n",
        "\n",
        "# array of zeros of length N\n",
        "ar = np.zeros(N)\n",
        "\n",
        "# iterating over each Value of ar and filling\n",
        "# it with a random value between the limits a\n",
        "# and b\n",
        "for i in range (len(ar)):\n",
        "    ar[i] = np.random.uniform(a,b) # Corrected random number generation\n",
        "\n",
        "# variable to store sum of the functions of\n",
        "# different values of x\n",
        "integral = 0.0\n",
        "\n",
        "# function to calculate the sin of a particular\n",
        "# value of x\n",
        "def f(x):\n",
        "    return np.sin(x)\n",
        "\n",
        "# iterates and sums up values of different functions\n",
        "# of x\n",
        "for i in ar:\n",
        "    integral += f(i)\n",
        "\n",
        "# we get the answer by the formula derived adobe\n",
        "ans = (b-a)/float(N)*integral\n",
        "\n",
        "# prints the solution\n",
        "print (\"The value calculated by monte carlo integration is {}.\".format(ans))"
      ],
      "metadata": {
        "colab": {
          "base_uri": "https://localhost:8080/"
        },
        "outputId": "30862e9f-38a0-4fc1-c46a-eac3cad60d90",
        "id": "dLFC7ODp8XcR"
      },
      "execution_count": 17,
      "outputs": [
        {
          "output_type": "stream",
          "name": "stdout",
          "text": [
            "The value calculated by monte carlo integration is 1.9884659895308217.\n"
          ]
        }
      ]
    }
  ]
}