{
  "cells": [
    {
      "cell_type": "markdown",
      "metadata": {
        "id": "TtWmoiOEjTbP"
      },
      "source": [
        "# Application des modeles de machine learning sur le jeu de donnee Thomas"
      ],
      "id": "TtWmoiOEjTbP"
    },
    {
      "cell_type": "markdown",
      "metadata": {
        "id": "MIEjRuPWjTbg"
      },
      "source": [
        "##  1) importation des librairies"
      ],
      "id": "MIEjRuPWjTbg"
    },
    {
      "cell_type": "code",
      "execution_count": null,
      "metadata": {
        "id": "QoRfSBdgjTbh"
      },
      "outputs": [],
      "source": [
        "import pandas as pd\n",
        "import numpy as np\n",
        "SEED = 1221\n",
        "# Import libraries\n",
        "import pandas as pd\n",
        "import numpy as np\n",
        "\n",
        "import seaborn as sns\n",
        "import matplotlib.pyplot as plt\n",
        "from sklearn.model_selection import train_test_split\n",
        "\n",
        "\n",
        "from sklearn.metrics import classification_report\n",
        "from sklearn.metrics import mean_squared_error\n",
        "from sklearn.model_selection import train_test_split\n",
        "# import eli5\n",
        "import warnings\n",
        "warnings.filterwarnings('ignore')\n",
        "from xgboost import XGBRegressor\n",
        "from sklearn.metrics import accuracy_score\n",
        "%matplotlib inline\n",
        "import seaborn as sns\n",
        "from scipy.stats import norm\n",
        "# import lightgbm as lgb\n",
        "from sklearn.metrics import mean_squared_log_error\n",
        "from sklearn import preprocessing\n",
        "from sklearn.preprocessing  import StandardScaler, PolynomialFeatures\n",
        "from sklearn.model_selection import cross_val_score, cross_val_predict\n",
        "import os\n",
        "\n",
        "from sklearn.linear_model import LogisticRegression"
      ],
      "id": "QoRfSBdgjTbh"
    },
    {
      "cell_type": "markdown",
      "metadata": {
        "id": "fMjRjRItjTbm"
      },
      "source": [
        "## 2) importation du jeu de donnee et de la description du jeu de donnee"
      ],
      "id": "fMjRjRItjTbm"
    },
    {
      "cell_type": "code",
      "execution_count": null,
      "metadata": {
        "id": "idKbEcMZjTbm"
      },
      "outputs": [],
      "source": [
        "data=pd.read_csv('thomas.csv',sep=';')\n",
        "dataset=data\n",
        "# description=pd.read_csv('description.csv')\n"
      ],
      "id": "idKbEcMZjTbm"
    },
    {
      "cell_type": "markdown",
      "metadata": {
        "id": "opXdSnoxjTbn"
      },
      "source": [
        "## 3)visualisation des donnees et de la description"
      ],
      "id": "opXdSnoxjTbn"
    },
    {
      "cell_type": "code",
      "execution_count": null,
      "metadata": {
        "colab": {
          "base_uri": "https://localhost:8080/",
          "height": 363
        },
        "id": "jAZxPik4jTbo",
        "outputId": "4a174a65-cfec-4b7d-9a46-aacfaf8945f6"
      },
      "outputs": [
        {
          "output_type": "execute_result",
          "data": {
            "text/plain": [
              "       YOB  NKID  DEP  PHON    SINC AES    DAINC RES    DHVAL    DMORT  DOUTM  \\\n",
              "170   19.0   0.0  0.0     1     0.0   R      0.0   O      0.0      0.0    0.0   \n",
              "928   52.0   3.0  0.0     1     0.0   P  42000.0   O   8928.0  62464.0  912.0   \n",
              "199   51.0   0.0  0.0     1     0.0   V   9600.0   U      0.0      0.0  256.0   \n",
              "1050  58.0   0.0  0.0     1     0.0   P  42000.0   O  36464.0  30464.0  712.0   \n",
              "1060  47.0   2.0  0.0     1     0.0   V  36000.0   O  28928.0      0.0    0.0   \n",
              "355   32.0   1.0  0.0     1  3000.0   P  18464.0   O  27392.0  52000.0  376.0   \n",
              "1096  53.0   3.0  0.0     1     0.0   P  42000.0   O   8928.0  34464.0  720.0   \n",
              "999   43.0   2.0  0.0     1     0.0   V  21942.0   O      0.0      0.0    0.0   \n",
              "454   50.0   0.0  0.0     1  7000.0   V  36000.0   O   3392.0  40000.0  400.0   \n",
              "1104  64.0   0.0  0.0     1     0.0   V  20400.0   U      0.0      0.0  192.0   \n",
              "\n",
              "      DOUTL  DOUTHP  DOUTCC  BAD  \n",
              "170     0.0     0.0     0.0  1.0  \n",
              "928     0.0     0.0     0.0  0.0  \n",
              "199     0.0     0.0     0.0  0.0  \n",
              "1050  280.0   120.0     0.0  0.0  \n",
              "1060  756.0     0.0    80.0  0.0  \n",
              "355   580.0     0.0   160.0  0.0  \n",
              "1096  360.0     0.0    80.0  0.0  \n",
              "999     0.0     0.0     0.0  0.0  \n",
              "454     0.0     0.0     0.0  0.0  \n",
              "1104    0.0     0.0     0.0  0.0  "
            ],
            "text/html": [
              "\n",
              "  <div id=\"df-65416f5e-bf5a-44ae-a1bf-81f1732de96e\">\n",
              "    <div class=\"colab-df-container\">\n",
              "      <div>\n",
              "<style scoped>\n",
              "    .dataframe tbody tr th:only-of-type {\n",
              "        vertical-align: middle;\n",
              "    }\n",
              "\n",
              "    .dataframe tbody tr th {\n",
              "        vertical-align: top;\n",
              "    }\n",
              "\n",
              "    .dataframe thead th {\n",
              "        text-align: right;\n",
              "    }\n",
              "</style>\n",
              "<table border=\"1\" class=\"dataframe\">\n",
              "  <thead>\n",
              "    <tr style=\"text-align: right;\">\n",
              "      <th></th>\n",
              "      <th>YOB</th>\n",
              "      <th>NKID</th>\n",
              "      <th>DEP</th>\n",
              "      <th>PHON</th>\n",
              "      <th>SINC</th>\n",
              "      <th>AES</th>\n",
              "      <th>DAINC</th>\n",
              "      <th>RES</th>\n",
              "      <th>DHVAL</th>\n",
              "      <th>DMORT</th>\n",
              "      <th>DOUTM</th>\n",
              "      <th>DOUTL</th>\n",
              "      <th>DOUTHP</th>\n",
              "      <th>DOUTCC</th>\n",
              "      <th>BAD</th>\n",
              "    </tr>\n",
              "  </thead>\n",
              "  <tbody>\n",
              "    <tr>\n",
              "      <th>170</th>\n",
              "      <td>19.0</td>\n",
              "      <td>0.0</td>\n",
              "      <td>0.0</td>\n",
              "      <td>1</td>\n",
              "      <td>0.0</td>\n",
              "      <td>R</td>\n",
              "      <td>0.0</td>\n",
              "      <td>O</td>\n",
              "      <td>0.0</td>\n",
              "      <td>0.0</td>\n",
              "      <td>0.0</td>\n",
              "      <td>0.0</td>\n",
              "      <td>0.0</td>\n",
              "      <td>0.0</td>\n",
              "      <td>1.0</td>\n",
              "    </tr>\n",
              "    <tr>\n",
              "      <th>928</th>\n",
              "      <td>52.0</td>\n",
              "      <td>3.0</td>\n",
              "      <td>0.0</td>\n",
              "      <td>1</td>\n",
              "      <td>0.0</td>\n",
              "      <td>P</td>\n",
              "      <td>42000.0</td>\n",
              "      <td>O</td>\n",
              "      <td>8928.0</td>\n",
              "      <td>62464.0</td>\n",
              "      <td>912.0</td>\n",
              "      <td>0.0</td>\n",
              "      <td>0.0</td>\n",
              "      <td>0.0</td>\n",
              "      <td>0.0</td>\n",
              "    </tr>\n",
              "    <tr>\n",
              "      <th>199</th>\n",
              "      <td>51.0</td>\n",
              "      <td>0.0</td>\n",
              "      <td>0.0</td>\n",
              "      <td>1</td>\n",
              "      <td>0.0</td>\n",
              "      <td>V</td>\n",
              "      <td>9600.0</td>\n",
              "      <td>U</td>\n",
              "      <td>0.0</td>\n",
              "      <td>0.0</td>\n",
              "      <td>256.0</td>\n",
              "      <td>0.0</td>\n",
              "      <td>0.0</td>\n",
              "      <td>0.0</td>\n",
              "      <td>0.0</td>\n",
              "    </tr>\n",
              "    <tr>\n",
              "      <th>1050</th>\n",
              "      <td>58.0</td>\n",
              "      <td>0.0</td>\n",
              "      <td>0.0</td>\n",
              "      <td>1</td>\n",
              "      <td>0.0</td>\n",
              "      <td>P</td>\n",
              "      <td>42000.0</td>\n",
              "      <td>O</td>\n",
              "      <td>36464.0</td>\n",
              "      <td>30464.0</td>\n",
              "      <td>712.0</td>\n",
              "      <td>280.0</td>\n",
              "      <td>120.0</td>\n",
              "      <td>0.0</td>\n",
              "      <td>0.0</td>\n",
              "    </tr>\n",
              "    <tr>\n",
              "      <th>1060</th>\n",
              "      <td>47.0</td>\n",
              "      <td>2.0</td>\n",
              "      <td>0.0</td>\n",
              "      <td>1</td>\n",
              "      <td>0.0</td>\n",
              "      <td>V</td>\n",
              "      <td>36000.0</td>\n",
              "      <td>O</td>\n",
              "      <td>28928.0</td>\n",
              "      <td>0.0</td>\n",
              "      <td>0.0</td>\n",
              "      <td>756.0</td>\n",
              "      <td>0.0</td>\n",
              "      <td>80.0</td>\n",
              "      <td>0.0</td>\n",
              "    </tr>\n",
              "    <tr>\n",
              "      <th>355</th>\n",
              "      <td>32.0</td>\n",
              "      <td>1.0</td>\n",
              "      <td>0.0</td>\n",
              "      <td>1</td>\n",
              "      <td>3000.0</td>\n",
              "      <td>P</td>\n",
              "      <td>18464.0</td>\n",
              "      <td>O</td>\n",
              "      <td>27392.0</td>\n",
              "      <td>52000.0</td>\n",
              "      <td>376.0</td>\n",
              "      <td>580.0</td>\n",
              "      <td>0.0</td>\n",
              "      <td>160.0</td>\n",
              "      <td>0.0</td>\n",
              "    </tr>\n",
              "    <tr>\n",
              "      <th>1096</th>\n",
              "      <td>53.0</td>\n",
              "      <td>3.0</td>\n",
              "      <td>0.0</td>\n",
              "      <td>1</td>\n",
              "      <td>0.0</td>\n",
              "      <td>P</td>\n",
              "      <td>42000.0</td>\n",
              "      <td>O</td>\n",
              "      <td>8928.0</td>\n",
              "      <td>34464.0</td>\n",
              "      <td>720.0</td>\n",
              "      <td>360.0</td>\n",
              "      <td>0.0</td>\n",
              "      <td>80.0</td>\n",
              "      <td>0.0</td>\n",
              "    </tr>\n",
              "    <tr>\n",
              "      <th>999</th>\n",
              "      <td>43.0</td>\n",
              "      <td>2.0</td>\n",
              "      <td>0.0</td>\n",
              "      <td>1</td>\n",
              "      <td>0.0</td>\n",
              "      <td>V</td>\n",
              "      <td>21942.0</td>\n",
              "      <td>O</td>\n",
              "      <td>0.0</td>\n",
              "      <td>0.0</td>\n",
              "      <td>0.0</td>\n",
              "      <td>0.0</td>\n",
              "      <td>0.0</td>\n",
              "      <td>0.0</td>\n",
              "      <td>0.0</td>\n",
              "    </tr>\n",
              "    <tr>\n",
              "      <th>454</th>\n",
              "      <td>50.0</td>\n",
              "      <td>0.0</td>\n",
              "      <td>0.0</td>\n",
              "      <td>1</td>\n",
              "      <td>7000.0</td>\n",
              "      <td>V</td>\n",
              "      <td>36000.0</td>\n",
              "      <td>O</td>\n",
              "      <td>3392.0</td>\n",
              "      <td>40000.0</td>\n",
              "      <td>400.0</td>\n",
              "      <td>0.0</td>\n",
              "      <td>0.0</td>\n",
              "      <td>0.0</td>\n",
              "      <td>0.0</td>\n",
              "    </tr>\n",
              "    <tr>\n",
              "      <th>1104</th>\n",
              "      <td>64.0</td>\n",
              "      <td>0.0</td>\n",
              "      <td>0.0</td>\n",
              "      <td>1</td>\n",
              "      <td>0.0</td>\n",
              "      <td>V</td>\n",
              "      <td>20400.0</td>\n",
              "      <td>U</td>\n",
              "      <td>0.0</td>\n",
              "      <td>0.0</td>\n",
              "      <td>192.0</td>\n",
              "      <td>0.0</td>\n",
              "      <td>0.0</td>\n",
              "      <td>0.0</td>\n",
              "      <td>0.0</td>\n",
              "    </tr>\n",
              "  </tbody>\n",
              "</table>\n",
              "</div>\n",
              "      <button class=\"colab-df-convert\" onclick=\"convertToInteractive('df-65416f5e-bf5a-44ae-a1bf-81f1732de96e')\"\n",
              "              title=\"Convert this dataframe to an interactive table.\"\n",
              "              style=\"display:none;\">\n",
              "        \n",
              "  <svg xmlns=\"http://www.w3.org/2000/svg\" height=\"24px\"viewBox=\"0 0 24 24\"\n",
              "       width=\"24px\">\n",
              "    <path d=\"M0 0h24v24H0V0z\" fill=\"none\"/>\n",
              "    <path d=\"M18.56 5.44l.94 2.06.94-2.06 2.06-.94-2.06-.94-.94-2.06-.94 2.06-2.06.94zm-11 1L8.5 8.5l.94-2.06 2.06-.94-2.06-.94L8.5 2.5l-.94 2.06-2.06.94zm10 10l.94 2.06.94-2.06 2.06-.94-2.06-.94-.94-2.06-.94 2.06-2.06.94z\"/><path d=\"M17.41 7.96l-1.37-1.37c-.4-.4-.92-.59-1.43-.59-.52 0-1.04.2-1.43.59L10.3 9.45l-7.72 7.72c-.78.78-.78 2.05 0 2.83L4 21.41c.39.39.9.59 1.41.59.51 0 1.02-.2 1.41-.59l7.78-7.78 2.81-2.81c.8-.78.8-2.07 0-2.86zM5.41 20L4 18.59l7.72-7.72 1.47 1.35L5.41 20z\"/>\n",
              "  </svg>\n",
              "      </button>\n",
              "      \n",
              "  <style>\n",
              "    .colab-df-container {\n",
              "      display:flex;\n",
              "      flex-wrap:wrap;\n",
              "      gap: 12px;\n",
              "    }\n",
              "\n",
              "    .colab-df-convert {\n",
              "      background-color: #E8F0FE;\n",
              "      border: none;\n",
              "      border-radius: 50%;\n",
              "      cursor: pointer;\n",
              "      display: none;\n",
              "      fill: #1967D2;\n",
              "      height: 32px;\n",
              "      padding: 0 0 0 0;\n",
              "      width: 32px;\n",
              "    }\n",
              "\n",
              "    .colab-df-convert:hover {\n",
              "      background-color: #E2EBFA;\n",
              "      box-shadow: 0px 1px 2px rgba(60, 64, 67, 0.3), 0px 1px 3px 1px rgba(60, 64, 67, 0.15);\n",
              "      fill: #174EA6;\n",
              "    }\n",
              "\n",
              "    [theme=dark] .colab-df-convert {\n",
              "      background-color: #3B4455;\n",
              "      fill: #D2E3FC;\n",
              "    }\n",
              "\n",
              "    [theme=dark] .colab-df-convert:hover {\n",
              "      background-color: #434B5C;\n",
              "      box-shadow: 0px 1px 3px 1px rgba(0, 0, 0, 0.15);\n",
              "      filter: drop-shadow(0px 1px 2px rgba(0, 0, 0, 0.3));\n",
              "      fill: #FFFFFF;\n",
              "    }\n",
              "  </style>\n",
              "\n",
              "      <script>\n",
              "        const buttonEl =\n",
              "          document.querySelector('#df-65416f5e-bf5a-44ae-a1bf-81f1732de96e button.colab-df-convert');\n",
              "        buttonEl.style.display =\n",
              "          google.colab.kernel.accessAllowed ? 'block' : 'none';\n",
              "\n",
              "        async function convertToInteractive(key) {\n",
              "          const element = document.querySelector('#df-65416f5e-bf5a-44ae-a1bf-81f1732de96e');\n",
              "          const dataTable =\n",
              "            await google.colab.kernel.invokeFunction('convertToInteractive',\n",
              "                                                     [key], {});\n",
              "          if (!dataTable) return;\n",
              "\n",
              "          const docLinkHtml = 'Like what you see? Visit the ' +\n",
              "            '<a target=\"_blank\" href=https://colab.research.google.com/notebooks/data_table.ipynb>data table notebook</a>'\n",
              "            + ' to learn more about interactive tables.';\n",
              "          element.innerHTML = '';\n",
              "          dataTable['output_type'] = 'display_data';\n",
              "          await google.colab.output.renderOutput(dataTable, element);\n",
              "          const docLink = document.createElement('div');\n",
              "          docLink.innerHTML = docLinkHtml;\n",
              "          element.appendChild(docLink);\n",
              "        }\n",
              "      </script>\n",
              "    </div>\n",
              "  </div>\n",
              "  "
            ]
          },
          "metadata": {},
          "execution_count": 55
        }
      ],
      "source": [
        "data.sample(10)"
      ],
      "id": "jAZxPik4jTbo"
    },
    {
      "cell_type": "code",
      "execution_count": null,
      "metadata": {
        "colab": {
          "base_uri": "https://localhost:8080/",
          "height": 364
        },
        "id": "hLAgNr3wjTbv",
        "outputId": "a95fa878-5861-4b91-f9c0-0c4c98204e06"
      },
      "outputs": [
        {
          "output_type": "execute_result",
          "data": {
            "text/plain": [
              "               YOB         NKID          DEP         PHON          SINC  \\\n",
              "count  1225.000000  1225.000000  1225.000000  1225.000000   1225.000000   \n",
              "mean     51.037551     0.623673     0.038367     0.903673   1990.084898   \n",
              "std      15.301818     1.016013     0.219917     0.295159   4802.341425   \n",
              "min       3.000000     0.000000     0.000000     0.000000      0.000000   \n",
              "25%      42.000000     0.000000     0.000000     1.000000      0.000000   \n",
              "50%      55.000000     0.000000     0.000000     1.000000      0.000000   \n",
              "75%      63.000000     1.000000     0.000000     1.000000   1040.000000   \n",
              "max      99.000000     5.000000     2.000000     1.000000  50000.000000   \n",
              "\n",
              "              DAINC         DHVAL         DMORT        DOUTM         DOUTL  \\\n",
              "count   1225.000000   1225.000000   1225.000000  1225.000000   1225.000000   \n",
              "mean   21244.211429  15693.857959  11225.691429   342.004898    121.926531   \n",
              "std    15896.207986  20736.331833  18889.207107   427.993865    839.639588   \n",
              "min        0.000000      0.000000      0.000000     0.000000      0.000000   \n",
              "25%     9000.000000      0.000000      0.000000     0.000000      0.000000   \n",
              "50%    19500.000000      0.000000      0.000000   256.000000      0.000000   \n",
              "75%    30600.000000  28928.000000  20000.000000   528.000000      0.000000   \n",
              "max    64800.000000  64928.000000  64000.000000  3800.000000  28000.000000   \n",
              "\n",
              "            DOUTHP       DOUTCC          BAD  \n",
              "count  1225.000000  1225.000000  1225.000000  \n",
              "mean     28.721633    39.595102     0.263673  \n",
              "std     119.324084   168.697101     0.440804  \n",
              "min       0.000000     0.000000     0.000000  \n",
              "25%       0.000000     0.000000     0.000000  \n",
              "50%       0.000000     0.000000     0.000000  \n",
              "75%       0.000000     0.000000     1.000000  \n",
              "max    1600.000000  2800.000000     1.000000  "
            ],
            "text/html": [
              "\n",
              "  <div id=\"df-a1f0259a-e915-4004-bb79-e85840234501\">\n",
              "    <div class=\"colab-df-container\">\n",
              "      <div>\n",
              "<style scoped>\n",
              "    .dataframe tbody tr th:only-of-type {\n",
              "        vertical-align: middle;\n",
              "    }\n",
              "\n",
              "    .dataframe tbody tr th {\n",
              "        vertical-align: top;\n",
              "    }\n",
              "\n",
              "    .dataframe thead th {\n",
              "        text-align: right;\n",
              "    }\n",
              "</style>\n",
              "<table border=\"1\" class=\"dataframe\">\n",
              "  <thead>\n",
              "    <tr style=\"text-align: right;\">\n",
              "      <th></th>\n",
              "      <th>YOB</th>\n",
              "      <th>NKID</th>\n",
              "      <th>DEP</th>\n",
              "      <th>PHON</th>\n",
              "      <th>SINC</th>\n",
              "      <th>DAINC</th>\n",
              "      <th>DHVAL</th>\n",
              "      <th>DMORT</th>\n",
              "      <th>DOUTM</th>\n",
              "      <th>DOUTL</th>\n",
              "      <th>DOUTHP</th>\n",
              "      <th>DOUTCC</th>\n",
              "      <th>BAD</th>\n",
              "    </tr>\n",
              "  </thead>\n",
              "  <tbody>\n",
              "    <tr>\n",
              "      <th>count</th>\n",
              "      <td>1225.000000</td>\n",
              "      <td>1225.000000</td>\n",
              "      <td>1225.000000</td>\n",
              "      <td>1225.000000</td>\n",
              "      <td>1225.000000</td>\n",
              "      <td>1225.000000</td>\n",
              "      <td>1225.000000</td>\n",
              "      <td>1225.000000</td>\n",
              "      <td>1225.000000</td>\n",
              "      <td>1225.000000</td>\n",
              "      <td>1225.000000</td>\n",
              "      <td>1225.000000</td>\n",
              "      <td>1225.000000</td>\n",
              "    </tr>\n",
              "    <tr>\n",
              "      <th>mean</th>\n",
              "      <td>51.037551</td>\n",
              "      <td>0.623673</td>\n",
              "      <td>0.038367</td>\n",
              "      <td>0.903673</td>\n",
              "      <td>1990.084898</td>\n",
              "      <td>21244.211429</td>\n",
              "      <td>15693.857959</td>\n",
              "      <td>11225.691429</td>\n",
              "      <td>342.004898</td>\n",
              "      <td>121.926531</td>\n",
              "      <td>28.721633</td>\n",
              "      <td>39.595102</td>\n",
              "      <td>0.263673</td>\n",
              "    </tr>\n",
              "    <tr>\n",
              "      <th>std</th>\n",
              "      <td>15.301818</td>\n",
              "      <td>1.016013</td>\n",
              "      <td>0.219917</td>\n",
              "      <td>0.295159</td>\n",
              "      <td>4802.341425</td>\n",
              "      <td>15896.207986</td>\n",
              "      <td>20736.331833</td>\n",
              "      <td>18889.207107</td>\n",
              "      <td>427.993865</td>\n",
              "      <td>839.639588</td>\n",
              "      <td>119.324084</td>\n",
              "      <td>168.697101</td>\n",
              "      <td>0.440804</td>\n",
              "    </tr>\n",
              "    <tr>\n",
              "      <th>min</th>\n",
              "      <td>3.000000</td>\n",
              "      <td>0.000000</td>\n",
              "      <td>0.000000</td>\n",
              "      <td>0.000000</td>\n",
              "      <td>0.000000</td>\n",
              "      <td>0.000000</td>\n",
              "      <td>0.000000</td>\n",
              "      <td>0.000000</td>\n",
              "      <td>0.000000</td>\n",
              "      <td>0.000000</td>\n",
              "      <td>0.000000</td>\n",
              "      <td>0.000000</td>\n",
              "      <td>0.000000</td>\n",
              "    </tr>\n",
              "    <tr>\n",
              "      <th>25%</th>\n",
              "      <td>42.000000</td>\n",
              "      <td>0.000000</td>\n",
              "      <td>0.000000</td>\n",
              "      <td>1.000000</td>\n",
              "      <td>0.000000</td>\n",
              "      <td>9000.000000</td>\n",
              "      <td>0.000000</td>\n",
              "      <td>0.000000</td>\n",
              "      <td>0.000000</td>\n",
              "      <td>0.000000</td>\n",
              "      <td>0.000000</td>\n",
              "      <td>0.000000</td>\n",
              "      <td>0.000000</td>\n",
              "    </tr>\n",
              "    <tr>\n",
              "      <th>50%</th>\n",
              "      <td>55.000000</td>\n",
              "      <td>0.000000</td>\n",
              "      <td>0.000000</td>\n",
              "      <td>1.000000</td>\n",
              "      <td>0.000000</td>\n",
              "      <td>19500.000000</td>\n",
              "      <td>0.000000</td>\n",
              "      <td>0.000000</td>\n",
              "      <td>256.000000</td>\n",
              "      <td>0.000000</td>\n",
              "      <td>0.000000</td>\n",
              "      <td>0.000000</td>\n",
              "      <td>0.000000</td>\n",
              "    </tr>\n",
              "    <tr>\n",
              "      <th>75%</th>\n",
              "      <td>63.000000</td>\n",
              "      <td>1.000000</td>\n",
              "      <td>0.000000</td>\n",
              "      <td>1.000000</td>\n",
              "      <td>1040.000000</td>\n",
              "      <td>30600.000000</td>\n",
              "      <td>28928.000000</td>\n",
              "      <td>20000.000000</td>\n",
              "      <td>528.000000</td>\n",
              "      <td>0.000000</td>\n",
              "      <td>0.000000</td>\n",
              "      <td>0.000000</td>\n",
              "      <td>1.000000</td>\n",
              "    </tr>\n",
              "    <tr>\n",
              "      <th>max</th>\n",
              "      <td>99.000000</td>\n",
              "      <td>5.000000</td>\n",
              "      <td>2.000000</td>\n",
              "      <td>1.000000</td>\n",
              "      <td>50000.000000</td>\n",
              "      <td>64800.000000</td>\n",
              "      <td>64928.000000</td>\n",
              "      <td>64000.000000</td>\n",
              "      <td>3800.000000</td>\n",
              "      <td>28000.000000</td>\n",
              "      <td>1600.000000</td>\n",
              "      <td>2800.000000</td>\n",
              "      <td>1.000000</td>\n",
              "    </tr>\n",
              "  </tbody>\n",
              "</table>\n",
              "</div>\n",
              "      <button class=\"colab-df-convert\" onclick=\"convertToInteractive('df-a1f0259a-e915-4004-bb79-e85840234501')\"\n",
              "              title=\"Convert this dataframe to an interactive table.\"\n",
              "              style=\"display:none;\">\n",
              "        \n",
              "  <svg xmlns=\"http://www.w3.org/2000/svg\" height=\"24px\"viewBox=\"0 0 24 24\"\n",
              "       width=\"24px\">\n",
              "    <path d=\"M0 0h24v24H0V0z\" fill=\"none\"/>\n",
              "    <path d=\"M18.56 5.44l.94 2.06.94-2.06 2.06-.94-2.06-.94-.94-2.06-.94 2.06-2.06.94zm-11 1L8.5 8.5l.94-2.06 2.06-.94-2.06-.94L8.5 2.5l-.94 2.06-2.06.94zm10 10l.94 2.06.94-2.06 2.06-.94-2.06-.94-.94-2.06-.94 2.06-2.06.94z\"/><path d=\"M17.41 7.96l-1.37-1.37c-.4-.4-.92-.59-1.43-.59-.52 0-1.04.2-1.43.59L10.3 9.45l-7.72 7.72c-.78.78-.78 2.05 0 2.83L4 21.41c.39.39.9.59 1.41.59.51 0 1.02-.2 1.41-.59l7.78-7.78 2.81-2.81c.8-.78.8-2.07 0-2.86zM5.41 20L4 18.59l7.72-7.72 1.47 1.35L5.41 20z\"/>\n",
              "  </svg>\n",
              "      </button>\n",
              "      \n",
              "  <style>\n",
              "    .colab-df-container {\n",
              "      display:flex;\n",
              "      flex-wrap:wrap;\n",
              "      gap: 12px;\n",
              "    }\n",
              "\n",
              "    .colab-df-convert {\n",
              "      background-color: #E8F0FE;\n",
              "      border: none;\n",
              "      border-radius: 50%;\n",
              "      cursor: pointer;\n",
              "      display: none;\n",
              "      fill: #1967D2;\n",
              "      height: 32px;\n",
              "      padding: 0 0 0 0;\n",
              "      width: 32px;\n",
              "    }\n",
              "\n",
              "    .colab-df-convert:hover {\n",
              "      background-color: #E2EBFA;\n",
              "      box-shadow: 0px 1px 2px rgba(60, 64, 67, 0.3), 0px 1px 3px 1px rgba(60, 64, 67, 0.15);\n",
              "      fill: #174EA6;\n",
              "    }\n",
              "\n",
              "    [theme=dark] .colab-df-convert {\n",
              "      background-color: #3B4455;\n",
              "      fill: #D2E3FC;\n",
              "    }\n",
              "\n",
              "    [theme=dark] .colab-df-convert:hover {\n",
              "      background-color: #434B5C;\n",
              "      box-shadow: 0px 1px 3px 1px rgba(0, 0, 0, 0.15);\n",
              "      filter: drop-shadow(0px 1px 2px rgba(0, 0, 0, 0.3));\n",
              "      fill: #FFFFFF;\n",
              "    }\n",
              "  </style>\n",
              "\n",
              "      <script>\n",
              "        const buttonEl =\n",
              "          document.querySelector('#df-a1f0259a-e915-4004-bb79-e85840234501 button.colab-df-convert');\n",
              "        buttonEl.style.display =\n",
              "          google.colab.kernel.accessAllowed ? 'block' : 'none';\n",
              "\n",
              "        async function convertToInteractive(key) {\n",
              "          const element = document.querySelector('#df-a1f0259a-e915-4004-bb79-e85840234501');\n",
              "          const dataTable =\n",
              "            await google.colab.kernel.invokeFunction('convertToInteractive',\n",
              "                                                     [key], {});\n",
              "          if (!dataTable) return;\n",
              "\n",
              "          const docLinkHtml = 'Like what you see? Visit the ' +\n",
              "            '<a target=\"_blank\" href=https://colab.research.google.com/notebooks/data_table.ipynb>data table notebook</a>'\n",
              "            + ' to learn more about interactive tables.';\n",
              "          element.innerHTML = '';\n",
              "          dataTable['output_type'] = 'display_data';\n",
              "          await google.colab.output.renderOutput(dataTable, element);\n",
              "          const docLink = document.createElement('div');\n",
              "          docLink.innerHTML = docLinkHtml;\n",
              "          element.appendChild(docLink);\n",
              "        }\n",
              "      </script>\n",
              "    </div>\n",
              "  </div>\n",
              "  "
            ]
          },
          "metadata": {},
          "execution_count": 56
        }
      ],
      "source": [
        "pd.options.display.max_columns = None # Show all cols\n",
        "data.describe()"
      ],
      "id": "hLAgNr3wjTbv"
    },
    {
      "cell_type": "code",
      "execution_count": null,
      "metadata": {
        "colab": {
          "base_uri": "https://localhost:8080/",
          "height": 49
        },
        "id": "n0jca-ZqjTbx",
        "outputId": "24fb6c78-0764-4759-b568-8caa7805b8ee"
      },
      "outputs": [
        {
          "output_type": "execute_result",
          "data": {
            "text/plain": [
              "Empty DataFrame\n",
              "Columns: [Missing Ratio]\n",
              "Index: []"
            ],
            "text/html": [
              "\n",
              "  <div id=\"df-26db8d50-61e7-499f-ab4d-3b1112d9ccf9\">\n",
              "    <div class=\"colab-df-container\">\n",
              "      <div>\n",
              "<style scoped>\n",
              "    .dataframe tbody tr th:only-of-type {\n",
              "        vertical-align: middle;\n",
              "    }\n",
              "\n",
              "    .dataframe tbody tr th {\n",
              "        vertical-align: top;\n",
              "    }\n",
              "\n",
              "    .dataframe thead th {\n",
              "        text-align: right;\n",
              "    }\n",
              "</style>\n",
              "<table border=\"1\" class=\"dataframe\">\n",
              "  <thead>\n",
              "    <tr style=\"text-align: right;\">\n",
              "      <th></th>\n",
              "      <th>Missing Ratio</th>\n",
              "    </tr>\n",
              "  </thead>\n",
              "  <tbody>\n",
              "  </tbody>\n",
              "</table>\n",
              "</div>\n",
              "      <button class=\"colab-df-convert\" onclick=\"convertToInteractive('df-26db8d50-61e7-499f-ab4d-3b1112d9ccf9')\"\n",
              "              title=\"Convert this dataframe to an interactive table.\"\n",
              "              style=\"display:none;\">\n",
              "        \n",
              "  <svg xmlns=\"http://www.w3.org/2000/svg\" height=\"24px\"viewBox=\"0 0 24 24\"\n",
              "       width=\"24px\">\n",
              "    <path d=\"M0 0h24v24H0V0z\" fill=\"none\"/>\n",
              "    <path d=\"M18.56 5.44l.94 2.06.94-2.06 2.06-.94-2.06-.94-.94-2.06-.94 2.06-2.06.94zm-11 1L8.5 8.5l.94-2.06 2.06-.94-2.06-.94L8.5 2.5l-.94 2.06-2.06.94zm10 10l.94 2.06.94-2.06 2.06-.94-2.06-.94-.94-2.06-.94 2.06-2.06.94z\"/><path d=\"M17.41 7.96l-1.37-1.37c-.4-.4-.92-.59-1.43-.59-.52 0-1.04.2-1.43.59L10.3 9.45l-7.72 7.72c-.78.78-.78 2.05 0 2.83L4 21.41c.39.39.9.59 1.41.59.51 0 1.02-.2 1.41-.59l7.78-7.78 2.81-2.81c.8-.78.8-2.07 0-2.86zM5.41 20L4 18.59l7.72-7.72 1.47 1.35L5.41 20z\"/>\n",
              "  </svg>\n",
              "      </button>\n",
              "      \n",
              "  <style>\n",
              "    .colab-df-container {\n",
              "      display:flex;\n",
              "      flex-wrap:wrap;\n",
              "      gap: 12px;\n",
              "    }\n",
              "\n",
              "    .colab-df-convert {\n",
              "      background-color: #E8F0FE;\n",
              "      border: none;\n",
              "      border-radius: 50%;\n",
              "      cursor: pointer;\n",
              "      display: none;\n",
              "      fill: #1967D2;\n",
              "      height: 32px;\n",
              "      padding: 0 0 0 0;\n",
              "      width: 32px;\n",
              "    }\n",
              "\n",
              "    .colab-df-convert:hover {\n",
              "      background-color: #E2EBFA;\n",
              "      box-shadow: 0px 1px 2px rgba(60, 64, 67, 0.3), 0px 1px 3px 1px rgba(60, 64, 67, 0.15);\n",
              "      fill: #174EA6;\n",
              "    }\n",
              "\n",
              "    [theme=dark] .colab-df-convert {\n",
              "      background-color: #3B4455;\n",
              "      fill: #D2E3FC;\n",
              "    }\n",
              "\n",
              "    [theme=dark] .colab-df-convert:hover {\n",
              "      background-color: #434B5C;\n",
              "      box-shadow: 0px 1px 3px 1px rgba(0, 0, 0, 0.15);\n",
              "      filter: drop-shadow(0px 1px 2px rgba(0, 0, 0, 0.3));\n",
              "      fill: #FFFFFF;\n",
              "    }\n",
              "  </style>\n",
              "\n",
              "      <script>\n",
              "        const buttonEl =\n",
              "          document.querySelector('#df-26db8d50-61e7-499f-ab4d-3b1112d9ccf9 button.colab-df-convert');\n",
              "        buttonEl.style.display =\n",
              "          google.colab.kernel.accessAllowed ? 'block' : 'none';\n",
              "\n",
              "        async function convertToInteractive(key) {\n",
              "          const element = document.querySelector('#df-26db8d50-61e7-499f-ab4d-3b1112d9ccf9');\n",
              "          const dataTable =\n",
              "            await google.colab.kernel.invokeFunction('convertToInteractive',\n",
              "                                                     [key], {});\n",
              "          if (!dataTable) return;\n",
              "\n",
              "          const docLinkHtml = 'Like what you see? Visit the ' +\n",
              "            '<a target=\"_blank\" href=https://colab.research.google.com/notebooks/data_table.ipynb>data table notebook</a>'\n",
              "            + ' to learn more about interactive tables.';\n",
              "          element.innerHTML = '';\n",
              "          dataTable['output_type'] = 'display_data';\n",
              "          await google.colab.output.renderOutput(dataTable, element);\n",
              "          const docLink = document.createElement('div');\n",
              "          docLink.innerHTML = docLinkHtml;\n",
              "          element.appendChild(docLink);\n",
              "        }\n",
              "      </script>\n",
              "    </div>\n",
              "  </div>\n",
              "  "
            ]
          },
          "metadata": {},
          "execution_count": 57
        }
      ],
      "source": [
        "#visualisation des valeurs manquantes\n",
        "df_na = (data.isnull().sum() / len(data)) * 100\n",
        "df_na = df_na.drop(df_na[df_na == 0].index).sort_values(ascending=False)[:30]\n",
        "missing_data = pd.DataFrame({'Missing Ratio' :df_na})\n",
        "missing_data.head(10)"
      ],
      "id": "n0jca-ZqjTbx"
    },
    {
      "cell_type": "markdown",
      "metadata": {
        "id": "ekBh22xejTbz"
      },
      "source": [
        "nous remarquons que nous n'avons aucune valeur manquante dans notre jeu de donnee neamoins nous devons verifier la presence de valeurs abherentes"
      ],
      "id": "ekBh22xejTbz"
    },
    {
      "cell_type": "code",
      "execution_count": null,
      "metadata": {
        "id": "_1fSvBhFjTbz"
      },
      "outputs": [],
      "source": [
        "target=data['BAD']\n",
        "cible='BAD'"
      ],
      "id": "_1fSvBhFjTbz"
    },
    {
      "cell_type": "code",
      "execution_count": null,
      "metadata": {
        "colab": {
          "base_uri": "https://localhost:8080/",
          "height": 498
        },
        "id": "WtSE7Ht-PNtA",
        "outputId": "35dd9dde-2662-486e-c291-53af10bbb749"
      },
      "outputs": [
        {
          "output_type": "execute_result",
          "data": {
            "text/plain": [
              "<Axes: >"
            ]
          },
          "metadata": {},
          "execution_count": 59
        },
        {
          "output_type": "display_data",
          "data": {
            "text/plain": [
              "<Figure size 640x480 with 2 Axes>"
            ],
            "image/png": "[encoded data removed]"
          },
          "metadata": {}
        }
      ],
      "source": [
        "#correlation entre les variables\n",
        "sns.heatmap(data.corr())"
      ],
      "id": "WtSE7Ht-PNtA"
    },
    {
      "cell_type": "code",
      "execution_count": null,
      "metadata": {
        "id": "GL73we47rjUO"
      },
      "outputs": [],
      "source": [
        "positive_df = data[data[cible] == 0]\n",
        "negative_df = data[data[cible] == 1]"
      ],
      "id": "GL73we47rjUO"
    },
    {
      "cell_type": "code",
      "execution_count": null,
      "metadata": {
        "colab": {
          "base_uri": "https://localhost:8080/",
          "height": 1000
        },
        "id": "2oTjxntoreiK",
        "outputId": "c7f96882-5642-4c30-e713-6dfbddd74af1"
      },
      "outputs": [
        {
          "output_type": "display_data",
          "data": {
            "text/plain": [
              "<Figure size 640x480 with 1 Axes>"
            ],
            "image/png": "[encoded data removed]"
          },
          "metadata": {}
        },
        {
          "output_type": "display_data",
          "data": {
            "text/plain": [
              "<Figure size 640x480 with 1 Axes>"
            ],
            "image/png": "[encoded data removed]"
          },
          "metadata": {}
        },
        {
          "output_type": "display_data",
          "data": {
            "text/plain": [
              "<Figure size 640x480 with 1 Axes>"
            ],
            "image/png": "[encoded data removed]"
          },
          "metadata": {}
        },
        {
          "output_type": "display_data",
          "data": {
            "text/plain": [
              "<Figure size 640x480 with 1 Axes>"
            ],
            "image/png": "[encoded data removed]"
          },
          "metadata": {}
        },
        {
          "output_type": "display_data",
          "data": {
            "text/plain": [
              "<Figure size 640x480 with 1 Axes>"
            ],
            "image/png": "[encoded data removed]"
          },
          "metadata": {}
        },
        {
          "output_type": "display_data",
          "data": {
            "text/plain": [
              "<Figure size 640x480 with 1 Axes>"
            ],
            "image/png": "[encoded data removed]"
          },
          "metadata": {}
        },
        {
          "output_type": "display_data",
          "data": {
            "text/plain": [
              "<Figure size 640x480 with 1 Axes>"
            ],
            "image/png": "[encoded data removed]"
          },
          "metadata": {}
        },
        {
          "output_type": "display_data",
          "data": {
            "text/plain": [
              "<Figure size 640x480 with 1 Axes>"
            ],
            "image/png": "[encoded data removed]"
          },
          "metadata": {}
        },
        {
          "output_type": "display_data",
          "data": {
            "text/plain": [
              "<Figure size 640x480 with 1 Axes>"
            ],
            "image/png": "[encoded data removed]"
          },
          "metadata": {}
        },
        {
          "output_type": "display_data",
          "data": {
            "text/plain": [
              "<Figure size 640x480 with 1 Axes>"
            ],
            "image/png": "[encoded data removed]"
          },
          "metadata": {}
        },
        {
          "output_type": "display_data",
          "data": {
            "text/plain": [
              "<Figure size 640x480 with 1 Axes>"
            ],
            "image/png": "[encoded data removed]"
          },
          "metadata": {}
        },
        {
          "output_type": "display_data",
          "data": {
            "text/plain": [
              "<Figure size 640x480 with 1 Axes>"
            ],
            "image/png": "[encoded data removed]"
          },
          "metadata": {}
        },
        {
          "output_type": "display_data",
          "data": {
            "text/plain": [
              "<Figure size 640x480 with 1 Axes>"
            ],
            "image/png": "[encoded data removed]"
          },
          "metadata": {}
        },
        {
          "output_type": "display_data",
          "data": {
            "text/plain": [
              "<Figure size 640x480 with 1 Axes>"
            ],
            "image/png": "[encoded data removed]"
          },
          "metadata": {}
        },
        {
          "output_type": "display_data",
          "data": {
            "text/plain": [
              "<Figure size 640x480 with 1 Axes>"
            ],
            "image/png": "[encoded data removed]"
          },
          "metadata": {}
        }
      ],
      "source": [
        "for col in positive_df.columns:\n",
        "  plt.figure()\n",
        "  sns.histplot(negative_df[col], label = 'pret non rembourse', stat = 'proportion', element = 'step')\n",
        "  sns.histplot(positive_df[col], label = 'pret rembourse',stat = 'proportion', element = 'step')\n",
        "  plt.legend()\n",
        ""
      ],
      "id": "2oTjxntoreiK"
    },
    {
      "cell_type": "markdown",
      "metadata": {
        "id": "w5PRvLhTjTcj"
      },
      "source": [
        "## 2) pretraitement"
      ],
      "id": "w5PRvLhTjTcj"
    },
    {
      "cell_type": "code",
      "source": [
        "numerical_data=dataset.select_dtypes(['float','int'])\n",
        "numerical_data=numerical_data.drop([\"BAD\",\"PHON\"],axis=1)"
      ],
      "metadata": {
        "id": "N_K4nBuOdU8B"
      },
      "id": "N_K4nBuOdU8B",
      "execution_count": null,
      "outputs": []
    },
    {
      "cell_type": "code",
      "execution_count": null,
      "metadata": {
        "colab": {
          "base_uri": "https://localhost:8080/",
          "height": 423
        },
        "id": "A3ksYjGqjTcj",
        "outputId": "221ed29c-54c4-4a5f-f86c-02f8a6a83f53"
      },
      "outputs": [
        {
          "output_type": "execute_result",
          "data": {
            "text/plain": [
              "       YOB  NKID  DEP  PHON    SINC  AES    DAINC  RES    DHVAL    DMORT  \\\n",
              "0     19.0   4.0  0.0     1     0.0    5      0.0    2  14464.0      4.0   \n",
              "1     41.0   2.0  0.0     1     0.0    4  36000.0    2      0.0      0.0   \n",
              "2     66.0   0.0  0.0     1     0.0    3  30000.0    1      0.0      0.0   \n",
              "3     51.0   2.0  0.0     1     0.0    4    464.0    2  24928.0   8464.0   \n",
              "4     65.0   0.0  0.0     1     0.0    4  15000.0    3      0.0      0.0   \n",
              "...    ...   ...  ...   ...     ...  ...      ...  ...      ...      ...   \n",
              "1220  52.0   4.0  1.0     1     0.0    8  37764.0    4      0.0      0.0   \n",
              "1221  56.0   3.0  0.0     1  1200.0    4  31500.0    2   6928.0  46464.0   \n",
              "1222  60.0   0.0  0.0     1     0.0    1  46800.0    2  11392.0    928.0   \n",
              "1223  20.0   0.0  0.0     1     0.0    5      0.0    1      0.0      0.0   \n",
              "1224  66.0   0.0  0.0     1     0.0    6   5538.0    3      0.0      0.0   \n",
              "\n",
              "       DOUTM  DOUTL  DOUTHP  DOUTCC  BAD  \n",
              "0        0.0    0.0     0.0     0.0  0.0  \n",
              "1      280.0  664.0     0.0    80.0  0.0  \n",
              "2        0.0    0.0     0.0     0.0  0.0  \n",
              "3      584.0  320.0     0.0    60.0  0.0  \n",
              "4        0.0    0.0     0.0     0.0  0.0  \n",
              "...      ...    ...     ...     ...  ...  \n",
              "1220     0.0  340.0     0.0     0.0  0.0  \n",
              "1221   784.0  256.0     0.0     0.0  1.0  \n",
              "1222  1144.0  680.0     0.0   108.0  0.0  \n",
              "1223     0.0    0.0     0.0     0.0  1.0  \n",
              "1224   492.0    0.0     0.0     0.0  0.0  \n",
              "\n",
              "[1225 rows x 15 columns]"
            ],
            "text/html": [
              "\n",
              "  <div id=\"df-35dc3f67-ba0d-4bd2-b2f3-14ceae1f6f26\">\n",
              "    <div class=\"colab-df-container\">\n",
              "      <div>\n",
              "<style scoped>\n",
              "    .dataframe tbody tr th:only-of-type {\n",
              "        vertical-align: middle;\n",
              "    }\n",
              "\n",
              "    .dataframe tbody tr th {\n",
              "        vertical-align: top;\n",
              "    }\n",
              "\n",
              "    .dataframe thead th {\n",
              "        text-align: right;\n",
              "    }\n",
              "</style>\n",
              "<table border=\"1\" class=\"dataframe\">\n",
              "  <thead>\n",
              "    <tr style=\"text-align: right;\">\n",
              "      <th></th>\n",
              "      <th>YOB</th>\n",
              "      <th>NKID</th>\n",
              "      <th>DEP</th>\n",
              "      <th>PHON</th>\n",
              "      <th>SINC</th>\n",
              "      <th>AES</th>\n",
              "      <th>DAINC</th>\n",
              "      <th>RES</th>\n",
              "      <th>DHVAL</th>\n",
              "      <th>DMORT</th>\n",
              "      <th>DOUTM</th>\n",
              "      <th>DOUTL</th>\n",
              "      <th>DOUTHP</th>\n",
              "      <th>DOUTCC</th>\n",
              "      <th>BAD</th>\n",
              "    </tr>\n",
              "  </thead>\n",
              "  <tbody>\n",
              "    <tr>\n",
              "      <th>0</th>\n",
              "      <td>19.0</td>\n",
              "      <td>4.0</td>\n",
              "      <td>0.0</td>\n",
              "      <td>1</td>\n",
              "      <td>0.0</td>\n",
              "      <td>5</td>\n",
              "      <td>0.0</td>\n",
              "      <td>2</td>\n",
              "      <td>14464.0</td>\n",
              "      <td>4.0</td>\n",
              "      <td>0.0</td>\n",
              "      <td>0.0</td>\n",
              "      <td>0.0</td>\n",
              "      <td>0.0</td>\n",
              "      <td>0.0</td>\n",
              "    </tr>\n",
              "    <tr>\n",
              "      <th>1</th>\n",
              "      <td>41.0</td>\n",
              "      <td>2.0</td>\n",
              "      <td>0.0</td>\n",
              "      <td>1</td>\n",
              "      <td>0.0</td>\n",
              "      <td>4</td>\n",
              "      <td>36000.0</td>\n",
              "      <td>2</td>\n",
              "      <td>0.0</td>\n",
              "      <td>0.0</td>\n",
              "      <td>280.0</td>\n",
              "      <td>664.0</td>\n",
              "      <td>0.0</td>\n",
              "      <td>80.0</td>\n",
              "      <td>0.0</td>\n",
              "    </tr>\n",
              "    <tr>\n",
              "      <th>2</th>\n",
              "      <td>66.0</td>\n",
              "      <td>0.0</td>\n",
              "      <td>0.0</td>\n",
              "      <td>1</td>\n",
              "      <td>0.0</td>\n",
              "      <td>3</td>\n",
              "      <td>30000.0</td>\n",
              "      <td>1</td>\n",
              "      <td>0.0</td>\n",
              "      <td>0.0</td>\n",
              "      <td>0.0</td>\n",
              "      <td>0.0</td>\n",
              "      <td>0.0</td>\n",
              "      <td>0.0</td>\n",
              "      <td>0.0</td>\n",
              "    </tr>\n",
              "    <tr>\n",
              "      <th>3</th>\n",
              "      <td>51.0</td>\n",
              "      <td>2.0</td>\n",
              "      <td>0.0</td>\n",
              "      <td>1</td>\n",
              "      <td>0.0</td>\n",
              "      <td>4</td>\n",
              "      <td>464.0</td>\n",
              "      <td>2</td>\n",
              "      <td>24928.0</td>\n",
              "      <td>8464.0</td>\n",
              "      <td>584.0</td>\n",
              "      <td>320.0</td>\n",
              "      <td>0.0</td>\n",
              "      <td>60.0</td>\n",
              "      <td>0.0</td>\n",
              "    </tr>\n",
              "    <tr>\n",
              "      <th>4</th>\n",
              "      <td>65.0</td>\n",
              "      <td>0.0</td>\n",
              "      <td>0.0</td>\n",
              "      <td>1</td>\n",
              "      <td>0.0</td>\n",
              "      <td>4</td>\n",
              "      <td>15000.0</td>\n",
              "      <td>3</td>\n",
              "      <td>0.0</td>\n",
              "      <td>0.0</td>\n",
              "      <td>0.0</td>\n",
              "      <td>0.0</td>\n",
              "      <td>0.0</td>\n",
              "      <td>0.0</td>\n",
              "      <td>0.0</td>\n",
              "    </tr>\n",
              "    <tr>\n",
              "      <th>...</th>\n",
              "      <td>...</td>\n",
              "      <td>...</td>\n",
              "      <td>...</td>\n",
              "      <td>...</td>\n",
              "      <td>...</td>\n",
              "      <td>...</td>\n",
              "      <td>...</td>\n",
              "      <td>...</td>\n",
              "      <td>...</td>\n",
              "      <td>...</td>\n",
              "      <td>...</td>\n",
              "      <td>...</td>\n",
              "      <td>...</td>\n",
              "      <td>...</td>\n",
              "      <td>...</td>\n",
              "    </tr>\n",
              "    <tr>\n",
              "      <th>1220</th>\n",
              "      <td>52.0</td>\n",
              "      <td>4.0</td>\n",
              "      <td>1.0</td>\n",
              "      <td>1</td>\n",
              "      <td>0.0</td>\n",
              "      <td>8</td>\n",
              "      <td>37764.0</td>\n",
              "      <td>4</td>\n",
              "      <td>0.0</td>\n",
              "      <td>0.0</td>\n",
              "      <td>0.0</td>\n",
              "      <td>340.0</td>\n",
              "      <td>0.0</td>\n",
              "      <td>0.0</td>\n",
              "      <td>0.0</td>\n",
              "    </tr>\n",
              "    <tr>\n",
              "      <th>1221</th>\n",
              "      <td>56.0</td>\n",
              "      <td>3.0</td>\n",
              "      <td>0.0</td>\n",
              "      <td>1</td>\n",
              "      <td>1200.0</td>\n",
              "      <td>4</td>\n",
              "      <td>31500.0</td>\n",
              "      <td>2</td>\n",
              "      <td>6928.0</td>\n",
              "      <td>46464.0</td>\n",
              "      <td>784.0</td>\n",
              "      <td>256.0</td>\n",
              "      <td>0.0</td>\n",
              "      <td>0.0</td>\n",
              "      <td>1.0</td>\n",
              "    </tr>\n",
              "    <tr>\n",
              "      <th>1222</th>\n",
              "      <td>60.0</td>\n",
              "      <td>0.0</td>\n",
              "      <td>0.0</td>\n",
              "      <td>1</td>\n",
              "      <td>0.0</td>\n",
              "      <td>1</td>\n",
              "      <td>46800.0</td>\n",
              "      <td>2</td>\n",
              "      <td>11392.0</td>\n",
              "      <td>928.0</td>\n",
              "      <td>1144.0</td>\n",
              "      <td>680.0</td>\n",
              "      <td>0.0</td>\n",
              "      <td>108.0</td>\n",
              "      <td>0.0</td>\n",
              "    </tr>\n",
              "    <tr>\n",
              "      <th>1223</th>\n",
              "      <td>20.0</td>\n",
              "      <td>0.0</td>\n",
              "      <td>0.0</td>\n",
              "      <td>1</td>\n",
              "      <td>0.0</td>\n",
              "      <td>5</td>\n",
              "      <td>0.0</td>\n",
              "      <td>1</td>\n",
              "      <td>0.0</td>\n",
              "      <td>0.0</td>\n",
              "      <td>0.0</td>\n",
              "      <td>0.0</td>\n",
              "      <td>0.0</td>\n",
              "      <td>0.0</td>\n",
              "      <td>1.0</td>\n",
              "    </tr>\n",
              "    <tr>\n",
              "      <th>1224</th>\n",
              "      <td>66.0</td>\n",
              "      <td>0.0</td>\n",
              "      <td>0.0</td>\n",
              "      <td>1</td>\n",
              "      <td>0.0</td>\n",
              "      <td>6</td>\n",
              "      <td>5538.0</td>\n",
              "      <td>3</td>\n",
              "      <td>0.0</td>\n",
              "      <td>0.0</td>\n",
              "      <td>492.0</td>\n",
              "      <td>0.0</td>\n",
              "      <td>0.0</td>\n",
              "      <td>0.0</td>\n",
              "      <td>0.0</td>\n",
              "    </tr>\n",
              "  </tbody>\n",
              "</table>\n",
              "<p>1225 rows × 15 columns</p>\n",
              "</div>\n",
              "      <button class=\"colab-df-convert\" onclick=\"convertToInteractive('df-35dc3f67-ba0d-4bd2-b2f3-14ceae1f6f26')\"\n",
              "              title=\"Convert this dataframe to an interactive table.\"\n",
              "              style=\"display:none;\">\n",
              "        \n",
              "  <svg xmlns=\"http://www.w3.org/2000/svg\" height=\"24px\"viewBox=\"0 0 24 24\"\n",
              "       width=\"24px\">\n",
              "    <path d=\"M0 0h24v24H0V0z\" fill=\"none\"/>\n",
              "    <path d=\"M18.56 5.44l.94 2.06.94-2.06 2.06-.94-2.06-.94-.94-2.06-.94 2.06-2.06.94zm-11 1L8.5 8.5l.94-2.06 2.06-.94-2.06-.94L8.5 2.5l-.94 2.06-2.06.94zm10 10l.94 2.06.94-2.06 2.06-.94-2.06-.94-.94-2.06-.94 2.06-2.06.94z\"/><path d=\"M17.41 7.96l-1.37-1.37c-.4-.4-.92-.59-1.43-.59-.52 0-1.04.2-1.43.59L10.3 9.45l-7.72 7.72c-.78.78-.78 2.05 0 2.83L4 21.41c.39.39.9.59 1.41.59.51 0 1.02-.2 1.41-.59l7.78-7.78 2.81-2.81c.8-.78.8-2.07 0-2.86zM5.41 20L4 18.59l7.72-7.72 1.47 1.35L5.41 20z\"/>\n",
              "  </svg>\n",
              "      </button>\n",
              "      \n",
              "  <style>\n",
              "    .colab-df-container {\n",
              "      display:flex;\n",
              "      flex-wrap:wrap;\n",
              "      gap: 12px;\n",
              "    }\n",
              "\n",
              "    .colab-df-convert {\n",
              "      background-color: #E8F0FE;\n",
              "      border: none;\n",
              "      border-radius: 50%;\n",
              "      cursor: pointer;\n",
              "      display: none;\n",
              "      fill: #1967D2;\n",
              "      height: 32px;\n",
              "      padding: 0 0 0 0;\n",
              "      width: 32px;\n",
              "    }\n",
              "\n",
              "    .colab-df-convert:hover {\n",
              "      background-color: #E2EBFA;\n",
              "      box-shadow: 0px 1px 2px rgba(60, 64, 67, 0.3), 0px 1px 3px 1px rgba(60, 64, 67, 0.15);\n",
              "      fill: #174EA6;\n",
              "    }\n",
              "\n",
              "    [theme=dark] .colab-df-convert {\n",
              "      background-color: #3B4455;\n",
              "      fill: #D2E3FC;\n",
              "    }\n",
              "\n",
              "    [theme=dark] .colab-df-convert:hover {\n",
              "      background-color: #434B5C;\n",
              "      box-shadow: 0px 1px 3px 1px rgba(0, 0, 0, 0.15);\n",
              "      filter: drop-shadow(0px 1px 2px rgba(0, 0, 0, 0.3));\n",
              "      fill: #FFFFFF;\n",
              "    }\n",
              "  </style>\n",
              "\n",
              "      <script>\n",
              "        const buttonEl =\n",
              "          document.querySelector('#df-35dc3f67-ba0d-4bd2-b2f3-14ceae1f6f26 button.colab-df-convert');\n",
              "        buttonEl.style.display =\n",
              "          google.colab.kernel.accessAllowed ? 'block' : 'none';\n",
              "\n",
              "        async function convertToInteractive(key) {\n",
              "          const element = document.querySelector('#df-35dc3f67-ba0d-4bd2-b2f3-14ceae1f6f26');\n",
              "          const dataTable =\n",
              "            await google.colab.kernel.invokeFunction('convertToInteractive',\n",
              "                                                     [key], {});\n",
              "          if (!dataTable) return;\n",
              "\n",
              "          const docLinkHtml = 'Like what you see? Visit the ' +\n",
              "            '<a target=\"_blank\" href=https://colab.research.google.com/notebooks/data_table.ipynb>data table notebook</a>'\n",
              "            + ' to learn more about interactive tables.';\n",
              "          element.innerHTML = '';\n",
              "          dataTable['output_type'] = 'display_data';\n",
              "          await google.colab.output.renderOutput(dataTable, element);\n",
              "          const docLink = document.createElement('div');\n",
              "          docLink.innerHTML = docLinkHtml;\n",
              "          element.appendChild(docLink);\n",
              "        }\n",
              "      </script>\n",
              "    </div>\n",
              "  </div>\n",
              "  "
            ]
          },
          "metadata": {},
          "execution_count": 62
        }
      ],
      "source": [
        "from sklearn.preprocessing import LabelEncoder ,OneHotEncoder\n",
        "le=LabelEncoder()\n",
        "data[\"AES\"]=le.fit_transform(data.AES)\n",
        "data[\"RES\"]=le.fit_transform(data.RES)\n",
        "data"
      ],
      "id": "A3ksYjGqjTcj"
    },
    {
      "cell_type": "code",
      "execution_count": null,
      "metadata": {
        "colab": {
          "base_uri": "https://localhost:8080/",
          "height": 423
        },
        "id": "H7PTPYb40XFh",
        "outputId": "7e86a2b9-8b0b-4e26-b88b-fc365831c3b1"
      },
      "outputs": [
        {
          "output_type": "execute_result",
          "data": {
            "text/plain": [
              "           YOB      NKID       DEP  PHON      SINC  AES     DAINC  RES  \\\n",
              "0    -2.094564  3.324471 -0.174534     1 -0.414568    5 -1.336978    2   \n",
              "1    -0.656239  1.355188 -0.174534     1 -0.414568    4  0.928638    2   \n",
              "2     0.978221 -0.614095 -0.174534     1 -0.414568    3  0.551035    1   \n",
              "3    -0.002455  1.355188 -0.174534     1 -0.414568    4 -1.307777    2   \n",
              "4     0.912843 -0.614095 -0.174534     1 -0.414568    4 -0.392972    3   \n",
              "...        ...       ...       ...   ...       ...  ...       ...  ...   \n",
              "1220  0.062923  3.324471  4.374499     1 -0.414568    8  1.039653    4   \n",
              "1221  0.324437  2.339830 -0.174534     1 -0.164588    4  0.645436    2   \n",
              "1222  0.585951 -0.614095 -0.174534     1 -0.414568    1  1.608322    2   \n",
              "1223 -2.029185 -0.614095 -0.174534     1 -0.414568    5 -1.336978    1   \n",
              "1224  0.978221 -0.614095 -0.174534     1 -0.414568    6 -0.988451    3   \n",
              "\n",
              "         DHVAL     DMORT     DOUTM     DOUTL    DOUTHP    DOUTCC  BAD  \n",
              "0    -0.059334 -0.594322 -0.799415 -0.145272 -0.240801 -0.234807  0.0  \n",
              "1    -0.757138 -0.594534 -0.144933  0.645866 -0.240801  0.239609  0.0  \n",
              "2    -0.757138 -0.594534 -0.799415 -0.145272 -0.240801 -0.234807  0.0  \n",
              "3     0.445494 -0.146264  0.565648  0.235999 -0.240801  0.121005  0.0  \n",
              "4    -0.757138 -0.594534 -0.799415 -0.145272 -0.240801 -0.234807  0.0  \n",
              "...        ...       ...       ...       ...       ...       ...  ...  \n",
              "1220 -0.757138 -0.594534 -0.799415  0.259829 -0.240801 -0.234807  0.0  \n",
              "1221 -0.422902  1.866288  1.033135  0.159745 -0.240801 -0.234807  1.0  \n",
              "1222 -0.207540 -0.545385  1.874612  0.664930 -0.240801  0.405655  0.0  \n",
              "1223 -0.757138 -0.594534 -0.799415 -0.145272 -0.240801 -0.234807  1.0  \n",
              "1224 -0.757138 -0.594534  0.350604 -0.145272 -0.240801 -0.234807  0.0  \n",
              "\n",
              "[1225 rows x 15 columns]"
            ],
            "text/html": [
              "\n",
              "  <div id=\"df-a5b8c97a-362a-4a3b-acba-d38e9a05f4a6\">\n",
              "    <div class=\"colab-df-container\">\n",
              "      <div>\n",
              "<style scoped>\n",
              "    .dataframe tbody tr th:only-of-type {\n",
              "        vertical-align: middle;\n",
              "    }\n",
              "\n",
              "    .dataframe tbody tr th {\n",
              "        vertical-align: top;\n",
              "    }\n",
              "\n",
              "    .dataframe thead th {\n",
              "        text-align: right;\n",
              "    }\n",
              "</style>\n",
              "<table border=\"1\" class=\"dataframe\">\n",
              "  <thead>\n",
              "    <tr style=\"text-align: right;\">\n",
              "      <th></th>\n",
              "      <th>YOB</th>\n",
              "      <th>NKID</th>\n",
              "      <th>DEP</th>\n",
              "      <th>PHON</th>\n",
              "      <th>SINC</th>\n",
              "      <th>AES</th>\n",
              "      <th>DAINC</th>\n",
              "      <th>RES</th>\n",
              "      <th>DHVAL</th>\n",
              "      <th>DMORT</th>\n",
              "      <th>DOUTM</th>\n",
              "      <th>DOUTL</th>\n",
              "      <th>DOUTHP</th>\n",
              "      <th>DOUTCC</th>\n",
              "      <th>BAD</th>\n",
              "    </tr>\n",
              "  </thead>\n",
              "  <tbody>\n",
              "    <tr>\n",
              "      <th>0</th>\n",
              "      <td>-2.094564</td>\n",
              "      <td>3.324471</td>\n",
              "      <td>-0.174534</td>\n",
              "      <td>1</td>\n",
              "      <td>-0.414568</td>\n",
              "      <td>5</td>\n",
              "      <td>-1.336978</td>\n",
              "      <td>2</td>\n",
              "      <td>-0.059334</td>\n",
              "      <td>-0.594322</td>\n",
              "      <td>-0.799415</td>\n",
              "      <td>-0.145272</td>\n",
              "      <td>-0.240801</td>\n",
              "      <td>-0.234807</td>\n",
              "      <td>0.0</td>\n",
              "    </tr>\n",
              "    <tr>\n",
              "      <th>1</th>\n",
              "      <td>-0.656239</td>\n",
              "      <td>1.355188</td>\n",
              "      <td>-0.174534</td>\n",
              "      <td>1</td>\n",
              "      <td>-0.414568</td>\n",
              "      <td>4</td>\n",
              "      <td>0.928638</td>\n",
              "      <td>2</td>\n",
              "      <td>-0.757138</td>\n",
              "      <td>-0.594534</td>\n",
              "      <td>-0.144933</td>\n",
              "      <td>0.645866</td>\n",
              "      <td>-0.240801</td>\n",
              "      <td>0.239609</td>\n",
              "      <td>0.0</td>\n",
              "    </tr>\n",
              "    <tr>\n",
              "      <th>2</th>\n",
              "      <td>0.978221</td>\n",
              "      <td>-0.614095</td>\n",
              "      <td>-0.174534</td>\n",
              "      <td>1</td>\n",
              "      <td>-0.414568</td>\n",
              "      <td>3</td>\n",
              "      <td>0.551035</td>\n",
              "      <td>1</td>\n",
              "      <td>-0.757138</td>\n",
              "      <td>-0.594534</td>\n",
              "      <td>-0.799415</td>\n",
              "      <td>-0.145272</td>\n",
              "      <td>-0.240801</td>\n",
              "      <td>-0.234807</td>\n",
              "      <td>0.0</td>\n",
              "    </tr>\n",
              "    <tr>\n",
              "      <th>3</th>\n",
              "      <td>-0.002455</td>\n",
              "      <td>1.355188</td>\n",
              "      <td>-0.174534</td>\n",
              "      <td>1</td>\n",
              "      <td>-0.414568</td>\n",
              "      <td>4</td>\n",
              "      <td>-1.307777</td>\n",
              "      <td>2</td>\n",
              "      <td>0.445494</td>\n",
              "      <td>-0.146264</td>\n",
              "      <td>0.565648</td>\n",
              "      <td>0.235999</td>\n",
              "      <td>-0.240801</td>\n",
              "      <td>0.121005</td>\n",
              "      <td>0.0</td>\n",
              "    </tr>\n",
              "    <tr>\n",
              "      <th>4</th>\n",
              "      <td>0.912843</td>\n",
              "      <td>-0.614095</td>\n",
              "      <td>-0.174534</td>\n",
              "      <td>1</td>\n",
              "      <td>-0.414568</td>\n",
              "      <td>4</td>\n",
              "      <td>-0.392972</td>\n",
              "      <td>3</td>\n",
              "      <td>-0.757138</td>\n",
              "      <td>-0.594534</td>\n",
              "      <td>-0.799415</td>\n",
              "      <td>-0.145272</td>\n",
              "      <td>-0.240801</td>\n",
              "      <td>-0.234807</td>\n",
              "      <td>0.0</td>\n",
              "    </tr>\n",
              "    <tr>\n",
              "      <th>...</th>\n",
              "      <td>...</td>\n",
              "      <td>...</td>\n",
              "      <td>...</td>\n",
              "      <td>...</td>\n",
              "      <td>...</td>\n",
              "      <td>...</td>\n",
              "      <td>...</td>\n",
              "      <td>...</td>\n",
              "      <td>...</td>\n",
              "      <td>...</td>\n",
              "      <td>...</td>\n",
              "      <td>...</td>\n",
              "      <td>...</td>\n",
              "      <td>...</td>\n",
              "      <td>...</td>\n",
              "    </tr>\n",
              "    <tr>\n",
              "      <th>1220</th>\n",
              "      <td>0.062923</td>\n",
              "      <td>3.324471</td>\n",
              "      <td>4.374499</td>\n",
              "      <td>1</td>\n",
              "      <td>-0.414568</td>\n",
              "      <td>8</td>\n",
              "      <td>1.039653</td>\n",
              "      <td>4</td>\n",
              "      <td>-0.757138</td>\n",
              "      <td>-0.594534</td>\n",
              "      <td>-0.799415</td>\n",
              "      <td>0.259829</td>\n",
              "      <td>-0.240801</td>\n",
              "      <td>-0.234807</td>\n",
              "      <td>0.0</td>\n",
              "    </tr>\n",
              "    <tr>\n",
              "      <th>1221</th>\n",
              "      <td>0.324437</td>\n",
              "      <td>2.339830</td>\n",
              "      <td>-0.174534</td>\n",
              "      <td>1</td>\n",
              "      <td>-0.164588</td>\n",
              "      <td>4</td>\n",
              "      <td>0.645436</td>\n",
              "      <td>2</td>\n",
              "      <td>-0.422902</td>\n",
              "      <td>1.866288</td>\n",
              "      <td>1.033135</td>\n",
              "      <td>0.159745</td>\n",
              "      <td>-0.240801</td>\n",
              "      <td>-0.234807</td>\n",
              "      <td>1.0</td>\n",
              "    </tr>\n",
              "    <tr>\n",
              "      <th>1222</th>\n",
              "      <td>0.585951</td>\n",
              "      <td>-0.614095</td>\n",
              "      <td>-0.174534</td>\n",
              "      <td>1</td>\n",
              "      <td>-0.414568</td>\n",
              "      <td>1</td>\n",
              "      <td>1.608322</td>\n",
              "      <td>2</td>\n",
              "      <td>-0.207540</td>\n",
              "      <td>-0.545385</td>\n",
              "      <td>1.874612</td>\n",
              "      <td>0.664930</td>\n",
              "      <td>-0.240801</td>\n",
              "      <td>0.405655</td>\n",
              "      <td>0.0</td>\n",
              "    </tr>\n",
              "    <tr>\n",
              "      <th>1223</th>\n",
              "      <td>-2.029185</td>\n",
              "      <td>-0.614095</td>\n",
              "      <td>-0.174534</td>\n",
              "      <td>1</td>\n",
              "      <td>-0.414568</td>\n",
              "      <td>5</td>\n",
              "      <td>-1.336978</td>\n",
              "      <td>1</td>\n",
              "      <td>-0.757138</td>\n",
              "      <td>-0.594534</td>\n",
              "      <td>-0.799415</td>\n",
              "      <td>-0.145272</td>\n",
              "      <td>-0.240801</td>\n",
              "      <td>-0.234807</td>\n",
              "      <td>1.0</td>\n",
              "    </tr>\n",
              "    <tr>\n",
              "      <th>1224</th>\n",
              "      <td>0.978221</td>\n",
              "      <td>-0.614095</td>\n",
              "      <td>-0.174534</td>\n",
              "      <td>1</td>\n",
              "      <td>-0.414568</td>\n",
              "      <td>6</td>\n",
              "      <td>-0.988451</td>\n",
              "      <td>3</td>\n",
              "      <td>-0.757138</td>\n",
              "      <td>-0.594534</td>\n",
              "      <td>0.350604</td>\n",
              "      <td>-0.145272</td>\n",
              "      <td>-0.240801</td>\n",
              "      <td>-0.234807</td>\n",
              "      <td>0.0</td>\n",
              "    </tr>\n",
              "  </tbody>\n",
              "</table>\n",
              "<p>1225 rows × 15 columns</p>\n",
              "</div>\n",
              "      <button class=\"colab-df-convert\" onclick=\"convertToInteractive('df-a5b8c97a-362a-4a3b-acba-d38e9a05f4a6')\"\n",
              "              title=\"Convert this dataframe to an interactive table.\"\n",
              "              style=\"display:none;\">\n",
              "        \n",
              "  <svg xmlns=\"http://www.w3.org/2000/svg\" height=\"24px\"viewBox=\"0 0 24 24\"\n",
              "       width=\"24px\">\n",
              "    <path d=\"M0 0h24v24H0V0z\" fill=\"none\"/>\n",
              "    <path d=\"M18.56 5.44l.94 2.06.94-2.06 2.06-.94-2.06-.94-.94-2.06-.94 2.06-2.06.94zm-11 1L8.5 8.5l.94-2.06 2.06-.94-2.06-.94L8.5 2.5l-.94 2.06-2.06.94zm10 10l.94 2.06.94-2.06 2.06-.94-2.06-.94-.94-2.06-.94 2.06-2.06.94z\"/><path d=\"M17.41 7.96l-1.37-1.37c-.4-.4-.92-.59-1.43-.59-.52 0-1.04.2-1.43.59L10.3 9.45l-7.72 7.72c-.78.78-.78 2.05 0 2.83L4 21.41c.39.39.9.59 1.41.59.51 0 1.02-.2 1.41-.59l7.78-7.78 2.81-2.81c.8-.78.8-2.07 0-2.86zM5.41 20L4 18.59l7.72-7.72 1.47 1.35L5.41 20z\"/>\n",
              "  </svg>\n",
              "      </button>\n",
              "      \n",
              "  <style>\n",
              "    .colab-df-container {\n",
              "      display:flex;\n",
              "      flex-wrap:wrap;\n",
              "      gap: 12px;\n",
              "    }\n",
              "\n",
              "    .colab-df-convert {\n",
              "      background-color: #E8F0FE;\n",
              "      border: none;\n",
              "      border-radius: 50%;\n",
              "      cursor: pointer;\n",
              "      display: none;\n",
              "      fill: #1967D2;\n",
              "      height: 32px;\n",
              "      padding: 0 0 0 0;\n",
              "      width: 32px;\n",
              "    }\n",
              "\n",
              "    .colab-df-convert:hover {\n",
              "      background-color: #E2EBFA;\n",
              "      box-shadow: 0px 1px 2px rgba(60, 64, 67, 0.3), 0px 1px 3px 1px rgba(60, 64, 67, 0.15);\n",
              "      fill: #174EA6;\n",
              "    }\n",
              "\n",
              "    [theme=dark] .colab-df-convert {\n",
              "      background-color: #3B4455;\n",
              "      fill: #D2E3FC;\n",
              "    }\n",
              "\n",
              "    [theme=dark] .colab-df-convert:hover {\n",
              "      background-color: #434B5C;\n",
              "      box-shadow: 0px 1px 3px 1px rgba(0, 0, 0, 0.15);\n",
              "      filter: drop-shadow(0px 1px 2px rgba(0, 0, 0, 0.3));\n",
              "      fill: #FFFFFF;\n",
              "    }\n",
              "  </style>\n",
              "\n",
              "      <script>\n",
              "        const buttonEl =\n",
              "          document.querySelector('#df-a5b8c97a-362a-4a3b-acba-d38e9a05f4a6 button.colab-df-convert');\n",
              "        buttonEl.style.display =\n",
              "          google.colab.kernel.accessAllowed ? 'block' : 'none';\n",
              "\n",
              "        async function convertToInteractive(key) {\n",
              "          const element = document.querySelector('#df-a5b8c97a-362a-4a3b-acba-d38e9a05f4a6');\n",
              "          const dataTable =\n",
              "            await google.colab.kernel.invokeFunction('convertToInteractive',\n",
              "                                                     [key], {});\n",
              "          if (!dataTable) return;\n",
              "\n",
              "          const docLinkHtml = 'Like what you see? Visit the ' +\n",
              "            '<a target=\"_blank\" href=https://colab.research.google.com/notebooks/data_table.ipynb>data table notebook</a>'\n",
              "            + ' to learn more about interactive tables.';\n",
              "          element.innerHTML = '';\n",
              "          dataTable['output_type'] = 'display_data';\n",
              "          await google.colab.output.renderOutput(dataTable, element);\n",
              "          const docLink = document.createElement('div');\n",
              "          docLink.innerHTML = docLinkHtml;\n",
              "          element.appendChild(docLink);\n",
              "        }\n",
              "      </script>\n",
              "    </div>\n",
              "  </div>\n",
              "  "
            ]
          },
          "metadata": {},
          "execution_count": 63
        }
      ],
      "source": [
        "\n",
        "for col in numerical_data.columns:\n",
        "  means=np.mean(data[col],axis=0)\n",
        "  stds=np.std(data[col],axis=0)\n",
        "  data[col]=(data[col]-means)/stds\n",
        "data\n",
        "# print(normalized)"
      ],
      "id": "H7PTPYb40XFh"
    },
    {
      "cell_type": "markdown",
      "metadata": {
        "id": "xmB6_0M6jTck"
      },
      "source": [
        "# 3)entrainement des modeles"
      ],
      "id": "xmB6_0M6jTck"
    },
    {
      "cell_type": "code",
      "execution_count": null,
      "metadata": {
        "id": "pRBYlRkHjTcl"
      },
      "outputs": [],
      "source": [
        "#importation des bibliotheque\n",
        "from sklearn.model_selection import train_test_split\n",
        "#ici\n",
        "train, test = train_test_split(data, test_size = 0.2, random_state=42)"
      ],
      "id": "pRBYlRkHjTcl"
    },
    {
      "cell_type": "code",
      "execution_count": null,
      "metadata": {
        "colab": {
          "base_uri": "https://localhost:8080/",
          "height": 423
        },
        "id": "2-zCTvzMjTcm",
        "outputId": "2af7f861-36a7-4fbb-d3e8-d5144fde9250"
      },
      "outputs": [
        {
          "output_type": "execute_result",
          "data": {
            "text/plain": [
              "           YOB      NKID       DEP  PHON      SINC  AES     DAINC  RES  \\\n",
              "371  -0.263969  1.355188 -0.174534     1 -0.414568    0 -0.015369    2   \n",
              "306   1.174356 -0.614095 -0.174534     1 -0.414568    8 -0.770574    3   \n",
              "1096  0.128302  2.339830 -0.174534     1 -0.414568    4  1.306240    2   \n",
              "10   -0.198590  1.355188 -0.174534     1 -0.414568    1  0.551035    2   \n",
              "535  -1.636915 -0.614095 -0.174534     1 -0.414568    5 -0.676174    4   \n",
              "...        ...       ...       ...   ...       ...  ...       ...  ...   \n",
              "1044  0.912843 -0.614095 -0.174534     1 -0.414568    8 -0.739422    1   \n",
              "1095  0.585951 -0.614095 -0.174534     1 -0.414568    8  0.079032    2   \n",
              "1130  0.193680  1.355188 -0.174534     1  0.210382    8  1.721603    2   \n",
              "860   1.174356 -0.614095 -0.174534     0 -0.414568    6 -1.336978    0   \n",
              "1126  0.193680 -0.614095 -0.174534     1 -0.414568    4 -0.694173    2   \n",
              "\n",
              "         DHVAL     DMORT     DOUTM     DOUTL    DOUTHP    DOUTCC  BAD  \n",
              "371   1.024425  2.159485  0.079461 -0.145272 -0.240801 -0.234807  1.0  \n",
              "306  -0.757138 -0.594534 -0.799415 -0.145272 -0.240801 -0.234807  1.0  \n",
              "1096 -0.326414  1.230745  0.883539  0.283658 -0.240801  0.239609  0.0  \n",
              "10    1.098528  0.658757  0.603047 -0.145272  4.152394 -0.234807  0.0  \n",
              "535  -0.757138 -0.594534  0.060762 -0.145272 -0.240801 -0.234807  1.0  \n",
              "...        ...       ...       ...       ...       ...       ...  ...  \n",
              "1044 -0.757138 -0.594534 -0.799415 -0.145272 -0.240801 -0.234807  0.0  \n",
              "1095  0.326620  0.595202  0.603047 -0.145272 -0.240801 -0.234807  1.0  \n",
              "1130  1.484482  1.018897  0.659146  0.169277 -0.240801 -0.234807  0.0  \n",
              "860  -0.757138 -0.594534  0.416052 -0.145272 -0.240801 -0.234807  1.0  \n",
              "1126 -0.266205  2.176433  8.082843  0.688759 -0.240801 -0.234807  1.0  \n",
              "\n",
              "[980 rows x 15 columns]"
            ],
            "text/html": [
              "\n",
              "  <div id=\"df-d9457d47-57c9-4158-9df8-34455d275c8d\">\n",
              "    <div class=\"colab-df-container\">\n",
              "      <div>\n",
              "<style scoped>\n",
              "    .dataframe tbody tr th:only-of-type {\n",
              "        vertical-align: middle;\n",
              "    }\n",
              "\n",
              "    .dataframe tbody tr th {\n",
              "        vertical-align: top;\n",
              "    }\n",
              "\n",
              "    .dataframe thead th {\n",
              "        text-align: right;\n",
              "    }\n",
              "</style>\n",
              "<table border=\"1\" class=\"dataframe\">\n",
              "  <thead>\n",
              "    <tr style=\"text-align: right;\">\n",
              "      <th></th>\n",
              "      <th>YOB</th>\n",
              "      <th>NKID</th>\n",
              "      <th>DEP</th>\n",
              "      <th>PHON</th>\n",
              "      <th>SINC</th>\n",
              "      <th>AES</th>\n",
              "      <th>DAINC</th>\n",
              "      <th>RES</th>\n",
              "      <th>DHVAL</th>\n",
              "      <th>DMORT</th>\n",
              "      <th>DOUTM</th>\n",
              "      <th>DOUTL</th>\n",
              "      <th>DOUTHP</th>\n",
              "      <th>DOUTCC</th>\n",
              "      <th>BAD</th>\n",
              "    </tr>\n",
              "  </thead>\n",
              "  <tbody>\n",
              "    <tr>\n",
              "      <th>371</th>\n",
              "      <td>-0.263969</td>\n",
              "      <td>1.355188</td>\n",
              "      <td>-0.174534</td>\n",
              "      <td>1</td>\n",
              "      <td>-0.414568</td>\n",
              "      <td>0</td>\n",
              "      <td>-0.015369</td>\n",
              "      <td>2</td>\n",
              "      <td>1.024425</td>\n",
              "      <td>2.159485</td>\n",
              "      <td>0.079461</td>\n",
              "      <td>-0.145272</td>\n",
              "      <td>-0.240801</td>\n",
              "      <td>-0.234807</td>\n",
              "      <td>1.0</td>\n",
              "    </tr>\n",
              "    <tr>\n",
              "      <th>306</th>\n",
              "      <td>1.174356</td>\n",
              "      <td>-0.614095</td>\n",
              "      <td>-0.174534</td>\n",
              "      <td>1</td>\n",
              "      <td>-0.414568</td>\n",
              "      <td>8</td>\n",
              "      <td>-0.770574</td>\n",
              "      <td>3</td>\n",
              "      <td>-0.757138</td>\n",
              "      <td>-0.594534</td>\n",
              "      <td>-0.799415</td>\n",
              "      <td>-0.145272</td>\n",
              "      <td>-0.240801</td>\n",
              "      <td>-0.234807</td>\n",
              "      <td>1.0</td>\n",
              "    </tr>\n",
              "    <tr>\n",
              "      <th>1096</th>\n",
              "      <td>0.128302</td>\n",
              "      <td>2.339830</td>\n",
              "      <td>-0.174534</td>\n",
              "      <td>1</td>\n",
              "      <td>-0.414568</td>\n",
              "      <td>4</td>\n",
              "      <td>1.306240</td>\n",
              "      <td>2</td>\n",
              "      <td>-0.326414</td>\n",
              "      <td>1.230745</td>\n",
              "      <td>0.883539</td>\n",
              "      <td>0.283658</td>\n",
              "      <td>-0.240801</td>\n",
              "      <td>0.239609</td>\n",
              "      <td>0.0</td>\n",
              "    </tr>\n",
              "    <tr>\n",
              "      <th>10</th>\n",
              "      <td>-0.198590</td>\n",
              "      <td>1.355188</td>\n",
              "      <td>-0.174534</td>\n",
              "      <td>1</td>\n",
              "      <td>-0.414568</td>\n",
              "      <td>1</td>\n",
              "      <td>0.551035</td>\n",
              "      <td>2</td>\n",
              "      <td>1.098528</td>\n",
              "      <td>0.658757</td>\n",
              "      <td>0.603047</td>\n",
              "      <td>-0.145272</td>\n",
              "      <td>4.152394</td>\n",
              "      <td>-0.234807</td>\n",
              "      <td>0.0</td>\n",
              "    </tr>\n",
              "    <tr>\n",
              "      <th>535</th>\n",
              "      <td>-1.636915</td>\n",
              "      <td>-0.614095</td>\n",
              "      <td>-0.174534</td>\n",
              "      <td>1</td>\n",
              "      <td>-0.414568</td>\n",
              "      <td>5</td>\n",
              "      <td>-0.676174</td>\n",
              "      <td>4</td>\n",
              "      <td>-0.757138</td>\n",
              "      <td>-0.594534</td>\n",
              "      <td>0.060762</td>\n",
              "      <td>-0.145272</td>\n",
              "      <td>-0.240801</td>\n",
              "      <td>-0.234807</td>\n",
              "      <td>1.0</td>\n",
              "    </tr>\n",
              "    <tr>\n",
              "      <th>...</th>\n",
              "      <td>...</td>\n",
              "      <td>...</td>\n",
              "      <td>...</td>\n",
              "      <td>...</td>\n",
              "      <td>...</td>\n",
              "      <td>...</td>\n",
              "      <td>...</td>\n",
              "      <td>...</td>\n",
              "      <td>...</td>\n",
              "      <td>...</td>\n",
              "      <td>...</td>\n",
              "      <td>...</td>\n",
              "      <td>...</td>\n",
              "      <td>...</td>\n",
              "      <td>...</td>\n",
              "    </tr>\n",
              "    <tr>\n",
              "      <th>1044</th>\n",
              "      <td>0.912843</td>\n",
              "      <td>-0.614095</td>\n",
              "      <td>-0.174534</td>\n",
              "      <td>1</td>\n",
              "      <td>-0.414568</td>\n",
              "      <td>8</td>\n",
              "      <td>-0.739422</td>\n",
              "      <td>1</td>\n",
              "      <td>-0.757138</td>\n",
              "      <td>-0.594534</td>\n",
              "      <td>-0.799415</td>\n",
              "      <td>-0.145272</td>\n",
              "      <td>-0.240801</td>\n",
              "      <td>-0.234807</td>\n",
              "      <td>0.0</td>\n",
              "    </tr>\n",
              "    <tr>\n",
              "      <th>1095</th>\n",
              "      <td>0.585951</td>\n",
              "      <td>-0.614095</td>\n",
              "      <td>-0.174534</td>\n",
              "      <td>1</td>\n",
              "      <td>-0.414568</td>\n",
              "      <td>8</td>\n",
              "      <td>0.079032</td>\n",
              "      <td>2</td>\n",
              "      <td>0.326620</td>\n",
              "      <td>0.595202</td>\n",
              "      <td>0.603047</td>\n",
              "      <td>-0.145272</td>\n",
              "      <td>-0.240801</td>\n",
              "      <td>-0.234807</td>\n",
              "      <td>1.0</td>\n",
              "    </tr>\n",
              "    <tr>\n",
              "      <th>1130</th>\n",
              "      <td>0.193680</td>\n",
              "      <td>1.355188</td>\n",
              "      <td>-0.174534</td>\n",
              "      <td>1</td>\n",
              "      <td>0.210382</td>\n",
              "      <td>8</td>\n",
              "      <td>1.721603</td>\n",
              "      <td>2</td>\n",
              "      <td>1.484482</td>\n",
              "      <td>1.018897</td>\n",
              "      <td>0.659146</td>\n",
              "      <td>0.169277</td>\n",
              "      <td>-0.240801</td>\n",
              "      <td>-0.234807</td>\n",
              "      <td>0.0</td>\n",
              "    </tr>\n",
              "    <tr>\n",
              "      <th>860</th>\n",
              "      <td>1.174356</td>\n",
              "      <td>-0.614095</td>\n",
              "      <td>-0.174534</td>\n",
              "      <td>0</td>\n",
              "      <td>-0.414568</td>\n",
              "      <td>6</td>\n",
              "      <td>-1.336978</td>\n",
              "      <td>0</td>\n",
              "      <td>-0.757138</td>\n",
              "      <td>-0.594534</td>\n",
              "      <td>0.416052</td>\n",
              "      <td>-0.145272</td>\n",
              "      <td>-0.240801</td>\n",
              "      <td>-0.234807</td>\n",
              "      <td>1.0</td>\n",
              "    </tr>\n",
              "    <tr>\n",
              "      <th>1126</th>\n",
              "      <td>0.193680</td>\n",
              "      <td>-0.614095</td>\n",
              "      <td>-0.174534</td>\n",
              "      <td>1</td>\n",
              "      <td>-0.414568</td>\n",
              "      <td>4</td>\n",
              "      <td>-0.694173</td>\n",
              "      <td>2</td>\n",
              "      <td>-0.266205</td>\n",
              "      <td>2.176433</td>\n",
              "      <td>8.082843</td>\n",
              "      <td>0.688759</td>\n",
              "      <td>-0.240801</td>\n",
              "      <td>-0.234807</td>\n",
              "      <td>1.0</td>\n",
              "    </tr>\n",
              "  </tbody>\n",
              "</table>\n",
              "<p>980 rows × 15 columns</p>\n",
              "</div>\n",
              "      <button class=\"colab-df-convert\" onclick=\"convertToInteractive('df-d9457d47-57c9-4158-9df8-34455d275c8d')\"\n",
              "              title=\"Convert this dataframe to an interactive table.\"\n",
              "              style=\"display:none;\">\n",
              "        \n",
              "  <svg xmlns=\"http://www.w3.org/2000/svg\" height=\"24px\"viewBox=\"0 0 24 24\"\n",
              "       width=\"24px\">\n",
              "    <path d=\"M0 0h24v24H0V0z\" fill=\"none\"/>\n",
              "    <path d=\"M18.56 5.44l.94 2.06.94-2.06 2.06-.94-2.06-.94-.94-2.06-.94 2.06-2.06.94zm-11 1L8.5 8.5l.94-2.06 2.06-.94-2.06-.94L8.5 2.5l-.94 2.06-2.06.94zm10 10l.94 2.06.94-2.06 2.06-.94-2.06-.94-.94-2.06-.94 2.06-2.06.94z\"/><path d=\"M17.41 7.96l-1.37-1.37c-.4-.4-.92-.59-1.43-.59-.52 0-1.04.2-1.43.59L10.3 9.45l-7.72 7.72c-.78.78-.78 2.05 0 2.83L4 21.41c.39.39.9.59 1.41.59.51 0 1.02-.2 1.41-.59l7.78-7.78 2.81-2.81c.8-.78.8-2.07 0-2.86zM5.41 20L4 18.59l7.72-7.72 1.47 1.35L5.41 20z\"/>\n",
              "  </svg>\n",
              "      </button>\n",
              "      \n",
              "  <style>\n",
              "    .colab-df-container {\n",
              "      display:flex;\n",
              "      flex-wrap:wrap;\n",
              "      gap: 12px;\n",
              "    }\n",
              "\n",
              "    .colab-df-convert {\n",
              "      background-color: #E8F0FE;\n",
              "      border: none;\n",
              "      border-radius: 50%;\n",
              "      cursor: pointer;\n",
              "      display: none;\n",
              "      fill: #1967D2;\n",
              "      height: 32px;\n",
              "      padding: 0 0 0 0;\n",
              "      width: 32px;\n",
              "    }\n",
              "\n",
              "    .colab-df-convert:hover {\n",
              "      background-color: #E2EBFA;\n",
              "      box-shadow: 0px 1px 2px rgba(60, 64, 67, 0.3), 0px 1px 3px 1px rgba(60, 64, 67, 0.15);\n",
              "      fill: #174EA6;\n",
              "    }\n",
              "\n",
              "    [theme=dark] .colab-df-convert {\n",
              "      background-color: #3B4455;\n",
              "      fill: #D2E3FC;\n",
              "    }\n",
              "\n",
              "    [theme=dark] .colab-df-convert:hover {\n",
              "      background-color: #434B5C;\n",
              "      box-shadow: 0px 1px 3px 1px rgba(0, 0, 0, 0.15);\n",
              "      filter: drop-shadow(0px 1px 2px rgba(0, 0, 0, 0.3));\n",
              "      fill: #FFFFFF;\n",
              "    }\n",
              "  </style>\n",
              "\n",
              "      <script>\n",
              "        const buttonEl =\n",
              "          document.querySelector('#df-d9457d47-57c9-4158-9df8-34455d275c8d button.colab-df-convert');\n",
              "        buttonEl.style.display =\n",
              "          google.colab.kernel.accessAllowed ? 'block' : 'none';\n",
              "\n",
              "        async function convertToInteractive(key) {\n",
              "          const element = document.querySelector('#df-d9457d47-57c9-4158-9df8-34455d275c8d');\n",
              "          const dataTable =\n",
              "            await google.colab.kernel.invokeFunction('convertToInteractive',\n",
              "                                                     [key], {});\n",
              "          if (!dataTable) return;\n",
              "\n",
              "          const docLinkHtml = 'Like what you see? Visit the ' +\n",
              "            '<a target=\"_blank\" href=https://colab.research.google.com/notebooks/data_table.ipynb>data table notebook</a>'\n",
              "            + ' to learn more about interactive tables.';\n",
              "          element.innerHTML = '';\n",
              "          dataTable['output_type'] = 'display_data';\n",
              "          await google.colab.output.renderOutput(dataTable, element);\n",
              "          const docLink = document.createElement('div');\n",
              "          docLink.innerHTML = docLinkHtml;\n",
              "          element.appendChild(docLink);\n",
              "        }\n",
              "      </script>\n",
              "    </div>\n",
              "  </div>\n",
              "  "
            ]
          },
          "metadata": {},
          "execution_count": 65
        }
      ],
      "source": [
        "train"
      ],
      "id": "2-zCTvzMjTcm"
    },
    {
      "cell_type": "code",
      "execution_count": null,
      "metadata": {
        "colab": {
          "base_uri": "https://localhost:8080/",
          "height": 423
        },
        "id": "gn77Hg0ijTco",
        "outputId": "9856a8ed-1e94-43b8-957b-176a72810eef"
      },
      "outputs": [
        {
          "output_type": "execute_result",
          "data": {
            "text/plain": [
              "           YOB      NKID       DEP  PHON      SINC  AES     DAINC  RES  \\\n",
              "371  -0.263969  1.355188 -0.174534     1 -0.414568    0 -0.015369    2   \n",
              "306   1.174356 -0.614095 -0.174534     1 -0.414568    8 -0.770574    3   \n",
              "1096  0.128302  2.339830 -0.174534     1 -0.414568    4  1.306240    2   \n",
              "10   -0.198590  1.355188 -0.174534     1 -0.414568    1  0.551035    2   \n",
              "535  -1.636915 -0.614095 -0.174534     1 -0.414568    5 -0.676174    4   \n",
              "...        ...       ...       ...   ...       ...  ...       ...  ...   \n",
              "1044  0.912843 -0.614095 -0.174534     1 -0.414568    8 -0.739422    1   \n",
              "1095  0.585951 -0.614095 -0.174534     1 -0.414568    8  0.079032    2   \n",
              "1130  0.193680  1.355188 -0.174534     1  0.210382    8  1.721603    2   \n",
              "860   1.174356 -0.614095 -0.174534     0 -0.414568    6 -1.336978    0   \n",
              "1126  0.193680 -0.614095 -0.174534     1 -0.414568    4 -0.694173    2   \n",
              "\n",
              "         DHVAL     DMORT     DOUTM     DOUTL    DOUTHP    DOUTCC  \n",
              "371   1.024425  2.159485  0.079461 -0.145272 -0.240801 -0.234807  \n",
              "306  -0.757138 -0.594534 -0.799415 -0.145272 -0.240801 -0.234807  \n",
              "1096 -0.326414  1.230745  0.883539  0.283658 -0.240801  0.239609  \n",
              "10    1.098528  0.658757  0.603047 -0.145272  4.152394 -0.234807  \n",
              "535  -0.757138 -0.594534  0.060762 -0.145272 -0.240801 -0.234807  \n",
              "...        ...       ...       ...       ...       ...       ...  \n",
              "1044 -0.757138 -0.594534 -0.799415 -0.145272 -0.240801 -0.234807  \n",
              "1095  0.326620  0.595202  0.603047 -0.145272 -0.240801 -0.234807  \n",
              "1130  1.484482  1.018897  0.659146  0.169277 -0.240801 -0.234807  \n",
              "860  -0.757138 -0.594534  0.416052 -0.145272 -0.240801 -0.234807  \n",
              "1126 -0.266205  2.176433  8.082843  0.688759 -0.240801 -0.234807  \n",
              "\n",
              "[980 rows x 14 columns]"
            ],
            "text/html": [
              "\n",
              "  <div id=\"df-7ef37afe-fd44-4723-b745-b6b2d44fa317\">\n",
              "    <div class=\"colab-df-container\">\n",
              "      <div>\n",
              "<style scoped>\n",
              "    .dataframe tbody tr th:only-of-type {\n",
              "        vertical-align: middle;\n",
              "    }\n",
              "\n",
              "    .dataframe tbody tr th {\n",
              "        vertical-align: top;\n",
              "    }\n",
              "\n",
              "    .dataframe thead th {\n",
              "        text-align: right;\n",
              "    }\n",
              "</style>\n",
              "<table border=\"1\" class=\"dataframe\">\n",
              "  <thead>\n",
              "    <tr style=\"text-align: right;\">\n",
              "      <th></th>\n",
              "      <th>YOB</th>\n",
              "      <th>NKID</th>\n",
              "      <th>DEP</th>\n",
              "      <th>PHON</th>\n",
              "      <th>SINC</th>\n",
              "      <th>AES</th>\n",
              "      <th>DAINC</th>\n",
              "      <th>RES</th>\n",
              "      <th>DHVAL</th>\n",
              "      <th>DMORT</th>\n",
              "      <th>DOUTM</th>\n",
              "      <th>DOUTL</th>\n",
              "      <th>DOUTHP</th>\n",
              "      <th>DOUTCC</th>\n",
              "    </tr>\n",
              "  </thead>\n",
              "  <tbody>\n",
              "    <tr>\n",
              "      <th>371</th>\n",
              "      <td>-0.263969</td>\n",
              "      <td>1.355188</td>\n",
              "      <td>-0.174534</td>\n",
              "      <td>1</td>\n",
              "      <td>-0.414568</td>\n",
              "      <td>0</td>\n",
              "      <td>-0.015369</td>\n",
              "      <td>2</td>\n",
              "      <td>1.024425</td>\n",
              "      <td>2.159485</td>\n",
              "      <td>0.079461</td>\n",
              "      <td>-0.145272</td>\n",
              "      <td>-0.240801</td>\n",
              "      <td>-0.234807</td>\n",
              "    </tr>\n",
              "    <tr>\n",
              "      <th>306</th>\n",
              "      <td>1.174356</td>\n",
              "      <td>-0.614095</td>\n",
              "      <td>-0.174534</td>\n",
              "      <td>1</td>\n",
              "      <td>-0.414568</td>\n",
              "      <td>8</td>\n",
              "      <td>-0.770574</td>\n",
              "      <td>3</td>\n",
              "      <td>-0.757138</td>\n",
              "      <td>-0.594534</td>\n",
              "      <td>-0.799415</td>\n",
              "      <td>-0.145272</td>\n",
              "      <td>-0.240801</td>\n",
              "      <td>-0.234807</td>\n",
              "    </tr>\n",
              "    <tr>\n",
              "      <th>1096</th>\n",
              "      <td>0.128302</td>\n",
              "      <td>2.339830</td>\n",
              "      <td>-0.174534</td>\n",
              "      <td>1</td>\n",
              "      <td>-0.414568</td>\n",
              "      <td>4</td>\n",
              "      <td>1.306240</td>\n",
              "      <td>2</td>\n",
              "      <td>-0.326414</td>\n",
              "      <td>1.230745</td>\n",
              "      <td>0.883539</td>\n",
              "      <td>0.283658</td>\n",
              "      <td>-0.240801</td>\n",
              "      <td>0.239609</td>\n",
              "    </tr>\n",
              "    <tr>\n",
              "      <th>10</th>\n",
              "      <td>-0.198590</td>\n",
              "      <td>1.355188</td>\n",
              "      <td>-0.174534</td>\n",
              "      <td>1</td>\n",
              "      <td>-0.414568</td>\n",
              "      <td>1</td>\n",
              "      <td>0.551035</td>\n",
              "      <td>2</td>\n",
              "      <td>1.098528</td>\n",
              "      <td>0.658757</td>\n",
              "      <td>0.603047</td>\n",
              "      <td>-0.145272</td>\n",
              "      <td>4.152394</td>\n",
              "      <td>-0.234807</td>\n",
              "    </tr>\n",
              "    <tr>\n",
              "      <th>535</th>\n",
              "      <td>-1.636915</td>\n",
              "      <td>-0.614095</td>\n",
              "      <td>-0.174534</td>\n",
              "      <td>1</td>\n",
              "      <td>-0.414568</td>\n",
              "      <td>5</td>\n",
              "      <td>-0.676174</td>\n",
              "      <td>4</td>\n",
              "      <td>-0.757138</td>\n",
              "      <td>-0.594534</td>\n",
              "      <td>0.060762</td>\n",
              "      <td>-0.145272</td>\n",
              "      <td>-0.240801</td>\n",
              "      <td>-0.234807</td>\n",
              "    </tr>\n",
              "    <tr>\n",
              "      <th>...</th>\n",
              "      <td>...</td>\n",
              "      <td>...</td>\n",
              "      <td>...</td>\n",
              "      <td>...</td>\n",
              "      <td>...</td>\n",
              "      <td>...</td>\n",
              "      <td>...</td>\n",
              "      <td>...</td>\n",
              "      <td>...</td>\n",
              "      <td>...</td>\n",
              "      <td>...</td>\n",
              "      <td>...</td>\n",
              "      <td>...</td>\n",
              "      <td>...</td>\n",
              "    </tr>\n",
              "    <tr>\n",
              "      <th>1044</th>\n",
              "      <td>0.912843</td>\n",
              "      <td>-0.614095</td>\n",
              "      <td>-0.174534</td>\n",
              "      <td>1</td>\n",
              "      <td>-0.414568</td>\n",
              "      <td>8</td>\n",
              "      <td>-0.739422</td>\n",
              "      <td>1</td>\n",
              "      <td>-0.757138</td>\n",
              "      <td>-0.594534</td>\n",
              "      <td>-0.799415</td>\n",
              "      <td>-0.145272</td>\n",
              "      <td>-0.240801</td>\n",
              "      <td>-0.234807</td>\n",
              "    </tr>\n",
              "    <tr>\n",
              "      <th>1095</th>\n",
              "      <td>0.585951</td>\n",
              "      <td>-0.614095</td>\n",
              "      <td>-0.174534</td>\n",
              "      <td>1</td>\n",
              "      <td>-0.414568</td>\n",
              "      <td>8</td>\n",
              "      <td>0.079032</td>\n",
              "      <td>2</td>\n",
              "      <td>0.326620</td>\n",
              "      <td>0.595202</td>\n",
              "      <td>0.603047</td>\n",
              "      <td>-0.145272</td>\n",
              "      <td>-0.240801</td>\n",
              "      <td>-0.234807</td>\n",
              "    </tr>\n",
              "    <tr>\n",
              "      <th>1130</th>\n",
              "      <td>0.193680</td>\n",
              "      <td>1.355188</td>\n",
              "      <td>-0.174534</td>\n",
              "      <td>1</td>\n",
              "      <td>0.210382</td>\n",
              "      <td>8</td>\n",
              "      <td>1.721603</td>\n",
              "      <td>2</td>\n",
              "      <td>1.484482</td>\n",
              "      <td>1.018897</td>\n",
              "      <td>0.659146</td>\n",
              "      <td>0.169277</td>\n",
              "      <td>-0.240801</td>\n",
              "      <td>-0.234807</td>\n",
              "    </tr>\n",
              "    <tr>\n",
              "      <th>860</th>\n",
              "      <td>1.174356</td>\n",
              "      <td>-0.614095</td>\n",
              "      <td>-0.174534</td>\n",
              "      <td>0</td>\n",
              "      <td>-0.414568</td>\n",
              "      <td>6</td>\n",
              "      <td>-1.336978</td>\n",
              "      <td>0</td>\n",
              "      <td>-0.757138</td>\n",
              "      <td>-0.594534</td>\n",
              "      <td>0.416052</td>\n",
              "      <td>-0.145272</td>\n",
              "      <td>-0.240801</td>\n",
              "      <td>-0.234807</td>\n",
              "    </tr>\n",
              "    <tr>\n",
              "      <th>1126</th>\n",
              "      <td>0.193680</td>\n",
              "      <td>-0.614095</td>\n",
              "      <td>-0.174534</td>\n",
              "      <td>1</td>\n",
              "      <td>-0.414568</td>\n",
              "      <td>4</td>\n",
              "      <td>-0.694173</td>\n",
              "      <td>2</td>\n",
              "      <td>-0.266205</td>\n",
              "      <td>2.176433</td>\n",
              "      <td>8.082843</td>\n",
              "      <td>0.688759</td>\n",
              "      <td>-0.240801</td>\n",
              "      <td>-0.234807</td>\n",
              "    </tr>\n",
              "  </tbody>\n",
              "</table>\n",
              "<p>980 rows × 14 columns</p>\n",
              "</div>\n",
              "      <button class=\"colab-df-convert\" onclick=\"convertToInteractive('df-7ef37afe-fd44-4723-b745-b6b2d44fa317')\"\n",
              "              title=\"Convert this dataframe to an interactive table.\"\n",
              "              style=\"display:none;\">\n",
              "        \n",
              "  <svg xmlns=\"http://www.w3.org/2000/svg\" height=\"24px\"viewBox=\"0 0 24 24\"\n",
              "       width=\"24px\">\n",
              "    <path d=\"M0 0h24v24H0V0z\" fill=\"none\"/>\n",
              "    <path d=\"M18.56 5.44l.94 2.06.94-2.06 2.06-.94-2.06-.94-.94-2.06-.94 2.06-2.06.94zm-11 1L8.5 8.5l.94-2.06 2.06-.94-2.06-.94L8.5 2.5l-.94 2.06-2.06.94zm10 10l.94 2.06.94-2.06 2.06-.94-2.06-.94-.94-2.06-.94 2.06-2.06.94z\"/><path d=\"M17.41 7.96l-1.37-1.37c-.4-.4-.92-.59-1.43-.59-.52 0-1.04.2-1.43.59L10.3 9.45l-7.72 7.72c-.78.78-.78 2.05 0 2.83L4 21.41c.39.39.9.59 1.41.59.51 0 1.02-.2 1.41-.59l7.78-7.78 2.81-2.81c.8-.78.8-2.07 0-2.86zM5.41 20L4 18.59l7.72-7.72 1.47 1.35L5.41 20z\"/>\n",
              "  </svg>\n",
              "      </button>\n",
              "      \n",
              "  <style>\n",
              "    .colab-df-container {\n",
              "      display:flex;\n",
              "      flex-wrap:wrap;\n",
              "      gap: 12px;\n",
              "    }\n",
              "\n",
              "    .colab-df-convert {\n",
              "      background-color: #E8F0FE;\n",
              "      border: none;\n",
              "      border-radius: 50%;\n",
              "      cursor: pointer;\n",
              "      display: none;\n",
              "      fill: #1967D2;\n",
              "      height: 32px;\n",
              "      padding: 0 0 0 0;\n",
              "      width: 32px;\n",
              "    }\n",
              "\n",
              "    .colab-df-convert:hover {\n",
              "      background-color: #E2EBFA;\n",
              "      box-shadow: 0px 1px 2px rgba(60, 64, 67, 0.3), 0px 1px 3px 1px rgba(60, 64, 67, 0.15);\n",
              "      fill: #174EA6;\n",
              "    }\n",
              "\n",
              "    [theme=dark] .colab-df-convert {\n",
              "      background-color: #3B4455;\n",
              "      fill: #D2E3FC;\n",
              "    }\n",
              "\n",
              "    [theme=dark] .colab-df-convert:hover {\n",
              "      background-color: #434B5C;\n",
              "      box-shadow: 0px 1px 3px 1px rgba(0, 0, 0, 0.15);\n",
              "      filter: drop-shadow(0px 1px 2px rgba(0, 0, 0, 0.3));\n",
              "      fill: #FFFFFF;\n",
              "    }\n",
              "  </style>\n",
              "\n",
              "      <script>\n",
              "        const buttonEl =\n",
              "          document.querySelector('#df-7ef37afe-fd44-4723-b745-b6b2d44fa317 button.colab-df-convert');\n",
              "        buttonEl.style.display =\n",
              "          google.colab.kernel.accessAllowed ? 'block' : 'none';\n",
              "\n",
              "        async function convertToInteractive(key) {\n",
              "          const element = document.querySelector('#df-7ef37afe-fd44-4723-b745-b6b2d44fa317');\n",
              "          const dataTable =\n",
              "            await google.colab.kernel.invokeFunction('convertToInteractive',\n",
              "                                                     [key], {});\n",
              "          if (!dataTable) return;\n",
              "\n",
              "          const docLinkHtml = 'Like what you see? Visit the ' +\n",
              "            '<a target=\"_blank\" href=https://colab.research.google.com/notebooks/data_table.ipynb>data table notebook</a>'\n",
              "            + ' to learn more about interactive tables.';\n",
              "          element.innerHTML = '';\n",
              "          dataTable['output_type'] = 'display_data';\n",
              "          await google.colab.output.renderOutput(dataTable, element);\n",
              "          const docLink = document.createElement('div');\n",
              "          docLink.innerHTML = docLinkHtml;\n",
              "          element.appendChild(docLink);\n",
              "        }\n",
              "      </script>\n",
              "    </div>\n",
              "  </div>\n",
              "  "
            ]
          },
          "metadata": {},
          "execution_count": 66
        }
      ],
      "source": [
        "#division de notre jeu en donnees et en classe\n",
        "\n",
        "x_train = train.iloc[:,:-1]\n",
        "x_test = test.iloc[:,:-1]\n",
        "y_train = train.BAD\n",
        "y_test = test.BAD\n",
        "x_train"
      ],
      "id": "gn77Hg0ijTco"
    },
    {
      "cell_type": "code",
      "execution_count": null,
      "metadata": {
        "colab": {
          "base_uri": "https://localhost:8080/",
          "height": 75
        },
        "id": "gi6gXbEFjTco",
        "outputId": "ae26539c-22c5-42aa-8ce5-500d88be9f06"
      },
      "outputs": [
        {
          "output_type": "execute_result",
          "data": {
            "text/plain": [
              "SVC(C=3.0)"
            ],
            "text/html": [
              "<style>#sk-container-id-3 {color: black;background-color: white;}#sk-container-id-3 pre{padding: 0;}#sk-container-id-3 div.sk-toggleable {background-color: white;}#sk-container-id-3 label.sk-toggleable__label {cursor: pointer;display: block;width: 100%;margin-bottom: 0;padding: 0.3em;box-sizing: border-box;text-align: center;}#sk-container-id-3 label.sk-toggleable__label-arrow:before {content: \"▸\";float: left;margin-right: 0.25em;color: #696969;}#sk-container-id-3 label.sk-toggleable__label-arrow:hover:before {color: black;}#sk-container-id-3 div.sk-estimator:hover label.sk-toggleable__label-arrow:before {color: black;}#sk-container-id-3 div.sk-toggleable__content {max-height: 0;max-width: 0;overflow: hidden;text-align: left;background-color: #f0f8ff;}#sk-container-id-3 div.sk-toggleable__content pre {margin: 0.2em;color: black;border-radius: 0.25em;background-color: #f0f8ff;}#sk-container-id-3 input.sk-toggleable__control:checked~div.sk-toggleable__content {max-height: 200px;max-width: 100%;overflow: auto;}#sk-container-id-3 input.sk-toggleable__control:checked~label.sk-toggleable__label-arrow:before {content: \"▾\";}#sk-container-id-3 div.sk-estimator input.sk-toggleable__control:checked~label.sk-toggleable__label {background-color: #d4ebff;}#sk-container-id-3 div.sk-label input.sk-toggleable__control:checked~label.sk-toggleable__label {background-color: #d4ebff;}#sk-container-id-3 input.sk-hidden--visually {border: 0;clip: rect(1px 1px 1px 1px);clip: rect(1px, 1px, 1px, 1px);height: 1px;margin: -1px;overflow: hidden;padding: 0;position: absolute;width: 1px;}#sk-container-id-3 div.sk-estimator {font-family: monospace;background-color: #f0f8ff;border: 1px dotted black;border-radius: 0.25em;box-sizing: border-box;margin-bottom: 0.5em;}#sk-container-id-3 div.sk-estimator:hover {background-color: #d4ebff;}#sk-container-id-3 div.sk-parallel-item::after {content: \"\";width: 100%;border-bottom: 1px solid gray;flex-grow: 1;}#sk-container-id-3 div.sk-label:hover label.sk-toggleable__label {background-color: #d4ebff;}#sk-container-id-3 div.sk-serial::before {content: \"\";position: absolute;border-left: 1px solid gray;box-sizing: border-box;top: 0;bottom: 0;left: 50%;z-index: 0;}#sk-container-id-3 div.sk-serial {display: flex;flex-direction: column;align-items: center;background-color: white;padding-right: 0.2em;padding-left: 0.2em;position: relative;}#sk-container-id-3 div.sk-item {position: relative;z-index: 1;}#sk-container-id-3 div.sk-parallel {display: flex;align-items: stretch;justify-content: center;background-color: white;position: relative;}#sk-container-id-3 div.sk-item::before, #sk-container-id-3 div.sk-parallel-item::before {content: \"\";position: absolute;border-left: 1px solid gray;box-sizing: border-box;top: 0;bottom: 0;left: 50%;z-index: -1;}#sk-container-id-3 div.sk-parallel-item {display: flex;flex-direction: column;z-index: 1;position: relative;background-color: white;}#sk-container-id-3 div.sk-parallel-item:first-child::after {align-self: flex-end;width: 50%;}#sk-container-id-3 div.sk-parallel-item:last-child::after {align-self: flex-start;width: 50%;}#sk-container-id-3 div.sk-parallel-item:only-child::after {width: 0;}#sk-container-id-3 div.sk-dashed-wrapped {border: 1px dashed gray;margin: 0 0.4em 0.5em 0.4em;box-sizing: border-box;padding-bottom: 0.4em;background-color: white;}#sk-container-id-3 div.sk-label label {font-family: monospace;font-weight: bold;display: inline-block;line-height: 1.2em;}#sk-container-id-3 div.sk-label-container {text-align: center;}#sk-container-id-3 div.sk-container {/* jupyter's `normalize.less` sets `[hidden] { display: none; }` but bootstrap.min.css set `[hidden] { display: none !important; }` so we also need the `!important` here to be able to override the default hidden behavior on the sphinx rendered scikit-learn.org. See: https://github.com/scikit-learn/scikit-learn/issues/21755 */display: inline-block !important;position: relative;}#sk-container-id-3 div.sk-text-repr-fallback {display: none;}</style><div id=\"sk-container-id-3\" class=\"sk-top-container\"><div class=\"sk-text-repr-fallback\"><pre>SVC(C=3.0)</pre><b>In a Jupyter environment, please rerun this cell to show the HTML representation or trust the notebook. <br />On GitHub, the HTML representation is unable to render, please try loading this page with nbviewer.org.</b></div><div class=\"sk-container\" hidden><div class=\"sk-item\"><div class=\"sk-estimator sk-toggleable\"><input class=\"sk-toggleable__control sk-hidden--visually\" id=\"sk-estimator-id-3\" type=\"checkbox\" checked><label for=\"sk-estimator-id-3\" class=\"sk-toggleable__label sk-toggleable__label-arrow\">SVC</label><div class=\"sk-toggleable__content\"><pre>SVC(C=3.0)</pre></div></div></div></div></div>"
            ]
          },
          "metadata": {},
          "execution_count": 67
        }
      ],
      "source": [
        "#Modele des svm\n",
        "from sklearn import svm\n",
        "\n",
        "model_svm = svm.SVC(C=3.0, kernel='rbf')\n",
        "model_svm.fit(x_train, y_train)"
      ],
      "id": "gi6gXbEFjTco"
    },
    {
      "cell_type": "code",
      "execution_count": null,
      "metadata": {
        "colab": {
          "base_uri": "https://localhost:8080/"
        },
        "id": "Dw3sUsNsjTcp",
        "outputId": "f43d5dcb-785a-4d8b-988e-16f4d548d03b"
      },
      "outputs": [
        {
          "output_type": "execute_result",
          "data": {
            "text/plain": [
              "array([0.73469388, 0.73469388, 0.72959184, 0.72959184, 0.73469388])"
            ]
          },
          "metadata": {},
          "execution_count": 68
        }
      ],
      "source": [
        "from sklearn.model_selection import cross_val_score\n",
        "model_svm_acc = cross_val_score(estimator=model_svm, X=x_train, y=y_train, cv=5, n_jobs=-1)\n",
        "model_svm_acc"
      ],
      "id": "Dw3sUsNsjTcp"
    },
    {
      "cell_type": "code",
      "execution_count": null,
      "metadata": {
        "id": "ODb6WDX5TQ6t"
      },
      "outputs": [],
      "source": [
        "from sklearn.metrics import f1_score\n",
        "model_svm.predict(x_test[:10])\n",
        "y_pred_svm = model_svm.predict(x_test)"
      ],
      "id": "ODb6WDX5TQ6t"
    },
    {
      "cell_type": "code",
      "execution_count": null,
      "metadata": {
        "colab": {
          "base_uri": "https://localhost:8080/",
          "height": 467
        },
        "id": "0fL6UJhoTTbK",
        "outputId": "29339a30-3523-4e29-a0e0-c09c0f5d2a55"
      },
      "outputs": [
        {
          "output_type": "stream",
          "name": "stdout",
          "text": [
            "matrice de confusion avec le svm:\n"
          ]
        },
        {
          "output_type": "display_data",
          "data": {
            "text/plain": [
              "<Figure size 640x480 with 2 Axes>"
            ],
            "image/png": "[encoded data removed]"
          },
          "metadata": {}
        }
      ],
      "source": [
        "from sklearn.metrics import confusion_matrix, ConfusionMatrixDisplay\n",
        "\n",
        "from sklearn.metrics import confusion_matrix\n",
        "from sklearn.metrics import ConfusionMatrixDisplay\n",
        "print(\"matrice de confusion avec le svm:\")\n",
        "cm = confusion_matrix(y_test, y_pred_svm)\n",
        "\n",
        "cm_display = ConfusionMatrixDisplay(cm).plot()\n"
      ],
      "id": "0fL6UJhoTTbK"
    },
    {
      "cell_type": "markdown",
      "metadata": {
        "id": "nj96mpCwjTcr"
      },
      "source": [
        "#IMPLEMTATION D'UN ARBRE DE Decision"
      ],
      "id": "nj96mpCwjTcr"
    },
    {
      "cell_type": "code",
      "execution_count": null,
      "metadata": {
        "colab": {
          "base_uri": "https://localhost:8080/",
          "height": 75
        },
        "id": "Xu7Gq296jTcs",
        "outputId": "0ea8fa62-17ad-43e9-82bf-8431c2f7e39f"
      },
      "outputs": [
        {
          "output_type": "execute_result",
          "data": {
            "text/plain": [
              "DecisionTreeClassifier(max_depth=10, random_state=0)"
            ],
            "text/html": [
              "<style>#sk-container-id-4 {color: black;background-color: white;}#sk-container-id-4 pre{padding: 0;}#sk-container-id-4 div.sk-toggleable {background-color: white;}#sk-container-id-4 label.sk-toggleable__label {cursor: pointer;display: block;width: 100%;margin-bottom: 0;padding: 0.3em;box-sizing: border-box;text-align: center;}#sk-container-id-4 label.sk-toggleable__label-arrow:before {content: \"▸\";float: left;margin-right: 0.25em;color: #696969;}#sk-container-id-4 label.sk-toggleable__label-arrow:hover:before {color: black;}#sk-container-id-4 div.sk-estimator:hover label.sk-toggleable__label-arrow:before {color: black;}#sk-container-id-4 div.sk-toggleable__content {max-height: 0;max-width: 0;overflow: hidden;text-align: left;background-color: #f0f8ff;}#sk-container-id-4 div.sk-toggleable__content pre {margin: 0.2em;color: black;border-radius: 0.25em;background-color: #f0f8ff;}#sk-container-id-4 input.sk-toggleable__control:checked~div.sk-toggleable__content {max-height: 200px;max-width: 100%;overflow: auto;}#sk-container-id-4 input.sk-toggleable__control:checked~label.sk-toggleable__label-arrow:before {content: \"▾\";}#sk-container-id-4 div.sk-estimator input.sk-toggleable__control:checked~label.sk-toggleable__label {background-color: #d4ebff;}#sk-container-id-4 div.sk-label input.sk-toggleable__control:checked~label.sk-toggleable__label {background-color: #d4ebff;}#sk-container-id-4 input.sk-hidden--visually {border: 0;clip: rect(1px 1px 1px 1px);clip: rect(1px, 1px, 1px, 1px);height: 1px;margin: -1px;overflow: hidden;padding: 0;position: absolute;width: 1px;}#sk-container-id-4 div.sk-estimator {font-family: monospace;background-color: #f0f8ff;border: 1px dotted black;border-radius: 0.25em;box-sizing: border-box;margin-bottom: 0.5em;}#sk-container-id-4 div.sk-estimator:hover {background-color: #d4ebff;}#sk-container-id-4 div.sk-parallel-item::after {content: \"\";width: 100%;border-bottom: 1px solid gray;flex-grow: 1;}#sk-container-id-4 div.sk-label:hover label.sk-toggleable__label {background-color: #d4ebff;}#sk-container-id-4 div.sk-serial::before {content: \"\";position: absolute;border-left: 1px solid gray;box-sizing: border-box;top: 0;bottom: 0;left: 50%;z-index: 0;}#sk-container-id-4 div.sk-serial {display: flex;flex-direction: column;align-items: center;background-color: white;padding-right: 0.2em;padding-left: 0.2em;position: relative;}#sk-container-id-4 div.sk-item {position: relative;z-index: 1;}#sk-container-id-4 div.sk-parallel {display: flex;align-items: stretch;justify-content: center;background-color: white;position: relative;}#sk-container-id-4 div.sk-item::before, #sk-container-id-4 div.sk-parallel-item::before {content: \"\";position: absolute;border-left: 1px solid gray;box-sizing: border-box;top: 0;bottom: 0;left: 50%;z-index: -1;}#sk-container-id-4 div.sk-parallel-item {display: flex;flex-direction: column;z-index: 1;position: relative;background-color: white;}#sk-container-id-4 div.sk-parallel-item:first-child::after {align-self: flex-end;width: 50%;}#sk-container-id-4 div.sk-parallel-item:last-child::after {align-self: flex-start;width: 50%;}#sk-container-id-4 div.sk-parallel-item:only-child::after {width: 0;}#sk-container-id-4 div.sk-dashed-wrapped {border: 1px dashed gray;margin: 0 0.4em 0.5em 0.4em;box-sizing: border-box;padding-bottom: 0.4em;background-color: white;}#sk-container-id-4 div.sk-label label {font-family: monospace;font-weight: bold;display: inline-block;line-height: 1.2em;}#sk-container-id-4 div.sk-label-container {text-align: center;}#sk-container-id-4 div.sk-container {/* jupyter's `normalize.less` sets `[hidden] { display: none; }` but bootstrap.min.css set `[hidden] { display: none !important; }` so we also need the `!important` here to be able to override the default hidden behavior on the sphinx rendered scikit-learn.org. See: https://github.com/scikit-learn/scikit-learn/issues/21755 */display: inline-block !important;position: relative;}#sk-container-id-4 div.sk-text-repr-fallback {display: none;}</style><div id=\"sk-container-id-4\" class=\"sk-top-container\"><div class=\"sk-text-repr-fallback\"><pre>DecisionTreeClassifier(max_depth=10, random_state=0)</pre><b>In a Jupyter environment, please rerun this cell to show the HTML representation or trust the notebook. <br />On GitHub, the HTML representation is unable to render, please try loading this page with nbviewer.org.</b></div><div class=\"sk-container\" hidden><div class=\"sk-item\"><div class=\"sk-estimator sk-toggleable\"><input class=\"sk-toggleable__control sk-hidden--visually\" id=\"sk-estimator-id-4\" type=\"checkbox\" checked><label for=\"sk-estimator-id-4\" class=\"sk-toggleable__label sk-toggleable__label-arrow\">DecisionTreeClassifier</label><div class=\"sk-toggleable__content\"><pre>DecisionTreeClassifier(max_depth=10, random_state=0)</pre></div></div></div></div></div>"
            ]
          },
          "metadata": {},
          "execution_count": 71
        }
      ],
      "source": [
        "from sklearn.tree import DecisionTreeClassifier\n",
        "\n",
        "model_dec = DecisionTreeClassifier(max_depth=10, random_state=0)\n",
        "model_dec.fit(x_train, y_train)"
      ],
      "id": "Xu7Gq296jTcs"
    },
    {
      "cell_type": "code",
      "execution_count": null,
      "metadata": {
        "id": "89abi8zcjTct"
      },
      "outputs": [],
      "source": [
        "model_dec_acc = cross_val_score(estimator=model_dec, X=x_train, y=y_train, cv=5, n_jobs=-1)\n",
        "model_dec_acc\n",
        "model_dec_pred=model_dec.predict(x_test)"
      ],
      "id": "89abi8zcjTct"
    },
    {
      "cell_type": "code",
      "execution_count": null,
      "metadata": {
        "colab": {
          "base_uri": "https://localhost:8080/",
          "height": 467
        },
        "id": "nNrzxLEwjTcv",
        "outputId": "21d7b07a-7cd0-4771-bdb1-94ad9344d772"
      },
      "outputs": [
        {
          "output_type": "stream",
          "name": "stdout",
          "text": [
            "matrice de confusion avec le model d'arbre de decision:\n"
          ]
        },
        {
          "output_type": "display_data",
          "data": {
            "text/plain": [
              "<Figure size 640x480 with 2 Axes>"
            ],
            "image/png": "[encoded data removed]"
          },
          "metadata": {}
        }
      ],
      "source": [
        "from sklearn.metrics import confusion_matrix, ConfusionMatrixDisplay\n",
        "\n",
        "from sklearn.metrics import confusion_matrix\n",
        "from sklearn.metrics import ConfusionMatrixDisplay\n",
        "print(\"matrice de confusion avec le model d'arbre de decision:\")\n",
        "cm = confusion_matrix(y_test, model_dec_pred)\n",
        "\n",
        "cm_display = ConfusionMatrixDisplay(cm).plot()\n"
      ],
      "id": "nNrzxLEwjTcv"
    },
    {
      "cell_type": "markdown",
      "metadata": {
        "id": "tUfe1ogdjTcz"
      },
      "source": [
        "\n",
        "IMPLEMENTATION DE LA REGRESSION LOGISTIQUE"
      ],
      "id": "tUfe1ogdjTcz"
    },
    {
      "cell_type": "code",
      "execution_count": null,
      "metadata": {
        "id": "qPto7jlBjTcz"
      },
      "outputs": [],
      "source": [
        "from sklearn.linear_model import LogisticRegression\n",
        "\n",
        "model_lg = LogisticRegression()\n",
        "model_lg.fit(x_train, y_train)\n",
        "model_lg_acc_pred=model_lg.predict(x_test)"
      ],
      "id": "qPto7jlBjTcz"
    },
    {
      "cell_type": "code",
      "execution_count": null,
      "metadata": {
        "colab": {
          "base_uri": "https://localhost:8080/"
        },
        "id": "RquJ2xEajTc0",
        "outputId": "6080107e-513a-41f0-e0d2-5852beb1af0d"
      },
      "outputs": [
        {
          "output_type": "execute_result",
          "data": {
            "text/plain": [
              "array([0.75      , 0.7244898 , 0.71428571, 0.74489796, 0.73469388])"
            ]
          },
          "metadata": {},
          "execution_count": 75
        }
      ],
      "source": [
        "model_lg_acc = cross_val_score(estimator=model_lg, X=x_train, y=y_train, cv=5, n_jobs=-1)\n",
        "model_lg_acc"
      ],
      "id": "RquJ2xEajTc0"
    },
    {
      "cell_type": "code",
      "execution_count": null,
      "metadata": {
        "colab": {
          "base_uri": "https://localhost:8080/",
          "height": 467
        },
        "id": "3xSuddrqjTc1",
        "outputId": "bac34194-7442-4423-f943-d37295f72140"
      },
      "outputs": [
        {
          "output_type": "stream",
          "name": "stdout",
          "text": [
            "matrice de confusion avec le model de regression logistique:\n"
          ]
        },
        {
          "output_type": "display_data",
          "data": {
            "text/plain": [
              "<Figure size 640x480 with 2 Axes>"
            ],
            "image/png": "[encoded data removed]"
          },
          "metadata": {}
        }
      ],
      "source": [
        "from sklearn.metrics import confusion_matrix, ConfusionMatrixDisplay\n",
        "\n",
        "from sklearn.metrics import confusion_matrix\n",
        "from sklearn.metrics import ConfusionMatrixDisplay\n",
        "print(\"matrice de confusion avec le model de regression logistique:\")\n",
        "cm = confusion_matrix(y_test, model_lg_acc_pred)\n",
        "\n",
        "cm_display = ConfusionMatrixDisplay(cm).plot()\n"
      ],
      "id": "3xSuddrqjTc1"
    },
    {
      "cell_type": "markdown",
      "metadata": {
        "id": "zSxUSfIgqJfl"
      },
      "source": [
        "#Implementation de XGBOOST"
      ],
      "id": "zSxUSfIgqJfl"
    },
    {
      "cell_type": "code",
      "execution_count": null,
      "metadata": {
        "colab": {
          "base_uri": "https://localhost:8080/"
        },
        "id": "P4GzJMs6sXTD",
        "outputId": "9438bfee-8339-4d69-d68b-a273b281bce5"
      },
      "outputs": [
        {
          "output_type": "stream",
          "name": "stdout",
          "text": [
            "Looking in indexes: https://pypi.org/simple, https://us-python.pkg.dev/colab-wheels/public/simple/\n",
            "Requirement already satisfied: XGboost in /usr/local/lib/python3.10/dist-packages (1.7.5)\n",
            "Requirement already satisfied: scipy in /usr/local/lib/python3.10/dist-packages (from XGboost) (1.10.1)\n",
            "Requirement already satisfied: numpy in /usr/local/lib/python3.10/dist-packages (from XGboost) (1.22.4)\n"
          ]
        }
      ],
      "source": [
        "pip install XGboost\n"
      ],
      "id": "P4GzJMs6sXTD"
    },
    {
      "cell_type": "code",
      "execution_count": null,
      "metadata": {
        "id": "E4vWZjCSqObN"
      },
      "outputs": [],
      "source": [
        "\n",
        "from xgboost import XGBClassifier\n",
        "model_XG=XGBClassifier()\n",
        "model_XG.fit(x_train, y_train)\n",
        "model_XG_pred=model_XG.predict(x_test)"
      ],
      "id": "E4vWZjCSqObN"
    },
    {
      "cell_type": "code",
      "execution_count": null,
      "metadata": {
        "colab": {
          "base_uri": "https://localhost:8080/"
        },
        "id": "TOBtcu7MuIuH",
        "outputId": "6410942d-69c5-442d-8c17-d75b4cc85b5a"
      },
      "outputs": [
        {
          "output_type": "execute_result",
          "data": {
            "text/plain": [
              "array([0.71938776, 0.69897959, 0.69897959, 0.70918367, 0.68877551])"
            ]
          },
          "metadata": {},
          "execution_count": 79
        }
      ],
      "source": [
        "model_XG_acc = cross_val_score(estimator=model_XG, X=x_train, y=y_train, cv=5, n_jobs=-1)\n",
        "model_XG_acc"
      ],
      "id": "TOBtcu7MuIuH"
    },
    {
      "cell_type": "code",
      "execution_count": null,
      "metadata": {
        "colab": {
          "base_uri": "https://localhost:8080/",
          "height": 634
        },
        "id": "YEch4oHAtwoP",
        "outputId": "0dfa7700-cc2e-4621-c67e-f7ab27e745b1"
      },
      "outputs": [
        {
          "output_type": "stream",
          "name": "stdout",
          "text": [
            "matrice de confusion avec le model XGBOOST:\n",
            "              precision    recall  f1-score   support\n",
            "\n",
            "         0.0       0.77      0.87      0.82       181\n",
            "         1.0       0.41      0.27      0.32        64\n",
            "\n",
            "    accuracy                           0.71       245\n",
            "   macro avg       0.59      0.57      0.57       245\n",
            "weighted avg       0.68      0.71      0.69       245\n",
            "\n"
          ]
        },
        {
          "output_type": "display_data",
          "data": {
            "text/plain": [
              "<Figure size 640x480 with 2 Axes>"
            ],
            "image/png": "[encoded data removed]"
          },
          "metadata": {}
        }
      ],
      "source": [
        "from sklearn.metrics import confusion_matrix, ConfusionMatrixDisplay\n",
        "\n",
        "from sklearn.metrics import confusion_matrix\n",
        "from sklearn.metrics import ConfusionMatrixDisplay\n",
        "print(\"matrice de confusion avec le model XGBOOST:\")\n",
        "cm = confusion_matrix(y_test, model_XG_pred)\n",
        "\n",
        "cm_display = ConfusionMatrixDisplay(cm).plot()\n",
        "print(classification_report(y_test,model_XG_pred))"
      ],
      "id": "YEch4oHAtwoP"
    },
    {
      "cell_type": "markdown",
      "metadata": {
        "id": "20QeUXHdU2_Q"
      },
      "source": [
        "#implementation de random forest"
      ],
      "id": "20QeUXHdU2_Q"
    },
    {
      "cell_type": "code",
      "execution_count": null,
      "metadata": {
        "id": "ChsmGhysXs63"
      },
      "outputs": [],
      "source": [
        "from sklearn.ensemble import RandomForestClassifier\n",
        "\n",
        "# Create the model with 100 trees\n",
        "model = RandomForestClassifier(n_estimators=100,  bootstrap = True,max_features = 'sqrt')\n",
        "# Fit on training data\n",
        "model.fit(x_train, y_train)\n",
        "model_rb=model.predict(x_test)"
      ],
      "id": "ChsmGhysXs63"
    },
    {
      "cell_type": "code",
      "execution_count": null,
      "metadata": {
        "colab": {
          "base_uri": "https://localhost:8080/",
          "height": 467
        },
        "id": "te9rZvgMlZqV",
        "outputId": "8fe31edf-6313-4ed9-dec8-e7175f4cb56a"
      },
      "outputs": [
        {
          "output_type": "stream",
          "name": "stdout",
          "text": [
            "matrice de confusion avec le model random forest :\n"
          ]
        },
        {
          "output_type": "display_data",
          "data": {
            "text/plain": [
              "<Figure size 640x480 with 2 Axes>"
            ],
            "image/png": "[encoded data removed]"
          },
          "metadata": {}
        }
      ],
      "source": [
        "from sklearn.metrics import confusion_matrix, ConfusionMatrixDisplay\n",
        "\n",
        "from sklearn.metrics import confusion_matrix\n",
        "from sklearn.metrics import ConfusionMatrixDisplay\n",
        "print(\"matrice de confusion avec le model random forest :\")\n",
        "cm = confusion_matrix(y_test, model_rb)\n",
        "\n",
        "cm_display = ConfusionMatrixDisplay(cm).plot()"
      ],
      "id": "te9rZvgMlZqV"
    },
    {
      "cell_type": "code",
      "execution_count": null,
      "metadata": {
        "colab": {
          "base_uri": "https://localhost:8080/"
        },
        "id": "6OEnH5P0YGgN",
        "outputId": "3fd9a7fa-c087-478c-864f-17e258a17c5b"
      },
      "outputs": [
        {
          "output_type": "stream",
          "name": "stdout",
          "text": [
            " les metriques pour l'arbre de decision  :\n",
            "              precision    recall  f1-score   support\n",
            "\n",
            "         0.0       0.76      0.87      0.81       181\n",
            "         1.0       0.38      0.22      0.28        64\n",
            "\n",
            "    accuracy                           0.70       245\n",
            "   macro avg       0.57      0.55      0.54       245\n",
            "weighted avg       0.66      0.70      0.67       245\n",
            "\n"
          ]
        }
      ],
      "source": [
        "\n",
        "print(\" les metriques pour l'arbre de decision  :\")\n",
        "print( classification_report(y_test,model_dec_pred))\n",
        "\n",
        "\n"
      ],
      "id": "6OEnH5P0YGgN"
    },
    {
      "cell_type": "code",
      "execution_count": null,
      "metadata": {
        "colab": {
          "base_uri": "https://localhost:8080/"
        },
        "id": "MM7AuKU4utTC",
        "outputId": "a3798e21-dbfb-4ab5-d449-3fe0a5f9c794"
      },
      "outputs": [
        {
          "output_type": "stream",
          "name": "stdout",
          "text": [
            " les metriques pour  random forest  est de :\n",
            "              precision    recall  f1-score   support\n",
            "\n",
            "         0.0       0.77      0.93      0.84       181\n",
            "         1.0       0.52      0.22      0.31        64\n",
            "\n",
            "    accuracy                           0.74       245\n",
            "   macro avg       0.64      0.57      0.57       245\n",
            "weighted avg       0.70      0.74      0.70       245\n",
            "\n"
          ]
        }
      ],
      "source": [
        "print(\" les metriques pour  random forest  est de :\")\n",
        "print( classification_report(y_test,model_rb))"
      ],
      "id": "MM7AuKU4utTC"
    },
    {
      "cell_type": "code",
      "execution_count": null,
      "metadata": {
        "colab": {
          "base_uri": "https://localhost:8080/"
        },
        "id": "fAr3G07PuiO3",
        "outputId": "2bb71ee2-d7ce-481b-dea1-005c762ae853"
      },
      "outputs": [
        {
          "output_type": "stream",
          "name": "stdout",
          "text": [
            " les metriques pour  la regression logistique est de :\n",
            "              precision    recall  f1-score   support\n",
            "\n",
            "         0.0       0.76      0.96      0.84       181\n",
            "         1.0       0.50      0.12      0.20        64\n",
            "\n",
            "    accuracy                           0.74       245\n",
            "   macro avg       0.63      0.54      0.52       245\n",
            "weighted avg       0.69      0.74      0.68       245\n",
            "\n"
          ]
        }
      ],
      "source": [
        "print(\" les metriques pour  la regression logistique est de :\")\n",
        "print( classification_report(y_test,model_lg_acc_pred))\n"
      ],
      "id": "fAr3G07PuiO3"
    },
    {
      "cell_type": "code",
      "execution_count": null,
      "metadata": {
        "colab": {
          "base_uri": "https://localhost:8080/"
        },
        "id": "8gCna942uqiT",
        "outputId": "44d6f4af-1d5a-429e-83af-b1640225efbf"
      },
      "outputs": [
        {
          "output_type": "stream",
          "name": "stdout",
          "text": [
            " les metriques pour de XGBOOST est de :\n",
            "              precision    recall  f1-score   support\n",
            "\n",
            "         0.0       0.77      0.87      0.82       181\n",
            "         1.0       0.41      0.27      0.32        64\n",
            "\n",
            "    accuracy                           0.71       245\n",
            "   macro avg       0.59      0.57      0.57       245\n",
            "weighted avg       0.68      0.71      0.69       245\n",
            "\n"
          ]
        }
      ],
      "source": [
        "print(\" les metriques pour de XGBOOST est de :\")\n",
        "print( classification_report(y_test,model_XG_pred))"
      ],
      "id": "8gCna942uqiT"
    },
    {
      "cell_type": "code",
      "execution_count": null,
      "metadata": {
        "colab": {
          "base_uri": "https://localhost:8080/"
        },
        "id": "2vQMag6iIBHj",
        "outputId": "b411bfb0-b97b-4267-c13c-7c05b8e832f9"
      },
      "outputs": [
        {
          "output_type": "stream",
          "name": "stdout",
          "text": [
            " les metriques pour le svm est de :\n",
            "              precision    recall  f1-score   support\n",
            "\n",
            "         0.0       0.74      0.98      0.84       181\n",
            "         1.0       0.00      0.00      0.00        64\n",
            "\n",
            "    accuracy                           0.73       245\n",
            "   macro avg       0.37      0.49      0.42       245\n",
            "weighted avg       0.54      0.73      0.62       245\n",
            "\n"
          ]
        }
      ],
      "source": [
        "print(\" les metriques pour le svm est de :\")\n",
        "print( classification_report(y_test,y_pred_svm))"
      ],
      "id": "2vQMag6iIBHj"
    },
    {
      "cell_type": "markdown",
      "metadata": {
        "id": "OCWkz86XmSqR"
      },
      "source": [
        "#optimisation des modeles"
      ],
      "id": "OCWkz86XmSqR"
    },
    {
      "cell_type": "markdown",
      "metadata": {
        "id": "7rvpQWSpwIsu"
      },
      "source": [
        "# optimisation des arbres de decision"
      ],
      "id": "7rvpQWSpwIsu"
    },
    {
      "cell_type": "code",
      "execution_count": null,
      "metadata": {
        "colab": {
          "base_uri": "https://localhost:8080/"
        },
        "id": "yuAGqt30pfk4",
        "outputId": "8cf5914b-252b-4da8-a2b4-116b8f4e259a"
      },
      "outputs": [
        {
          "output_type": "stream",
          "name": "stdout",
          "text": [
            "Optimal hyperparameter combination: {'max_depth': 2, 'min_samples_leaf': 10, 'min_samples_split': 2}\n",
            "\n",
            "Mean cross-validated training accuracy score: 0.746938775510204\n"
          ]
        }
      ],
      "source": [
        "dtclf = DecisionTreeClassifier(random_state=42)\n",
        "# Defining 3-dimensional hyperparameter space as a Python dictionary\n",
        "hyperparameter_space = {'max_depth':[2,3,4,5,7,6,7,8,20],\n",
        "                        'min_samples_leaf':[1,2,4,7,10,20,30],\n",
        "                        'min_samples_split':[1,2,3,7,10]}\n",
        "\n",
        "from sklearn.model_selection import GridSearchCV\n",
        "gs = GridSearchCV(dtclf, param_grid=hyperparameter_space,\n",
        "                  scoring=\"accuracy\",\n",
        "                  n_jobs=-1, cv=10, return_train_score=True)\n",
        "\n",
        "gs.fit(x_train, y_train)\n",
        "print(\"Optimal hyperparameter combination:\", gs.best_params_)\n",
        "print()\n",
        "print(\"Mean cross-validated training accuracy score:\", gs.best_score_)\n",
        "gs.best_estimator_.fit(x_train, y_train)\n",
        "y_pred = gs.best_estimator_.predict(x_test) # Predictions\n",
        "y_true = y_test # True values\n"
      ],
      "id": "yuAGqt30pfk4"
    },
    {
      "cell_type": "code",
      "execution_count": null,
      "metadata": {
        "colab": {
          "base_uri": "https://localhost:8080/",
          "height": 467
        },
        "id": "mIQtPxOjvidf",
        "outputId": "2fb654f4-c279-4903-df97-2b1e2a25cb89"
      },
      "outputs": [
        {
          "output_type": "stream",
          "name": "stdout",
          "text": [
            "matrice de confusion avec le model random forest :\n"
          ]
        },
        {
          "output_type": "display_data",
          "data": {
            "text/plain": [
              "<Figure size 640x480 with 2 Axes>"
            ],
            "image/png": "[encoded data removed]"
          },
          "metadata": {}
        }
      ],
      "source": [
        "from sklearn.metrics import confusion_matrix, ConfusionMatrixDisplay\n",
        "\n",
        "from sklearn.metrics import confusion_matrix\n",
        "from sklearn.metrics import ConfusionMatrixDisplay\n",
        "print(\"matrice de confusion avec le model random forest :\")\n",
        "cm = confusion_matrix(y_true, y_pred)\n",
        "\n",
        "cm_display = ConfusionMatrixDisplay(cm).plot()"
      ],
      "id": "mIQtPxOjvidf"
    },
    {
      "cell_type": "markdown",
      "source": [
        "# optimisation du model des svm"
      ],
      "metadata": {
        "id": "8odDw7w--u6k"
      },
      "id": "8odDw7w--u6k"
    },
    {
      "cell_type": "code",
      "source": [
        "# Defining 3-dimensional hyperparameter space as a Python dictionary\n",
        "from sklearn import svm\n",
        "from sklearn.model_selection import GridSearchCV\n",
        "\n",
        "svm = svm.SVC()\n",
        "\n",
        "hyperparameter_space = {'C': [0.1,1,10, 100], 'gamma': [1,0.1,0.01,0.001],'kernel':['rbf']}\n",
        "\n",
        "svm= GridSearchCV(svm, param_grid=hyperparameter_space,scoring=\"accuracy\",n_jobs=-1, cv=10, return_train_score=True)\n",
        "\n",
        "svm.fit(x_train, y_train)\n",
        "print(\"Optimal hyperparameter combination:\", svm.best_params_)\n",
        "print()\n",
        "print(\"Mean cross-validated training accuracy score:\", svm.best_score_)\n",
        "svm.best_estimator_.fit(x_train, y_train)\n",
        "y_pred = svm.best_estimator_.predict(x_test) # Predictions\n",
        "y_true = y_test # True values\n"
      ],
      "metadata": {
        "colab": {
          "base_uri": "https://localhost:8080/"
        },
        "id": "dHvWHDRJ-zmO",
        "outputId": "a812cdc5-72bc-4301-9c5e-51a0aa7f6a9c"
      },
      "id": "dHvWHDRJ-zmO",
      "execution_count": null,
      "outputs": [
        {
          "output_type": "stream",
          "name": "stdout",
          "text": [
            "Optimal hyperparameter combination: {'C': 1, 'gamma': 0.1, 'kernel': 'rbf'}\n",
            "\n",
            "Mean cross-validated training accuracy score: 0.7418367346938776\n"
          ]
        }
      ]
    },
    {
      "cell_type": "code",
      "execution_count": null,
      "metadata": {
        "colab": {
          "base_uri": "https://localhost:8080/"
        },
        "id": "wFGN2datqVUj",
        "outputId": "c73bfd96-4048-4c00-edf4-bf6077a7497b"
      },
      "outputs": [
        {
          "output_type": "stream",
          "name": "stdout",
          "text": [
            " les metriques pour  random forest optimisee  est de :\n",
            "              precision    recall  f1-score   support\n",
            "\n",
            "         0.0       0.75      1.00      0.86       181\n",
            "         1.0       1.00      0.06      0.12        64\n",
            "\n",
            "    accuracy                           0.76       245\n",
            "   macro avg       0.88      0.53      0.49       245\n",
            "weighted avg       0.82      0.76      0.66       245\n",
            "\n"
          ]
        }
      ],
      "source": [
        "print(\" les metriques pour  random forest optimisee  est de :\")\n",
        "print( classification_report(y_true,y_pred))"
      ],
      "id": "wFGN2datqVUj"
    },
    {
      "cell_type": "code",
      "source": [
        "from sklearn.metrics import confusion_matrix, ConfusionMatrixDisplay\n",
        "\n",
        "from sklearn.metrics import confusion_matrix\n",
        "from sklearn.metrics import ConfusionMatrixDisplay\n",
        "print(\"matrice de confusion avec le svm:\")\n",
        "cm = confusion_matrix(y_test, y_pred)\n",
        "\n",
        "cm_display = ConfusionMatrixDisplay(cm).plot()"
      ],
      "metadata": {
        "colab": {
          "base_uri": "https://localhost:8080/",
          "height": 467
        },
        "id": "_KTD4N7ARqfC",
        "outputId": "55877246-176d-4613-94b1-f0ca1608c8b7"
      },
      "id": "_KTD4N7ARqfC",
      "execution_count": null,
      "outputs": [
        {
          "output_type": "stream",
          "name": "stdout",
          "text": [
            "matrice de confusion avec le svm:\n"
          ]
        },
        {
          "output_type": "display_data",
          "data": {
            "text/plain": [
              "<Figure size 640x480 with 2 Axes>"
            ],
            "image/png": "[encoded data removed]"
          },
          "metadata": {}
        }
      ]
    },
    {
      "cell_type": "markdown",
      "source": [
        "# optimisation de la regression logistique"
      ],
      "metadata": {
        "id": "S50Ev7WY_z-_"
      },
      "id": "S50Ev7WY_z-_"
    },
    {
      "cell_type": "code",
      "source": [
        "# Defining 3-dimensional hyperparameter space as a Python dictionary\n",
        "from sklearn.model_selection import GridSearchCV\n",
        "from sklearn.linear_model import LogisticRegression\n",
        "\n",
        "# model_lg = LogisticRegression()\n",
        "\n",
        "# hyperparameter_space = {'C': [0.001, 0.01, 0.1, 1, 10, 100, 1000], 'penalty': ['l1', 'l2']}\n",
        "\n",
        "# model_lg= GridSearchCV(model_lg, param_grid=hyperparameter_space,scoring=\"accuracy\",n_jobs=-1, cv=10, return_train_score=True)\n",
        "\n",
        "# model_lg.fit(x_train, y_train)\n",
        "# # print(\"Optimal hyperparameter combination:\", model_lg.best_params_)\n",
        "# print()\n",
        "# print(\"Mean cross-validated training accuracy score:\", model_lg.best_score)\n",
        "# model_lg.best_estimator_.fit(x_train, y_train)\n",
        "# y_pred = model_lg.best_estimator_.predict(x_test) # Predictions\n",
        "# y_true = y_test # True values\n",
        "\n"
      ],
      "metadata": {
        "id": "L80xjHjd_4ke"
      },
      "id": "L80xjHjd_4ke",
      "execution_count": null,
      "outputs": []
    },
    {
      "cell_type": "code",
      "source": [
        "print(\" les metriques pour  la regression logistique optimisee  est de :\")\n",
        "print( classification_report(y_true,y_pred))"
      ],
      "metadata": {
        "colab": {
          "base_uri": "https://localhost:8080/"
        },
        "id": "hgZ3HY3C_9nS",
        "outputId": "aa7e50ca-9b11-4ee4-bc72-139f8bc02fdb"
      },
      "id": "hgZ3HY3C_9nS",
      "execution_count": null,
      "outputs": [
        {
          "output_type": "stream",
          "name": "stdout",
          "text": [
            " les metriques pour  random forest optimisee  est de :\n",
            "              precision    recall  f1-score   support\n",
            "\n",
            "         0.0       0.75      1.00      0.86       181\n",
            "         1.0       1.00      0.06      0.12        64\n",
            "\n",
            "    accuracy                           0.76       245\n",
            "   macro avg       0.88      0.53      0.49       245\n",
            "weighted avg       0.82      0.76      0.66       245\n",
            "\n"
          ]
        }
      ]
    },
    {
      "cell_type": "code",
      "source": [
        "from sklearn.metrics import confusion_matrix, ConfusionMatrixDisplay\n",
        "\n",
        "from sklearn.metrics import confusion_matrix\n",
        "from sklearn.metrics import ConfusionMatrixDisplay\n",
        "print(\"matrice de confusion avec le regression logistique:\")\n",
        "cm = confusion_matrix(y_test, y_pred)\n",
        "\n",
        "cm_display = ConfusionMatrixDisplay(cm).plot()"
      ],
      "metadata": {
        "colab": {
          "base_uri": "https://localhost:8080/",
          "height": 467
        },
        "id": "2-ESv2lDu6Xz",
        "outputId": "a0a9a43d-7901-4d05-cac6-bd1fb2f33e37"
      },
      "id": "2-ESv2lDu6Xz",
      "execution_count": null,
      "outputs": [
        {
          "output_type": "stream",
          "name": "stdout",
          "text": [
            "matrice de confusion avec le regression logistique:\n"
          ]
        },
        {
          "output_type": "display_data",
          "data": {
            "text/plain": [
              "<Figure size 640x480 with 2 Axes>"
            ],
            "image/png": "[encoded data removed]"
          },
          "metadata": {}
        }
      ]
    },
    {
      "cell_type": "markdown",
      "source": [
        "# optimisation de random forest"
      ],
      "metadata": {
        "id": "UQCtNNDh_5Jb"
      },
      "id": "UQCtNNDh_5Jb"
    },
    {
      "cell_type": "code",
      "source": [
        "# help(XGBClassifier)"
      ],
      "metadata": {
        "id": "xEBM04CQ_-vj"
      },
      "id": "xEBM04CQ_-vj",
      "execution_count": null,
      "outputs": []
    },
    {
      "cell_type": "markdown",
      "source": [
        "# optimisation de Xgboost"
      ],
      "metadata": {
        "id": "ywemtM0D__AG"
      },
      "id": "ywemtM0D__AG"
    },
    {
      "cell_type": "code",
      "source": [
        "hyperparameter_space ={'nthread':[4], #when use hyperthread, xgboost may become slower\n",
        "              'objective':['binary:logistic'],\n",
        "              'learning_rate': [0.05], #so called `eta` value\n",
        "              'max_depth': [6],\n",
        "              'min_child_weight': [11],\n",
        "              'silent': [1],\n",
        "              'subsample': [0.8],\n",
        "              'colsample_bytree': [0.7],\n",
        "              'n_estimators': [5], #number of trees, change it to 1000 for better results\n",
        "              'missing':[-999],\n",
        "              'seed': [1337]}\n",
        "\n",
        "from xgboost import XGBClassifier\n",
        "model_XG=XGBClassifier()\n",
        "clf = GridSearchCV(model_XG, hyperparameter_space, n_jobs=5, cv=2,  scoring='roc_auc', verbose=2, refit=True)\n",
        "clf.fit(x_train, y_train)\n",
        "print(\"Optimal hyperparameter combination:\", clf.best_params_)\n",
        "print()\n",
        "print(\"Mean cross-validated training accuracy score:\", clf.best_score_)\n",
        "clf.best_estimator_.fit(x_train, y_train)\n",
        "y_pred = clf.best_estimator_.predict(x_test) # Predictions\n",
        "y_true = y_test # True values\n"
      ],
      "metadata": {
        "id": "yWRr5UdsAGgP",
        "colab": {
          "base_uri": "https://localhost:8080/"
        },
        "outputId": "97266ce4-8197-4556-a8bd-d6a22ceae4e4"
      },
      "id": "yWRr5UdsAGgP",
      "execution_count": null,
      "outputs": [
        {
          "output_type": "stream",
          "name": "stdout",
          "text": [
            "Fitting 2 folds for each of 1 candidates, totalling 2 fits\n",
            "[17:30:19] WARNING: ../src/learner.cc:767: \n",
            "Parameters: { \"silent\" } are not used.\n",
            "\n",
            "Optimal hyperparameter combination: {'colsample_bytree': 0.7, 'learning_rate': 0.05, 'max_depth': 6, 'min_child_weight': 11, 'missing': -999, 'n_estimators': 5, 'nthread': 4, 'objective': 'binary:logistic', 'seed': 1337, 'silent': 1, 'subsample': 0.8}\n",
            "\n",
            "Mean cross-validated training accuracy score: 0.6049481266700474\n",
            "[17:30:19] WARNING: ../src/learner.cc:767: \n",
            "Parameters: { \"silent\" } are not used.\n",
            "\n"
          ]
        }
      ]
    },
    {
      "cell_type": "code",
      "source": [
        "print(\" les metriques pour  xgboost optimisee  est de :\")\n",
        "print( classification_report(y_true,y_pred))"
      ],
      "metadata": {
        "id": "8eRrds4ZAGl0",
        "colab": {
          "base_uri": "https://localhost:8080/"
        },
        "outputId": "e795a323-e5b5-4817-9cfa-547ed70ae21c"
      },
      "id": "8eRrds4ZAGl0",
      "execution_count": null,
      "outputs": [
        {
          "output_type": "stream",
          "name": "stdout",
          "text": [
            " les metriques pour  xgboost optimisee  est de :\n",
            "              precision    recall  f1-score   support\n",
            "\n",
            "         0.0       0.76      0.97      0.85       181\n",
            "         1.0       0.58      0.11      0.18        64\n",
            "\n",
            "    accuracy                           0.75       245\n",
            "   macro avg       0.67      0.54      0.52       245\n",
            "weighted avg       0.71      0.75      0.68       245\n",
            "\n"
          ]
        }
      ]
    },
    {
      "cell_type": "code",
      "source": [
        "from sklearn.metrics import confusion_matrix, ConfusionMatrixDisplay\n",
        "\n",
        "from sklearn.metrics import confusion_matrix\n",
        "from sklearn.metrics import ConfusionMatrixDisplay\n",
        "print(\"matrice de confusion avec xgboost:\")\n",
        "cm = confusion_matrix(y_test, y_pred)\n",
        "\n",
        "cm_display = ConfusionMatrixDisplay(cm).plot()"
      ],
      "metadata": {
        "colab": {
          "base_uri": "https://localhost:8080/",
          "height": 467
        },
        "id": "TcTCjqE654qx",
        "outputId": "5a5f3ed6-d84e-44c3-dff6-bc8cbee1abac"
      },
      "id": "TcTCjqE654qx",
      "execution_count": null,
      "outputs": [
        {
          "output_type": "stream",
          "name": "stdout",
          "text": [
            "matrice de confusion avec xgboost:\n"
          ]
        },
        {
          "output_type": "display_data",
          "data": {
            "text/plain": [
              "<Figure size 640x480 with 2 Axes>"
            ],
            "image/png": "[encoded data removed]"
          },
          "metadata": {}
        }
      ]
    },
    {
      "cell_type": "markdown",
      "metadata": {
        "id": "3OpSKoCg8gZv"
      },
      "source": [
        "# 1- intepretation des modeles"
      ],
      "id": "3OpSKoCg8gZv"
    },
    {
      "cell_type": "code",
      "execution_count": null,
      "metadata": {
        "id": "zD056dSr-3qs"
      },
      "outputs": [],
      "source": [
        "pip install shap"
      ],
      "id": "zD056dSr-3qs"
    },
    {
      "cell_type": "code",
      "execution_count": null,
      "metadata": {
        "id": "PQbyQMUW-d2e"
      },
      "outputs": [],
      "source": [
        "#importation de shap\n",
        "import shap\n",
        "#extentiation d'un ensemble de donnee\n",
        "X,y=x_train,y_train\n",
        "x100=shap.utils.sample(X,100)\n",
        "\n"
      ],
      "id": "PQbyQMUW-d2e"
    },
    {
      "cell_type": "markdown",
      "metadata": {
        "id": "N9ICFUx29KVX"
      },
      "source": [
        "#model des svm"
      ],
      "id": "N9ICFUx29KVX"
    },
    {
      "cell_type": "code",
      "execution_count": null,
      "metadata": {
        "id": "AGPgsQt5_xTc"
      },
      "outputs": [],
      "source": [
        "#comprenhension des parametres dans un model\n",
        "for i in X.columns:\n",
        "  shap.partial_dependence_plot(i,model_svm.predict,x100,ice=False,model_expected_value=True,feature_expected_value=True)"
      ],
      "id": "AGPgsQt5_xTc"
    },
    {
      "cell_type": "code",
      "execution_count": null,
      "metadata": {
        "id": "8nyR0Il4Cilf"
      },
      "outputs": [],
      "source": [
        "#diagramme de dependance partiel\n",
        "explainer=shap.Explainer(model_svm.predict,x100)\n",
        "shap_values=explainer(X)\n",
        "\n",
        "sample_ind=20\n",
        "for i in X.columns:\n",
        "  shap.partial_dependence_plot(i,model_svm.predict,x100,ice=False,model_expected_value=True,feature_expected_value=True,shap_values=shap_values[sample_ind:sample_ind+1,:])\n",
        "\n"
      ],
      "id": "8nyR0Il4Cilf"
    },
    {
      "cell_type": "code",
      "execution_count": null,
      "metadata": {
        "id": "eNHmG2hDDuyJ"
      },
      "outputs": [],
      "source": [
        "for i in X.columns:\n",
        "  shap.plots.scatter(shap_values[:,i])"
      ],
      "id": "eNHmG2hDDuyJ"
    },
    {
      "cell_type": "code",
      "source": [
        "# Waterfall plot for first observation\n",
        "#Les diagrammes en cascade et en force sont parfaits pour interpréter les prédictions individuelle\n",
        "# shap.plots.waterfall(shap_values[0:100])"
      ],
      "metadata": {
        "id": "NHabI05igi_R"
      },
      "id": "NHabI05igi_R",
      "execution_count": null,
      "outputs": []
    },
    {
      "cell_type": "code",
      "source": [
        "#diagramme force empile\n",
        "shap.plots.initjs()\n",
        "shap.plots.force(shap_values[0:100])"
      ],
      "metadata": {
        "id": "CxUpFHgmhoN4"
      },
      "id": "CxUpFHgmhoN4",
      "execution_count": null,
      "outputs": []
    },
    {
      "cell_type": "code",
      "source": [
        "#Mean SHAP\n",
        "#Les caractéristiques qui ont apporté des contributions positives / négatives importantes auront une valeur SHAP moyenne importante.\n",
        "# En d’autres termes, ce sont les caractéristiques qui ont eu un impact significatif sur les prédictions du modèle.\n",
        "#En ce sens, ce tracé peut être utilisé de la même manière qu’un tracé d’importance de fonctionnalité.\n",
        "shap.plots.bar(shap_values)"
      ],
      "metadata": {
        "id": "-KBiolIBh1f6"
      },
      "id": "-KBiolIBh1f6",
      "execution_count": null,
      "outputs": []
    },
    {
      "cell_type": "code",
      "source": [
        "# Beeswarm plot\n",
        "shap.plots.beeswarm(shap_values)"
      ],
      "metadata": {
        "id": "SXcFqVr9iMVP"
      },
      "id": "SXcFqVr9iMVP",
      "execution_count": null,
      "outputs": []
    },
    {
      "cell_type": "code",
      "source": [
        "# shell weight\n",
        "for i in dataset.columns:\n",
        "  shap.plots.scatter(shap_values[:,i])"
      ],
      "metadata": {
        "id": "iuFZHHJTiZlP"
      },
      "id": "iuFZHHJTiZlP",
      "execution_count": null,
      "outputs": []
    },
    {
      "cell_type": "code",
      "source": [
        "#visualisation pour 2 variables\n",
        "#comprenhension des parametres dans un model\n",
        "for i in X.columns:\n",
        "  shap.partial_dependence_plot(i,model_svm.predict,x100,ice=False,model_expected_value=True,feature_expected_value=True)\n"
      ],
      "metadata": {
        "id": "fE4pV7KfjC8R"
      },
      "id": "fE4pV7KfjC8R",
      "execution_count": null,
      "outputs": []
    },
    {
      "cell_type": "markdown",
      "metadata": {
        "id": "BqaQbkk-9Mk_"
      },
      "source": [
        "#modele des arbres de decision"
      ],
      "id": "BqaQbkk-9Mk_"
    },
    {
      "cell_type": "code",
      "source": [
        "#comprenhension des parametres dans un model\n",
        "for i in X.columns:\n",
        "  shap.partial_dependence_plot(i,model_dec.predict,x100,ice=False,model_expected_value=True,feature_expected_value=True)"
      ],
      "metadata": {
        "id": "2SWa1tZpfEmA"
      },
      "id": "2SWa1tZpfEmA",
      "execution_count": null,
      "outputs": []
    },
    {
      "cell_type": "code",
      "source": [
        "#diagramme de dependance partiel\n",
        "explainer=shap.Explainer(model_dec.predict,x100)\n",
        "shap_values=explainer(X)\n",
        "\n",
        "sample_ind=20\n",
        "for i in X.columns:\n",
        "  shap.partial_dependence_plot(i,model_dec.predict,x100,ice=False,model_expected_value=True,feature_expected_value=True,shap_values=shap_values[sample_ind:sample_ind+1,:])\n",
        "\n"
      ],
      "metadata": {
        "id": "ITeKDp3xp6ce"
      },
      "id": "ITeKDp3xp6ce",
      "execution_count": null,
      "outputs": []
    },
    {
      "cell_type": "code",
      "source": [
        "for i in X.columns:\n",
        "  shap.plots.scatter(shap_values[:,i])"
      ],
      "metadata": {
        "id": "_DiyHEHNqXnR"
      },
      "id": "_DiyHEHNqXnR",
      "execution_count": null,
      "outputs": []
    },
    {
      "cell_type": "code",
      "source": [
        "shap.plots.initjs()\n",
        "shap.plots.force(shap_values[0:100])"
      ],
      "metadata": {
        "id": "6JDG0y4SrCd9"
      },
      "id": "6JDG0y4SrCd9",
      "execution_count": null,
      "outputs": []
    },
    {
      "cell_type": "code",
      "source": [
        "#Mean SHAP\n",
        "#Les caractéristiques qui ont apporté des contributions positives / négatives importantes auront une valeur SHAP moyenne importante.\n",
        "# En d’autres termes, ce sont les caractéristiques qui ont eu un impact significatif sur les prédictions du modèle.\n",
        "#En ce sens, ce tracé peut être utilisé de la même manière qu’un tracé d’importance de fonctionnalité.\n",
        "shap.plots.bar(shap_values)"
      ],
      "metadata": {
        "id": "aZrieT6qrRMq"
      },
      "id": "aZrieT6qrRMq",
      "execution_count": null,
      "outputs": []
    },
    {
      "cell_type": "code",
      "source": [
        "# Beeswarm plot\n",
        "shap.plots.beeswarm(shap_values)"
      ],
      "metadata": {
        "id": "V_2R7LcSrlU0"
      },
      "id": "V_2R7LcSrlU0",
      "execution_count": null,
      "outputs": []
    },
    {
      "cell_type": "code",
      "source": [
        "for i in dataset.columns:\n",
        "  shap.plots.scatter(shap_values[:,i])"
      ],
      "metadata": {
        "id": "RRzDJOdBrxsj"
      },
      "id": "RRzDJOdBrxsj",
      "execution_count": null,
      "outputs": []
    },
    {
      "cell_type": "code",
      "source": [
        "#visualisation pour 2 variables\n",
        "#comprenhension des parametres dans un model\n",
        "for i in X.columns:\n",
        "  shap.partial_dependence_plot(i,model_dec.predict,x100,ice=False,model_expected_value=True,feature_expected_value=True)"
      ],
      "metadata": {
        "id": "58v7evhesVjL"
      },
      "id": "58v7evhesVjL",
      "execution_count": null,
      "outputs": []
    },
    {
      "cell_type": "markdown",
      "metadata": {
        "id": "5KLCDBMW9S1N"
      },
      "source": [
        "# modele des random forest"
      ],
      "id": "5KLCDBMW9S1N"
    },
    {
      "cell_type": "code",
      "source": [
        "#interpretation de random forest\n",
        "x100=shap.utils.sample(train,100)\n",
        "explainer_rb=shap.Explainer(model_rb,x_train)\n",
        "shap_values_rb=explainer_rb(x_train)\n",
        "\n",
        "sample_ind=20\n",
        "for i in dataset.columns:\n",
        "  shap.partial_dependence_plot(i,model_rb.predict,x100,ice=False,model_expected_value=True,feature_expected_value=True,shap_values=shap_values_xgb[sample_ind:sample_ind+1,:])\n",
        "\n",
        "\n"
      ],
      "metadata": {
        "id": "DlGdJ1KNtXud"
      },
      "id": "DlGdJ1KNtXud",
      "execution_count": null,
      "outputs": []
    },
    {
      "cell_type": "code",
      "source": [
        "for i in X.columns:\n",
        "  shap.plots.scatter(shap_values_rb[:,i])"
      ],
      "metadata": {
        "id": "6cCLXNU3yCnU"
      },
      "id": "6cCLXNU3yCnU",
      "execution_count": null,
      "outputs": []
    },
    {
      "cell_type": "code",
      "source": [
        "shap.plots.initjs()\n",
        "shap.plots.force(shap_values_rb[0:100])"
      ],
      "metadata": {
        "id": "QXwRw3pizHy3"
      },
      "id": "QXwRw3pizHy3",
      "execution_count": null,
      "outputs": []
    },
    {
      "cell_type": "code",
      "source": [
        "#Mean SHAP\n",
        "#Les caractéristiques qui ont apporté des contributions positives / négatives importantes auront une valeur SHAP moyenne importante.\n",
        "# En d’autres termes, ce sont les caractéristiques qui ont eu un impact significatif sur les prédictions du modèle.\n",
        "#En ce sens, ce tracé peut être utilisé de la même manière qu’un tracé d’importance de fonctionnalité.\n",
        "shap.plots.bar(shap_values_rb)"
      ],
      "metadata": {
        "id": "sxDL42udzVUm"
      },
      "id": "sxDL42udzVUm",
      "execution_count": null,
      "outputs": []
    },
    {
      "cell_type": "code",
      "source": [
        "# Beeswarm plot\n",
        "shap.plots.beeswarm(shap_values_rb)"
      ],
      "metadata": {
        "id": "7UcMFP2Lzp48"
      },
      "id": "7UcMFP2Lzp48",
      "execution_count": null,
      "outputs": []
    },
    {
      "cell_type": "code",
      "source": [
        "for i in dataset.columns:\n",
        "  shap.plots.scatter(shap_values_rb[:,i])"
      ],
      "metadata": {
        "id": "Y56XiVEn0EKS"
      },
      "id": "Y56XiVEn0EKS",
      "execution_count": null,
      "outputs": []
    },
    {
      "cell_type": "code",
      "source": [
        "#visualisation pour 2 variables\n",
        "#comprenhension des parametres dans un model\n",
        "for i in X.columns:\n",
        "  shap.partial_dependence_plot(i,model_rb.predict,x100,ice=False,model_expected_value=True,feature_expected_value=True)"
      ],
      "metadata": {
        "id": "ILVDAP-H0Qdh"
      },
      "id": "ILVDAP-H0Qdh",
      "execution_count": null,
      "outputs": []
    },
    {
      "cell_type": "markdown",
      "metadata": {
        "id": "JlBRkSbR9VyB"
      },
      "source": [
        "# modele des xgboost"
      ],
      "id": "JlBRkSbR9VyB"
    },
    {
      "cell_type": "code",
      "execution_count": null,
      "metadata": {
        "id": "TbzN6oE6Esjc"
      },
      "outputs": [],
      "source": [
        "#interpretation de xgboost\n",
        "x100=shap.utils.sample(train,100)\n",
        "explainer_xcb=shap.Explainer(model_XG,x_train)\n",
        "shap_values_xgb=explainer_xcb(x_train)\n",
        "\n",
        "sample_ind=20\n",
        "for i in dataset.columns:\n",
        "  shap.partial_dependence_plot(i,model_XG.predict,x100,ice=False,model_expected_value=True,feature_expected_value=True,shap_values=shap_values_xgb[sample_ind:sample_ind+1,:])\n",
        "\n",
        "\n"
      ],
      "id": "TbzN6oE6Esjc"
    },
    {
      "cell_type": "code",
      "execution_count": null,
      "metadata": {
        "id": "6AKrzRquJcH6"
      },
      "outputs": [],
      "source": [
        "for i in X.columns:\n",
        "  shap.plots.scatter(shap_values_xgb[:,i])"
      ],
      "id": "6AKrzRquJcH6"
    },
    {
      "cell_type": "code",
      "source": [
        "shap.plots.initjs()\n",
        "shap.plots.force(shap_values_xgb[0:100])"
      ],
      "metadata": {
        "id": "SHUtJNd1008-"
      },
      "id": "SHUtJNd1008-",
      "execution_count": null,
      "outputs": []
    },
    {
      "cell_type": "code",
      "source": [
        "#Mean SHAP\n",
        "#Les caractéristiques qui ont apporté des contributions positives / négatives importantes auront une valeur SHAP moyenne importante.\n",
        "# En d’autres termes, ce sont les caractéristiques qui ont eu un impact significatif sur les prédictions du modèle.\n",
        "#En ce sens, ce tracé peut être utilisé de la même manière qu’un tracé d’importance de fonctionnalité.\n",
        "shap.plots.bar(shap_values_xgb)"
      ],
      "metadata": {
        "id": "gDRqpdQB1N7P"
      },
      "id": "gDRqpdQB1N7P",
      "execution_count": null,
      "outputs": []
    },
    {
      "cell_type": "code",
      "source": [
        "# Beeswarm plot\n",
        "shap.plots.beeswarm(shap_values_xgb)"
      ],
      "metadata": {
        "id": "0lSV8j581Wzw"
      },
      "id": "0lSV8j581Wzw",
      "execution_count": null,
      "outputs": []
    },
    {
      "cell_type": "code",
      "source": [
        "for i in dataset.columns:\n",
        "  shap.plots.scatter(shap_values_xgb[:,i])"
      ],
      "metadata": {
        "id": "VAfddd0n1eL-"
      },
      "id": "VAfddd0n1eL-",
      "execution_count": null,
      "outputs": []
    },
    {
      "cell_type": "code",
      "source": [
        "#visualisation pour 2 variables\n",
        "#comprenhension des parametres dans un model\n",
        "for i in X.columns:\n",
        "  shap.partial_dependence_plot(i,model_XG.predict,x100,ice=False,model_expected_value=True,feature_expected_value=True)"
      ],
      "metadata": {
        "id": "qTT5q2Mq1ldZ"
      },
      "id": "qTT5q2Mq1ldZ",
      "execution_count": null,
      "outputs": []
    },
    {
      "cell_type": "markdown",
      "metadata": {
        "id": "AiRivnsE9af_"
      },
      "source": [
        "#modeles de regression logistique"
      ],
      "id": "AiRivnsE9af_"
    },
    {
      "cell_type": "code",
      "execution_count": null,
      "metadata": {
        "id": "FiGPgtypJ79a"
      },
      "outputs": [],
      "source": [
        "sample_ind=20\n",
        "for i in dataset.columns:\n",
        "  shap.partial_dependence_plot(i,model_XG.predict,x100,ice=False,model_expected_value=True,feature_expected_value=True,shap_values=shap_values_xgb[sample_ind:sample_ind+1,:])\n",
        "\n",
        "\n"
      ],
      "id": "FiGPgtypJ79a"
    },
    {
      "cell_type": "code",
      "source": [
        "#comprenhension des parametres dans un model\n",
        "for i in X.columns:\n",
        "  shap.partial_dependence_plot(i,model_lg.predict,x100,ice=False,model_expected_value=True,feature_expected_value=True)"
      ],
      "metadata": {
        "id": "A90Xl4nbu4iK"
      },
      "id": "A90Xl4nbu4iK",
      "execution_count": null,
      "outputs": []
    },
    {
      "cell_type": "code",
      "source": [
        "#diagramme de dependance partiel\n",
        "explainer=shap.Explainer(model_svm.predict,x100)\n",
        "shap_values=explainer(X)\n",
        "\n",
        "sample_ind=20\n",
        "for i in X.columns:\n",
        "  shap.partial_dependence_plot(i,model_lg.predict,x100,ice=False,model_expected_value=True,feature_expected_value=True,shap_values=shap_values[sample_ind:sample_ind+1,:])\n",
        "\n"
      ],
      "metadata": {
        "id": "wBtwAOM_vIrl"
      },
      "id": "wBtwAOM_vIrl",
      "execution_count": null,
      "outputs": []
    },
    {
      "cell_type": "code",
      "source": [
        "for i in X.columns:\n",
        "  shap.plots.scatter(shap_values[:,i])"
      ],
      "metadata": {
        "id": "7hCtG4UYvYvU"
      },
      "id": "7hCtG4UYvYvU",
      "execution_count": null,
      "outputs": []
    },
    {
      "cell_type": "code",
      "source": [
        "#diagramme force empile\n",
        "shap.plots.initjs()\n",
        "shap.plots.force(shap_values[0:100])"
      ],
      "metadata": {
        "id": "EJ3lOi2GvpGs"
      },
      "id": "EJ3lOi2GvpGs",
      "execution_count": null,
      "outputs": []
    },
    {
      "cell_type": "code",
      "source": [
        "#Mean SHAP\n",
        "#Les caractéristiques qui ont apporté des contributions positives / négatives importantes auront une valeur SHAP moyenne importante.\n",
        "# En d’autres termes, ce sont les caractéristiques qui ont eu un impact significatif sur les prédictions du modèle.\n",
        "#En ce sens, ce tracé peut être utilisé de la même manière qu’un tracé d’importance de fonctionnalité.\n",
        "shap.plots.bar(shap_values)"
      ],
      "metadata": {
        "id": "HuSOaGOfw2J-"
      },
      "id": "HuSOaGOfw2J-",
      "execution_count": null,
      "outputs": []
    },
    {
      "cell_type": "code",
      "source": [
        "# Beeswarm plot\n",
        "shap.plots.beeswarm(shap_values)"
      ],
      "metadata": {
        "id": "DGqGg5pUw-3Z"
      },
      "id": "DGqGg5pUw-3Z",
      "execution_count": null,
      "outputs": []
    },
    {
      "cell_type": "code",
      "source": [
        "for i in dataset.columns:\n",
        "  shap.plots.scatter(shap_values[:,i])"
      ],
      "metadata": {
        "id": "YIFklpWExaw2"
      },
      "id": "YIFklpWExaw2",
      "execution_count": null,
      "outputs": []
    },
    {
      "cell_type": "code",
      "source": [
        "#visualisation pour 2 variables\n",
        "#comprenhension des parametres dans un model\n",
        "for i in X.columns:\n",
        "  shap.partial_dependence_plot(i,model_lg.predict,x100,ice=False,model_expected_value=True,feature_expected_value=True)"
      ],
      "metadata": {
        "id": "_25d0D_AxkMe"
      },
      "id": "_25d0D_AxkMe",
      "execution_count": null,
      "outputs": []
    }
  ],
  "metadata": {
    "colab": {
      "provenance": []
    },
    "kernelspec": {
      "display_name": "Python 3",
      "language": "python",
      "name": "python3"
    },
    "language_info": {
      "codemirror_mode": {
        "name": "ipython",
        "version": 3
      },
      "file_extension": ".py",
      "mimetype": "text/x-python",
      "name": "python",
      "nbconvert_exporter": "python",
      "pygments_lexer": "ipython3",
      "version": "3.8.3"
    }
  },
  "nbformat": 4,
  "nbformat_minor": 5
}