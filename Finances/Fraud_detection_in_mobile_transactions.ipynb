{
  "metadata": {
    "kernelspec": {
      "language": "python",
      "display_name": "Python 3",
      "name": "python3"
    },
    "language_info": {
      "pygments_lexer": "ipython3",
      "nbconvert_exporter": "python",
      "version": "3.6.4",
      "file_extension": ".py",
      "codemirror_mode": {
        "name": "ipython",
        "version": 3
      },
      "name": "python",
      "mimetype": "text/x-python"
    },
    "colab": {
      "provenance": [],
      "include_colab_link": true
    }
  },
  "nbformat_minor": 0,
  "nbformat": 4,
  "cells": [
    {
      "cell_type": "markdown",
      "metadata": {
        "id": "view-in-github",
        "colab_type": "text"
      },
      "source": [
        "<a href=\"https://colab.research.google.com/github/MELAI-1/MY-PROJECT/blob/main/Finances/Fraud_detection_in_mobile_transactions.ipynb\" target=\"_parent\"><img src=\"https://colab.research.google.com/assets/colab-badge.svg\" alt=\"Open In Colab\"/></a>"
      ]
    },
    {
      "source": [
        "# IMPORTANT: RUN THIS CELL IN ORDER TO IMPORT YOUR KAGGLE DATA SOURCES,\n",
        "# THEN FEEL FREE TO DELETE THIS CELL.\n",
        "# NOTE: THIS NOTEBOOK ENVIRONMENT DIFFERS FROM KAGGLE'S PYTHON\n",
        "# ENVIRONMENT SO THERE MAY BE MISSING LIBRARIES USED BY YOUR\n",
        "# NOTEBOOK.\n",
        "import kagglehub\n",
        "ealaxi_paysim1_path = kagglehub.dataset_download('ealaxi/paysim1')\n",
        "\n",
        "print('Data source import complete.')\n"
      ],
      "metadata": {
        "id": "p0k7oBmZjUh4",
        "outputId": "1e36d830-0f38-4bed-a7de-b68e06e152cd",
        "colab": {
          "base_uri": "https://localhost:8080/"
        }
      },
      "cell_type": "code",
      "outputs": [
        {
          "output_type": "stream",
          "name": "stdout",
          "text": [
            "Data source import complete.\n"
          ]
        }
      ],
      "execution_count": 1
    },
    {
      "cell_type": "markdown",
      "source": [
        "### 1.Problem defintion\n",
        "\n",
        "Fraud detection in mobile money transactions. Predicting whether the transaction if a fraud or not is a classification problem. In this case this is a binary classification."
      ],
      "metadata": {
        "id": "TPupnwwkjUh6"
      }
    },
    {
      "cell_type": "markdown",
      "source": [
        "### 2.Data\n",
        "\n",
        "The dataset can be downloaded from: https://www.kaggle.com/ntnu-testimon/paysim1\n",
        "\n",
        "This dataset contains mobile money transactions which were generated with PaySim simulator. The simulation was based on a sample of real transactions gathered by a company who is the provider of the mobile financial service which is currently runnig in more than 14 countries all around the world. The data is a set of one month financial logs from a mobile money service implemented in an African country.\n",
        "\n",
        "\n",
        "The data is gathered in one CSV file. One line sample row:\n",
        "`1,PAYMENT,1060.31,C429214117,1089.0,28.69,M1591654462,0.0,0.0,0,0`\n",
        "\n",
        "The dataset contains (following the example above):\n",
        "\n",
        "* **step** - maps a unit of time in the real world. In this case 1 step is 1 hour of time. Total steps 744 (30 days simulation).\n",
        "\n",
        "* **type** - CASH-IN, CASH-OUT, DEBIT, PAYMENT and TRANSFER.\n",
        "\n",
        "* **amount** - amount of the transaction in local currency.\n",
        "\n",
        "* **nameOrig** - customer who started the transaction\n",
        "\n",
        "* **oldbalanceOrg** - initial balance before the transaction\n",
        "\n",
        "* **newbalanceOrig** - new balance after the transaction\n",
        "\n",
        "* **nameDest** - customer who is the recipient of the transaction\n",
        "\n",
        "* **oldbalanceDest** - initial balance recipient before the transaction. Note that there is not information for customers that start with M (Merchants).\n",
        "\n",
        "* **newbalanceDest** - new balance recipient after the transaction. Note that there is not information for customers that start with M (Merchants).\n",
        "\n",
        "* **isFraud** - This is the transactions made by the fraudulent agents inside the simulation. In this specific dataset the fraudulent behavior of the agents aims to profit by taking control of customers accounts and try to empty the funds by transferring to another account and then cashing out of the system.\n",
        "\n",
        "* **isFlaggedFraud** - The business model aims to control massive transfers from one account to another and flags illegal attempts. An illegal attempt in this dataset is an attempt to transfer more than 200.000 in a single transaction.\n"
      ],
      "metadata": {
        "id": "oL69RzSsjUh8"
      }
    },
    {
      "cell_type": "code",
      "source": [
        "# Importing libraries\n",
        "import pandas as pd\n",
        "import numpy as np\n",
        "import matplotlib.pyplot as plt\n",
        "import seaborn as sns\n",
        "\n",
        "# Model evaluations\n",
        "from sklearn.model_selection import train_test_split\n",
        "\n",
        "# Models from Scikit-Learn\n",
        "from sklearn.linear_model import LogisticRegression\n",
        "from sklearn.neighbors import KNeighborsClassifier\n",
        "from sklearn.ensemble import RandomForestClassifier\n",
        "from sklearn.linear_model import SGDClassifier"
      ],
      "metadata": {
        "trusted": true,
        "id": "v3g1vutOjUh9"
      },
      "execution_count": null,
      "outputs": []
    },
    {
      "cell_type": "code",
      "source": [
        "df = pd.read_csv(\"../input/paysim1/PS_20174392719_1491204439457_log.csv\")"
      ],
      "metadata": {
        "_uuid": "8f2839f25d086af736a60e9eeb907d3b93b6e0e5",
        "_cell_guid": "b1076dfc-b9ad-4769-8c92-a6c4dae69d19",
        "trusted": true,
        "id": "mVFZ_C9_jUh_"
      },
      "execution_count": null,
      "outputs": []
    },
    {
      "cell_type": "code",
      "source": [
        "# Let's see how the data looks like\n",
        "df.head(10)"
      ],
      "metadata": {
        "trusted": true,
        "id": "HjNfK-gSjUiA"
      },
      "execution_count": null,
      "outputs": []
    },
    {
      "cell_type": "code",
      "source": [
        "# Some basic information about data types\n",
        "df.info()"
      ],
      "metadata": {
        "trusted": true,
        "id": "j0iIRylojUiA"
      },
      "execution_count": null,
      "outputs": []
    },
    {
      "cell_type": "markdown",
      "source": [
        "We have object data types in here so we will have to turn them into numbers later on."
      ],
      "metadata": {
        "id": "hT4EpBZ7jUiB"
      }
    },
    {
      "cell_type": "code",
      "source": [
        "# Descriptive statistics\n",
        "df.describe()"
      ],
      "metadata": {
        "trusted": true,
        "id": "-mulqrVNjUiC"
      },
      "execution_count": null,
      "outputs": []
    },
    {
      "cell_type": "code",
      "source": [
        "# Let's check if there are no missing values\n",
        "df.isna().sum()"
      ],
      "metadata": {
        "trusted": true,
        "id": "p5nPjfcCjUiD"
      },
      "execution_count": null,
      "outputs": []
    },
    {
      "cell_type": "code",
      "source": [
        "# We can check how many fraudile transactions there are in the dataset\n",
        "(df[\"isFraud\"] == 1).sum(), (df[\"isFraud\"] == 0).sum(), (df[\"isFlaggedFraud\"] == 1).sum()"
      ],
      "metadata": {
        "trusted": true,
        "id": "cgn5dPLBjUiE"
      },
      "execution_count": null,
      "outputs": []
    },
    {
      "cell_type": "markdown",
      "source": [
        "Only 16 from 8213 transactions were flagged as a fraud so that's not even a 1%. The reason is that only transactions with the amount of 200.000 are automatically flagged as a fraud (to be verified), there are no other limitations set."
      ],
      "metadata": {
        "id": "Qa4-EW4sjUiF"
      }
    },
    {
      "cell_type": "code",
      "source": [
        "# Let's plot the transaction amounts\n",
        "fig, ax = plt.subplots()\n",
        "ax.scatter(df.index, df.amount);"
      ],
      "metadata": {
        "trusted": true,
        "id": "ZnlyOlVbjUiG"
      },
      "execution_count": null,
      "outputs": []
    },
    {
      "cell_type": "code",
      "source": [
        "# Let's turn non-numerical values into numbers\n",
        "for label, content in df.items():\n",
        "    if not pd.api.types.is_numeric_dtype(content):\n",
        "        df[label] = pd.Categorical(content).codes+1\n",
        "\n",
        "df.head()"
      ],
      "metadata": {
        "trusted": true,
        "id": "oT29vwuOjUiG"
      },
      "execution_count": null,
      "outputs": []
    },
    {
      "cell_type": "markdown",
      "source": [
        "### 3.Modeling"
      ],
      "metadata": {
        "id": "GwEvBmCTjUiH"
      }
    },
    {
      "cell_type": "code",
      "source": [
        "X = df.drop('isFraud', axis=1)\n",
        "y = df['isFraud']"
      ],
      "metadata": {
        "trusted": true,
        "id": "2-G7hTOVjUiI"
      },
      "execution_count": null,
      "outputs": []
    },
    {
      "cell_type": "code",
      "source": [
        "np.random.seed(37)\n",
        "\n",
        "X_train, X_test, y_train, y_test = train_test_split(X, y, test_size=0.2)"
      ],
      "metadata": {
        "trusted": true,
        "id": "KqI8eaATjUiI"
      },
      "execution_count": null,
      "outputs": []
    },
    {
      "cell_type": "markdown",
      "source": [
        "Machine learning models:\n",
        "1. Logistic Regression\n",
        "2. K-Nearest Neighbours Classifier\n",
        "3. Random Forest Classifier\n",
        "4. SGD Classifier"
      ],
      "metadata": {
        "id": "L9KonjZbjUiJ"
      }
    },
    {
      "cell_type": "code",
      "source": [
        "model = {\"Logistic Regression\": LogisticRegression(),\n",
        "         \"KNN\": KNeighborsClassifier(),\n",
        "         \"Random Forest\": RandomForestClassifier(),\n",
        "         \"SGD\": SGDClassifier()}\n",
        "\n",
        "def fit_and_evaluate(models, X_train, X_test, y_train, y_test):\n",
        "    \"\"\"\n",
        "    Fits and evaluates machine learning models.\n",
        "    models: a dictionary with machine learning models to be used\n",
        "    X_train: training data (no labels)\n",
        "    X_test: testing data (no labels)\n",
        "    y_train: training labels\n",
        "    y_test: testing labels\n",
        "    \"\"\"\n",
        "    # Create an empty dictionary for model scores\n",
        "    model_scores = {}\n",
        "    # Loop through models\n",
        "    for name, model in models.items():\n",
        "        model.fit(X_train, y_train)\n",
        "        model_scores[name] = model.score(X_test, y_test)\n",
        "    return model_scores"
      ],
      "metadata": {
        "trusted": true,
        "id": "A0b_lZwcjUiJ"
      },
      "execution_count": null,
      "outputs": []
    },
    {
      "cell_type": "code",
      "source": [
        "model_scores = fit_and_evaluate(models = model,\n",
        "                                X_train = X_train,\n",
        "                                X_test = X_test,\n",
        "                                y_train = y_train,\n",
        "                                y_test = y_test)\n",
        "model_scores"
      ],
      "metadata": {
        "trusted": true,
        "id": "42rOazYjjUiK"
      },
      "execution_count": null,
      "outputs": []
    },
    {
      "cell_type": "code",
      "source": [],
      "metadata": {
        "id": "Bce2-QX2jUiK"
      },
      "execution_count": null,
      "outputs": []
    }
  ]
}